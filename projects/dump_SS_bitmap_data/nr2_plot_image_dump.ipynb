{
 "cells": [
  {
   "cell_type": "code",
   "execution_count": 1,
   "metadata": {
    "collapsed": true
   },
   "outputs": [],
   "source": [
    "%matplotlib inline\n",
    "import numpy as np\n",
    "from matplotlib import pyplot as plt\n",
    "import cv2\n",
    "\n",
    "import sys\n",
    "sys.path.append('../../scripts')\n",
    "import util"
   ]
  },
  {
   "cell_type": "code",
   "execution_count": 2,
   "metadata": {
    "collapsed": false,
    "scrolled": true
   },
   "outputs": [],
   "source": [
    "def extractData(compressedBMP, cols):\n",
    "    rows = int(len(compressedBMP)/cols)\n",
    "    print(\"Rows: %d, Cols: %d\" % (rows, cols))\n",
    "    compressedBMP_np = np.ndarray((rows, cols), np.uint8, compressedBMP)\n",
    "    print(\"[1] Max val: %d, mean val: %f\" % (compressedBMP_np.max(), compressedBMP_np.mean()))\n",
    "    \n",
    "    uncompressedBMP_np = np.zeros((rows, cols*8), np.uint8)\n",
    "    for i in range(rows-1):\n",
    "        for j in range(cols-1):\n",
    "            for x in range(0,8):\n",
    "                uncompressedBMP_np[i, (j*8)+x] = (255 * ((compressedBMP_np[i,j] >> x) & 0x01))\n",
    "    return uncompressedBMP_np"
   ]
  },
  {
   "cell_type": "code",
   "execution_count": 3,
   "metadata": {
    "collapsed": true
   },
   "outputs": [],
   "source": [
    "def plot_imgs(img_data_lst, color=False, interp='none', max_cols=3, fig_size=10):\n",
    "    cnt=len(img_data_lst)\n",
    "    r,c,n = cnt,cnt,1\n",
    "    for idx, img_data in enumerate(img_data_lst):\n",
    "        if idx % max_cols == 0:\n",
    "            fig = plt.figure(figsize=(fig_size*r,fig_size*c))\n",
    "        plt.subplot(r,c,idx+1)\n",
    "        plt.imshow(img_data[0], interpolation=interp, cmap='gray',vmin=0,vmax=255)\n",
    "        plt.title('%s' % (img_data[1])), plt.xticks([]), plt.yticks([])"
   ]
  },
  {
   "cell_type": "code",
   "execution_count": 4,
   "metadata": {
    "collapsed": false
   },
   "outputs": [],
   "source": [
    "files = [('nr2/20161024-193607_BitMap_6.dat','20161024-193607_BitMap_6-g2x4'), \n",
    "         ('nr2/20161024-193720_BitMap_7.dat','20161024-193720_BitMap_7-g2x8'),  \n",
    "         ('nr2/20161024-193809_BitMap_8.dat','20161024-193809_BitMap_8-g2x12'),\n",
    "         ('nr2/20161024-194006_BitMap_11.dat','20161024-194006_BitMap_11-g2x16'),\n",
    "         ('nr2/20161024-194100_BitMap_12.dat','20161024-194100_BitMap_12-DNP 19nm Thin'), \n",
    "         ('nr2/20161024-194100_BitMap_13.dat','20161024-194100_BitMap_13-DNP 19nm Thin') ]\n",
    "\n",
    "files2 =[('nr2/20161024-180229_BitMap_13.dat','20161024-180229_BitMap_13-g2x8'), \n",
    "         ('nr2/20161024-180239_BitMap_14.dat','20161024-180239_BitMap_14-g2x8'), \n",
    "         ('nr2/20161024-180239_BitMap_15.dat','20161024-180239_BitMap_15-g2x8'), \n",
    "         ('nr2/20161024-180808_BitMap_16.dat','20161024-180808_BitMap_16-g2x12'),  \n",
    "         ('nr2/20161024-180818_BitMap_17.dat','20161024-180818_BitMap_17-g2x12'), \n",
    "         ('nr2/20161024-180818_BitMap_18.dat','20161024-180818_BitMap_18-g2x12'), \n",
    "         ('nr2/20161024-181400_BitMap_19.dat','20161024-181400_BitMap_19-g2x16'),\n",
    "         ('nr2/20161024-181410_BitMap_20.dat','20161024-181410_BitMap_20-g2x16'), \n",
    "         ('nr2/20161024-181410_BitMap_21.dat','20161024-181410_BitMap_21-g2x16'),\n",
    "         ('nr2/20161024-183827_BitMap_22.dat','20161024-183827_BitMap_22-g2x4'),\n",
    "         ('nr2/20161024-183838_BitMap_23.dat','20161024-183838_BitMap_23-g2x4'), \n",
    "         ('nr2/20161024-183839_BitMap_24.dat','20161024-183839_BitMap_24-g2x4'), \n",
    "         ('nr2/20161024-183839_BitMap_25.dat','20161024-183839_BitMap_25-g2x4')]"
   ]
  },
  {
   "cell_type": "code",
   "execution_count": 5,
   "metadata": {
    "collapsed": false
   },
   "outputs": [
    {
     "name": "stdout",
     "output_type": "stream",
     "text": [
      "Rows: 741, Cols: 128\n",
      "[1] Max val: 34, mean val: 7.796432\n",
      "Rows: 741, Cols: 128\n",
      "[1] Max val: 34, mean val: 7.796432\n",
      "Rows: 741, Cols: 128\n",
      "[1] Max val: 34, mean val: 7.796432\n",
      "Rows: 741, Cols: 128\n",
      "[1] Max val: 130, mean val: 12.573887\n",
      "Rows: 741, Cols: 128\n",
      "[1] Max val: 130, mean val: 12.573887\n",
      "Rows: 741, Cols: 128\n",
      "[1] Max val: 130, mean val: 12.573887\n",
      "Rows: 741, Cols: 128\n",
      "[1] Max val: 32, mean val: 7.345142\n",
      "Rows: 741, Cols: 128\n",
      "[1] Max val: 32, mean val: 7.345142\n",
      "Rows: 741, Cols: 128\n",
      "[1] Max val: 32, mean val: 7.345142\n",
      "Rows: 741, Cols: 128\n",
      "[1] Max val: 170, mean val: 38.484185\n",
      "Rows: 741, Cols: 128\n",
      "[1] Max val: 170, mean val: 38.484185\n",
      "Rows: 741, Cols: 128\n",
      "[1] Max val: 170, mean val: 38.484185\n",
      "Rows: 10, Cols: 128\n",
      "[1] Max val: 255, mean val: 249.023438\n"
     ]
    }
   ],
   "source": [
    "uncompressedBMP_lst = []\n",
    "\n",
    "for idx, file in enumerate(files2):\n",
    "    with open(file[0], 'rb') as f:\n",
    "        compressedBMP = f.read()\n",
    "    uncompressedBMP_np = extractData(compressedBMP, 128)\n",
    "    uncompressedBMP_lst.append( (uncompressedBMP_np, file[1]) )"
   ]
  },
  {
   "cell_type": "code",
   "execution_count": null,
   "metadata": {
    "collapsed": false,
    "scrolled": false
   },
   "outputs": [],
   "source": [
    "plot_imgs(uncompressedBMP_lst, max_cols = 2, fig_size=15)"
   ]
  },
  {
   "cell_type": "code",
   "execution_count": 9,
   "metadata": {
    "collapsed": false
   },
   "outputs": [
    {
     "name": "stdout",
     "output_type": "stream",
     "text": [
      "14.5088918586\n"
     ]
    }
   ],
   "source": [
    "rows, cols = uncompressedBMP_lst[0][0].shape\n",
    "print(uncompressedBMP_lst[0][0].mean(axis=1).mean())\n",
    "means = []\n",
    "for row in range(rows):\n",
    "    means.append(uncompressedBMP_lst[0][0][row].mean())\n",
    "#delta = np.array(means).max() - np.array(means).min()"
   ]
  },
  {
   "cell_type": "code",
   "execution_count": null,
   "metadata": {
    "collapsed": false,
    "scrolled": true
   },
   "outputs": [],
   "source": [
    "for uncompressedBMP in uncompressedBMP_lst:\n",
    "    rows, cols = uncompressedBMP[0].shape\n",
    "    means = []\n",
    "    for row in range(rows):\n",
    "        if uncompressedBMP[0][row].mean() > 0:\n",
    "            means.append(uncompressedBMP[0][row].mean())\n",
    "    means_np = np.array(means)\n",
    "    plt.figure(figsize=(8*2,5))\n",
    "    plt.plot(means, color='b')\n",
    "    plt.title(uncompressedBMP[1])\n"
   ]
  },
  {
   "cell_type": "code",
   "execution_count": 6,
   "metadata": {
    "collapsed": false
   },
   "outputs": [
    {
     "name": "stdout",
     "output_type": "stream",
     "text": [
      "Creating PDF (NR2_ScorpionServer_data_plots.pdf) with 3 pages.\n",
      "Total plots: 13, plots per page: 5\n",
      "New page: Adding plot 1 of 13\n",
      "          Adding plot 2 of 13\n",
      "          Adding plot 3 of 13\n",
      "          Adding plot 4 of 13\n",
      "          Adding plot 5 of 13\n",
      "New page: Adding plot 6 of 13\n",
      "          Adding plot 7 of 13\n",
      "          Adding plot 8 of 13\n",
      "          Adding plot 9 of 13\n",
      "          Adding plot 10 of 13\n",
      "New page: Adding plot 11 of 13\n",
      "          Adding plot 12 of 13\n",
      "          Adding plot 13 of 13\n"
     ]
    }
   ],
   "source": [
    "import datetime\n",
    "\n",
    "plot_data_lst = []\n",
    "for uncompressedBMP_data in uncompressedBMP_lst:\n",
    "    rows, cols = uncompressedBMP_data[0].shape\n",
    "    means = []\n",
    "    for row in range(rows):\n",
    "        if uncompressedBMP_data[0][row].mean() > 0:\n",
    "            means.append(uncompressedBMP_data[0][row].mean())\n",
    "            \n",
    "    deltas = []\n",
    "    for idx in range(len(means)-1):\n",
    "        deltas.append(means[idx+1] - means[idx])\n",
    "    plot_data_lst.append((np.array(deltas), uncompressedBMP_data[1]))\n",
    "\n",
    "pdf_data = {}\n",
    "pdf_data['pdf_file_name'] = 'NR2_ScorpionServer_data_plots.pdf'\n",
    "pdf_data['Title'] = u'NR2 ScorpionServer Data Plots'\n",
    "pdf_data['Author'] = u'Tom H. Rafferty / CNT'\n",
    "pdf_data['Subject'] = u'Data Plots For ScorpionServer image dumps'\n",
    "pdf_data['CreationDate'] = datetime.datetime.today()  # py3 uses datetime, py2 uses unicode str\n",
    "pdf_data['ModDate'] = datetime.datetime.today()       # py3 uses datetime, py2 uses unicode str\n",
    "\n",
    "pdf_data['plots_per_page'] = 5\n",
    "pdf_data['plot_data_lst'] = plot_data_lst   # list of tuples containing (np.array, plot_title_str)\n",
    "pdf_data['header_txt'] = 'NR2 ScorpionServer Image Data Plots\\n(Flat lines means no data corruption)\\n\\n'\n",
    "pdf_data['xlabel'] = 'Dispense Row Number (blank lines skiped)'\n",
    "pdf_data['ylabel'] = 'Missing Drop\\nIndication\\n(0 = no missing)'\n",
    "\n",
    "\n",
    "util.create_pdf_of_plots(pdf_data)"
   ]
  },
  {
   "cell_type": "code",
   "execution_count": 53,
   "metadata": {
    "collapsed": false
   },
   "outputs": [],
   "source": []
  },
  {
   "cell_type": "code",
   "execution_count": 42,
   "metadata": {
    "collapsed": false
   },
   "outputs": [
    {
     "data": {
      "text/plain": [
       "[<matplotlib.lines.Line2D at 0x7f56914a6748>]"
      ]
     },
     "execution_count": 42,
     "metadata": {},
     "output_type": "execute_result"
    },
    {
     "data": {
      "image/png": "[encoded data removed]",
      "text/plain": [
       "<matplotlib.figure.Figure at 0x7f5691529748>"
      ]
     },
     "metadata": {},
     "output_type": "display_data"
    }
   ],
   "source": [
    "plt.figure(figsize=(8*2,5))\n",
    "plt.plot(means, color='b')\n",
    "#plt.plot(chan2[190:], color='g')\n",
    "#plt.plot(chan3[190:], color='r')\n"
   ]
  },
  {
   "cell_type": "code",
   "execution_count": 23,
   "metadata": {
    "collapsed": false
   },
   "outputs": [],
   "source": [
    "for uncompressedBMP_data in uncompressedBMP_lst:\n",
    "    fname = \"nr2/\" + uncompressedBMP_data[1] + \".bmp\"\n",
    "    cv2.imwrite(fname, uncompressedBMP_data[0])"
   ]
  },
  {
   "cell_type": "code",
   "execution_count": null,
   "metadata": {
    "collapsed": false,
    "scrolled": true
   },
   "outputs": [],
   "source": [
    "dst = cv2.add(uncompressedBMP_lst[0][0], uncompressedBMP_lst[1][0])\n",
    "cv2.imwrite(\"1.bmp\", uncompressedBMP_lst[0][0])\n",
    "cv2.imwrite(\"2.bmp\", uncompressedBMP_lst[1][0])\n",
    "util.plot_imgs([(dst, 'dst')], max_cols = 2, fig_size=40)\n",
    "cv2.imwrite(\"dst.bmp\", dst)"
   ]
  },
  {
   "cell_type": "code",
   "execution_count": null,
   "metadata": {
    "collapsed": false
   },
   "outputs": [],
   "source": [
    "d = 0b10011101\n",
    "d"
   ]
  },
  {
   "cell_type": "code",
   "execution_count": null,
   "metadata": {
    "collapsed": false
   },
   "outputs": [],
   "source": [
    "plt.savefig(\"tmp.png\")"
   ]
  },
  {
   "cell_type": "code",
   "execution_count": null,
   "metadata": {
    "collapsed": false
   },
   "outputs": [],
   "source": [
    "for x in range(0,8):\n",
    "    print(\"%d\" % ((d >> x) & 0x01))"
   ]
  },
  {
   "cell_type": "code",
   "execution_count": null,
   "metadata": {
    "collapsed": false
   },
   "outputs": [],
   "source": [
    "'''\n",
    "            Data_vec.push_back((data_int >> 24) & 0xFF);\n",
    "            Data_vec.push_back((data_int >> 16) & 0xFF);\n",
    "            Data_vec.push_back((data_int >> 8) & 0xFF);\n",
    "            Data_vec.push_back(data_int & 0xFF);\n",
    "'''\n",
    "d2 = 0xd3456299\n",
    "d2"
   ]
  },
  {
   "cell_type": "code",
   "execution_count": null,
   "metadata": {
    "collapsed": false
   },
   "outputs": [],
   "source": [
    "(d2 >> 24) & 0xff"
   ]
  },
  {
   "cell_type": "code",
   "execution_count": null,
   "metadata": {
    "collapsed": true
   },
   "outputs": [],
   "source": []
  }
 ],
 "metadata": {
  "kernelspec": {
   "display_name": "Python 3",
   "language": "python",
   "name": "python3"
  },
  "language_info": {
   "codemirror_mode": {
    "name": "ipython",
    "version": 3
   },
   "file_extension": ".py",
   "mimetype": "text/x-python",
   "name": "python",
   "nbconvert_exporter": "python",
   "pygments_lexer": "ipython3",
   "version": "3.4.3"
  }
 },
 "nbformat": 4,
 "nbformat_minor": 0
}
