{
 "cells": [
  {
   "cell_type": "code",
   "execution_count": 3,
   "metadata": {
    "collapsed": false
   },
   "outputs": [
    {
     "name": "stdout",
     "output_type": "stream",
     "text": [
      "The autoreload extension is already loaded. To reload it, use:\n",
      "  %reload_ext autoreload\n"
     ]
    }
   ],
   "source": [
    "%matplotlib inline\n",
    "%load_ext autoreload\n",
    "%autoreload 2\n",
    "import cv2\n",
    "import scipy.ndimage\n",
    "import numpy as np\n",
    "from matplotlib import pyplot as plt\n",
    "import glob\n",
    "import math\n",
    "\n",
    "import sys\n",
    "sys.path.append('../scripts')\n",
    "import util\n",
    "import ip_routines as ip\n",
    "\n",
    "cols = 1232\n",
    "rows = 1018"
   ]
  },
  {
   "cell_type": "code",
   "execution_count": 16,
   "metadata": {
    "collapsed": false
   },
   "outputs": [
    {
     "name": "stdout",
     "output_type": "stream",
     "text": [
      "[(598, 519, 203), (602, 525, 231), (636, 510, 233), (603, 521, 226), (614, 500, 222), (605, 529, 230), (607, 520, 237), (636, 493, 245), (615, 519, 209)]\n"
     ]
    }
   ],
   "source": [
    "from random import randint\n",
    "circle_coords = [(randint(cols/2-20, cols/2+20), randint(rows/2-20, rows/2+20), randint(200, 250) ) for i in range(0,9)]\n",
    "print circle_coords"
   ]
  },
  {
   "cell_type": "code",
   "execution_count": 17,
   "metadata": {
    "collapsed": false
   },
   "outputs": [
    {
     "name": "stdout",
     "output_type": "stream",
     "text": [
      "[[(598, 519), (602, 525), (636, 510), (603, 521), (614, 500), (605, 529), (607, 520), (636, 493), (615, 519)], [(801, 519), (833, 525), (869, 510), (829, 521), (836, 500), (835, 529), (844, 520), (881, 493), (824, 519)], [(742, 663), (765, 688), (801, 675), (763, 681), (771, 657), (768, 692), (775, 688), (809, 666), (763, 667)], [(395, 519), (371, 525), (403, 510), (377, 521), (392, 500), (375, 529), (370, 520), (391, 493), (406, 519)], [(454, 663), (439, 688), (471, 675), (443, 681), (457, 657), (442, 692), (439, 688), (463, 666), (467, 667)], [(454, 375), (439, 362), (471, 345), (443, 361), (457, 343), (442, 366), (439, 352), (463, 320), (467, 371)], [(742, 375), (765, 362), (801, 345), (763, 361), (771, 343), (768, 366), (775, 352), (809, 320), (763, 371)]]\n"
     ]
    },
    {
     "data": {
      "image/png": "[encoded data removed]",
      "text/plain": [
       "<matplotlib.figure.Figure at 0x7f306a9de490>"
      ]
     },
     "metadata": {},
     "output_type": "display_data"
    }
   ],
   "source": [
    "debug_img = np.zeros((rows, cols, 3), np.uint8)\n",
    "\n",
    "pt_clusters=[ []  for x in xrange(7) ]\n",
    "pt_averages=[ ]\n",
    "\n",
    "# loop over the (x, y) coordinates and radius of the circles\n",
    "for (x, y, r) in circle_coords:\n",
    "    #print \"Center: \", (x,y), \" Radius: \", r\n",
    "    pts = ip.findPtsOnCircle((x, y), r)\n",
    "    pts = np.uint16(np.around(pts, 0))\n",
    "    #print pts\n",
    "    pt_clusters[0].append( (x,y) )\n",
    "    for idx, pt in enumerate(pts):\n",
    "        cv2.circle(debug_img, (pt[0], pt[1]), 5, (0,0,255),5)\n",
    "        pt_clusters[idx+1].append( (pt[0], pt[1]) )\n",
    "\n",
    "    # draw the outer circle\n",
    "    cv2.circle(debug_img, (x, y), r, (0, 255, 0), 2)\n",
    "    # draw the center of the circle\n",
    "    cv2.circle(debug_img, (x, y), 2, (0,0,255),3)\n",
    "    \n",
    "#print pt_clusters\n",
    "#print \"  >>> len(pt_clusters) = \", len(pt_clusters)\n",
    "for pt_cluster in pt_clusters:\n",
    "    #print \"    >>> len(pt_cluster) = \", len(pt_cluster)\n",
    "    pt_averages.append(ip.findAvePt(pt_cluster))\n",
    "#pt_averages = np.uint16(np.around(pt_averages, 0))\n",
    "#print pt_averages\n",
    "ellipse_fit_pts = np.array(pt_averages[1:])  \n",
    "ellipse = cv2.fitEllipse(ellipse_fit_pts) \n",
    "\n",
    "util.plot_imgs([(debug_img, 'Output Image')], color=True)"
   ]
  },
  {
   "cell_type": "code",
   "execution_count": null,
   "metadata": {
    "collapsed": true
   },
   "outputs": [],
   "source": []
  }
 ],
 "metadata": {
  "kernelspec": {
   "display_name": "Python 2",
   "language": "python",
   "name": "python2"
  },
  "language_info": {
   "codemirror_mode": {
    "name": "ipython",
    "version": 2
   },
   "file_extension": ".py",
   "mimetype": "text/x-python",
   "name": "python",
   "nbconvert_exporter": "python",
   "pygments_lexer": "ipython2",
   "version": "2.7.6"
  }
 },
 "nbformat": 4,
 "nbformat_minor": 0
}
