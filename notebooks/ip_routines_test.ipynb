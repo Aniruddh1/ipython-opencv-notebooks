{
 "cells": [
  {
   "cell_type": "code",
   "execution_count": 4,
   "metadata": {
    "collapsed": false
   },
   "outputs": [
    {
     "name": "stdout",
     "output_type": "stream",
     "text": [
      "The autoreload extension is already loaded. To reload it, use:\n",
      "  %reload_ext autoreload\n"
     ]
    }
   ],
   "source": [
    "%matplotlib inline\n",
    "%load_ext autoreload\n",
    "%autoreload 2\n",
    "import cv2\n",
    "import scipy.ndimage\n",
    "import numpy as np\n",
    "from matplotlib import pyplot as plt\n",
    "import glob\n",
    "import math\n",
    "\n",
    "import sys\n",
    "sys.path.append('../scripts')\n",
    "import util\n",
    "import ip_routines as ip\n",
    "\n",
    "cols = 1232\n",
    "rows = 1018"
   ]
  },
  {
   "cell_type": "code",
   "execution_count": 5,
   "metadata": {
    "collapsed": false
   },
   "outputs": [
    {
     "name": "stdout",
     "output_type": "stream",
     "text": [
      "[(629, 509, 227), (632, 518, 245), (626, 523, 242), (621, 500, 219), (610, 517, 233), (622, 499, 209), (610, 509, 248), (625, 509, 236), (601, 497, 204)]\n"
     ]
    }
   ],
   "source": [
    "from random import randint\n",
    "circle_coords = [(randint(cols/2-20, cols/2+20), randint(rows/2-20, rows/2+20), randint(200, 250) ) for i in range(0,9)]\n",
    "print(circle_coords)"
   ]
  },
  {
   "cell_type": "code",
   "execution_count": 6,
   "metadata": {
    "collapsed": false
   },
   "outputs": [
    {
     "name": "stdout",
     "output_type": "stream",
     "text": [
      "[[848 509]\n",
      " [781 671]\n",
      " [390 509]\n",
      " [457 671]\n",
      " [457 346]\n",
      " [781 346]]\n"
     ]
    },
    {
     "data": {
      "image/png": "[encoded data removed]",
      "text/plain": [
       "<matplotlib.figure.Figure at 0x7f2c90bd8630>"
      ]
     },
     "metadata": {},
     "output_type": "display_data"
    }
   ],
   "source": [
    "debug_img = np.zeros((rows, cols, 3), np.uint8)\n",
    "\n",
    "pt_clusters=[ []  for x in range(7) ]\n",
    "pt_averages=[ ]\n",
    "\n",
    "# loop over the (x, y) coordinates and radius of the circles\n",
    "for (x, y, r) in circle_coords:\n",
    "    #print \"Center: \", (x,y), \" Radius: \", r\n",
    "    pts = ip.findPtsOnCircle((x, y), r)\n",
    "    pts = np.uint16(np.around(pts, 0))\n",
    "    #print pts\n",
    "    pt_clusters[0].append( (x,y) )\n",
    "    for idx, pt in enumerate(pts):\n",
    "        cv2.circle(debug_img, (pt[0], pt[1]), 5, (0,0,255),5)\n",
    "        pt_clusters[idx+1].append( (pt[0], pt[1]) )\n",
    "\n",
    "    # draw the outer circle\n",
    "    cv2.circle(debug_img, (x, y), r, (0, 255, 0), 2)\n",
    "    # draw the center of the circle\n",
    "    cv2.circle(debug_img, (x, y), 2, (0,0,255),3)\n",
    "    \n",
    "#print pt_clusters\n",
    "#print \"  >>> len(pt_clusters) = \", len(pt_clusters)\n",
    "for pt_cluster in pt_clusters:\n",
    "    #print \"    >>> len(pt_cluster) = \", len(pt_cluster)\n",
    "    pt_averages.append(ip.findAvePt(pt_cluster))\n",
    "#pt_averages = np.uint16(np.around(pt_averages, 0))\n",
    "#print(pt_averages)\n",
    "ellipse_fit_pts = np.array(pt_averages[1:], dtype=np.int32) \n",
    "print(ellipse_fit_pts)\n",
    "ellipse = cv2.fitEllipse(ellipse_fit_pts) \n",
    "\n",
    "util.plot_imgs([(debug_img, 'Output Image')], color=True)"
   ]
  },
  {
   "cell_type": "code",
   "execution_count": null,
   "metadata": {
    "collapsed": true
   },
   "outputs": [],
   "source": []
  },
  {
   "cell_type": "code",
   "execution_count": null,
   "metadata": {
    "collapsed": true
   },
   "outputs": [],
   "source": []
  }
 ],
 "metadata": {
  "kernelspec": {
   "display_name": "Python 3",
   "language": "python",
   "name": "python3"
  },
  "language_info": {
   "codemirror_mode": {
    "name": "ipython",
    "version": 3
   },
   "file_extension": ".py",
   "mimetype": "text/x-python",
   "name": "python",
   "nbconvert_exporter": "python",
   "pygments_lexer": "ipython3",
   "version": "3.4.4"
  }
 },
 "nbformat": 4,
 "nbformat_minor": 0
}
