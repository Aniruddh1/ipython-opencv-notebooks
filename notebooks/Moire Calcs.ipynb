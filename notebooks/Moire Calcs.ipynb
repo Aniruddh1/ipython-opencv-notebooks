{
 "cells": [
  {
   "cell_type": "markdown",
   "metadata": {},
   "source": [
    "# Moire Calcs"
   ]
  },
  {
   "cell_type": "markdown",
   "metadata": {},
   "source": [
    "$$Pitch = \\frac{\\Big(P_1 * P_2\\Big)}{\\Big[P_1 - P_2\\Big]}$$  \n",
    "--\n",
    "$$Capture Range = \\frac{4 * \\Big(\\frac{P_1}{2}\\Big) * \\Big(\\frac{P_2}{2}\\Big)} {\\Big(\\frac{P_1}{2}\\Big) + \\Big(\\frac{P_2}{2}\\Big)}$$\n",
    "--"
   ]
  },
  {
   "cell_type": "code",
   "execution_count": 20,
   "metadata": {
    "collapsed": true
   },
   "outputs": [],
   "source": [
    "P1_um = 1.0\n",
    "P2_um = 1.05\n",
    "num_periods = 2"
   ]
  },
  {
   "cell_type": "code",
   "execution_count": 21,
   "metadata": {
    "collapsed": false
   },
   "outputs": [
    {
     "name": "stdout",
     "output_type": "stream",
     "text": [
      "Pitch (um)        = 21.000\n",
      "Total length (um) = 42.000\n"
     ]
    }
   ],
   "source": [
    "Pitch_um = (P1_um * P2_um) / abs(P1_um - P2_um)\n",
    "\n",
    "print(\"Pitch (um)        = %.3f\" % Pitch_um)\n",
    "print(\"Total length (um) = %.3f\" % (Pitch_um*num_periods))"
   ]
  },
  {
   "cell_type": "code",
   "execution_count": 22,
   "metadata": {
    "collapsed": false
   },
   "outputs": [
    {
     "name": "stdout",
     "output_type": "stream",
     "text": [
      "Mag factor = 21.000000\n"
     ]
    }
   ],
   "source": [
    "Mag_factor = Pitch_um / P1_um\n",
    "\n",
    "print(\"Mag factor = %f\" % Mag_factor)"
   ]
  },
  {
   "cell_type": "code",
   "execution_count": 23,
   "metadata": {
    "collapsed": false
   },
   "outputs": [
    {
     "name": "stdout",
     "output_type": "stream",
     "text": [
      "Capture range (total) = 1.024 (+/- 0.512)\n"
     ]
    }
   ],
   "source": [
    "Capture_range = (4 * (P1_um/2.0) * (P2_um/2.0)) / ((P1_um/2.0) + (P2_um/2.0))\n",
    "\n",
    "print(\"Capture range (total) = %.3f (+/- %.3f)\" % (Capture_range, (Capture_range/2.0)))"
   ]
  },
  {
   "cell_type": "code",
   "execution_count": null,
   "metadata": {
    "collapsed": true
   },
   "outputs": [],
   "source": []
  }
 ],
 "metadata": {
  "kernelspec": {
   "display_name": "Python [conda root]",
   "language": "python",
   "name": "conda-root-py"
  },
  "language_info": {
   "codemirror_mode": {
    "name": "ipython",
    "version": 3
   },
   "file_extension": ".py",
   "mimetype": "text/x-python",
   "name": "python",
   "nbconvert_exporter": "python",
   "pygments_lexer": "ipython3",
   "version": "3.5.2"
  }
 },
 "nbformat": 4,
 "nbformat_minor": 2
}
