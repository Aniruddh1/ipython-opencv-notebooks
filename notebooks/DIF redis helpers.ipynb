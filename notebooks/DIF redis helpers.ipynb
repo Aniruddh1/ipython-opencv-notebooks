{
 "cells": [
  {
   "cell_type": "code",
   "execution_count": 2,
   "metadata": {},
   "outputs": [
    {
     "data": {
      "text/html": [
       "\n",
       "<style>\n",
       "    div#notebook-container    { width: 95%; }\n",
       "    div#menubar-container     { width: 65%; }\n",
       "    div#maintoolbar-container { width: 99%; }\n",
       "</style>\n"
      ],
      "text/plain": [
       "<IPython.core.display.HTML object>"
      ]
     },
     "metadata": {},
     "output_type": "display_data"
    },
    {
     "name": "stdout",
     "output_type": "stream",
     "text": [
      "Paths defined in paths module:\n",
      " paths.data_root: /Users/trafferty/data\n",
      " paths.notebook_root: /Users/trafferty/data/notebooks\n",
      " paths.scripts_root: /Users/trafferty/data/scripts\n",
      " paths.images_root: /Users/trafferty/data/images\n",
      " paths.projects_root: /Users/trafferty/data/projects\n",
      " paths.results_root: /Users/trafferty/data/results\n",
      " paths.tmp_root: /Users/trafferty/data/tmp\n",
      " paths.dat_root: /Users/trafferty/data/dat\n",
      " paths.tmp_dir: /Users/trafferty/tmp\n",
      " paths.ws_dir: /Users/trafferty/workspace\n",
      " paths.mii_home: /Users/trafferty/dev\n",
      " paths.inhouse: /Users/trafferty/dev/src/inhouse\n"
     ]
    }
   ],
   "source": [
    "import redis\n",
    "import re\n",
    "\n",
    "import sys\n",
    "from paths import Paths\n",
    "paths = Paths()\n",
    "sys.path.append(paths.scripts_root)\n",
    "import util\n",
    "\n",
    "%load_ext autoreload\n",
    "%autoreload 2\n",
    "\n",
    "# Display entire width of browser\n",
    "from IPython.display import display, HTML\n",
    "display(HTML(data=\"\"\"\n",
    "<style>\n",
    "    div#notebook-container    { width: 95%; }\n",
    "    div#menubar-container     { width: 65%; }\n",
    "    div#maintoolbar-container { width: 99%; }\n",
    "</style>\n",
    "\"\"\"))\n",
    "\n",
    "paths.print_paths()"
   ]
  },
  {
   "cell_type": "code",
   "execution_count": 3,
   "metadata": {},
   "outputs": [
    {
     "name": "stdout",
     "output_type": "stream",
     "text": [
      "Connected to server\n"
     ]
    }
   ],
   "source": [
    "try:\n",
    "    r = redis.StrictRedis(host='localhost', port=6379, db=0, decode_responses=True)\n",
    "    if r.ping():\n",
    "        print(\"Connected to server\")\n",
    "except:\n",
    "    print(\"Error: no connection to server\")"
   ]
  },
  {
   "cell_type": "code",
   "execution_count": 5,
   "metadata": {},
   "outputs": [
    {
     "data": {
      "text/plain": [
       "{'Global Voltage': '18.200000',\n",
       " 'Loop Count': '1011',\n",
       " 'PD_delay_us': '210.000000',\n",
       " 'Nozzle': '250.000000',\n",
       " 'NozzleID': '250.000000',\n",
       " 'Sample Clock': '105.000000',\n",
       " 'Waveform': 'F690_DS.txt',\n",
       " 'BitmapFile': 'recipe/g4x4shift_CANON_DIF.bmp',\n",
       " 'Phase': 'C',\n",
       " 'Row': '1.000000',\n",
       " 'ImageFile': 'DispenserOpt_01011_2017-10-02_09.18.12.png'}"
      ]
     },
     "execution_count": 5,
     "metadata": {},
     "output_type": "execute_result"
    }
   ],
   "source": [
    "# sandbox for db access\n",
    "\n",
    "r.hgetall('2017-10-02_08.42.46:1:SNX1227354:14:FF031A:vars:1011')"
   ]
  },
  {
   "cell_type": "markdown",
   "metadata": {},
   "source": [
    "---\n",
    "## Types of keys used in DIF\n",
    "\n",
    "### Common Keys\n",
    "\n",
    "##### experiments_started (set)\n",
    "* Set containing the ExpRoots for all experiments that are in progress\n",
    "* Removed once experiment has completed\n",
    "\n",
    "##### experiments_completed (set)\n",
    "* Set containing the ExpRoots for all experiments that have completed\n",
    "* Will persist in set until results are removed\n",
    "\n",
    "##### new_image_data (list)\n",
    "* List of keyes of loop vars\n",
    "* Keys pushed on after each experiment loop has completed, ie, image has been taken/saved, and ready for result processing\n",
    "\n",
    "#### Keys produced at beginning of experiment\n",
    "\n",
    "##### Experiement Root {expRoot}\n",
    "* Root string for all keys in experiment\n",
    "  * {expID}:{RunID}:{HeadSN}:{NozzleSize}:{MonimerID}\n",
    "\n",
    "##### Base Variables (key pointing to hash)\n",
    "* _key->_ {expRoot}:**base_vars**\n",
    "* points to hash containing basic parameters of the experiment (\"exp vars\")\n",
    "  * _ie:_ 2017-10-02_08.42.46:1:SNX1227354:14:FF031A:base_vars\n",
    "* Example of hash:\n",
    "```\n",
    "                {'double_shutter': 'true',\n",
    "                 'Experiment Type': 'DispenseOpt',\n",
    "                 'Location': 'DIF Station',\n",
    "                 'ImageFileRoot': '/media/DIF_synology/images/FF032A/14um/1227354/screening/2017-10-02_08.42.46',\n",
    "                 'PrimaryNozzles': '3,0,6',\n",
    "                 'HeadSerialNumber': 'SNX1227354',\n",
    "                 'Magnification': '20x',\n",
    "                 'Run Mode': 'Recipe',\n",
    "                 'SecondaryNozzles': '1,2,4,5',\n",
    "                 'DIF_Version': '0.2.0',\n",
    "                 'double_shutter_delay_us': '4.000000',\n",
    "                 'NozzleSize': '14',\n",
    "                 'Camera': 'Andor',\n",
    "                 'NumNozzles': '7',\n",
    "                 'MonomerID': 'FF031A',\n",
    "                 'git-sha': '96ec1353697c2452e06b3cb6fe30d97156ce9083',\n",
    "                 'Total Loops': '4650',\n",
    "                 'ExperimentID': '2017-10-02_08.42.46',\n",
    "                 'git-branch': 'dif_branch'}\n",
    " ```\n",
    "\n",
    "### Keys produced during experiment\n",
    "\n",
    "##### Loop Variables (key pointing to hash)\n",
    "* _key->_ {expRoot}:**vars**:{row}:{nozzle}:{loop_cnt}\n",
    "* points to hash containing loop vars, ie, sample clock, voltage, PD delay, bitmap\n",
    "  * _ie:_ 2017-10-02_08.42.46:1:SNX1227354:14:vars:FF031A:1:23:234\n",
    "* Example of hash:\n",
    "```\n",
    "                {'Global Voltage': '18.200000',\n",
    "                 'Loop Count': '1011',\n",
    "                 'PD_delay_us': '210.000000',\n",
    "                 'Nozzle': '250.000000',\n",
    "                 'NozzleID': '250.000000',\n",
    "                 'Sample Clock': '105.000000',\n",
    "                 'Waveform': 'F690_DS.txt',\n",
    "                 'BitmapFile': 'recipe/g4x4shift_CANON_DIF.bmp',\n",
    "                 'Phase': 'C',\n",
    "                 'Row': '1.000000',\n",
    "                 'ImageFile': 'DispenserOpt_01011_2017-10-02_09.18.12.png'}\n",
    " ```\n",
    "### Keys produced during result processing\n",
    "\n",
    "##### Loop Results (hash)\n",
    "* _key->_ {expRoot}:**res**:{row}:{nozzle}:{loop_cnt}\n",
    "* points to hash containing loop vars, ie, velocity, volume (\"loop vars\")\n",
    "  * _ie:_ 2017-10-02_08.42.46:1:SNX1227354:14:FF031A:res:1:23:234\n",
    "* example of hash:\n",
    "```\n",
    "                {'gui_image_file': '/tmp/2_tmp_dif_file.png',\n",
    "                 'Phase': 'C',\n",
    "                 'Waveform': 'F661_DS.txt',\n",
    "                 'Nozzle': '247',\n",
    "                 'vel': '4.0643717678179678',\n",
    "                 'volume': '0.55319984055761551',\n",
    "                 'PD_delay_us': '220.000000',\n",
    "                 'Row': '1',\n",
    "                 'BitmapFile': 'recipe/grid3x4s1_DIF.bmp',\n",
    "                 'Sample Clock': '115.000000',\n",
    "                 'Global Voltage': '16.800000'}\n",
    "```\n",
    "\n",
    "#### *Results Set*\n",
    " Set containing all result keys (\\*:res:\\*) (see above)\n",
    "* _key->_ {expRoot}:**results**\n",
    "\n",
    "#### *Nozzles with results set*\n",
    " Set containing all nozzles that have results\n",
    "* _key->_ {expRoot}:**row_noz_pairs**\n",
    "* a row_noz_pair is a string representation of a float where the integer portion is the row and the decimal portion is the nozzle\n",
    "  * _ie:_ \n",
    "    * 1.455 == nozzle 455 of row 1 (Xaar 100x)\n",
    "    * 2.2 == nozzle 2 of row 2 (Xaar 100x or OCE)\n",
    "    * 3.82 == nozzle 82 of row 3 (OCE)\n",
    "\n",
    "#### Post-Processed Results\n",
    "\n",
    "##### *Volume-Velocity Intersection Set*\n",
    " Sorted set containing intersection between range of volumes and range of \n",
    "* _key->_ {expRoot}:**vol_vel_inter**:{vol_low}-{vol_high}:{vel_low}-{vel_high}\n",
    "* points to zset containing intersection between a range of \n",
    "  * _ie:_ 2017-10-02_08.42.46:1:SNX1227354:14:vars:FF031A:vol_vel_inter:0.293-0.343:6.000-7.500\n",
    "    \n",
    "##### *Volume-Velocity Intersection Set*\n",
    "* _key->_ {expRoot}:**vol_vel_inter_by_vel**:{vol_low}-{vol_high}:{vel_low}-{vel_high}\n",
    "* points to zset containing intersection between a range of \n",
    "  * _ie:_ 2017-10-02_08.42.46:1:SNX1227354:14:vars:FF031A:vol_vel_inter_by_vel:0.293-0.343:6.000-7.500\n",
    "    \n",
    "expRoot:vol_vel_inter_by_vel:0.288-0.348:6.000-7.500  type:  zset\n",
    "expRoot:res_vol_set_desired  type:  zset\n",
    "expRoot:vol_vel_inter_by_vel:0.293-0.343:5.000-6.500  type:  zset\n",
    "expRoot:vol_vel_inter:0.293-0.343:1.373-2.276  type:  zset\n",
    "expRoot:vol_vel_inter:0.288-0.348:1.438-2.211  type:  zset\n",
    "expRoot:vol_vel_inter_by_vol:0.288-0.348:6.000-7.500  type:  zset\n",
    "expRoot:res_vol_variance  type:  zset\n",
    "expRoot:vol_vel_inter:0.288-0.348:6.000-7.500  type:  zset\n",
    "expRoot:res_vel_set_desired  type:  zset\n",
    "expRoot:vol_vel_inter:0.288-0.348:6.238-7.012  type:  zset\n",
    "expRoot:vol_vel_inter_by_vol:0.293-0.343:5.000-6.500  type:  zset\n",
    "expRoot:base_vars  type:  hash\n",
    "expRoot:res_vel_variance  type:  zset\n",
    "expRoot:res_vel_set  type:  zset\n",
    "expRoot:res_vol_set  type:  zset"
   ]
  },
  {
   "cell_type": "code",
   "execution_count": 23,
   "metadata": {},
   "outputs": [],
   "source": [
    "def extractExpRoot(key):\n",
    "    expRoot_sections = 5\n",
    "    return ':'.join(key.split(':')[0:(expRoot_sections)])\n",
    "\n",
    "def extractExpID(key):\n",
    "    expRoot = extractExpRoot(key)\n",
    "    return expRoot.split(':')[0]\n",
    "\n",
    "def extractRunID(key):\n",
    "    expRoot = extractExpRoot(key)\n",
    "    return expRoot.split(':')[1]\n",
    "\n",
    "def extractHeadSN(key):\n",
    "    expRoot = extractExpRoot(key)\n",
    "    return expRoot.split(':')[2]\n",
    "\n",
    "def extractNozzleID(key):\n",
    "    expRoot = extractExpRoot(key)\n",
    "    return expRoot.split(':')[3]\n",
    "\n",
    "def extractMonomerID(key):\n",
    "    expRoot = extractExpRoot(key)\n",
    "    return expRoot.split(':')[4]\n",
    "\n",
    "def findUniqueExpRoots(all_keys):\n",
    "    expRoots = set()\n",
    "    for k in all_keys:\n",
    "        expRoots.add(extractExpRoot(k))\n",
    "    return expRoots"
   ]
  },
  {
   "cell_type": "code",
   "execution_count": 16,
   "metadata": {},
   "outputs": [
    {
     "name": "stdout",
     "output_type": "stream",
     "text": [
      "Set of experiments started:  {'2017-10-02_08.42.46:1:SNX1227354:14:FF031A'}\n",
      "Set of experiments completed:  {'2017-10-02_08.42.46:1:SNX1227354:14:FF031A'}\n",
      "Number of results:  11138\n",
      "Number of results:  11138\n"
     ]
    }
   ],
   "source": [
    "# Here are some standard DIF keys\n",
    "#\n",
    "# set of all experiments that have started\n",
    "experiments_started = r.smembers('experiments_started')\n",
    "\n",
    "# set of all experiments that have completed\n",
    "experiments_completed = r.smembers('experiments_completed')\n",
    "\n",
    "# set of all result keys, ie, expRoot:res:row:nozzle:loop_cnt\n",
    "results = r.smembers('results')\n",
    "\n",
    "# set of all result keys, ie, expRoot:res:row:nozzle:loop_cnt\n",
    "results = r.smembers('results')\n",
    "results2 = r.keys(pattern='*:res:*')  # maybe should drop result set and just use this query?\n",
    "\n",
    "print(\"Set of experiments started: \", experiments_started)\n",
    "print(\"Set of experiments completed: \", experiments_completed)\n",
    "print(\"Number of results: \", len(results))\n",
    "print(\"Number of results: \", len(results2))\n"
   ]
  },
  {
   "cell_type": "code",
   "execution_count": 28,
   "metadata": {},
   "outputs": [
    {
     "name": "stdout",
     "output_type": "stream",
     "text": [
      "Number of keys:  15814\n",
      "Key represents a hash\n",
      "Exp Root:   2017-10-02_08.42.46:1:SNX1227354:14:FF031A\n",
      "Exp ID:     2017-10-02_08.42.46\n",
      "Run ID:     1\n",
      "Head SN:    SNX1227354\n",
      "Nozzle ID:  14\n",
      "Monomer ID: FF031A\n"
     ]
    }
   ],
   "source": [
    "all_keys = r.keys(pattern='*')\n",
    "print(\"Number of keys: \", len(all_keys))\n",
    "key = all_keys[0]\n",
    "print(\"Key represents a\", r.type(key))\n",
    "print(\"Exp Root:  \", extractExpRoot(key))\n",
    "print(\"Exp ID:    \", extractExpID(key))\n",
    "print(\"Run ID:    \", extractRunID(key))\n",
    "print(\"Head SN:   \", extractHeadSN(key))\n",
    "print(\"Nozzle ID: \", extractNozzleID(key))\n",
    "print(\"Monomer ID:\", extractMonomerID(key))\n"
   ]
  },
  {
   "cell_type": "code",
   "execution_count": 52,
   "metadata": {},
   "outputs": [
    {
     "name": "stdout",
     "output_type": "stream",
     "text": [
      "Not a var or res key: 2017-10-02_08.42.46:1:SNX1227354:14:FF031A:vol_vel_inter:0.293-0.343:6.000-7.500  type:  zset\n",
      "Not a var or res key: 2017-10-02_08.42.46:1:SNX1227354:14:FF031A:vol_vel_inter_by_vel:0.288-0.348:6.000-7.500  type:  zset\n",
      "Not a var or res key: 2017-10-02_08.42.46:1:SNX1227354:14:FF031A:res_vol_set_desired  type:  zset\n",
      "Not a var or res key: 2017-10-02_08.42.46:1:SNX1227354:14:FF031A:vol_vel_inter_by_vel:0.293-0.343:5.000-6.500  type:  zset\n",
      "Not a var or res key: 2017-10-02_08.42.46:1:SNX1227354:14:FF031A:vol_vel_inter:0.293-0.343:1.373-2.276  type:  zset\n",
      "Not a var or res key: 2018-01-23_12.29.28:1:SNX1226841:18:FF031A  type:  hash\n",
      "Not a var or res key: 2017-10-02_08.42.46:1:SNX1227354:14:FF031A:vol_vel_inter:0.288-0.348:1.438-2.211  type:  zset\n",
      "Not a var or res key: 2017-10-02_08.42.46:1:SNX1227354:14:FF031A:vol_vel_inter_by_vol:0.288-0.348:6.000-7.500  type:  zset\n",
      "Not a var or res key: 2017-10-02_08.42.46:1:SNX1227354:14:FF031A:res_vol_variance  type:  zset\n",
      "Not a var or res key: 2017-10-02_08.42.46:1:SNX1227354:14:FF031A:vol_vel_inter:0.288-0.348:6.000-7.500  type:  zset\n",
      "Not a var or res key: 2017-10-02_08.42.46:1:SNX1227354:14:FF031A:res_vel_set_desired  type:  zset\n",
      "Not a var or res key: 2017-10-02_08.42.46:1:SNX1227354:14:FF031A:vol_vel_inter:0.288-0.348:6.238-7.012  type:  zset\n",
      "Not a var or res key: 2017-10-02_08.42.46:1:SNX1227354:14:FF031A:vol_vel_inter_by_vol:0.293-0.343:5.000-6.500  type:  zset\n",
      "Not a var or res key: 2017-10-02_08.42.46:1:SNX1227354:14:FF031A:base_vars  type:  hash\n",
      "Not a var or res key: 2017-10-02_08.42.46:1:SNX1227354:14:FF031A:res_vel_variance  type:  zset\n",
      "Not a var or res key: 2017-10-02_08.42.46:1:SNX1227354:14:FF031A:res_vel_set  type:  zset\n",
      "Not a var or res key: 2017-10-02_08.42.46:1:SNX1227354:14:FF031A:res_vol_set  type:  zset\n",
      "------------------------\n",
      "Num expRoot keys:  15805\n",
      "Num unique expRoots keys:  2\n",
      "Num vars keys:  4650\n",
      "Num res keys:  11138\n",
      "Exp Roots:  {'2017-10-02_08.42.46:1:SNX1227354:14', '2018-01-23_12.29.28:1:SNX1226841:18'}\n",
      "Other keys:  17\n",
      "Non-exp keys:\n",
      " ['latest_res', 'task_hash_002', 'experiments_started', 'hello', 'experiments_completed', 'gui_update', 'task_hash_001', 'task_hash_003', 'results']\n"
     ]
    }
   ],
   "source": [
    "expRoot_keys = []\n",
    "expRoots = set()\n",
    "nonExp_keys = []\n",
    "vars_cnt = 0\n",
    "res_cnt = 0\n",
    "\n",
    "for k in all_keys:\n",
    "    # if it is a proper Exp root, it will have at least 4 colons\n",
    "    if len(re.findall(\":\", k)) >= 4:\n",
    "        expRoot_keys.append(k)\n",
    "        expRoots.add(extractExpRoot(k))\n",
    "        \n",
    "        if k.find(':vars:') >= 0:\n",
    "            vars_cnt += 1\n",
    "        elif k.find(':res:') >= 0:\n",
    "            res_cnt += 1\n",
    "        else:\n",
    "            print(\"Not a var or res key:\", k, \" type: \", r.type(k))\n",
    "    else:\n",
    "        nonExp_keys.append(k)\n",
    "\n",
    "print(\"------------------------\\nNum expRoot keys: \", len(expRoot_keys))\n",
    "print(\"Num unique expRoots keys: \", len(expRoots))\n",
    "print(\"Num vars keys: \", vars_cnt)\n",
    "print(\"Num res keys: \", res_cnt)\n",
    "print(\"Exp Roots: \", expRoots)\n",
    "\n",
    "print(\"Other keys: \", abs(len(expRoot_keys)-vars_cnt-res_cnt))\n",
    "print(\"Non-exp keys:\\n\", nonExp_keys)"
   ]
  },
  {
   "cell_type": "code",
   "execution_count": 50,
   "metadata": {},
   "outputs": [
    {
     "name": "stdout",
     "output_type": "stream",
     "text": [
      "2017-10-02_08.42.46:1:SNX1227354:14:FF031A:vars:1604\n"
     ]
    },
    {
     "data": {
      "text/plain": [
       "6"
      ]
     },
     "execution_count": 50,
     "metadata": {},
     "output_type": "execute_result"
    }
   ],
   "source": [
    "k = all_keys[0]\n",
    "print(k)\n",
    "len(re.findall(\":\", k))\n",
    "#re.findall(\":\", k)"
   ]
  },
  {
   "cell_type": "code",
   "execution_count": 26,
   "metadata": {},
   "outputs": [
    {
     "data": {
      "text/plain": [
       "{'2017-10-02_08.42.46:1:SNX1227354:14', '2018-01-23_12.29.28:1:SNX1226841:18'}"
      ]
     },
     "execution_count": 26,
     "metadata": {},
     "output_type": "execute_result"
    }
   ],
   "source": [
    "findUniqueExpRoots\n",
    "len(expRoots)\n",
    "expRoots"
   ]
  },
  {
   "cell_type": "code",
   "execution_count": 21,
   "metadata": {},
   "outputs": [
    {
     "data": {
      "text/plain": [
       "'2017-10-02_08.42.46:1:SNX1227354:14'"
      ]
     },
     "execution_count": 21,
     "metadata": {},
     "output_type": "execute_result"
    }
   ],
   "source": [
    "k = all_keys[0]\n",
    "':'.join(k.split(':')[0:4])"
   ]
  },
  {
   "cell_type": "code",
   "execution_count": 31,
   "metadata": {},
   "outputs": [
    {
     "data": {
      "text/plain": [
       "'2017-10-02_08.42.46'"
      ]
     },
     "execution_count": 31,
     "metadata": {},
     "output_type": "execute_result"
    }
   ],
   "source": [
    "extractExpRoot('2017-10-02_08.42.46')"
   ]
  },
  {
   "cell_type": "code",
   "execution_count": 53,
   "metadata": {},
   "outputs": [
    {
     "data": {
      "text/plain": [
       "15804"
      ]
     },
     "execution_count": 53,
     "metadata": {},
     "output_type": "execute_result"
    }
   ],
   "source": [
    "len(r.keys(pattern=\"*:FF031A:*\"))"
   ]
  },
  {
   "cell_type": "code",
   "execution_count": 33,
   "metadata": {},
   "outputs": [
    {
     "data": {
      "text/plain": [
       "{'gui_image_file': '/tmp/3_tmp_dif_file.png',\n",
       " 'Phase': 'C',\n",
       " 'Waveform': 'F706_DS.txt',\n",
       " 'Nozzle': '249',\n",
       " 'vel': '7.0633515154795203',\n",
       " 'volume': '0.24897811401724601',\n",
       " 'PD_delay_us': '230.000000',\n",
       " 'Row': '1',\n",
       " 'BitmapFile': 'recipe/g4x4shift_CANON_DIF.bmp',\n",
       " 'Sample Clock': '110.000000',\n",
       " 'Global Voltage': '20.000000'}"
      ]
     },
     "execution_count": 33,
     "metadata": {},
     "output_type": "execute_result"
    }
   ],
   "source": [
    "r.hgetall(r.keys(pattern=\"*:res:*\")[0])"
   ]
  },
  {
   "cell_type": "code",
   "execution_count": null,
   "metadata": {},
   "outputs": [],
   "source": [
    "'2017-10-02_08.42.46:1:SNX1227354:14:vars:FF031A:vol_vel_inter:0.293-0.343:6.000-7.500'"
   ]
  }
 ],
 "metadata": {
  "kernelspec": {
   "display_name": "Python 3",
   "language": "python",
   "name": "python3"
  },
  "language_info": {
   "codemirror_mode": {
    "name": "ipython",
    "version": 3
   },
   "file_extension": ".py",
   "mimetype": "text/x-python",
   "name": "python",
   "nbconvert_exporter": "python",
   "pygments_lexer": "ipython3",
   "version": "3.6.5"
  }
 },
 "nbformat": 4,
 "nbformat_minor": 2
}
