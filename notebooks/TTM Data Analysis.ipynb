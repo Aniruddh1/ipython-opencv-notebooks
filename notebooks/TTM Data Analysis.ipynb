{
 "cells": [
  {
   "cell_type": "code",
   "execution_count": 1,
   "metadata": {
    "collapsed": true
   },
   "outputs": [],
   "source": [
    "%matplotlib inline\n",
    "import time\n",
    "import datetime\n",
    "import cv2\n",
    "import numpy as np\n",
    "from matplotlib import pyplot as plt\n",
    "import pandas as pd\n",
    "\n",
    "import sys\n",
    "sys.path.append('../scripts')\n",
    "import util"
   ]
  },
  {
   "cell_type": "code",
   "execution_count": 58,
   "metadata": {
    "collapsed": false
   },
   "outputs": [
    {
     "data": {
      "text/plain": [
       "245430"
      ]
     },
     "execution_count": 58,
     "metadata": {},
     "output_type": "execute_result"
    }
   ],
   "source": [
    "fname = '/home/trafferty/tmp/TTMLogStream_2017_05_17.csv'\n",
    "f = open(fname, 'r')\n",
    "ttm = f.readlines()\n",
    "f.close()\n",
    "len(ttm)"
   ]
  },
  {
   "cell_type": "code",
   "execution_count": 22,
   "metadata": {
    "collapsed": false
   },
   "outputs": [
    {
     "name": "stdout",
     "output_type": "stream",
     "text": [
      "57\n"
     ]
    }
   ],
   "source": [
    "cols = ['TS', 'C1 measx_mm','C1 scorex', 'C1 measy_mm','C1 scorey','C1 cmeasx_mm','C1 cscorex','C1 cmeasy_mm','C1 cscorey', 'C1 x unwrap cnt', 'C1 y unwrap cnt', 'C1 post measx_mm', 'C1 post measy_mm', 'C1 post cmeasx_mm', 'C1 post cmeasy_mm', 'C2 measx_mm','C2 scorex', 'C2 measy_mm','C2 scorey','C2 cmeasx_mm','C2 cscorex','C2 cmeasy_mm','C2 cscorey', 'C2 x unwrap cnt', 'C2 y unwrap cnt', 'C2 post measx_mm', 'C2 post measy_mm', 'C2 post cmeasx_mm', 'C2 post cmeasy_mm', 'C3 measx_mm','C3 scorex', 'C3 measy_mm','C3 scorey','C3 cmeasx_mm','C3 cscorex','C3 cmeasy_mm','C3 cscorey', 'C3 x unwrap cnt', 'C3 y unwrap cnt', 'C3 post measx_mm', 'C3 post measy_mm', 'C3 post cmeasx_mm', 'C3 post cmeasy_mm', 'C4 measx_mm','C4 scorex', 'C4 measy_mm', 'C4 scorey', 'C4 cmeasx_mm', 'C4 cscorex', 'C4 cmeasy_mm', 'C4 cscorey', 'C4 x unwrap cnt', 'C4 y unwrap cnt', 'C4 post measx_mm', 'C4 post measy_mm', 'C4 post cmeasx_mm', 'C4 post cmeasy_mm']\n",
    "print(len(cols))"
   ]
  },
  {
   "cell_type": "code",
   "execution_count": null,
   "metadata": {
    "collapsed": false
   },
   "outputs": [],
   "source": [
    "def parse_into_data_sets(data):\n",
    "    data_ranges = []\n",
    "    max_delta = 1\n",
    "    start = 0\n",
    "    for idx, d in enumerate(data):\n",
    "        if idx == 0:\n",
    "            d_prev = d\n",
    "        else:\n",
    "            ts1 = d_prev.split(',')[0][-23:]\n",
    "            ts2 = d.split(',')[0][-23:]\n",
    "            dt1 = datetime.datetime.strptime(ts1, \"%Y-%m-%d %H:%M:%S.%f\")\n",
    "            dt2 = datetime.datetime.strptime(ts2, \"%Y-%m-%d %H:%M:%S.%f\")\n",
    "            s1 =time.mktime(dt1.timetuple()) + (dt1.microsecond / 1000000.0)\n",
    "            s2 =time.mktime(dt2.timetuple()) + (dt2.microsecond / 1000000.0)\n",
    "            #delta = float(d.split(',')[0][-6:]) - float(d_prev.split(',')[0][-6:])\n",
    "            delta = s2 - s1\n",
    "            if delta > max_delta:\n",
    "                end = idx - 1\n",
    "                data_ranges.append((start, end))\n",
    "                start = idx\n",
    "            d_prev = d\n",
    "    data_ranges.append((start, idx))\n",
    "    len(data_ranges)\n",
    "\n",
    "    data_sets = []\n",
    "    for idx, data_range in enumerate(data_ranges):\n",
    "        data_sets.append(data[data_range[0]:data_range[1]])\n",
    "        print(\"Data set %d, range: %d - %d (total: %d)\" % (idx, data_range[0], data_range[1], (data_range[1]-data_range[0])))\n",
    "        \n",
    "    for idx, ds in enumerate(data_sets):\n",
    "        print(\"[%d] range: %s -> %s\" % ( idx, ds[0].split(',')[0], ds[-1].split(',')[0]))\n",
    "        \n",
    "    return data_ranges, data_sets\n",
    "\n",
    "def cleanup_and_format_data_set(ds):\n",
    "    ds_new = []\n",
    "    for idx, d in enumerate(ds):\n",
    "        dnew_lst = []\n",
    "        d_lst = d.split(',')\n",
    "        #print(idx)\n",
    "        dnew_lst.append(d_lst[0][17:])\n",
    "        dnew_lst.append(float(d_lst[2]))                 \n",
    "        dnew_lst.append(int(d_lst[3]))                   \n",
    "        dnew_lst.append(float(d_lst[4]))                 \n",
    "        dnew_lst.append(int(d_lst[5]))                   \n",
    "        dnew_lst.append(float(d_lst[6]))                 \n",
    "        dnew_lst.append(int(d_lst[7]))\n",
    "        dnew_lst.append(float(d_lst[8]))                 \n",
    "        dnew_lst.append(int(d_lst[9]))                   \n",
    "        dnew_lst.append((d_lst[10].count('0') - 1) * -1)\n",
    "        dnew_lst.append((d_lst[11].count('0') - 1) * -1)\n",
    "        dnew_lst.append(float(d_lst[13]))                \n",
    "        dnew_lst.append(float(d_lst[14]))                \n",
    "        dnew_lst.append(float(d_lst[15]))                \n",
    "        dnew_lst.append(float(d_lst[16]))                \n",
    "        dnew_lst.append(float(d_lst[18]))                \n",
    "        dnew_lst.append(int(d_lst[19]))                  \n",
    "        dnew_lst.append(float(d_lst[20]))                \n",
    "        dnew_lst.append(int(d_lst[21]))                  \n",
    "        dnew_lst.append(float(d_lst[22]))                \n",
    "        dnew_lst.append(int(d_lst[23]))                  \n",
    "        dnew_lst.append(float(d_lst[24]))                \n",
    "        dnew_lst.append(int(d_lst[25]))                  \n",
    "        dnew_lst.append((d_lst[26].count('0') - 1) * -1)\n",
    "        dnew_lst.append((d_lst[27].count('0') - 1) * -1)\n",
    "        dnew_lst.append(float(d_lst[29]))                \n",
    "        dnew_lst.append(float(d_lst[30]))                \n",
    "        dnew_lst.append(float(d_lst[31]))                \n",
    "        dnew_lst.append(float(d_lst[32]))                \n",
    "        dnew_lst.append(float(d_lst[34]))                \n",
    "        dnew_lst.append(int(d_lst[35]))                  \n",
    "        dnew_lst.append(float(d_lst[36]))                \n",
    "        dnew_lst.append(int(d_lst[37]))                  \n",
    "        dnew_lst.append(float(d_lst[38]))                \n",
    "        dnew_lst.append(int(d_lst[39]))                  \n",
    "        dnew_lst.append(float(d_lst[40]))                \n",
    "        dnew_lst.append(int(d_lst[41]))                  \n",
    "        dnew_lst.append((d_lst[42].count('0') - 1) * -1)\n",
    "        dnew_lst.append((d_lst[43].count('0') - 1) * -1)\n",
    "        dnew_lst.append(float(d_lst[45]))                \n",
    "        dnew_lst.append(float(d_lst[46]))                \n",
    "        dnew_lst.append(float(d_lst[47]))                \n",
    "        dnew_lst.append(float(d_lst[48]))                \n",
    "        dnew_lst.append(float(d_lst[50]))                \n",
    "        dnew_lst.append(int(d_lst[51]))                  \n",
    "        dnew_lst.append(float(d_lst[52]))                \n",
    "        dnew_lst.append(int(d_lst[53]))                  \n",
    "        dnew_lst.append(float(d_lst[54]))                \n",
    "        dnew_lst.append(int(d_lst[55]))                  \n",
    "        dnew_lst.append(float(d_lst[56]))                \n",
    "        dnew_lst.append(int(d_lst[57]))                  \n",
    "        dnew_lst.append((d_lst[58].count('0') - 1) * -1)\n",
    "        dnew_lst.append((d_lst[59].count('0') - 1) * -1)\n",
    "        dnew_lst.append(float(d_lst[61]))                \n",
    "        dnew_lst.append(float(d_lst[62]))                \n",
    "        dnew_lst.append(float(d_lst[63]))                \n",
    "        dnew_lst.append(float(d_lst[64]))\n",
    "        ds_new.append(dnew_lst)\n",
    "    return ds_new\n",
    "        \n",
    "        "
   ]
  },
  {
   "cell_type": "code",
   "execution_count": 80,
   "metadata": {
    "collapsed": false,
    "scrolled": false
   },
   "outputs": [
    {
     "name": "stdout",
     "output_type": "stream",
     "text": [
      "Data set 0, range: 0 - 11708 (total: 11708)\n",
      "Data set 1, range: 11709 - 23305 (total: 11596)\n",
      "Data set 2, range: 23306 - 35013 (total: 11707)\n",
      "Data set 3, range: 35014 - 46612 (total: 11598)\n",
      "Data set 4, range: 46613 - 58322 (total: 11709)\n",
      "Data set 5, range: 58323 - 69917 (total: 11594)\n",
      "Data set 6, range: 69918 - 81626 (total: 11708)\n",
      "Data set 7, range: 81627 - 92889 (total: 11262)\n",
      "Data set 8, range: 92890 - 104602 (total: 11712)\n",
      "Data set 9, range: 104603 - 116312 (total: 11709)\n",
      "Data set 10, range: 116313 - 127916 (total: 11603)\n",
      "Data set 11, range: 127917 - 139627 (total: 11710)\n",
      "Data set 12, range: 139628 - 151222 (total: 11594)\n",
      "Data set 13, range: 151223 - 162924 (total: 11701)\n",
      "Data set 14, range: 162925 - 174627 (total: 11702)\n",
      "Data set 15, range: 174628 - 175947 (total: 1319)\n",
      "Data set 16, range: 175948 - 187546 (total: 11598)\n",
      "Data set 17, range: 187547 - 198925 (total: 11378)\n",
      "Data set 18, range: 198926 - 210526 (total: 11600)\n",
      "Data set 19, range: 210527 - 222238 (total: 11711)\n",
      "Data set 20, range: 222239 - 233837 (total: 11598)\n",
      "Data set 21, range: 233838 - 245429 (total: 11591)\n",
      "[0] range: doTTMClientWork: 2017-05-17 08:57:01.341 -> doTTMClientWork: 2017-05-17 08:57:31.746\n",
      "[1] range: doTTMClientWork: 2017-05-17 09:05:40.650 -> doTTMClientWork: 2017-05-17 09:06:11.054\n",
      "[2] range: doTTMClientWork: 2017-05-17 09:07:02.770 -> doTTMClientWork: 2017-05-17 09:07:33.175\n",
      "[3] range: doTTMClientWork: 2017-05-17 09:08:26.082 -> doTTMClientWork: 2017-05-17 09:08:56.491\n",
      "[4] range: doTTMClientWork: 2017-05-17 09:10:44.584 -> doTTMClientWork: 2017-05-17 09:11:14.991\n",
      "[5] range: doTTMClientWork: 2017-05-17 09:15:49.784 -> doTTMClientWork: 2017-05-17 09:16:20.185\n",
      "[6] range: doTTMClientWork: 2017-05-17 09:19:34.150 -> doTTMClientWork: 2017-05-17 09:20:04.555\n",
      "[7] range: doTTMClientWork: 2017-05-17 09:21:23.082 -> doTTMClientWork: 2017-05-17 09:21:53.493\n",
      "[8] range: doTTMClientWork: 2017-05-17 09:23:25.722 -> doTTMClientWork: 2017-05-17 09:23:56.137\n",
      "[9] range: doTTMClientWork: 2017-05-17 09:24:50.412 -> doTTMClientWork: 2017-05-17 09:25:20.822\n",
      "[10] range: doTTMClientWork: 2017-05-17 09:26:14.967 -> doTTMClientWork: 2017-05-17 09:26:45.380\n",
      "[11] range: doTTMClientWork: 2017-05-17 09:28:23.864 -> doTTMClientWork: 2017-05-17 09:28:54.273\n",
      "[12] range: doTTMClientWork: 2017-05-17 09:30:41.649 -> doTTMClientWork: 2017-05-17 09:31:12.050\n",
      "[13] range: doTTMClientWork: 2017-05-17 09:32:14.303 -> doTTMClientWork: 2017-05-17 09:32:44.689\n",
      "[14] range: doTTMClientWork: 2017-05-17 11:48:00.453 -> doTTMClientWork: 2017-05-17 11:48:30.842\n",
      "[15] range: doTTMClientWork: 2017-05-17 11:54:55.012 -> doTTMClientWork: 2017-05-17 11:54:58.428\n",
      "[16] range: doTTMClientWork: 2017-05-17 12:07:19.221 -> doTTMClientWork: 2017-05-17 12:07:49.628\n",
      "[17] range: doTTMClientWork: 2017-05-17 12:54:58.756 -> doTTMClientWork: 2017-05-17 12:55:29.191\n",
      "[18] range: doTTMClientWork: 2017-05-17 13:10:09.276 -> doTTMClientWork: 2017-05-17 13:10:39.685\n",
      "[19] range: doTTMClientWork: 2017-05-17 13:18:14.062 -> doTTMClientWork: 2017-05-17 13:18:44.475\n",
      "[20] range: doTTMClientWork: 2017-05-17 13:24:55.918 -> doTTMClientWork: 2017-05-17 13:25:26.325\n",
      "[21] range: doTTMClientWork: 2017-05-17 13:32:14.912 -> doTTMClientWork: 2017-05-17 13:32:45.298\n"
     ]
    }
   ],
   "source": [
    "data_ranges, data_sets_rough = parse_into_data_sets(ttm)"
   ]
  },
  {
   "cell_type": "code",
   "execution_count": 83,
   "metadata": {
    "collapsed": false
   },
   "outputs": [
    {
     "name": "stdout",
     "output_type": "stream",
     "text": [
      "{64: 245408}\n"
     ]
    }
   ],
   "source": [
    "c = {}\n",
    "for idx, ds in enumerate(data_sets_rough):\n",
    "    for d in ds:\n",
    "        cnt = d.count(',')\n",
    "        if cnt not in c:\n",
    "            c[cnt] = 1\n",
    "        else:\n",
    "            c[cnt] += 1\n",
    "print(c)"
   ]
  },
  {
   "cell_type": "code",
   "execution_count": null,
   "metadata": {
    "collapsed": false,
    "scrolled": true
   },
   "outputs": [],
   "source": [
    "data_sets = []\n",
    "for idx, ds in enumerate(data_sets_rough):\n",
    "    data_sets.append(cleanup_and_format_data_set(ds))"
   ]
  },
  {
   "cell_type": "code",
   "execution_count": 82,
   "metadata": {
    "collapsed": false
   },
   "outputs": [
    {
     "name": "stdout",
     "output_type": "stream",
     "text": [
      "{57: 245408}\n"
     ]
    }
   ],
   "source": [
    "c = {}\n",
    "for idx, ds in enumerate(data_sets):\n",
    "    for d in ds:\n",
    "        #cnt = d.count(',')\n",
    "        cnt = len(d)\n",
    "        if cnt not in c:\n",
    "            c[cnt] = 1\n",
    "        else:\n",
    "            c[cnt] += 1\n",
    "print(c)"
   ]
  },
  {
   "cell_type": "code",
   "execution_count": 84,
   "metadata": {
    "collapsed": false
   },
   "outputs": [
    {
     "data": {
      "text/plain": [
       "['2017-05-17 08:57:01.341',\n",
       " -0.0001886,\n",
       " 0,\n",
       " 0.000139,\n",
       " 0,\n",
       " 0.000884,\n",
       " 0,\n",
       " -0.000959,\n",
       " 0,\n",
       " 1,\n",
       " 1,\n",
       " 0.0008114,\n",
       " -0.000861,\n",
       " 0.000884,\n",
       " -0.000959,\n",
       " 0.001,\n",
       " 1,\n",
       " 0.001,\n",
       " 1,\n",
       " 0.0,\n",
       " 1,\n",
       " 0.0,\n",
       " 1,\n",
       " -1,\n",
       " -1,\n",
       " nan,\n",
       " nan,\n",
       " 0.0,\n",
       " 0.0,\n",
       " 0.001,\n",
       " 1,\n",
       " 0.001,\n",
       " 1,\n",
       " 0.0,\n",
       " 1,\n",
       " 0.0,\n",
       " 1,\n",
       " -1,\n",
       " -1,\n",
       " nan,\n",
       " nan,\n",
       " 0.0,\n",
       " 0.0,\n",
       " 0.0005164,\n",
       " 0,\n",
       " -0.0004502,\n",
       " 0,\n",
       " -0.001022,\n",
       " 0,\n",
       " -0.001231,\n",
       " 0,\n",
       " 1,\n",
       " 1,\n",
       " -0.0014836,\n",
       " -0.0014502,\n",
       " -0.001022,\n",
       " -0.001231]"
      ]
     },
     "execution_count": 84,
     "metadata": {},
     "output_type": "execute_result"
    }
   ],
   "source": [
    "data_sets[0][0]"
   ]
  },
  {
   "cell_type": "code",
   "execution_count": null,
   "metadata": {
    "collapsed": true
   },
   "outputs": [],
   "source": []
  }
 ],
 "metadata": {
  "kernelspec": {
   "display_name": "Python [conda root]",
   "language": "python",
   "name": "conda-root-py"
  },
  "language_info": {
   "codemirror_mode": {
    "name": "ipython",
    "version": 3
   },
   "file_extension": ".py",
   "mimetype": "text/x-python",
   "name": "python",
   "nbconvert_exporter": "python",
   "pygments_lexer": "ipython3",
   "version": "3.5.2"
  }
 },
 "nbformat": 4,
 "nbformat_minor": 2
}
