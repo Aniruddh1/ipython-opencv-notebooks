{
 "cells": [
  {
   "cell_type": "code",
   "execution_count": 13,
   "metadata": {
    "collapsed": true
   },
   "outputs": [],
   "source": [
    "%matplotlib inline\n",
    "import time\n",
    "import datetime\n",
    "import numpy as np\n",
    "from matplotlib import pyplot as plt\n",
    "import pandas as pd\n",
    "\n",
    "import sys\n",
    "sys.path.append('../scripts')\n",
    "#import util"
   ]
  },
  {
   "cell_type": "code",
   "execution_count": null,
   "metadata": {
    "collapsed": true
   },
   "outputs": [],
   "source": [
    "from os.path import expanduser\n",
    "\n",
    "fname = '%s/tmp/TTMLogStream_2017_05_17-19.csv' % (expanduser(\"~\"))\n",
    "#fname = '%s/tmp/TTMLogStream_2017_05_17.csv' % (expanduser(\"~\"))\n",
    "f = open(fname, 'r')\n",
    "ttm = f.readlines()\n",
    "f.close()\n",
    "print(len(ttm))"
   ]
  },
  {
   "cell_type": "code",
   "execution_count": 143,
   "metadata": {},
   "outputs": [],
   "source": [
    "ds_keys = [\n",
    "(30167, 'Good'),\n",
    "(30169, 'Good'),\n",
    "(30170, 'Good'),\n",
    "(30171, 'Good'),\n",
    "(30172, 'Good'),\n",
    "(30173, 'Vibration'),\n",
    "(30174, 'Good'),\n",
    "(30175, 'Good'),\n",
    "(30176, 'Good'),\n",
    "(30177, 'Good'),\n",
    "(30178, 'Good'),\n",
    "(30179, 'Good'),\n",
    "(30179, 'Good'),\n",
    "(30179, 'Good'),\n",
    "(30184, 'Good'),\n",
    "(30186, 'Good'),\n",
    "(30188, 'Good'),\n",
    "(30190, 'Good'),\n",
    "(30192, 'Good'),\n",
    "(30194, 'Good'),\n",
    "(30196, 'Good'),\n",
    "(30198, 'Good'),\n",
    "(30271, 'Spike'),\n",
    "(30273, 'Good'),\n",
    "(30275, 'Good'),\n",
    "(30277, 'Good'),\n",
    "(30279, 'Spike'),\n",
    "(30281, 'Good'),\n",
    "(30283, 'Good'),\n",
    "(30285, 'Good')]"
   ]
  },
  {
   "cell_type": "code",
   "execution_count": 15,
   "metadata": {},
   "outputs": [
    {
     "name": "stdout",
     "output_type": "stream",
     "text": [
      "{'measx_mm': 0, 'scorex': 1, 'measy_mm': 2, 'scorey': 3, 'cmeasx_mm': 4, 'cscorex': 5, 'cmeasy_mm': 6, 'cscorey': 7, 'x unwrap cnt': 8, 'y unwrap cnt': 9, 'post measx_mm': 10, 'post measy_mm': 11, 'post cmeasx_mm': 12, 'post cmeasy_mm': 13}\n"
     ]
    }
   ],
   "source": [
    "cols = ['TS', ['measx_mm','scorex', 'measy_mm','scorey','cmeasx_mm','cscorex','cmeasy_mm','cscorey', 'x unwrap cnt', 'y unwrap cnt', 'post measx_mm', 'post measy_mm', 'post cmeasx_mm', 'post cmeasy_mm']]\n",
    "col_ids = {}\n",
    "for idx, col in enumerate(cols[1]):\n",
    "    col_ids[col] = idx\n",
    "print(col_ids)"
   ]
  },
  {
   "cell_type": "code",
   "execution_count": 30,
   "metadata": {},
   "outputs": [
    {
     "name": "stdout",
     "output_type": "stream",
     "text": [
      "['TS', 'C0 measx_mm', 'C0 scorex', 'C0 measy_mm', 'C0 scorey', 'C0 cmeasx_mm', 'C0 cscorex', 'C0 cmeasy_mm', 'C0 cscorey', 'C0 x unwrap cnt', 'C0 y unwrap cnt', 'C0 post measx_mm', 'C0 post measy_mm', 'C0 post cmeasx_mm', 'C0 post cmeasy_mm', 'C1 measx_mm', 'C1 scorex', 'C1 measy_mm', 'C1 scorey', 'C1 cmeasx_mm', 'C1 cscorex', 'C1 cmeasy_mm', 'C1 cscorey', 'C1 x unwrap cnt', 'C1 y unwrap cnt', 'C1 post measx_mm', 'C1 post measy_mm', 'C1 post cmeasx_mm', 'C1 post cmeasy_mm', 'C2 measx_mm', 'C2 scorex', 'C2 measy_mm', 'C2 scorey', 'C2 cmeasx_mm', 'C2 cscorex', 'C2 cmeasy_mm', 'C2 cscorey', 'C2 x unwrap cnt', 'C2 y unwrap cnt', 'C2 post measx_mm', 'C2 post measy_mm', 'C2 post cmeasx_mm', 'C2 post cmeasy_mm', 'C3 measx_mm', 'C3 scorex', 'C3 measy_mm', 'C3 scorey', 'C3 cmeasx_mm', 'C3 cscorex', 'C3 cmeasy_mm', 'C3 cscorey', 'C3 x unwrap cnt', 'C3 y unwrap cnt', 'C3 post measx_mm', 'C3 post measy_mm', 'C3 post cmeasx_mm', 'C3 post cmeasy_mm']\n"
     ]
    }
   ],
   "source": [
    "numCams = 4\n",
    "cols = ['TS']\n",
    "cam_fields = ['measx_mm','scorex', 'measy_mm','scorey','cmeasx_mm','cscorex','cmeasy_mm','cscorey', 'x unwrap cnt', 'y unwrap cnt', 'post measx_mm', 'post measy_mm', 'post cmeasx_mm', 'post cmeasy_mm']\n",
    "\n",
    "for i in range(numCams):\n",
    "    for cam_field in cam_fields:\n",
    "        cols.append(\"C%d %s\" % (i, cam_field))\n",
    "print(cols)\n",
    "\n",
    "col_ids = {}\n",
    "for idx, col in enumerate(cols):\n",
    "    col_ids[col] = idx\n",
    "#print(col_ids)"
   ]
  },
  {
   "cell_type": "code",
   "execution_count": 125,
   "metadata": {
    "collapsed": true
   },
   "outputs": [],
   "source": [
    "def parse_into_data_sets(data):\n",
    "    data_ranges = []\n",
    "    max_delta = 1\n",
    "    start = 0\n",
    "    for idx, d in enumerate(data):\n",
    "        if len(d) <= 1:\n",
    "            print(\"Found blank line: \", d)\n",
    "            continue\n",
    "        if idx == 0:\n",
    "            d_prev = d\n",
    "        else:\n",
    "            try:\n",
    "                ts1 = d_prev.split(',')[0][-23:]\n",
    "                ts2 = d.split(',')[0][-23:]\n",
    "                dt1 = datetime.datetime.strptime(ts1, \"%Y-%m-%d %H:%M:%S.%f\")\n",
    "                dt2 = datetime.datetime.strptime(ts2, \"%Y-%m-%d %H:%M:%S.%f\")\n",
    "                s1 =time.mktime(dt1.timetuple()) + (dt1.microsecond / 1000000.0)\n",
    "                s2 =time.mktime(dt2.timetuple()) + (dt2.microsecond / 1000000.0)\n",
    "                #delta = float(d.split(',')[0][-6:]) - float(d_prev.split(',')[0][-6:])\n",
    "                delta = s2 - s1\n",
    "                if delta > max_delta:\n",
    "                    end = idx - 1\n",
    "                    data_ranges.append((start, end))\n",
    "                    start = idx\n",
    "                d_prev = d\n",
    "            except ValueError:\n",
    "                print(\"ValueError!!: %s\" % d)\n",
    "    data_ranges.append((start, idx))\n",
    "    len(data_ranges)\n",
    "\n",
    "    data_sets = []\n",
    "    for idx, data_range in enumerate(data_ranges):\n",
    "        data_sets.append(data[data_range[0]:data_range[1]])\n",
    "        print(\"Data set %d, range: %d - %d (total: %d)\" % (idx, data_range[0], data_range[1], (data_range[1]-data_range[0])))\n",
    "        \n",
    "    for idx, ds in enumerate(data_sets):\n",
    "        print(\"[%d] range: %s -> %s\" % ( idx, ds[0].split(',')[0], ds[-1].split(',')[0]))\n",
    "        \n",
    "    return data_ranges, data_sets\n",
    "\n",
    "def cleanup_and_format_data_set(data_set):\n",
    "    data_set_formated = []\n",
    "    for idx, data_row_str in enumerate(data_set):\n",
    "        data_row_formatted = []\n",
    "        data_row = data_row_str.split(',')\n",
    "        #print(idx)\n",
    "        data_row_formatted.append(data_row[0][17:])\n",
    "        data_row_formatted.append(float(data_row[2]))                 \n",
    "        data_row_formatted.append(int(data_row[3]))                   \n",
    "        data_row_formatted.append(float(data_row[4]))                 \n",
    "        data_row_formatted.append(int(data_row[5]))                   \n",
    "        data_row_formatted.append(float(data_row[6]))                 \n",
    "        data_row_formatted.append(int(data_row[7]))\n",
    "        data_row_formatted.append(float(data_row[8]))                 \n",
    "        data_row_formatted.append(int(data_row[9]))                   \n",
    "        data_row_formatted.append((data_row[10].count('0') - 1) * -1)\n",
    "        data_row_formatted.append((data_row[11].count('0') - 1) * -1)\n",
    "        data_row_formatted.append(float(data_row[13]))                \n",
    "        data_row_formatted.append(float(data_row[14]))                \n",
    "        data_row_formatted.append(float(data_row[15]))                \n",
    "        data_row_formatted.append(float(data_row[16]))                \n",
    "        data_row_formatted.append(float(data_row[18]))                \n",
    "        data_row_formatted.append(int(data_row[19]))                  \n",
    "        data_row_formatted.append(float(data_row[20]))                \n",
    "        data_row_formatted.append(int(data_row[21]))                  \n",
    "        data_row_formatted.append(float(data_row[22]))                \n",
    "        data_row_formatted.append(int(data_row[23]))                  \n",
    "        data_row_formatted.append(float(data_row[24]))                \n",
    "        data_row_formatted.append(int(data_row[25]))                  \n",
    "        data_row_formatted.append((data_row[26].count('0') - 1) * -1)\n",
    "        data_row_formatted.append((data_row[27].count('0') - 1) * -1)\n",
    "        data_row_formatted.append(float(data_row[29]))                \n",
    "        data_row_formatted.append(float(data_row[30]))                \n",
    "        data_row_formatted.append(float(data_row[31]))                \n",
    "        data_row_formatted.append(float(data_row[32]))                \n",
    "        data_row_formatted.append(float(data_row[34]))                \n",
    "        data_row_formatted.append(int(data_row[35]))                  \n",
    "        data_row_formatted.append(float(data_row[36]))                \n",
    "        data_row_formatted.append(int(data_row[37]))                  \n",
    "        data_row_formatted.append(float(data_row[38]))                \n",
    "        data_row_formatted.append(int(data_row[39]))                  \n",
    "        data_row_formatted.append(float(data_row[40]))                \n",
    "        data_row_formatted.append(int(data_row[41]))                  \n",
    "        data_row_formatted.append((data_row[42].count('0') - 1) * -1)\n",
    "        data_row_formatted.append((data_row[43].count('0') - 1) * -1)\n",
    "        data_row_formatted.append(float(data_row[45]))                \n",
    "        data_row_formatted.append(float(data_row[46]))                \n",
    "        data_row_formatted.append(float(data_row[47]))                \n",
    "        data_row_formatted.append(float(data_row[48]))                \n",
    "        data_row_formatted.append(float(data_row[50]))                \n",
    "        data_row_formatted.append(int(data_row[51]))                  \n",
    "        data_row_formatted.append(float(data_row[52]))                \n",
    "        data_row_formatted.append(int(data_row[53]))                  \n",
    "        data_row_formatted.append(float(data_row[54]))                \n",
    "        data_row_formatted.append(int(data_row[55]))                  \n",
    "        data_row_formatted.append(float(data_row[56]))                \n",
    "        data_row_formatted.append(int(data_row[57]))                  \n",
    "        data_row_formatted.append((data_row[58].count('0') - 1) * -1)\n",
    "        data_row_formatted.append((data_row[59].count('0') - 1) * -1)\n",
    "        data_row_formatted.append(float(data_row[61]))                \n",
    "        data_row_formatted.append(float(data_row[62]))                \n",
    "        data_row_formatted.append(float(data_row[63]))                \n",
    "        data_row_formatted.append(float(data_row[64]))\n",
    "        data_set_formated.append(data_row_formatted)\n",
    "    return data_set_formated\n",
    "        \n",
    "def cleanup_and_format_data_row_formatted(data_set):\n",
    "    data_set_formated = []\n",
    "    for idx, data_row_str in enumerate(data_set):\n",
    "        data_row_formatted = []\n",
    "        data_row = data_row_str.split(',')\n",
    "        #print(idx)\n",
    "        \n",
    "        data_row_formatted.append(data_row[0][17:])\n",
    "\n",
    "        cam1_data = []\n",
    "        cam1_data.append(float(data_row[2]))                 \n",
    "        cam1_data.append(int(data_row[3]))                   \n",
    "        cam1_data.append(float(data_row[4]))                 \n",
    "        cam1_data.append(int(data_row[5]))                   \n",
    "        cam1_data.append(float(data_row[6]))                 \n",
    "        cam1_data.append(int(data_row[7]))\n",
    "        cam1_data.append(float(data_row[8]))                 \n",
    "        cam1_data.append(int(data_row[9]))                   \n",
    "        cam1_data.append((data_row[10].count('0') - 1) * -1)\n",
    "        cam1_data.append((data_row[11].count('0') - 1) * -1)\n",
    "        cam1_data.append(float(data_row[13]))                \n",
    "        cam1_data.append(float(data_row[14]))                \n",
    "        cam1_data.append(float(data_row[15]))                \n",
    "        cam1_data.append(float(data_row[16]))\n",
    "        data_row_formatted.append(cam1_data)\n",
    "        \n",
    "        cam2_data = []\n",
    "        cam2_data.append(float(data_row[18]))                \n",
    "        cam2_data.append(int(data_row[19]))   \n",
    "        cam2_data.append(float(data_row[20]))                \n",
    "        cam2_data.append(int(data_row[21]))                  \n",
    "        cam2_data.append(float(data_row[22]))                \n",
    "        cam2_data.append(int(data_row[23]))                  \n",
    "        cam2_data.append(float(data_row[24]))                \n",
    "        cam2_data.append(int(data_row[25]))                  \n",
    "        cam2_data.append((data_row[26].count('0') - 1) * -1)\n",
    "        cam2_data.append((data_row[27].count('0') - 1) * -1)\n",
    "        cam2_data.append(float(data_row[29]))                \n",
    "        cam2_data.append(float(data_row[30]))                \n",
    "        cam2_data.append(float(data_row[31]))                \n",
    "        cam2_data.append(float(data_row[32]))\n",
    "        data_row_formatted.append(cam2_data)\n",
    "        \n",
    "        cam3_data = []\n",
    "        cam3_data.append(float(data_row[34]))                \n",
    "        cam3_data.append(int(data_row[35]))                  \n",
    "        cam3_data.append(float(data_row[36]))                \n",
    "        cam3_data.append(int(data_row[37]))                  \n",
    "        cam3_data.append(float(data_row[38]))                \n",
    "        cam3_data.append(int(data_row[39]))                  \n",
    "        cam3_data.append(float(data_row[40]))                \n",
    "        cam3_data.append(int(data_row[41]))                  \n",
    "        cam3_data.append((data_row[42].count('0') - 1) * -1)\n",
    "        cam3_data.append((data_row[43].count('0') - 1) * -1)\n",
    "        cam3_data.append(float(data_row[45]))                \n",
    "        cam3_data.append(float(data_row[46]))                \n",
    "        cam3_data.append(float(data_row[47]))                \n",
    "        cam3_data.append(float(data_row[48]))\n",
    "        data_row_formatted.append(cam3_data)\n",
    "        \n",
    "        cam4_data = []\n",
    "        cam4_data.append(float(data_row[50]))                \n",
    "        cam4_data.append(int(data_row[51]))                  \n",
    "        cam4_data.append(float(data_row[52]))                \n",
    "        cam4_data.append(int(data_row[53]))                  \n",
    "        cam4_data.append(float(data_row[54]))                \n",
    "        cam4_data.append(int(data_row[55]))                  \n",
    "        cam4_data.append(float(data_row[56]))                \n",
    "        cam4_data.append(int(data_row[57]))                  \n",
    "        cam4_data.append((data_row[58].count('0') - 1) * -1)\n",
    "        cam4_data.append((data_row[59].count('0') - 1) * -1)\n",
    "        cam4_data.append(float(data_row[61]))                \n",
    "        cam4_data.append(float(data_row[62]))                \n",
    "        cam4_data.append(float(data_row[63]))                \n",
    "        cam4_data.append(float(data_row[64]))\n",
    "        data_row_formatted.append(cam4_data)\n",
    "        \n",
    "        data_set_formated.append(data_row_formatted)\n",
    "    return data_set_formated"
   ]
  },
  {
   "cell_type": "code",
   "execution_count": 133,
   "metadata": {},
   "outputs": [
    {
     "name": "stdout",
     "output_type": "stream",
     "text": [
      "Found blank line:  \n",
      "\n",
      "Data set 0, range: 0 - 11708 (total: 11708)\n",
      "Data set 1, range: 11709 - 23305 (total: 11596)\n",
      "Data set 2, range: 23306 - 35013 (total: 11707)\n",
      "Data set 3, range: 35014 - 46612 (total: 11598)\n",
      "Data set 4, range: 46613 - 58322 (total: 11709)\n",
      "Data set 5, range: 58323 - 69917 (total: 11594)\n",
      "Data set 6, range: 69918 - 81626 (total: 11708)\n",
      "Data set 7, range: 81627 - 92889 (total: 11262)\n",
      "Data set 8, range: 92890 - 104602 (total: 11712)\n",
      "Data set 9, range: 104603 - 116312 (total: 11709)\n",
      "Data set 10, range: 116313 - 127916 (total: 11603)\n",
      "Data set 11, range: 127917 - 139627 (total: 11710)\n",
      "Data set 12, range: 139628 - 151222 (total: 11594)\n",
      "Data set 13, range: 151223 - 162924 (total: 11701)\n",
      "Data set 14, range: 162925 - 174627 (total: 11702)\n",
      "Data set 15, range: 174628 - 175947 (total: 1319)\n",
      "Data set 16, range: 175948 - 187546 (total: 11598)\n",
      "Data set 17, range: 187547 - 198925 (total: 11378)\n",
      "Data set 18, range: 198926 - 210526 (total: 11600)\n",
      "Data set 19, range: 210527 - 222238 (total: 11711)\n",
      "Data set 20, range: 222239 - 233837 (total: 11598)\n",
      "Data set 21, range: 233838 - 245430 (total: 11592)\n",
      "Data set 22, range: 245431 - 257140 (total: 11709)\n",
      "Data set 23, range: 257141 - 268746 (total: 11605)\n",
      "Data set 24, range: 268747 - 280454 (total: 11707)\n",
      "Data set 25, range: 280455 - 292164 (total: 11709)\n",
      "Data set 26, range: 292165 - 303763 (total: 11598)\n",
      "Data set 27, range: 303764 - 315357 (total: 11593)\n",
      "Data set 28, range: 315358 - 326953 (total: 11595)\n",
      "Data set 29, range: 326954 - 338652 (total: 11698)\n",
      "[0] range: doTTMClientWork: 2017-05-17 08:57:01.341 -> doTTMClientWork: 2017-05-17 08:57:31.746\n",
      "[1] range: doTTMClientWork: 2017-05-17 09:05:40.650 -> doTTMClientWork: 2017-05-17 09:06:11.054\n",
      "[2] range: doTTMClientWork: 2017-05-17 09:07:02.770 -> doTTMClientWork: 2017-05-17 09:07:33.175\n",
      "[3] range: doTTMClientWork: 2017-05-17 09:08:26.082 -> doTTMClientWork: 2017-05-17 09:08:56.491\n",
      "[4] range: doTTMClientWork: 2017-05-17 09:10:44.584 -> doTTMClientWork: 2017-05-17 09:11:14.991\n",
      "[5] range: doTTMClientWork: 2017-05-17 09:15:49.784 -> doTTMClientWork: 2017-05-17 09:16:20.185\n",
      "[6] range: doTTMClientWork: 2017-05-17 09:19:34.150 -> doTTMClientWork: 2017-05-17 09:20:04.555\n",
      "[7] range: doTTMClientWork: 2017-05-17 09:21:23.082 -> doTTMClientWork: 2017-05-17 09:21:53.493\n",
      "[8] range: doTTMClientWork: 2017-05-17 09:23:25.722 -> doTTMClientWork: 2017-05-17 09:23:56.137\n",
      "[9] range: doTTMClientWork: 2017-05-17 09:24:50.412 -> doTTMClientWork: 2017-05-17 09:25:20.822\n",
      "[10] range: doTTMClientWork: 2017-05-17 09:26:14.967 -> doTTMClientWork: 2017-05-17 09:26:45.380\n",
      "[11] range: doTTMClientWork: 2017-05-17 09:28:23.864 -> doTTMClientWork: 2017-05-17 09:28:54.273\n",
      "[12] range: doTTMClientWork: 2017-05-17 09:30:41.649 -> doTTMClientWork: 2017-05-17 09:31:12.050\n",
      "[13] range: doTTMClientWork: 2017-05-17 09:32:14.303 -> doTTMClientWork: 2017-05-17 09:32:44.689\n",
      "[14] range: doTTMClientWork: 2017-05-17 11:48:00.453 -> doTTMClientWork: 2017-05-17 11:48:30.842\n",
      "[15] range: doTTMClientWork: 2017-05-17 11:54:55.012 -> doTTMClientWork: 2017-05-17 11:54:58.428\n",
      "[16] range: doTTMClientWork: 2017-05-17 12:07:19.221 -> doTTMClientWork: 2017-05-17 12:07:49.628\n",
      "[17] range: doTTMClientWork: 2017-05-17 12:54:58.756 -> doTTMClientWork: 2017-05-17 12:55:29.191\n",
      "[18] range: doTTMClientWork: 2017-05-17 13:10:09.276 -> doTTMClientWork: 2017-05-17 13:10:39.685\n",
      "[19] range: doTTMClientWork: 2017-05-17 13:18:14.062 -> doTTMClientWork: 2017-05-17 13:18:44.475\n",
      "[20] range: doTTMClientWork: 2017-05-17 13:24:55.918 -> doTTMClientWork: 2017-05-17 13:25:26.325\n",
      "[21] range: doTTMClientWork: 2017-05-17 13:32:14.912 -> doTTMClientWork: 2017-05-17 13:32:45.301\n",
      "[22] range: doTTMClientWork: 2017-05-19 14:46:36.783 -> doTTMClientWork: 2017-05-19 14:47:07.191\n",
      "[23] range: doTTMClientWork: 2017-05-19 15:02:02.788 -> doTTMClientWork: 2017-05-19 15:02:33.207\n",
      "[24] range: doTTMClientWork: 2017-05-19 15:09:13.695 -> doTTMClientWork: 2017-05-19 15:09:44.097\n",
      "[25] range: doTTMClientWork: 2017-05-19 15:16:08.424 -> doTTMClientWork: 2017-05-19 15:16:38.833\n",
      "[26] range: doTTMClientWork: 2017-05-19 15:24:23.854 -> doTTMClientWork: 2017-05-19 15:24:54.261\n",
      "[27] range: doTTMClientWork: 2017-05-19 15:30:10.238 -> doTTMClientWork: 2017-05-19 15:30:40.639\n",
      "[28] range: doTTMClientWork: 2017-05-19 15:46:46.352 -> doTTMClientWork: 2017-05-19 15:47:16.756\n",
      "[29] range: doTTMClientWork: 2017-05-19 15:54:26.686 -> doTTMClientWork: 2017-05-19 15:54:57.066\n"
     ]
    }
   ],
   "source": [
    "data_ranges, data_sets_rough = parse_into_data_sets(ttm)"
   ]
  },
  {
   "cell_type": "code",
   "execution_count": 136,
   "metadata": {},
   "outputs": [
    {
     "name": "stdout",
     "output_type": "stream",
     "text": [
      "{64: 338623}\n"
     ]
    }
   ],
   "source": [
    "c = {}\n",
    "for idx, ds in enumerate(data_sets_rough):\n",
    "    for d in ds:\n",
    "        cnt = d.count(',')\n",
    "        if cnt not in c:\n",
    "            c[cnt] = 1\n",
    "        else:\n",
    "            c[cnt] += 1\n",
    "print(c)"
   ]
  },
  {
   "cell_type": "code",
   "execution_count": 137,
   "metadata": {
    "collapsed": true,
    "scrolled": true
   },
   "outputs": [],
   "source": [
    "data_sets = []\n",
    "for idx, data_set in enumerate(data_sets_rough):\n",
    "    data_sets.append(cleanup_and_format_data_set(data_set))"
   ]
  },
  {
   "cell_type": "code",
   "execution_count": 138,
   "metadata": {},
   "outputs": [
    {
     "name": "stdout",
     "output_type": "stream",
     "text": [
      "{57: 338623}\n"
     ]
    }
   ],
   "source": [
    "c = {}\n",
    "for idx, ds in enumerate(data_sets):\n",
    "    for d in ds:\n",
    "        #cnt = d.count(',')\n",
    "        cnt = len(d)\n",
    "        if cnt not in c:\n",
    "            c[cnt] = 1\n",
    "        else:\n",
    "            c[cnt] += 1\n",
    "print(c)"
   ]
  },
  {
   "cell_type": "code",
   "execution_count": 86,
   "metadata": {
    "collapsed": true
   },
   "outputs": [],
   "source": [
    "TTM_MoirePeriod_mm = 0.001\n",
    "TTM_CoarseOffset_mm = 0\n",
    "\n",
    "def unwrap(meas_mm, cmeas_mm, cscore):\n",
    "    cnt = 0\n",
    "    if cscore > 0:\n",
    "        meas_mm = -np.nan\n",
    "    else:\n",
    "        err = cmeas_mm + TTM_CoarseOffset_mm - meas_mm\n",
    "        while (np.fabs(err) > 0.5*TTM_MoirePeriod_mm) and (cnt < 4):\n",
    "            if err > 0.0:\n",
    "                meas_mm += TTM_MoirePeriod_mm\n",
    "            else:\n",
    "                meas_mm -= TTM_MoirePeriod_mm\n",
    "\n",
    "            err = cmeas_mm + TTM_CoarseOffset_mm - meas_mm\n",
    "            cnt += 1\n",
    "    return cnt, meas_mm"
   ]
  },
  {
   "cell_type": "markdown",
   "metadata": {
    "collapsed": true
   },
   "source": [
    "{'TS': 0, \n",
    "\n",
    "'C0 measx_mm': 1, 'C0 scorex': 2, 'C0 measy_mm': 3, 'C0 scorey': 4, 'C0 cmeasx_mm': 5, 'C0 cscorex': 6, 'C0 cmeasy_mm': 7, 'C0 cscorey': 8, 'C0 x unwrap cnt': 9, 'C0 y unwrap cnt': 10, 'C0 post measx_mm': 11, 'C0 post measy_mm': 12, 'C0 post cmeasx_mm': 13, 'C0 post cmeasy_mm': 14, \n",
    "\n",
    "'C1 measx_mm': 15, 'C1 scorex': 16, 'C1 measy_mm': 17, 'C1 scorey': 18, 'C1 cmeasx_mm': 19, 'C1 cscorex': 20, 'C1 cmeasy_mm': 21, 'C1 cscorey': 22, 'C1 x unwrap cnt': 23, 'C1 y unwrap cnt': 24, 'C1 post measx_mm': 25, 'C1 post measy_mm': 26, 'C1 post cmeasx_mm': 27, 'C1 post cmeasy_mm': 28, \n",
    "\n",
    "'C2 measx_mm': 29, 'C2 scorex': 30, 'C2 measy_mm': 31, 'C2 scorey': 32, 'C2 cmeasx_mm': 33, 'C2 cscorex': 34, 'C2 cmeasy_mm': 35, 'C2 cscorey': 36, 'C2 x unwrap cnt': 37, 'C2 y unwrap cnt': 38, 'C2 post measx_mm': 39, 'C2 post measy_mm': 40, 'C2 post cmeasx_mm': 41, 'C2 post cmeasy_mm': 42, \n",
    "\n",
    "'C3 measx_mm': 43, 'C3 scorex': 44, 'C3 measy_mm': 45, 'C3 scorey': 46, 'C3 cmeasx_mm': 47, 'C3 cscorex': 48, 'C3 cmeasy_mm': 49, 'C3 cscorey': 50, 'C3 x unwrap cnt': 51, 'C3 y unwrap cnt': 52, 'C3 post measx_mm': 53, 'C3 post measy_mm': 54, 'C3 post cmeasx_mm': 55, 'C3 post cmeasy_mm': 56}\n"
   ]
  },
  {
   "cell_type": "code",
   "execution_count": 96,
   "metadata": {},
   "outputs": [
    {
     "name": "stdout",
     "output_type": "stream",
     "text": [
      "count: 11594\n"
     ]
    }
   ],
   "source": [
    "ds = data_sets[5]  #Xiaoming thinks this one had spike...\n",
    "\n",
    "# for col_id in col_ids.keys():\n",
    "#     print(\"%s [%d]: %s\" % (col_id, col_ids[col_id], str(ds[15][4][col_ids[col_id]])))\n",
    "#     #print(\"%s: \" % (col_id))\n",
    "count =len(ds)\n",
    "print(\"count:\", count)\n",
    "\n",
    "# for idx, ds in enumerate(data_sets):\n",
    "#     print(\"[%d] len: %d\" %(idx, len(ds)))"
   ]
  },
  {
   "cell_type": "code",
   "execution_count": 88,
   "metadata": {},
   "outputs": [
    {
     "data": {
      "text/plain": [
       "(2, -0.0023709)"
      ]
     },
     "execution_count": 88,
     "metadata": {},
     "output_type": "execute_result"
    }
   ],
   "source": [
    "unwrap(-0.0003709, -0.002479, 0)"
   ]
  },
  {
   "cell_type": "code",
   "execution_count": 89,
   "metadata": {},
   "outputs": [
    {
     "data": {
      "text/plain": [
       "(2, -0.0023709)"
      ]
     },
     "execution_count": 89,
     "metadata": {},
     "output_type": "execute_result"
    }
   ],
   "source": [
    "unwrap(ds[15][col_ids['C3 measx_mm']], ds[15][col_ids['C3 cmeasx_mm']], ds[15][col_ids['C3 cscorex']])\n"
   ]
  },
  {
   "cell_type": "code",
   "execution_count": 90,
   "metadata": {
    "collapsed": true
   },
   "outputs": [],
   "source": [
    "df = pd.DataFrame.from_records(ds, columns=cols)"
   ]
  },
  {
   "cell_type": "code",
   "execution_count": 160,
   "metadata": {
    "scrolled": false
   },
   "outputs": [
    {
     "name": "stdout",
     "output_type": "stream",
     "text": [
      "-------------------------------------------------\n",
      "Dataset num: 0, template: 30167, XLu's note: Good\n",
      "valid x cnts: {0: 38, 1: 1, 2: 7, 3: 48, 4: 11614}\n",
      "valid y cnts: {0: 38, 1: 1, 2: 7, 3: 48, 4: 11614}\n",
      "C0 X min: -0.000911, max: +0.004016, mean: -0.000025, std: 0.000073\n",
      "C0 Y min: -0.003021, max: +0.000055, mean: +0.000015, std: 0.000055\n",
      "C1 X min: -0.004029, max: +0.000743, mean: -0.000033, std: 0.000071\n",
      "C1 Y min: -0.000043, max: +0.001955, mean: -0.000028, std: 0.000060\n",
      "C2 X min: -0.003020, max: +0.000985, mean: +0.000021, std: 0.000059\n",
      "C2 Y min: -0.003604, max: +0.002155, mean: -0.000026, std: 0.000124\n",
      "C3 X min: -0.001484, max: +0.000129, mean: +0.000010, std: 0.000061\n",
      "C3 Y min: -0.001450, max: +0.001988, mean: +0.000011, std: 0.000048\n",
      "-------------------------------------------------\n",
      "Dataset num: 1, template: 30169, XLu's note: Good\n",
      "valid x cnts: {0: 34, 1: 6, 2: 12, 3: 118, 4: 11426}\n",
      "valid y cnts: {0: 34, 1: 6, 2: 12, 3: 118, 4: 11426}\n",
      "C0 X min: -0.004077, max: +0.004003, mean: -0.000093, std: 0.000112\n",
      "C0 Y min: -0.003069, max: +0.004480, mean: -0.000019, std: 0.000092\n",
      "C1 X min: -0.003976, max: +0.001036, mean: +0.000001, std: 0.000067\n",
      "C1 Y min: -0.000103, max: +0.001921, mean: -0.000064, std: 0.000056\n",
      "C2 X min: -0.001030, max: +0.001906, mean: +0.000049, std: 0.000062\n",
      "C2 Y min: -0.003860, max: +0.004081, mean: +0.000010, std: 0.000078\n",
      "C3 X min: -0.001537, max: +0.000974, mean: -0.000053, std: 0.000059\n",
      "C3 Y min: -0.001478, max: +0.001021, mean: +0.000053, std: 0.000050\n",
      "-------------------------------------------------\n",
      "Dataset num: 2, template: 30170, XLu's note: Good\n",
      "valid x cnts: {0: 39, 1: 1, 2: 23, 3: 111, 4: 11533}\n",
      "valid y cnts: {0: 39, 1: 1, 2: 23, 3: 111, 4: 11533}\n",
      "C0 X min: -0.003852, max: +0.004234, mean: +0.000086, std: 0.000078\n",
      "C0 Y min: +0.000011, max: +0.000133, mean: +0.000125, std: 0.000003\n",
      "C1 X min: -0.001096, max: +0.000579, mean: -0.000167, std: 0.000055\n",
      "C1 Y min: +0.000072, max: +0.001134, mean: +0.000084, std: 0.000054\n",
      "C2 X min: -0.001031, max: +0.000795, mean: -0.000128, std: 0.000058\n",
      "C2 Y min: -0.000165, max: +0.003017, mean: -0.000145, std: 0.000137\n",
      "C3 X min: -0.001422, max: +0.001088, mean: +0.000125, std: 0.000057\n",
      "C3 Y min: -0.003195, max: +0.000838, mean: -0.000110, std: 0.000054\n",
      "-------------------------------------------------\n",
      "Dataset num: 3, template: 30171, XLu's note: Good\n",
      "valid x cnts: {0: 39, 1: 0, 2: 116, 3: 16, 4: 11427}\n",
      "valid y cnts: {0: 39, 1: 0, 2: 116, 3: 16, 4: 11427}\n",
      "C0 X min: -0.001915, max: +0.004149, mean: +0.000021, std: 0.000065\n",
      "C0 Y min: -0.001035, max: +0.000927, mean: +0.000074, std: 0.000017\n",
      "C1 X min: -0.004040, max: +0.000621, mean: -0.000065, std: 0.000062\n",
      "C1 Y min: +0.000032, max: +0.001041, mean: +0.000044, std: 0.000050\n",
      "C2 X min: -0.002700, max: +0.000186, mean: -0.000030, std: 0.000062\n",
      "C2 Y min: -0.000072, max: +0.001011, mean: -0.000057, std: 0.000020\n",
      "C3 X min: -0.004014, max: +0.000974, mean: +0.000047, std: 0.000067\n",
      "C3 Y min: -0.004073, max: +0.000079, mean: -0.000013, std: 0.000060\n",
      "-------------------------------------------------\n",
      "Dataset num: 4, template: 30172, XLu's note: Good\n",
      "valid x cnts: {0: 38, 1: 3, 2: 20, 3: 108, 4: 11540}\n",
      "valid y cnts: {0: 38, 1: 3, 2: 20, 3: 108, 4: 11540}\n",
      "C0 X min: -0.002059, max: +0.003910, mean: -0.000224, std: 0.000082\n",
      "C0 Y min: -0.003213, max: +0.004260, mean: -0.000143, std: 0.000066\n",
      "C1 X min: -0.003837, max: +0.001186, mean: +0.000095, std: 0.000076\n",
      "C1 Y min: -0.001069, max: +0.000889, mean: -0.000176, std: 0.000057\n",
      "C2 X min: -0.000967, max: +0.001028, mean: +0.000133, std: 0.000073\n",
      "C2 Y min: -0.002727, max: +0.004484, mean: +0.000098, std: 0.000233\n",
      "C3 X min: -0.001680, max: -0.000093, mean: -0.000200, std: 0.000057\n",
      "C3 Y min: -0.001450, max: +0.000160, mean: +0.000117, std: 0.000049\n",
      "-------------------------------------------------\n",
      "Dataset num: 5, template: 30173, XLu's note: Vibration\n",
      "valid x cnts: {0: 43, 1: 11534, 2: 17, 3: 0, 4: 0}\n",
      "valid y cnts: {0: 43, 1: 11534, 2: 17, 3: 0, 4: 0}\n",
      "C0 X min: -0.003308, max: +0.002991, mean: +0.001682, std: 0.002113\n",
      "C0 Y min: -0.003384, max: -0.000258, mean: -0.001261, std: 0.000989\n",
      "C1 X min: -0.003542, max: -0.003542, mean: -0.003542, std: nan\n",
      "C1 Y min: +0.001875, max: +0.001875, mean: +0.001875, std: nan\n",
      "C2 X min: +0.003403, max: +0.003403, mean: +0.003403, std: nan\n",
      "C2 Y min: +0.001092, max: +0.001092, mean: +0.001092, std: nan\n",
      "C3 X min: -0.003057, max: +0.003136, mean: -0.001773, std: 0.000082\n",
      "C3 Y min: -0.001408, max: +0.000278, mean: +0.000060, std: 0.000043\n",
      "-------------------------------------------------\n",
      "Dataset num: 6, template: 30174, XLu's note: Good\n",
      "valid x cnts: {0: 37, 1: 6, 2: 8, 3: 115, 4: 11542}\n",
      "valid y cnts: {0: 37, 1: 6, 2: 8, 3: 115, 4: 11542}\n",
      "C0 X min: -0.001946, max: +0.004065, mean: +0.000022, std: 0.000080\n",
      "C0 Y min: -0.003964, max: +0.004494, mean: +0.000093, std: 0.000287\n",
      "C1 X min: -0.000419, max: +0.000618, mean: -0.000092, std: 0.000058\n",
      "C1 Y min: -0.000007, max: +0.002131, mean: +0.000039, std: 0.000059\n",
      "C2 X min: -0.000708, max: +0.000531, mean: -0.000066, std: 0.000044\n",
      "C2 Y min: -0.003865, max: +0.002919, mean: -0.000071, std: 0.000051\n",
      "C3 X min: -0.001081, max: +0.004058, mean: +0.000033, std: 0.000068\n",
      "C3 Y min: -0.001519, max: +0.000275, mean: -0.000036, std: 0.000045\n",
      "-------------------------------------------------\n",
      "Dataset num: 7, template: 30175, XLu's note: Good\n",
      "valid x cnts: {0: 39, 1: 5, 2: 18, 3: 117, 4: 11083}\n",
      "valid y cnts: {0: 39, 1: 5, 2: 18, 3: 117, 4: 11083}\n",
      "C0 X min: -0.003993, max: +0.001037, mean: -0.000035, std: 0.000063\n",
      "C0 Y min: -0.002033, max: +0.002975, mean: +0.000019, std: 0.000035\n",
      "C1 X min: -0.004007, max: +0.000708, mean: -0.000021, std: 0.000080\n",
      "C1 Y min: -0.000106, max: +0.001029, mean: -0.000019, std: 0.000060\n",
      "C2 X min: -0.003500, max: +0.000124, mean: +0.000007, std: 0.000078\n",
      "C2 Y min: -0.003672, max: +0.004347, mean: -0.000018, std: 0.000162\n",
      "C3 X min: -0.001495, max: +0.004019, mean: -0.000001, std: 0.000074\n",
      "C3 Y min: -0.001467, max: +0.002976, mean: +0.000012, std: 0.000056\n",
      "-------------------------------------------------\n",
      "Dataset num: 8, template: 30176, XLu's note: Good\n",
      "valid x cnts: {0: 39, 1: 6, 2: 120, 3: 10, 4: 11537}\n",
      "valid y cnts: {0: 39, 1: 6, 2: 120, 3: 10, 4: 11537}\n",
      "C0 X min: -0.001934, max: +0.004077, mean: +0.000015, std: 0.000073\n",
      "C0 Y min: -0.001036, max: +0.004154, mean: +0.000035, std: 0.000056\n",
      "C1 X min: -0.004050, max: +0.000654, mean: -0.000062, std: 0.000071\n",
      "C1 Y min: -0.000235, max: +0.001056, mean: -0.000003, std: 0.000055\n",
      "C2 X min: -0.004001, max: +0.000099, mean: -0.000018, std: 0.000061\n",
      "C2 Y min: -0.002776, max: +0.002939, mean: -0.000088, std: 0.000043\n",
      "C3 X min: -0.001513, max: +0.000341, mean: +0.000050, std: 0.000062\n",
      "C3 Y min: -0.001493, max: -0.000021, mean: -0.000042, std: 0.000046\n",
      "-------------------------------------------------\n",
      "Dataset num: 9, template: 30177, XLu's note: Good\n",
      "valid x cnts: {0: 39, 1: 0, 2: 18, 3: 119, 4: 11533}\n",
      "valid y cnts: {0: 39, 1: 0, 2: 18, 3: 119, 4: 11533}\n",
      "C0 X min: -0.000165, max: +0.001555, mean: -0.000051, std: 0.000047\n",
      "C0 Y min: -0.001104, max: +0.003781, mean: +0.000035, std: 0.000046\n",
      "C1 X min: -0.004046, max: +0.001046, mean: -0.000049, std: 0.000079\n",
      "C1 Y min: -0.000943, max: +0.003095, mean: -0.000003, std: 0.000064\n",
      "C2 X min: -0.004433, max: +0.000091, mean: -0.000029, std: 0.000289\n",
      "C2 Y min: -0.000202, max: +0.002207, mean: -0.000005, std: 0.000115\n",
      "C3 X min: -0.001201, max: +0.000967, mean: -0.000018, std: 0.000060\n",
      "C3 Y min: -0.001489, max: +0.000216, mean: +0.000026, std: 0.000047\n",
      "-------------------------------------------------\n",
      "Dataset num: 10, template: 30178, XLu's note: Good\n",
      "valid x cnts: {0: 41, 1: 1, 2: 8, 3: 122, 4: 11431}\n",
      "valid y cnts: {0: 41, 1: 1, 2: 8, 3: 122, 4: 11431}\n",
      "C0 X min: -0.000170, max: +0.004071, mean: -0.000065, std: 0.000092\n",
      "C0 Y min: -0.004167, max: +0.000942, mean: -0.000003, std: 0.000064\n",
      "C1 X min: -0.004008, max: +0.000810, mean: -0.000013, std: 0.000067\n",
      "C1 Y min: -0.000237, max: +0.000950, mean: -0.000039, std: 0.000054\n",
      "C2 X min: -0.001128, max: +0.001024, mean: +0.000023, std: 0.000063\n",
      "C2 Y min: -0.002014, max: +0.001228, mean: -0.000004, std: 0.000066\n",
      "C3 X min: -0.001571, max: +0.000986, mean: -0.000033, std: 0.000061\n",
      "C3 Y min: -0.001450, max: +0.002995, mean: +0.000028, std: 0.000056\n",
      "-------------------------------------------------\n",
      "Dataset num: 11, template: 30179, XLu's note: Good\n",
      "valid x cnts: {0: 39, 1: 3, 2: 20, 3: 114, 4: 11534}\n",
      "valid y cnts: {0: 39, 1: 3, 2: 20, 3: 114, 4: 11534}\n",
      "C0 X min: -0.004077, max: +0.001958, mean: -0.000123, std: 0.000065\n",
      "C0 Y min: -0.000127, max: +0.003898, mean: -0.000001, std: 0.000037\n",
      "C1 X min: -0.004042, max: +0.000676, mean: -0.000031, std: 0.000079\n",
      "C1 Y min: -0.000244, max: +0.001129, mean: -0.000025, std: 0.000058\n",
      "C2 X min: -0.004177, max: +0.000126, mean: +0.000005, std: 0.000088\n",
      "C2 Y min: -0.000813, max: +0.001018, mean: +0.000043, std: 0.000056\n",
      "C3 X min: -0.001120, max: +0.000018, mean: -0.000100, std: 0.000059\n",
      "C3 Y min: -0.001435, max: +0.000164, mean: +0.000074, std: 0.000046\n"
     ]
    },
    {
     "name": "stdout",
     "output_type": "stream",
     "text": [
      "-------------------------------------------------\n",
      "Dataset num: 12, template: 30179, XLu's note: Good\n",
      "valid x cnts: {0: 39, 1: 6, 2: 58, 3: 63, 4: 11428}\n",
      "valid y cnts: {0: 39, 1: 6, 2: 58, 3: 63, 4: 11428}\n",
      "C0 X min: -0.003815, max: +0.004228, mean: +0.000155, std: 0.000143\n",
      "C0 Y min: -0.002220, max: +0.004218, mean: +0.000219, std: 0.000206\n",
      "C1 X min: -0.001128, max: +0.003850, mean: -0.000218, std: 0.000068\n",
      "C1 Y min: +0.000088, max: +0.001227, mean: +0.000183, std: 0.000052\n",
      "C2 X min: -0.002290, max: +0.003712, mean: -0.000186, std: 0.000085\n",
      "C2 Y min: -0.003976, max: +0.003793, mean: -0.000150, std: 0.000067\n",
      "C3 X min: -0.003882, max: +0.004119, mean: +0.000183, std: 0.000087\n",
      "C3 Y min: -0.004203, max: +0.002793, mean: -0.000119, std: 0.000062\n",
      "-------------------------------------------------\n",
      "Dataset num: 13, template: 30179, XLu's note: Good\n",
      "valid x cnts: {0: 34, 1: 2, 2: 87, 3: 42, 4: 11536}\n",
      "valid y cnts: {0: 34, 1: 2, 2: 87, 3: 42, 4: 11536}\n",
      "C0 X min: -0.004626, max: +0.000567, mean: +0.000330, std: 0.000088\n",
      "C0 Y min: -0.001832, max: +0.004142, mean: +0.000229, std: 0.000049\n",
      "C1 X min: -0.004214, max: +0.001412, mean: +0.000203, std: 0.000073\n",
      "C1 Y min: +0.000154, max: +0.001242, mean: +0.000211, std: 0.000053\n",
      "C2 X min: -0.001866, max: +0.002224, mean: +0.000234, std: 0.000057\n",
      "C2 Y min: -0.003845, max: +0.001296, mean: +0.000080, std: 0.000109\n",
      "C3 X min: -0.003701, max: +0.001311, mean: +0.000353, std: 0.000072\n",
      "C3 Y min: -0.001394, max: +0.004061, mean: +0.000115, std: 0.000058\n",
      "-------------------------------------------------\n",
      "Dataset num: 14, template: 30184, XLu's note: Good\n",
      "valid x cnts: {0: 37, 1: 4, 2: 7, 3: 12, 4: 11642}\n",
      "valid y cnts: {0: 37, 1: 4, 2: 7, 3: 12, 4: 11642}\n",
      "C0 X min: -0.000928, max: +0.001200, mean: +0.000087, std: 0.000044\n",
      "C0 Y min: -0.002919, max: +0.000170, mean: +0.000111, std: 0.000099\n",
      "C1 X min: -0.001426, max: +0.002929, mean: -0.000099, std: 0.000055\n",
      "C1 Y min: +0.000000, max: +0.004143, mean: +0.000099, std: 0.000074\n",
      "C2 X min: -0.004270, max: +0.002852, mean: -0.000083, std: 0.000136\n",
      "C2 Y min: -0.001040, max: +0.001789, mean: -0.000092, std: 0.000070\n",
      "C3 X min: -0.003985, max: +0.001082, mean: +0.000115, std: 0.000058\n",
      "C3 Y min: -0.004561, max: +0.001784, mean: -0.000064, std: 0.000067\n",
      "-------------------------------------------------\n",
      "Dataset num: 15, template: 30186, XLu's note: Good\n",
      "valid x cnts: {0: 37, 1: 2, 2: 10, 3: 64, 4: 1206}\n",
      "valid y cnts: {0: 37, 1: 2, 2: 10, 3: 64, 4: 1206}\n",
      "C0 X min: -0.001056, max: +0.000521, mean: -0.000113, std: 0.000122\n",
      "C0 Y min: -0.004057, max: +0.000128, mean: -0.000055, std: 0.000168\n",
      "C1 X min: +0.000056, max: +0.001375, mean: +0.000152, std: 0.000198\n",
      "C1 Y min: -0.000188, max: +0.001894, mean: +0.000016, std: 0.000305\n",
      "C2 X min: -0.003929, max: +0.003770, mean: +0.000189, std: 0.000480\n",
      "C2 Y min: -0.000335, max: +0.002514, mean: +0.000198, std: 0.000364\n",
      "C3 X min: -0.001446, max: +0.000142, mean: -0.000148, std: 0.000160\n",
      "C3 Y min: -0.002979, max: +0.000543, mean: +0.000026, std: 0.000549\n",
      "-------------------------------------------------\n",
      "Dataset num: 16, template: 30188, XLu's note: Good\n",
      "valid x cnts: {0: 38, 1: 4, 2: 5, 3: 12, 4: 11539}\n",
      "valid y cnts: {0: 38, 1: 4, 2: 5, 3: 12, 4: 11539}\n",
      "C0 X min: -0.000440, max: +0.000750, mean: -0.000015, std: 0.000043\n",
      "C0 Y min: -0.003987, max: +0.000197, mean: +0.000019, std: 0.000057\n",
      "C1 X min: -0.003481, max: +0.001006, mean: -0.000013, std: 0.000055\n",
      "C1 Y min: -0.000121, max: +0.003015, mean: -0.000010, std: 0.000059\n",
      "C2 X min: -0.004004, max: +0.002386, mean: +0.000029, std: 0.000120\n",
      "C2 Y min: -0.004413, max: +0.004141, mean: -0.000030, std: 0.000107\n",
      "C3 X min: -0.001100, max: +0.004565, mean: +0.000014, std: 0.000090\n",
      "C3 Y min: -0.001396, max: +0.001209, mean: +0.000014, std: 0.000045\n",
      "-------------------------------------------------\n",
      "Dataset num: 17, template: 30190, XLu's note: Good\n",
      "valid x cnts: {0: 39, 1: 4, 2: 15, 3: 19, 4: 11301}\n",
      "valid y cnts: {0: 39, 1: 4, 2: 15, 3: 19, 4: 11301}\n",
      "C0 X min: -0.000425, max: +0.001953, mean: -0.000063, std: 0.000053\n",
      "C0 Y min: -0.004028, max: +0.000192, mean: -0.000027, std: 0.000079\n",
      "C1 X min: -0.003380, max: +0.001138, mean: +0.000073, std: 0.000057\n",
      "C1 Y min: -0.000103, max: +0.002982, mean: -0.000047, std: 0.000074\n",
      "C2 X min: -0.003995, max: +0.001428, mean: +0.000118, std: 0.000073\n",
      "C2 Y min: -0.000728, max: +0.001079, mean: +0.000053, std: 0.000065\n",
      "C3 X min: -0.001064, max: +0.000953, mean: -0.000031, std: 0.000060\n",
      "C3 Y min: -0.003908, max: +0.001044, mean: +0.000084, std: 0.000074\n",
      "-------------------------------------------------\n",
      "Dataset num: 18, template: 30192, XLu's note: Good\n",
      "valid x cnts: {0: 34, 1: 4, 2: 1, 3: 17, 4: 11544}\n",
      "valid y cnts: {0: 34, 1: 4, 2: 1, 3: 17, 4: 11544}\n",
      "C0 X min: -0.000022, max: +0.001105, mean: -0.000015, std: 0.000046\n",
      "C0 Y min: -0.000873, max: +0.002935, mean: -0.000046, std: 0.000051\n",
      "C1 X min: +0.000027, max: +0.000915, mean: +0.000035, std: 0.000046\n",
      "C1 Y min: -0.000188, max: +0.001194, mean: -0.000066, std: 0.000065\n",
      "C2 X min: -0.004228, max: +0.004598, mean: +0.000060, std: 0.000189\n",
      "C2 Y min: -0.000886, max: +0.002963, mean: -0.000029, std: 0.000141\n",
      "C3 X min: -0.000705, max: +0.000036, mean: +0.000009, std: 0.000037\n",
      "C3 Y min: -0.000690, max: +0.000010, mean: -0.000012, std: 0.000037\n",
      "-------------------------------------------------\n",
      "Dataset num: 19, template: 30194, XLu's note: Good\n",
      "valid x cnts: {0: 40, 1: 8, 2: 96, 3: 27, 4: 11540}\n",
      "valid y cnts: {0: 40, 1: 8, 2: 96, 3: 27, 4: 11540}\n",
      "C0 X min: +0.000453, max: +0.003530, mean: +0.000518, std: 0.000055\n",
      "C0 Y min: -0.002516, max: -0.000512, mean: -0.000530, std: 0.000052\n",
      "C1 X min: -0.003373, max: +0.003329, mean: +0.001563, std: 0.000129\n",
      "C1 Y min: -0.000699, max: +0.004706, mean: -0.000555, std: 0.000183\n",
      "C2 X min: -0.002440, max: +0.002588, mean: +0.001614, std: 0.000093\n",
      "C2 Y min: -0.004063, max: +0.001355, mean: +0.000335, std: 0.000047\n",
      "C3 X min: -0.000709, max: +0.000578, mean: +0.000517, std: 0.000042\n",
      "C3 Y min: -0.001167, max: +0.001271, mean: +0.000368, std: 0.000044\n",
      "-------------------------------------------------\n",
      "Dataset num: 20, template: 30196, XLu's note: Good\n",
      "valid x cnts: {0: 40, 1: 2, 2: 9, 3: 116, 4: 11431}\n",
      "valid y cnts: {0: 40, 1: 2, 2: 9, 3: 116, 4: 11431}\n",
      "C0 X min: -0.001519, max: +0.000222, mean: -0.000510, std: 0.000040\n",
      "C0 Y min: -0.003821, max: +0.000285, mean: +0.000220, std: 0.000056\n",
      "C1 X min: -0.004005, max: +0.004018, mean: -0.000052, std: 0.000087\n",
      "C1 Y min: -0.004247, max: +0.002433, mean: +0.000202, std: 0.000117\n",
      "C2 X min: -0.003091, max: +0.000926, mean: -0.000000, std: 0.000031\n",
      "C2 Y min: +0.000477, max: +0.002667, mean: +0.000570, std: 0.000021\n",
      "C3 X min: -0.001712, max: +0.002506, mean: -0.000480, std: 0.000100\n",
      "C3 Y min: -0.004458, max: +0.000679, mean: +0.000605, std: 0.000111\n",
      "-------------------------------------------------\n",
      "Dataset num: 21, template: 30198, XLu's note: Good\n",
      "valid x cnts: {0: 29, 1: 1, 2: 22, 3: 89, 4: 11451}\n",
      "valid y cnts: {0: 29, 1: 1, 2: 22, 3: 89, 4: 11451}\n",
      "C0 X min: -0.004124, max: +0.000945, mean: -0.000161, std: 0.000081\n",
      "C0 Y min: -0.003596, max: +0.004564, mean: +0.000072, std: 0.000070\n",
      "C1 X min: -0.003989, max: +0.004208, mean: -0.000009, std: 0.000095\n",
      "C1 Y min: -0.003841, max: +0.001049, mean: +0.000045, std: 0.000147\n",
      "C2 X min: -0.003953, max: +0.000932, mean: +0.000033, std: 0.000057\n",
      "C2 Y min: -0.002798, max: +0.001877, mean: +0.000183, std: 0.000067\n",
      "C3 X min: -0.001641, max: +0.003837, mean: -0.000135, std: 0.000088\n",
      "C3 Y min: -0.001314, max: +0.004168, mean: +0.000207, std: 0.000063\n",
      "-------------------------------------------------\n",
      "Dataset num: 22, template: 30271, XLu's note: Spike\n",
      "valid x cnts: {0: 35, 1: 3, 2: 5, 3: 17, 4: 11649}\n",
      "valid y cnts: {0: 35, 1: 3, 2: 5, 3: 17, 4: 11649}\n",
      "C0 X min: -0.000113, max: +0.000802, mean: -0.000012, std: 0.000046\n",
      "C0 Y min: -0.002949, max: +0.000082, mean: +0.000054, std: 0.000062\n",
      "C1 X min: -0.003861, max: +0.003415, mean: -0.000013, std: 0.000075\n",
      "C1 Y min: -0.000317, max: +0.004077, mean: +0.000033, std: 0.000070\n",
      "C2 X min: -0.003992, max: +0.003947, mean: +0.000020, std: 0.000094\n",
      "C2 Y min: -0.003954, max: +0.002079, mean: +0.000022, std: 0.000143\n",
      "C3 X min: -0.000979, max: +0.004460, mean: +0.000008, std: 0.000055\n",
      "C3 Y min: -0.002392, max: +0.000154, mean: +0.000040, std: 0.000063\n"
     ]
    },
    {
     "name": "stdout",
     "output_type": "stream",
     "text": [
      "-------------------------------------------------\n",
      "Dataset num: 23, template: 30273, XLu's note: Good\n",
      "valid x cnts: {0: 37, 1: 4, 2: 7, 3: 38, 4: 11519}\n",
      "valid y cnts: {0: 37, 1: 4, 2: 7, 3: 38, 4: 11519}\n",
      "C0 X min: -0.000351, max: +0.000780, mean: -0.000003, std: 0.000044\n",
      "C0 Y min: -0.001926, max: +0.000139, mean: +0.000076, std: 0.000061\n",
      "C1 X min: -0.003987, max: +0.003971, mean: -0.000021, std: 0.000068\n",
      "C1 Y min: -0.000829, max: +0.000820, mean: +0.000063, std: 0.000052\n",
      "C2 X min: -0.004027, max: +0.002870, mean: +0.000006, std: 0.000094\n",
      "C2 Y min: -0.003434, max: +0.004067, mean: +0.000036, std: 0.000125\n",
      "C3 X min: -0.000730, max: +0.003975, mean: +0.000012, std: 0.000067\n",
      "C3 Y min: -0.002027, max: +0.002162, mean: +0.000047, std: 0.000067\n",
      "-------------------------------------------------\n",
      "Dataset num: 24, template: 30275, XLu's note: Good\n",
      "valid x cnts: {0: 37, 1: 4, 2: 5, 3: 53, 4: 11608}\n",
      "valid y cnts: {0: 37, 1: 4, 2: 5, 3: 53, 4: 11608}\n",
      "C0 X min: -0.000005, max: +0.000873, mean: +0.000006, std: 0.000053\n",
      "C0 Y min: -0.001966, max: +0.000052, mean: +0.000045, std: 0.000053\n",
      "C1 X min: -0.003998, max: +0.004042, mean: -0.000028, std: 0.000096\n",
      "C1 Y min: -0.000221, max: +0.003820, mean: +0.000025, std: 0.000071\n",
      "C2 X min: -0.002017, max: +0.001043, mean: +0.000005, std: 0.000093\n",
      "C2 Y min: -0.000317, max: +0.003046, mean: -0.000010, std: 0.000122\n",
      "C3 X min: -0.002918, max: +0.004098, mean: +0.000021, std: 0.000070\n",
      "C3 Y min: -0.000758, max: +0.000435, mean: +0.000003, std: 0.000050\n",
      "-------------------------------------------------\n",
      "Dataset num: 25, template: 30277, XLu's note: Good\n",
      "valid x cnts: {0: 34, 1: 8, 2: 10, 3: 21, 4: 11636}\n",
      "valid y cnts: {0: 34, 1: 8, 2: 10, 3: 21, 4: 11636}\n",
      "C0 X min: -0.002902, max: +0.003598, mean: +0.000025, std: 0.000115\n",
      "C0 Y min: -0.001995, max: +0.004381, mean: +0.000090, std: 0.000083\n",
      "C1 X min: -0.004023, max: +0.000924, mean: -0.000056, std: 0.000099\n",
      "C1 Y min: -0.000166, max: +0.000982, mean: +0.000062, std: 0.000050\n",
      "C2 X min: -0.003270, max: +0.000976, mean: -0.000027, std: 0.000162\n",
      "C2 Y min: -0.000376, max: +0.004355, mean: -0.000013, std: 0.000113\n",
      "C3 X min: -0.004002, max: +0.000737, mean: +0.000044, std: 0.000113\n",
      "C3 Y min: -0.001252, max: +0.000072, mean: +0.000000, std: 0.000069\n",
      "-------------------------------------------------\n",
      "Dataset num: 26, template: 30279, XLu's note: Spike\n",
      "valid x cnts: {0: 39, 1: 7, 2: 3, 3: 23, 4: 11526}\n",
      "valid y cnts: {0: 39, 1: 7, 2: 3, 3: 23, 4: 11526}\n",
      "C0 X min: -0.000937, max: +0.004319, mean: -0.000006, std: 0.000099\n",
      "C0 Y min: -0.004146, max: +0.004518, mean: +0.000073, std: 0.000118\n",
      "C1 X min: -0.004020, max: +0.000761, mean: -0.000019, std: 0.000075\n",
      "C1 Y min: -0.000898, max: +0.001056, mean: +0.000041, std: 0.000054\n",
      "C2 X min: -0.000878, max: +0.004617, mean: +0.000019, std: 0.000068\n",
      "C2 Y min: -0.000988, max: +0.001045, mean: +0.000007, std: 0.000050\n",
      "C3 X min: -0.002823, max: +0.001176, mean: +0.000021, std: 0.000049\n",
      "C3 Y min: -0.001133, max: +0.000861, mean: +0.000030, std: 0.000058\n",
      "-------------------------------------------------\n",
      "Dataset num: 27, template: 30281, XLu's note: Good\n",
      "valid x cnts: {0: 37, 1: 9, 2: 13, 3: 103, 4: 11431}\n",
      "valid y cnts: {0: 37, 1: 9, 2: 13, 3: 103, 4: 11431}\n",
      "C0 X min: -0.002999, max: +0.002941, mean: -0.000033, std: 0.000150\n",
      "C0 Y min: -0.002182, max: +0.001767, mean: +0.000097, std: 0.000167\n",
      "C1 X min: -0.003916, max: +0.001752, mean: +0.000051, std: 0.000208\n",
      "C1 Y min: -0.001341, max: +0.001067, mean: +0.000067, std: 0.000178\n",
      "C2 X min: -0.000625, max: +0.003095, mean: +0.000099, std: 0.000172\n",
      "C2 Y min: -0.001797, max: +0.002182, mean: +0.000124, std: 0.000163\n",
      "C3 X min: -0.001051, max: +0.001102, mean: -0.000001, std: 0.000145\n",
      "C3 Y min: -0.002461, max: +0.002211, mean: +0.000149, std: 0.000207\n",
      "-------------------------------------------------\n",
      "Dataset num: 28, template: 30283, XLu's note: Good\n",
      "valid x cnts: {0: 35, 1: 6, 2: 5, 3: 12, 4: 11537}\n",
      "valid y cnts: {0: 35, 1: 6, 2: 5, 3: 12, 4: 11537}\n",
      "C0 X min: -0.003017, max: +0.004162, mean: -0.000017, std: 0.000162\n",
      "C0 Y min: -0.003679, max: +0.000930, mean: -0.000007, std: 0.000092\n",
      "C1 X min: -0.000571, max: +0.000865, mean: -0.000030, std: 0.000063\n",
      "C1 Y min: -0.000991, max: +0.000928, mean: -0.000064, std: 0.000063\n",
      "C2 X min: -0.003962, max: +0.003060, mean: +0.000026, std: 0.000071\n",
      "C2 Y min: -0.004005, max: +0.003020, mean: -0.000078, std: 0.000073\n",
      "C3 X min: -0.002784, max: +0.004333, mean: +0.000033, std: 0.000069\n",
      "C3 Y min: -0.002134, max: +0.001883, mean: -0.000024, std: 0.000062\n",
      "-------------------------------------------------\n",
      "Dataset num: 29, template: 30285, XLu's note: Good\n",
      "valid x cnts: {0: 17, 1: 10, 2: 4, 3: 8, 4: 11659}\n",
      "valid y cnts: {0: 17, 1: 10, 2: 4, 3: 8, 4: 11659}\n",
      "C0 X min: -0.003919, max: +0.004287, mean: +0.000032, std: 0.000165\n",
      "C0 Y min: -0.001742, max: +0.001218, mean: +0.000061, std: 0.000079\n",
      "C1 X min: -0.004052, max: +0.001144, mean: -0.000071, std: 0.000117\n",
      "C1 Y min: -0.000691, max: +0.001124, mean: +0.000015, std: 0.000082\n",
      "C2 X min: -0.003925, max: +0.001210, mean: -0.000026, std: 0.000112\n",
      "C2 Y min: -0.004042, max: +0.001535, mean: -0.000062, std: 0.000084\n",
      "C3 X min: -0.002835, max: +0.001334, mean: +0.000080, std: 0.000125\n",
      "C3 Y min: -0.001667, max: +0.000991, mean: -0.000011, std: 0.000084\n"
     ]
    }
   ],
   "source": [
    "# from collections import OrderedDict\n",
    "\n",
    "for idx, ds in enumerate(data_sets):\n",
    "    validx = {0:0, 1:0, 2:0, 3:0, 4:0}\n",
    "    validy = {0:0, 1:0, 2:0, 3:0, 4:0}\n",
    "    validx_records = []\n",
    "    validy_records = []\n",
    "    for d in ds:\n",
    "        x = 4-(d[col_ids['C0 cscorex']] + d[col_ids['C1 cscorex']] + d[col_ids['C2 cscorex']] + d[col_ids['C3 cscorex']])\n",
    "        if x not in validx:\n",
    "            validx[x] = 0\n",
    "        else:\n",
    "            validx[x] += 1\n",
    "\n",
    "        y = 4-(d[col_ids['C0 cscorey']] + d[col_ids['C1 cscorey']] + d[col_ids['C2 cscorey']] + d[col_ids['C3 cscorey']])\n",
    "        if y not in validy:\n",
    "            validy[y] = 0\n",
    "        else:\n",
    "            validy[y] += 1\n",
    "\n",
    "    df = pd.DataFrame.from_records(ds, columns=cols)\n",
    "    df_c0x = df['C0 post measx_mm']\n",
    "    df_c0y = df['C0 post measy_mm']\n",
    "    df_c1x = df['C1 post measx_mm']\n",
    "    df_c1y = df['C1 post measy_mm']\n",
    "    df_c2x = df['C2 post measx_mm']\n",
    "    df_c2y = df['C2 post measy_mm']\n",
    "    df_c3x = df['C3 post measx_mm']\n",
    "    df_c3y = df['C3 post measy_mm']\n",
    "\n",
    "    #     if d[col_ids['C0 cscorex']] == 0: validx_cnt += 1\n",
    "    #     if d[col_ids['C1 cscorex']] == 0: validx_cnt += 1\n",
    "    #     if d[col_ids['C2 cscorex']] == 0: validx_cnt += 1\n",
    "    #     if d[col_ids['C3 cscorex']] == 0: validx_cnt += 1\n",
    "    #     if d[col_ids['C0 cscorey']] == 0: validy_cnt += 1\n",
    "    #     if d[col_ids['C1 cscorey']] == 0: validy_cnt += 1\n",
    "    #     if d[col_ids['C2 cscorey']] == 0: validy_cnt += 1\n",
    "    #     if d[col_ids['C3 cscorey']] == 0: validy_cnt += 1\n",
    "    \n",
    "    print(\"-------------------------------------------------\")\n",
    "    print(\"Dataset num: %d, template: %d, XLu's note: %s\" % (idx, ds_keys[idx][0], ds_keys[idx][1]))\n",
    "    print(\"valid x cnts:\", validx)\n",
    "    print(\"valid y cnts:\", validy)\n",
    "    print(\"C0 X min: %+f, max: %+f, mean: %+f, std: %f\" % (df_c0x.min(), df_c0x.max(), df_c0x.mean(),df_c0x.std()))\n",
    "    print(\"C0 Y min: %+f, max: %+f, mean: %+f, std: %f\" % (df_c0y.min(), df_c0y.max(), df_c0y.mean(),df_c0y.std()))\n",
    "    print(\"C1 X min: %+f, max: %+f, mean: %+f, std: %f\" % (df_c1x.min(), df_c1x.max(), df_c1x.mean(),df_c1x.std()))\n",
    "    print(\"C1 Y min: %+f, max: %+f, mean: %+f, std: %f\" % (df_c1y.min(), df_c1y.max(), df_c1y.mean(),df_c1y.std()))\n",
    "    print(\"C2 X min: %+f, max: %+f, mean: %+f, std: %f\" % (df_c2x.min(), df_c2x.max(), df_c2x.mean(),df_c2x.std()))\n",
    "    print(\"C2 Y min: %+f, max: %+f, mean: %+f, std: %f\" % (df_c2y.min(), df_c2y.max(), df_c2y.mean(),df_c2y.std()))\n",
    "    print(\"C3 X min: %+f, max: %+f, mean: %+f, std: %f\" % (df_c3x.min(), df_c3x.max(), df_c3x.mean(),df_c3x.std()))\n",
    "    print(\"C3 Y min: %+f, max: %+f, mean: %+f, std: %f\" % (df_c3y.min(), df_c3y.max(), df_c3y.mean(),df_c3y.std()))\n"
   ]
  },
  {
   "cell_type": "code",
   "execution_count": 157,
   "metadata": {
    "scrolled": true
   },
   "outputs": [
    {
     "data": {
      "text/plain": [
       "0.0021132943633522688"
      ]
     },
     "execution_count": 157,
     "metadata": {},
     "output_type": "execute_result"
    }
   ],
   "source": [
    "df_c0x =df['C0 post measx_mm']\n",
    "df_c0x.std()\n",
    "#des.std()"
   ]
  },
  {
   "cell_type": "code",
   "execution_count": 82,
   "metadata": {},
   "outputs": [
    {
     "data": {
      "text/plain": [
       "[<matplotlib.lines.Line2D at 0x125d7c898>]"
      ]
     },
     "execution_count": 82,
     "metadata": {},
     "output_type": "execute_result"
    },
    {
     "data": {
      "image/png": "[encoded data removed]",
      "text/plain": [
       "<matplotlib.figure.Figure at 0x1264294e0>"
      ]
     },
     "metadata": {},
     "output_type": "display_data"
    },
    {
     "data": {
      "image/png": "[encoded data removed]",
      "text/plain": [
       "<matplotlib.figure.Figure at 0x12627d9b0>"
      ]
     },
     "metadata": {},
     "output_type": "display_data"
    },
    {
     "data": {
      "image/png": "[encoded data removed]",
      "text/plain": [
       "<matplotlib.figure.Figure at 0x12611b240>"
      ]
     },
     "metadata": {},
     "output_type": "display_data"
    },
    {
     "data": {
      "image/png": "[encoded data removed]",
      "text/plain": [
       "<matplotlib.figure.Figure at 0x125e3b7f0>"
      ]
     },
     "metadata": {},
     "output_type": "display_data"
    }
   ],
   "source": [
    "plt.figure(figsize=(20,2))\n",
    "plt.plot(df['C0 post measx_mm'], color='r')\n",
    "plt.plot(df['C0 post measy_mm'], color='b')\n",
    "plt.figure(figsize=(20,2))\n",
    "plt.plot(df['C1 post measx_mm'], color='r')\n",
    "plt.plot(df['C1 post measy_mm'], color='b')\n",
    "plt.figure(figsize=(20,2))\n",
    "plt.plot(df['C2 post measx_mm'], color='r')\n",
    "plt.plot(df['C2 post measy_mm'], color='b')\n",
    "plt.figure(figsize=(20,2))\n",
    "plt.plot(df['C3 post measx_mm'], color='r')\n",
    "plt.plot(df['C3 post measy_mm'], color='b')\n",
    "# plt.vlines(rt_peakIdx, 0, np.max(patch_diff) + 25, color='r')\n",
    "#plt.title('TTM Data')\n"
   ]
  },
  {
   "cell_type": "code",
   "execution_count": 73,
   "metadata": {},
   "outputs": [
    {
     "data": {
      "text/plain": [
       "[<matplotlib.lines.Line2D at 0x126b572e8>]"
      ]
     },
     "execution_count": 73,
     "metadata": {},
     "output_type": "execute_result"
    },
    {
     "data": {
      "image/png": "[encoded data removed]",
      "text/plain": [
       "<matplotlib.figure.Figure at 0x12681a0b8>"
      ]
     },
     "metadata": {},
     "output_type": "display_data"
    },
    {
     "data": {
      "image/png": "[encoded data removed]",
      "text/plain": [
       "<matplotlib.figure.Figure at 0x1269e0a90>"
      ]
     },
     "metadata": {},
     "output_type": "display_data"
    },
    {
     "data": {
      "image/png": "[encoded data removed]",
      "text/plain": [
       "<matplotlib.figure.Figure at 0x126a71f28>"
      ]
     },
     "metadata": {},
     "output_type": "display_data"
    },
    {
     "data": {
      "image/png": "[encoded data removed]",
      "text/plain": [
       "<matplotlib.figure.Figure at 0x126b49ac8>"
      ]
     },
     "metadata": {},
     "output_type": "display_data"
    }
   ],
   "source": [
    "plt.figure(figsize=(20,2))\n",
    "plt.plot(df['C0 measx_mm'], color='r')\n",
    "plt.plot(df['C0 measy_mm'], color='b')\n",
    "plt.figure(figsize=(20,2))\n",
    "plt.plot(df['C1 measx_mm'], color='r')\n",
    "plt.plot(df['C1 measy_mm'], color='b')\n",
    "plt.figure(figsize=(20,2))\n",
    "plt.plot(df['C2 measx_mm'], color='r')\n",
    "plt.plot(df['C2 measy_mm'], color='b')\n",
    "plt.figure(figsize=(20,2))\n",
    "plt.plot(df['C3 measx_mm'], color='r')\n",
    "plt.plot(df['C3 measy_mm'], color='b')\n"
   ]
  },
  {
   "cell_type": "code",
   "execution_count": 61,
   "metadata": {},
   "outputs": [
    {
     "data": {
      "text/plain": [
       "11594"
      ]
     },
     "execution_count": 61,
     "metadata": {},
     "output_type": "execute_result"
    }
   ],
   "source": [
    "len(df['C0 cscorex'])"
   ]
  },
  {
   "cell_type": "code",
   "execution_count": 65,
   "metadata": {},
   "outputs": [
    {
     "data": {
      "image/png": "[encoded data removed]",
      "text/plain": [
       "<matplotlib.figure.Figure at 0x123927080>"
      ]
     },
     "metadata": {},
     "output_type": "display_data"
    }
   ],
   "source": [
    "def f(t):\n",
    "    return np.exp(-t) * np.cos(2*np.pi*t)\n",
    "\n",
    "t1 = np.arange(0.0, 5.0, 0.1)\n",
    "t2 = np.arange(0.0, 5.0, 0.02)\n",
    "\n",
    "plt.figure(1)\n",
    "plt.subplot(211)\n",
    "plt.plot(t1, f(t1), 'bo', t2, f(t2), 'k')\n",
    "\n",
    "plt.subplot(212)\n",
    "plt.plot(t2, np.cos(2*np.pi*t2), 'r--')\n",
    "plt.show()\n"
   ]
  },
  {
   "cell_type": "code",
   "execution_count": null,
   "metadata": {
    "collapsed": true
   },
   "outputs": [],
   "source": []
  }
 ],
 "metadata": {
  "kernelspec": {
   "display_name": "Python 2",
   "language": "python",
   "name": "python2"
  },
  "language_info": {
   "codemirror_mode": {
    "name": "ipython",
    "version": 3
   },
   "file_extension": ".py",
   "mimetype": "text/x-python",
   "name": "python",
   "nbconvert_exporter": "python",
   "pygments_lexer": "ipython3",
   "version": "3.6.1"
  }
 },
 "nbformat": 4,
 "nbformat_minor": 2
}
