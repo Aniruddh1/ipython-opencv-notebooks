{
 "cells": [
  {
   "cell_type": "code",
   "execution_count": 1,
   "metadata": {
    "collapsed": true
   },
   "outputs": [],
   "source": [
    "%matplotlib inline\n",
    "import time\n",
    "import datetime\n",
    "import cv2\n",
    "import numpy as np\n",
    "from matplotlib import pyplot as plt\n",
    "import pandas as pd\n",
    "\n",
    "import sys\n",
    "sys.path.append('../scripts')\n",
    "import util"
   ]
  },
  {
   "cell_type": "code",
   "execution_count": 58,
   "metadata": {
    "collapsed": false
   },
   "outputs": [
    {
     "data": {
      "text/plain": [
       "245430"
      ]
     },
     "execution_count": 58,
     "metadata": {},
     "output_type": "execute_result"
    }
   ],
   "source": [
    "fname = '/home/trafferty/tmp/TTMLogStream_2017_05_17.csv'\n",
    "f = open(fname, 'r')\n",
    "ttm = f.readlines()\n",
    "f.close()\n",
    "len(ttm)"
   ]
  },
  {
   "cell_type": "code",
   "execution_count": 105,
   "metadata": {
    "collapsed": false
   },
   "outputs": [
    {
     "name": "stdout",
     "output_type": "stream",
     "text": [
      "{'cmeasx_mm': 4, 'scorey': 3, 'scorex': 1, 'post measx_mm': 10, 'post cmeasy_mm': 13, 'post measy_mm': 11, 'cscorex': 5, 'measx_mm': 0, 'cmeasy_mm': 6, 'measy_mm': 2, 'post cmeasx_mm': 12, 'x unwrap cnt': 8, 'cscorey': 7, 'y unwrap cnt': 9}\n"
     ]
    }
   ],
   "source": [
    "cols = ['TS', ['measx_mm','scorex', 'measy_mm','scorey','cmeasx_mm','cscorex','cmeasy_mm','cscorey', 'x unwrap cnt', 'y unwrap cnt', 'post measx_mm', 'post measy_mm', 'post cmeasx_mm', 'post cmeasy_mm']]\n",
    "col_ids = {}\n",
    "for idx, col in enumerate(cols[1]):\n",
    "    col_ids[col] = idx\n",
    "print(col_ids)"
   ]
  },
  {
   "cell_type": "code",
   "execution_count": 86,
   "metadata": {
    "collapsed": false
   },
   "outputs": [],
   "source": [
    "def parse_into_data_sets(data):\n",
    "    data_ranges = []\n",
    "    max_delta = 1\n",
    "    start = 0\n",
    "    for idx, d in enumerate(data):\n",
    "        if idx == 0:\n",
    "            d_prev = d\n",
    "        else:\n",
    "            ts1 = d_prev.split(',')[0][-23:]\n",
    "            ts2 = d.split(',')[0][-23:]\n",
    "            dt1 = datetime.datetime.strptime(ts1, \"%Y-%m-%d %H:%M:%S.%f\")\n",
    "            dt2 = datetime.datetime.strptime(ts2, \"%Y-%m-%d %H:%M:%S.%f\")\n",
    "            s1 =time.mktime(dt1.timetuple()) + (dt1.microsecond / 1000000.0)\n",
    "            s2 =time.mktime(dt2.timetuple()) + (dt2.microsecond / 1000000.0)\n",
    "            #delta = float(d.split(',')[0][-6:]) - float(d_prev.split(',')[0][-6:])\n",
    "            delta = s2 - s1\n",
    "            if delta > max_delta:\n",
    "                end = idx - 1\n",
    "                data_ranges.append((start, end))\n",
    "                start = idx\n",
    "            d_prev = d\n",
    "    data_ranges.append((start, idx))\n",
    "    len(data_ranges)\n",
    "\n",
    "    data_sets = []\n",
    "    for idx, data_range in enumerate(data_ranges):\n",
    "        data_sets.append(data[data_range[0]:data_range[1]])\n",
    "        print(\"Data set %d, range: %d - %d (total: %d)\" % (idx, data_range[0], data_range[1], (data_range[1]-data_range[0])))\n",
    "        \n",
    "    for idx, ds in enumerate(data_sets):\n",
    "        print(\"[%d] range: %s -> %s\" % ( idx, ds[0].split(',')[0], ds[-1].split(',')[0]))\n",
    "        \n",
    "    return data_ranges, data_sets\n",
    "\n",
    "def cleanup_and_format_data_set_old(data_sets):\n",
    "    data_sets_formated = []\n",
    "    for idx, d in enumerate(ds):\n",
    "        data_set_new = []\n",
    "        data_set = d.split(',')\n",
    "        #print(idx)\n",
    "        data_set_new.append(data_set[0][17:])\n",
    "        data_set_new.append(float(data_set[2]))                 \n",
    "        data_set_new.append(int(data_set[3]))                   \n",
    "        data_set_new.append(float(data_set[4]))                 \n",
    "        data_set_new.append(int(data_set[5]))                   \n",
    "        data_set_new.append(float(data_set[6]))                 \n",
    "        data_set_new.append(int(data_set[7]))\n",
    "        data_set_new.append(float(data_set[8]))                 \n",
    "        data_set_new.append(int(data_set[9]))                   \n",
    "        data_set_new.append((data_set[10].count('0') - 1) * -1)\n",
    "        data_set_new.append((data_set[11].count('0') - 1) * -1)\n",
    "        data_set_new.append(float(data_set[13]))                \n",
    "        data_set_new.append(float(data_set[14]))                \n",
    "        data_set_new.append(float(data_set[15]))                \n",
    "        data_set_new.append(float(data_set[16]))                \n",
    "        data_set_new.append(float(data_set[18]))                \n",
    "        data_set_new.append(int(data_set[19]))                  \n",
    "        data_set_new.append(float(data_set[20]))                \n",
    "        data_set_new.append(int(data_set[21]))                  \n",
    "        data_set_new.append(float(data_set[22]))                \n",
    "        data_set_new.append(int(data_set[23]))                  \n",
    "        data_set_new.append(float(data_set[24]))                \n",
    "        data_set_new.append(int(data_set[25]))                  \n",
    "        data_set_new.append((data_set[26].count('0') - 1) * -1)\n",
    "        data_set_new.append((data_set[27].count('0') - 1) * -1)\n",
    "        data_set_new.append(float(data_set[29]))                \n",
    "        data_set_new.append(float(data_set[30]))                \n",
    "        data_set_new.append(float(data_set[31]))                \n",
    "        data_set_new.append(float(data_set[32]))                \n",
    "        data_set_new.append(float(data_set[34]))                \n",
    "        data_set_new.append(int(data_set[35]))                  \n",
    "        data_set_new.append(float(data_set[36]))                \n",
    "        data_set_new.append(int(data_set[37]))                  \n",
    "        data_set_new.append(float(data_set[38]))                \n",
    "        data_set_new.append(int(data_set[39]))                  \n",
    "        data_set_new.append(float(data_set[40]))                \n",
    "        data_set_new.append(int(data_set[41]))                  \n",
    "        data_set_new.append((data_set[42].count('0') - 1) * -1)\n",
    "        data_set_new.append((data_set[43].count('0') - 1) * -1)\n",
    "        data_set_new.append(float(data_set[45]))                \n",
    "        data_set_new.append(float(data_set[46]))                \n",
    "        data_set_new.append(float(data_set[47]))                \n",
    "        data_set_new.append(float(data_set[48]))                \n",
    "        data_set_new.append(float(data_set[50]))                \n",
    "        data_set_new.append(int(data_set[51]))                  \n",
    "        data_set_new.append(float(data_set[52]))                \n",
    "        data_set_new.append(int(data_set[53]))                  \n",
    "        data_set_new.append(float(data_set[54]))                \n",
    "        data_set_new.append(int(data_set[55]))                  \n",
    "        data_set_new.append(float(data_set[56]))                \n",
    "        data_set_new.append(int(data_set[57]))                  \n",
    "        data_set_new.append((data_set[58].count('0') - 1) * -1)\n",
    "        data_set_new.append((data_set[59].count('0') - 1) * -1)\n",
    "        data_set_new.append(float(data_set[61]))                \n",
    "        data_set_new.append(float(data_set[62]))                \n",
    "        data_set_new.append(float(data_set[63]))                \n",
    "        data_set_new.append(float(data_set[64]))\n",
    "        data_sets_formated.append(data_set_new)\n",
    "    return data_sets_formated\n",
    "        \n",
    "def cleanup_and_format_data_set(data_sets):\n",
    "    data_sets_formated = []\n",
    "    for idx, data_set_str in enumerate(data_sets):\n",
    "        data_set_new = []\n",
    "        data_set = data_set_str.split(',')\n",
    "        #print(idx)\n",
    "        \n",
    "        data_set_new.append(data_set[0][17:])\n",
    "\n",
    "        cam1_data = []\n",
    "        cam1_data.append(float(data_set[2]))                 \n",
    "        cam1_data.append(int(data_set[3]))                   \n",
    "        cam1_data.append(float(data_set[4]))                 \n",
    "        cam1_data.append(int(data_set[5]))                   \n",
    "        cam1_data.append(float(data_set[6]))                 \n",
    "        cam1_data.append(int(data_set[7]))\n",
    "        cam1_data.append(float(data_set[8]))                 \n",
    "        cam1_data.append(int(data_set[9]))                   \n",
    "        cam1_data.append((data_set[10].count('0') - 1) * -1)\n",
    "        cam1_data.append((data_set[11].count('0') - 1) * -1)\n",
    "        cam1_data.append(float(data_set[13]))                \n",
    "        cam1_data.append(float(data_set[14]))                \n",
    "        cam1_data.append(float(data_set[15]))                \n",
    "        cam1_data.append(float(data_set[16]))\n",
    "        data_set_new.append(cam1_data)\n",
    "        \n",
    "        cam2_data = []\n",
    "        cam2_data.append(float(data_set[18]))                \n",
    "        cam2_data.append(int(data_set[19]))   \n",
    "        cam2_data.append(float(data_set[20]))                \n",
    "        cam2_data.append(int(data_set[21]))                  \n",
    "        cam2_data.append(float(data_set[22]))                \n",
    "        cam2_data.append(int(data_set[23]))                  \n",
    "        cam2_data.append(float(data_set[24]))                \n",
    "        cam2_data.append(int(data_set[25]))                  \n",
    "        cam2_data.append((data_set[26].count('0') - 1) * -1)\n",
    "        cam2_data.append((data_set[27].count('0') - 1) * -1)\n",
    "        cam2_data.append(float(data_set[29]))                \n",
    "        cam2_data.append(float(data_set[30]))                \n",
    "        cam2_data.append(float(data_set[31]))                \n",
    "        cam2_data.append(float(data_set[32]))\n",
    "        data_set_new.append(cam2_data)\n",
    "        \n",
    "        cam3_data = []\n",
    "        cam3_data.append(float(data_set[34]))                \n",
    "        cam3_data.append(int(data_set[35]))                  \n",
    "        cam3_data.append(float(data_set[36]))                \n",
    "        cam3_data.append(int(data_set[37]))                  \n",
    "        cam3_data.append(float(data_set[38]))                \n",
    "        cam3_data.append(int(data_set[39]))                  \n",
    "        cam3_data.append(float(data_set[40]))                \n",
    "        cam3_data.append(int(data_set[41]))                  \n",
    "        cam3_data.append((data_set[42].count('0') - 1) * -1)\n",
    "        cam3_data.append((data_set[43].count('0') - 1) * -1)\n",
    "        cam3_data.append(float(data_set[45]))                \n",
    "        cam3_data.append(float(data_set[46]))                \n",
    "        cam3_data.append(float(data_set[47]))                \n",
    "        cam3_data.append(float(data_set[48]))\n",
    "        data_set_new.append(cam3_data)\n",
    "        \n",
    "        cam4_data = []\n",
    "        cam4_data.append(float(data_set[50]))                \n",
    "        cam4_data.append(int(data_set[51]))                  \n",
    "        cam4_data.append(float(data_set[52]))                \n",
    "        cam4_data.append(int(data_set[53]))                  \n",
    "        cam4_data.append(float(data_set[54]))                \n",
    "        cam4_data.append(int(data_set[55]))                  \n",
    "        cam4_data.append(float(data_set[56]))                \n",
    "        cam4_data.append(int(data_set[57]))                  \n",
    "        cam4_data.append((data_set[58].count('0') - 1) * -1)\n",
    "        cam4_data.append((data_set[59].count('0') - 1) * -1)\n",
    "        cam4_data.append(float(data_set[61]))                \n",
    "        cam4_data.append(float(data_set[62]))                \n",
    "        cam4_data.append(float(data_set[63]))                \n",
    "        cam4_data.append(float(data_set[64]))\n",
    "        data_set_new.append(cam4_data)\n",
    "        \n",
    "        data_sets_formated.append(data_set_new)\n",
    "    return data_sets_formated"
   ]
  },
  {
   "cell_type": "code",
   "execution_count": 87,
   "metadata": {
    "collapsed": false,
    "scrolled": false
   },
   "outputs": [
    {
     "name": "stdout",
     "output_type": "stream",
     "text": [
      "Data set 0, range: 0 - 11708 (total: 11708)\n",
      "Data set 1, range: 11709 - 23305 (total: 11596)\n",
      "Data set 2, range: 23306 - 35013 (total: 11707)\n",
      "Data set 3, range: 35014 - 46612 (total: 11598)\n",
      "Data set 4, range: 46613 - 58322 (total: 11709)\n",
      "Data set 5, range: 58323 - 69917 (total: 11594)\n",
      "Data set 6, range: 69918 - 81626 (total: 11708)\n",
      "Data set 7, range: 81627 - 92889 (total: 11262)\n",
      "Data set 8, range: 92890 - 104602 (total: 11712)\n",
      "Data set 9, range: 104603 - 116312 (total: 11709)\n",
      "Data set 10, range: 116313 - 127916 (total: 11603)\n",
      "Data set 11, range: 127917 - 139627 (total: 11710)\n",
      "Data set 12, range: 139628 - 151222 (total: 11594)\n",
      "Data set 13, range: 151223 - 162924 (total: 11701)\n",
      "Data set 14, range: 162925 - 174627 (total: 11702)\n",
      "Data set 15, range: 174628 - 175947 (total: 1319)\n",
      "Data set 16, range: 175948 - 187546 (total: 11598)\n",
      "Data set 17, range: 187547 - 198925 (total: 11378)\n",
      "Data set 18, range: 198926 - 210526 (total: 11600)\n",
      "Data set 19, range: 210527 - 222238 (total: 11711)\n",
      "Data set 20, range: 222239 - 233837 (total: 11598)\n",
      "Data set 21, range: 233838 - 245429 (total: 11591)\n",
      "[0] range: doTTMClientWork: 2017-05-17 08:57:01.341 -> doTTMClientWork: 2017-05-17 08:57:31.746\n",
      "[1] range: doTTMClientWork: 2017-05-17 09:05:40.650 -> doTTMClientWork: 2017-05-17 09:06:11.054\n",
      "[2] range: doTTMClientWork: 2017-05-17 09:07:02.770 -> doTTMClientWork: 2017-05-17 09:07:33.175\n",
      "[3] range: doTTMClientWork: 2017-05-17 09:08:26.082 -> doTTMClientWork: 2017-05-17 09:08:56.491\n",
      "[4] range: doTTMClientWork: 2017-05-17 09:10:44.584 -> doTTMClientWork: 2017-05-17 09:11:14.991\n",
      "[5] range: doTTMClientWork: 2017-05-17 09:15:49.784 -> doTTMClientWork: 2017-05-17 09:16:20.185\n",
      "[6] range: doTTMClientWork: 2017-05-17 09:19:34.150 -> doTTMClientWork: 2017-05-17 09:20:04.555\n",
      "[7] range: doTTMClientWork: 2017-05-17 09:21:23.082 -> doTTMClientWork: 2017-05-17 09:21:53.493\n",
      "[8] range: doTTMClientWork: 2017-05-17 09:23:25.722 -> doTTMClientWork: 2017-05-17 09:23:56.137\n",
      "[9] range: doTTMClientWork: 2017-05-17 09:24:50.412 -> doTTMClientWork: 2017-05-17 09:25:20.822\n",
      "[10] range: doTTMClientWork: 2017-05-17 09:26:14.967 -> doTTMClientWork: 2017-05-17 09:26:45.380\n",
      "[11] range: doTTMClientWork: 2017-05-17 09:28:23.864 -> doTTMClientWork: 2017-05-17 09:28:54.273\n",
      "[12] range: doTTMClientWork: 2017-05-17 09:30:41.649 -> doTTMClientWork: 2017-05-17 09:31:12.050\n",
      "[13] range: doTTMClientWork: 2017-05-17 09:32:14.303 -> doTTMClientWork: 2017-05-17 09:32:44.689\n",
      "[14] range: doTTMClientWork: 2017-05-17 11:48:00.453 -> doTTMClientWork: 2017-05-17 11:48:30.842\n",
      "[15] range: doTTMClientWork: 2017-05-17 11:54:55.012 -> doTTMClientWork: 2017-05-17 11:54:58.428\n",
      "[16] range: doTTMClientWork: 2017-05-17 12:07:19.221 -> doTTMClientWork: 2017-05-17 12:07:49.628\n",
      "[17] range: doTTMClientWork: 2017-05-17 12:54:58.756 -> doTTMClientWork: 2017-05-17 12:55:29.191\n",
      "[18] range: doTTMClientWork: 2017-05-17 13:10:09.276 -> doTTMClientWork: 2017-05-17 13:10:39.685\n",
      "[19] range: doTTMClientWork: 2017-05-17 13:18:14.062 -> doTTMClientWork: 2017-05-17 13:18:44.475\n",
      "[20] range: doTTMClientWork: 2017-05-17 13:24:55.918 -> doTTMClientWork: 2017-05-17 13:25:26.325\n",
      "[21] range: doTTMClientWork: 2017-05-17 13:32:14.912 -> doTTMClientWork: 2017-05-17 13:32:45.298\n"
     ]
    }
   ],
   "source": [
    "data_ranges, data_sets_rough = parse_into_data_sets(ttm)"
   ]
  },
  {
   "cell_type": "code",
   "execution_count": 83,
   "metadata": {
    "collapsed": false
   },
   "outputs": [
    {
     "name": "stdout",
     "output_type": "stream",
     "text": [
      "{64: 245408}\n"
     ]
    }
   ],
   "source": [
    "c = {}\n",
    "for idx, ds in enumerate(data_sets_rough):\n",
    "    for d in ds:\n",
    "        cnt = d.count(',')\n",
    "        if cnt not in c:\n",
    "            c[cnt] = 1\n",
    "        else:\n",
    "            c[cnt] += 1\n",
    "print(c)"
   ]
  },
  {
   "cell_type": "code",
   "execution_count": 88,
   "metadata": {
    "collapsed": false,
    "scrolled": true
   },
   "outputs": [],
   "source": [
    "data_sets = []\n",
    "for idx, ds in enumerate(data_sets_rough):\n",
    "    data_sets.append(cleanup_and_format_data_set(ds))"
   ]
  },
  {
   "cell_type": "code",
   "execution_count": 82,
   "metadata": {
    "collapsed": false
   },
   "outputs": [
    {
     "name": "stdout",
     "output_type": "stream",
     "text": [
      "{57: 245408}\n"
     ]
    }
   ],
   "source": [
    "c = {}\n",
    "for idx, ds in enumerate(data_sets):\n",
    "    for d in ds:\n",
    "        #cnt = d.count(',')\n",
    "        cnt = len(d)\n",
    "        if cnt not in c:\n",
    "            c[cnt] = 1\n",
    "        else:\n",
    "            c[cnt] += 1\n",
    "print(c)"
   ]
  },
  {
   "cell_type": "code",
   "execution_count": 114,
   "metadata": {
    "collapsed": true
   },
   "outputs": [],
   "source": [
    "numCams = 4"
   ]
  },
  {
   "cell_type": "code",
   "execution_count": 113,
   "metadata": {
    "collapsed": false
   },
   "outputs": [
    {
     "name": "stdout",
     "output_type": "stream",
     "text": [
      "cmeasx_mm [4]: -0.002479\n",
      "scorey [3]: 0\n",
      "scorex [1]: 0\n",
      "post measx_mm [10]: -0.0023709\n",
      "post cmeasy_mm [13]: -0.000621\n",
      "post measy_mm [11]: -0.0005212\n",
      "cscorex [5]: 0\n",
      "measx_mm [0]: -0.0003709\n",
      "cmeasy_mm [6]: -0.000621\n",
      "measy_mm [2]: -0.0005212\n",
      "post cmeasx_mm [12]: -0.002479\n",
      "x unwrap cnt [8]: 1\n",
      "cscorey [7]: 0\n",
      "y unwrap cnt [9]: 0\n"
     ]
    },
    {
     "data": {
      "text/plain": [
       "['2017-05-17 09:15:49.815',\n",
       " [0.001, 1, 0.001, 1, 0.0, 1, 0.0, 1, -1, -1, nan, nan, 0.0, 0.0],\n",
       " [0.001, 1, 0.001, 1, 0.0, 1, 0.0, 1, -1, -1, nan, nan, 0.0, 0.0],\n",
       " [0.001, 1, 0.001, 1, 0.0, 1, 0.0, 1, -1, -1, nan, nan, 0.0, 0.0],\n",
       " [-0.0003709,\n",
       "  0,\n",
       "  -0.0005212,\n",
       "  0,\n",
       "  -0.002479,\n",
       "  0,\n",
       "  -0.000621,\n",
       "  0,\n",
       "  1,\n",
       "  0,\n",
       "  -0.0023709,\n",
       "  -0.0005212,\n",
       "  -0.002479,\n",
       "  -0.000621]]"
      ]
     },
     "execution_count": 113,
     "metadata": {},
     "output_type": "execute_result"
    }
   ],
   "source": [
    "ds = data_sets[5]  #Xiaoming thinks this one had spike...\n",
    "\n",
    "for col_id in col_ids.keys():\n",
    "    print(\"%s [%d]: %s\" % (col_id, col_ids[col_id], str(ds[15][4][col_ids[col_id]])))\n",
    "    #print(\"%s: \" % (col_id))\n",
    "ds[15]"
   ]
  },
  {
   "cell_type": "code",
   "execution_count": 121,
   "metadata": {
    "collapsed": true
   },
   "outputs": [],
   "source": [
    "TTM_MoirePeriod_mm = 0.001\n",
    "TTM_CoarseOffset_mm = 0\n",
    "\n",
    "def unwrap(meas_mm, cmeas_mm, cscore):\n",
    "    cnt = 0\n",
    "    if cscore > 0:\n",
    "        meas_mm = -np.nan\n",
    "    else:\n",
    "        err = cmeas_mm + TTM_CoarseOffset_mm - meas_mm\n",
    "        while (np.fabs(err) > 0.5*TTM_MoirePeriod_mm) and (cnt < 4):\n",
    "            if err > 0.0:\n",
    "                meas_mm += TTM_MoirePeriod_mm\n",
    "            else:\n",
    "                meas_mm -= TTM_MoirePeriod_mm\n",
    "\n",
    "            err = cmeas_mm + TTM_CoarseOffset_mm - meas_mm\n",
    "            cnt += 1\n",
    "    return cnt, meas_mm"
   ]
  },
  {
   "cell_type": "code",
   "execution_count": 122,
   "metadata": {
    "collapsed": false
   },
   "outputs": [
    {
     "data": {
      "text/plain": [
       "(2, -0.0023709)"
      ]
     },
     "execution_count": 122,
     "metadata": {},
     "output_type": "execute_result"
    }
   ],
   "source": [
    "unwrap(-0.0003709, -0.002479, 0)"
   ]
  },
  {
   "cell_type": "code",
   "execution_count": 123,
   "metadata": {
    "collapsed": false
   },
   "outputs": [
    {
     "data": {
      "text/plain": [
       "(2, -0.0023709)"
      ]
     },
     "execution_count": 123,
     "metadata": {},
     "output_type": "execute_result"
    }
   ],
   "source": [
    "unwrap(ds[15][4][col_ids['measx_mm']], ds[15][4][col_ids['cmeasx_mm']], ds[15][4][col_ids['cscorex']])\n"
   ]
  },
  {
   "cell_type": "code",
   "execution_count": null,
   "metadata": {
    "collapsed": true
   },
   "outputs": [],
   "source": [
    "plt.figure(figsize=(10*2,5))\n",
    "plt.plot(chan1[190:], color='b')\n",
    "plt.plot(chan2[190:], color='g')\n",
    "plt.plot(chan3[190:], color='r')\n",
    "# plt.vlines(lt_peakIdx, 0, np.max(patch_diff) + 25, color='r')\n",
    "# plt.vlines(rt_peakIdx, 0, np.max(patch_diff) + 25, color='r')\n",
    "plt.title('HLS mean values from center ROI')\n"
   ]
  }
 ],
 "metadata": {
  "kernelspec": {
   "display_name": "Python [conda root]",
   "language": "python",
   "name": "conda-root-py"
  },
  "language_info": {
   "codemirror_mode": {
    "name": "ipython",
    "version": 3
   },
   "file_extension": ".py",
   "mimetype": "text/x-python",
   "name": "python",
   "nbconvert_exporter": "python",
   "pygments_lexer": "ipython3",
   "version": "3.5.2"
  }
 },
 "nbformat": 4,
 "nbformat_minor": 2
}
