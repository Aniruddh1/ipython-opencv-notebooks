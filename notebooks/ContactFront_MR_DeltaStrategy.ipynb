{
 "cells": [
  {
   "cell_type": "code",
   "execution_count": 1,
   "metadata": {
    "collapsed": false
   },
   "outputs": [],
   "source": [
    "%matplotlib inline\n",
    "%load_ext autoreload\n",
    "%autoreload 2\n",
    "import cv2\n",
    "import scipy.ndimage\n",
    "import numpy as np\n",
    "from matplotlib import pyplot as plt\n",
    "import util\n",
    "import glob\n",
    "\n",
    "from scipy import signal\n",
    "import math\n",
    "import collections\n",
    "\n",
    "verbose = False"
   ]
  },
  {
   "cell_type": "code",
   "execution_count": 2,
   "metadata": {
    "collapsed": false
   },
   "outputs": [
    {
     "name": "stdout",
     "output_type": "stream",
     "text": [
      "Read 20 images from ../projects/contact_front/MR_NewCam\n"
     ]
    }
   ],
   "source": [
    "image_folder_lst = ['../projects/contact_front/MR_NewCam']\n",
    "eng = util.Image_Engine(image_folder_lst, '2015-08-04_DFI28-*.png', doSort=True, color=True)\n",
    "\n",
    "print \"Read %d images from %s\" % (eng.cnt(), image_folder_lst[0])"
   ]
  },
  {
   "cell_type": "code",
   "execution_count": null,
   "metadata": {
    "collapsed": true
   },
   "outputs": [],
   "source": [
    "def deltaImage(bg_img, fg_img, thresh_val):\n",
    "    bg_img = cv2.GaussianBlur(bg_img, (5, 5), 0)\n",
    "    bg_img_gray = cv2.cvtColor(bg_img, cv2.COLOR_BGR2GRAY)\n",
    "    #avg = bg_img.copy().astype(\"float\")\n",
    "    \n",
    "    img = cv2.cvtColor(fg_img, cv2.COLOR_BGR2HSV)\n",
    "    chan = cv2.split(img)[2]\n",
    "    chan_blurred = cv2.medianBlur(chan, 5)\n",
    "\n",
    "    delta_image = cv2.absdiff(bg_img_gray, chan_blurred)\n",
    "    #img_thresh = cv2.adaptiveThreshold(delta_image, 255, cv2.ADAPTIVE_THRESH_GAUSSIAN_C, cv2.THRESH_BINARY_INV, 7, 5)\n",
    "    ret,delta_image_thresh = cv2.threshold(delta_image, thresh_val, 255, cv2.THRESH_BINARY)\n",
    "    return delta_image_thresh\n",
    "\n",
    "def calulateDeltaRatio(img1, img2):\n",
    "    img1_gray = cv2.cvtColor(img1, cv2.COLOR_BGR2GRAY)\n",
    "    img2_gray = cv2.cvtColor(img2, cv2.COLOR_BGR2GRAY)\n",
    "    \n",
    "    delta_img = deltaImage(bg_img, fg_img, 5)\n",
    "    #blue_chan_mean = np.abs(np.mean(blue_chan))\n",
    "    hist = np.bincount(delta_img.ravel(),minlength=256)\n",
    "    ratio = float(hist[-1])/float(hist[0])\n",
    "    return hist[0], hist[-1], ratio, delta_img"
   ]
  },
  {
   "cell_type": "code",
   "execution_count": null,
   "metadata": {
    "collapsed": false
   },
   "outputs": [],
   "source": [
    "fg_num = 6\n",
    "bg_img = eng.images[fg_num-1].copy()\n",
    "fg_img = eng.images[fg_num].copy()\n",
    "\n",
    "# #delta_img = cv2.absdiff(bg_img, fg_img)\n",
    "# delta_img = deltaImage(bg_img, fg_img, 5)\n",
    "\n",
    "# hist = np.bincount(delta_img.ravel(),minlength=256)\n",
    "# plt.plot(hist)\n",
    "\n",
    "# blacks = hist[0]\n",
    "# whites = hist[-1]\n",
    "# ratio = float(whites)/float(blacks)\n",
    "\n",
    "blacks, whites, ratio, delta_img = calulateDeltaRatio(bg_img, fg_img)\n",
    "\n",
    "print (\"blacks: %d, whites: %d, ratio: %.5f\" % (blacks, whites, ratio))\n",
    "\n",
    "util.plot_imgs([(bg_img, 'Background Image'), (fg_img, 'Raw Image'), (delta_img, 'Delta Image')], color=False)"
   ]
  },
  {
   "cell_type": "code",
   "execution_count": 5,
   "metadata": {
    "collapsed": false
   },
   "outputs": [
    {
     "name": "stderr",
     "output_type": "stream",
     "text": [
      "/usr/local/lib/python2.7/dist-packages/IPython/kernel/__main__.py:14: FutureWarning: comparison to `None` will result in an elementwise object comparison in the future.\n"
     ]
    },
    {
     "ename": "KeyboardInterrupt",
     "evalue": "",
     "output_type": "error",
     "traceback": [
      "\u001b[1;31m---------------------------------------------------------------------------\u001b[0m",
      "\u001b[1;31mKeyboardInterrupt\u001b[0m                         Traceback (most recent call last)",
      "\u001b[1;32m<ipython-input-5-1526dd29bcfa>\u001b[0m in \u001b[0;36m<module>\u001b[1;34m()\u001b[0m\n\u001b[0;32m      8\u001b[0m \u001b[0mratios\u001b[0m \u001b[1;33m=\u001b[0m \u001b[1;33m[\u001b[0m\u001b[1;33m]\u001b[0m\u001b[1;33m\u001b[0m\u001b[0m\n\u001b[0;32m      9\u001b[0m \u001b[1;32mwhile\u001b[0m\u001b[1;33m(\u001b[0m\u001b[0mcap\u001b[0m\u001b[1;33m.\u001b[0m\u001b[0misOpened\u001b[0m\u001b[1;33m(\u001b[0m\u001b[1;33m)\u001b[0m\u001b[1;33m)\u001b[0m\u001b[1;33m:\u001b[0m\u001b[1;33m\u001b[0m\u001b[0m\n\u001b[1;32m---> 10\u001b[1;33m     \u001b[0mret\u001b[0m\u001b[1;33m,\u001b[0m \u001b[0mnew_img\u001b[0m \u001b[1;33m=\u001b[0m \u001b[0mcap\u001b[0m\u001b[1;33m.\u001b[0m\u001b[0mread\u001b[0m\u001b[1;33m(\u001b[0m\u001b[1;33m)\u001b[0m\u001b[1;33m\u001b[0m\u001b[0m\n\u001b[0m\u001b[0;32m     11\u001b[0m     \u001b[0mcnt\u001b[0m \u001b[1;33m+=\u001b[0m \u001b[1;36m1\u001b[0m\u001b[1;33m\u001b[0m\u001b[0m\n\u001b[0;32m     12\u001b[0m \u001b[1;33m\u001b[0m\u001b[0m\n",
      "\u001b[1;31mKeyboardInterrupt\u001b[0m: "
     ]
    }
   ],
   "source": [
    "video_file_path = '/data/projects/contact_front/MR_NewCam/2015-08-04_DFI28.mp4'\n",
    "\n",
    "cap = cv2.VideoCapture(video_file_path)\n",
    "\n",
    "cnt = 0\n",
    "prev_img = None\n",
    "\n",
    "ratios = []\n",
    "while(cap.isOpened()):\n",
    "    ret, new_img = cap.read()\n",
    "    cnt += 1\n",
    "    \n",
    "    if ret:\n",
    "        if prev_img == None:\n",
    "            prev_img = new_img\n",
    "            continue\n",
    "\n",
    "        blacks, whites, ratio, d = calulateDeltaRatio(prev_img, new_img)\n",
    "        ratios.append(ratio)\n",
    "cap.release()\n",
    "print \"Processing complete, extracted/analyzed \", cnt, \" images...\"\n",
    "print \"Found \", len(ratios), \" data pts:\"\n",
    "plt.figure(figsize=(10*2,5))\n",
    "plt.plot(ratios, color='b')\n",
    "plt.title('RGB mean values from center ROI')"
   ]
  },
  {
   "cell_type": "markdown",
   "metadata": {
    "collapsed": true
   },
   "source": [
    "### "
   ]
  }
 ],
 "metadata": {
  "kernelspec": {
   "display_name": "Python 2",
   "language": "python",
   "name": "python2"
  },
  "language_info": {
   "codemirror_mode": {
    "name": "ipython",
    "version": 2
   },
   "file_extension": ".py",
   "mimetype": "text/x-python",
   "name": "python",
   "nbconvert_exporter": "python",
   "pygments_lexer": "ipython2",
   "version": "2.7.6"
  }
 },
 "nbformat": 4,
 "nbformat_minor": 0
}
