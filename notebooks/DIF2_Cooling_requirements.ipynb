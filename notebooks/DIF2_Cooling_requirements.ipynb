{
 "cells": [
  {
   "cell_type": "markdown",
   "metadata": {},
   "source": [
    "'''\n",
    "PowerEdge R520  159w  542.5 btu/h\n",
    "PowerEdge 2950  306w  1044.11\n",
    "PowerEdge 1750  346w  1180.60\n",
    "PowerEdge 1850  440w  1501.34\n",
    "\n",
    "1) Divide the wattage by the efficiency, found in the Technical Product Specification (TPS). Our example server shows 91% efficiency when running at 100% load; 750/0.91 = 824 Watts consumed\n",
    "2) Multiply the Watts consumed by 3.41214 to get BTU/h. Our example is: 824*3.41214~=2,812 BTU/h\n",
    "'''"
   ]
  },
  {
   "cell_type": "code",
   "execution_count": 2,
   "metadata": {
    "collapsed": true
   },
   "outputs": [],
   "source": [
    "BTU_per_hour_to_watts = 0.293\n",
    "Watts_to_BTU_per_hour = 3.41214\n",
    "Tons_to_watts = 35309\n",
    "Watts_to_tons = 0.000283"
   ]
  },
  {
   "cell_type": "code",
   "execution_count": 7,
   "metadata": {},
   "outputs": [
    {
     "name": "stdout",
     "output_type": "stream",
     "text": [
      "R7910 BTU/hr: 4167.777778\n"
     ]
    }
   ],
   "source": [
    "r7910_ps_watts = 1100\n",
    "r7910_ps_efficiency = 0.90\n",
    "\n",
    "r7910_watts_consumed = r7910_ps_watts / r7910_ps_efficiency\n",
    "r7910_BTU_per_hour = r7910_watts_consumed * Watts_to_BTU_per_hour\n",
    "print(\"R7910 BTU/hr: %f\" % r7910_BTU_per_hour)"
   ]
  },
  {
   "cell_type": "code",
   "execution_count": 12,
   "metadata": {},
   "outputs": [
    {
     "name": "stdout",
     "output_type": "stream",
     "text": [
      "DIF2 total BTU per hour: 4212.107778\n"
     ]
    }
   ],
   "source": [
    "DIF2 = {}\n",
    "DIF2[\"Dell_R7910\"] = r7910_BTU_per_hour\n",
    "DIF2[\"Quantel_head\"] = 1 * Watts_to_BTU_per_hour\n",
    "DIF2[\"Quantel_ICE\"]  = 1 * Watts_to_BTU_per_hour\n",
    "DIF2[\"Andor_camera\"]  = 1 * Watts_to_BTU_per_hour\n",
    "DIF2[\"Ximea_camera\"]  = 1 * Watts_to_BTU_per_hour\n",
    "DIF2[\"Scale\"]  = 1 * Watts_to_BTU_per_hour\n",
    "DIF2[\"X-Y-Stage\"]  = 1 * Watts_to_BTU_per_hour\n",
    "DIF2[\"ULC_LED\"]  = 1 * Watts_to_BTU_per_hour\n",
    "DIF2[\"ULC_Camera\"]  = 1 * Watts_to_BTU_per_hour\n",
    "DIF2[\"Switch\"]  = 1 * Watts_to_BTU_per_hour\n",
    "DIF2[\"USB Hub\"]  = 1 * Watts_to_BTU_per_hour\n",
    "DIF2[\"Spincore_PB\"]  = 1 * Watts_to_BTU_per_hour\n",
    "DIF2[\"Monitors \"]  = 1 * Watts_to_BTU_per_hour\n",
    "DIF2[\"UPS\"]  = 1 * Watts_to_BTU_per_hour\n",
    "\n",
    "total_BTU_per_hour = 0\n",
    "for key in DIF2:\n",
    "    total_BTU_per_hour += DIF2[key]\n",
    "\n",
    "print(\"DIF2 total BTU per hour: %f\" % total_BTU_per_hour)\n"
   ]
  },
  {
   "cell_type": "code",
   "execution_count": null,
   "metadata": {
    "collapsed": true
   },
   "outputs": [],
   "source": []
  }
 ],
 "metadata": {
  "kernelspec": {
   "display_name": "Python 3",
   "language": "python",
   "name": "python3"
  },
  "language_info": {
   "codemirror_mode": {
    "name": "ipython",
    "version": 3
   },
   "file_extension": ".py",
   "mimetype": "text/x-python",
   "name": "python",
   "nbconvert_exporter": "python",
   "pygments_lexer": "ipython3",
   "version": "3.5.4"
  }
 },
 "nbformat": 4,
 "nbformat_minor": 2
}
