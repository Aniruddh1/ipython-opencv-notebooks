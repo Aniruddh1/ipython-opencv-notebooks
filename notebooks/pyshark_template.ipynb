{
 "cells": [
  {
   "cell_type": "code",
   "execution_count": 1,
   "metadata": {
    "collapsed": false
   },
   "outputs": [
    {
     "data": {
      "text/html": [
       "\n",
       "<style>\n",
       "    div#notebook-container    { width: 95%; }\n",
       "    div#menubar-container     { width: 65%; }\n",
       "    div#maintoolbar-container { width: 99%; }\n",
       "</style>\n"
      ],
      "text/plain": [
       "<IPython.core.display.HTML object>"
      ]
     },
     "metadata": {},
     "output_type": "display_data"
    }
   ],
   "source": [
    "%matplotlib inline\n",
    "import pyshark\n",
    "\n",
    "import numpy as np\n",
    "from matplotlib import pyplot as plt\n",
    "\n",
    "import os\n",
    "import sys\n",
    "import paths\n",
    "sys.path.append(paths.scripts_root)\n",
    "import util\n",
    "\n",
    "from IPython.display import display, HTML\n",
    "display(HTML(data=\"\"\"\n",
    "<style>\n",
    "    div#notebook-container    { width: 95%; }\n",
    "    div#menubar-container     { width: 65%; }\n",
    "    div#maintoolbar-container { width: 99%; }\n",
    "</style>\n",
    "\"\"\"))"
   ]
  },
  {
   "cell_type": "code",
   "execution_count": 16,
   "metadata": {
    "collapsed": false
   },
   "outputs": [
    {
     "data": {
      "text/plain": [
       "<FileCapture /home/trafferty/tmp/20170818_imprint2-14.pcap>"
      ]
     },
     "execution_count": 16,
     "metadata": {},
     "output_type": "execute_result"
    }
   ],
   "source": [
    "from os.path import expanduser\n",
    "\n",
    "tmp_dir = '%s/tmp' % (expanduser(\"~\"))\n",
    "\n",
    "cap = pyshark.FileCapture('%s/20170818_imprint2-14.pcap' % (tmp_dir))\n",
    "cap"
   ]
  },
  {
   "cell_type": "code",
   "execution_count": 30,
   "metadata": {
    "collapsed": false
   },
   "outputs": [
    {
     "name": "stdout",
     "output_type": "stream",
     "text": [
      "Packet (Length: 126)\n",
      "Layer ETH:\n",
      "\t.... ..0. .... .... .... .... = LG bit: Globally unique address (factory default)\n",
      "\tDestination: 90:e2:ba:73:60:1f (90:e2:ba:73:60:1f)\n",
      "\t.... ...0 .... .... .... .... = IG bit: Individual address (unicast)\n",
      "\tType: IP (0x0800)\n",
      "\tSource: 00:1b:1b:42:d9:90 (00:1b:1b:42:d9:90)\n",
      "\tAddress: 90:e2:ba:73:60:1f (90:e2:ba:73:60:1f)\n",
      "\t.... ..0. .... .... .... .... = LG bit: Globally unique address (factory default)\n",
      "\t.... ...0 .... .... .... .... = IG bit: Individual address (unicast)\n",
      "\tAddress: 00:1b:1b:42:d9:90 (00:1b:1b:42:d9:90)\n",
      "Layer IP:\n",
      "\t0... .... = Reserved bit: Not set\n",
      "\tDifferentiated Services Field: 0x00 (DSCP 0x00: Default; ECN: 0x00: Not-ECT (Not ECN-Capable Transport))\n",
      "\tSource GeoIP: Unknown\n",
      "\tTime to live: 128\n",
      "\t..0. .... = More fragments: Not set\n",
      "\tHeader checksum: 0x5cad [validation disabled]\n",
      "\tBad: False\n",
      "\tTotal Length: 112\n",
      "\t.0.. .... = Don't fragment: Not set\n",
      "\t0000 00.. = Differentiated Services Codepoint: Default (0x00)\n",
      "\tDestination: 192.168.2.1 (192.168.2.1)\n",
      "\tProtocol: UDP (17)\n",
      "\tSource: 192.168.2.11 (192.168.2.11)\n",
      "\tHeader Length: 20 bytes\n",
      "\tGood: False\n",
      "\t.... ..00 = Explicit Congestion Notification: Not-ECT (Not ECN-Capable Transport) (0x00)\n",
      "\tIdentification: 0x5873 (22643)\n",
      "\tVersion: 4\n",
      "\tFragment offset: 0\n",
      "\tFlags: 0x00\n",
      "\tDestination GeoIP: Unknown\n",
      "Layer UDP:\n",
      "\tGood Checksum: False\n",
      "\tStream index: 2\n",
      "\tLength: 92\n",
      "\tChecksum: 0xa755 [validation disabled]\n",
      "\tSource Port: 5259 (5259)\n",
      "\tDestination Port: 5259 (5259)\n",
      "\tBad Checksum: False\n",
      "DATADATALayer TTM:\n",
      "\tCoarse status      : (0, 0) (0, 0) (0, 0) (0, 0)\n",
      "\tCoarse offset (nm) : (-5, 152) (-138, 7) (3, -131) (76, 106)\n",
      "\tFine offset (nm)   : (4.4, 6) (-2.5, -5.2) (2.5, 5.3) (-0.7, -5.7)\n",
      "\tFine status        : (0, 0) (0, 0) (0, 0) (0, 0)\n",
      "\tCam Time Stamp (ms): 140.14 (2.60), 452.81 (2.60), 774.73 (2.60), 439.69 (2.60)\n",
      "\tPacket Delta (ms)  : 0.929\n",
      "\tSerial Number      : 5326 (delta: 1)\n",
      "\n"
     ]
    }
   ],
   "source": [
    "print (cap[91452])"
   ]
  },
  {
   "cell_type": "code",
   "execution_count": 31,
   "metadata": {
    "collapsed": true
   },
   "outputs": [],
   "source": [
    "tt = cap[91452]\n"
   ]
  },
  {
   "cell_type": "code",
   "execution_count": 32,
   "metadata": {
    "collapsed": false
   },
   "outputs": [
    {
     "data": {
      "text/plain": [
       "'192.168.2.11'"
      ]
     },
     "execution_count": 32,
     "metadata": {},
     "output_type": "execute_result"
    }
   ],
   "source": [
    "tt.ip.src\n"
   ]
  },
  {
   "cell_type": "code",
   "execution_count": 33,
   "metadata": {
    "collapsed": false
   },
   "outputs": [
    {
     "data": {
      "text/plain": [
       "'(-5, 152) (-138, 7) (3, -131) (76, 106)'"
      ]
     },
     "execution_count": 33,
     "metadata": {},
     "output_type": "execute_result"
    }
   ],
   "source": [
    "tt.ttm.coarse_offset"
   ]
  },
  {
   "cell_type": "code",
   "execution_count": null,
   "metadata": {
    "collapsed": true
   },
   "outputs": [],
   "source": []
  }
 ],
 "metadata": {
  "kernelspec": {
   "display_name": "Python [conda root]",
   "language": "python",
   "name": "conda-root-py"
  },
  "language_info": {
   "codemirror_mode": {
    "name": "ipython",
    "version": 3
   },
   "file_extension": ".py",
   "mimetype": "text/x-python",
   "name": "python",
   "nbconvert_exporter": "python",
   "pygments_lexer": "ipython3",
   "version": "3.5.2"
  }
 },
 "nbformat": 4,
 "nbformat_minor": 2
}
