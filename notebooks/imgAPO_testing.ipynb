{
 "cells": [
  {
   "cell_type": "code",
   "execution_count": 27,
   "metadata": {},
   "outputs": [
    {
     "name": "stdout",
     "output_type": "stream",
     "text": [
      "The autoreload extension is already loaded. To reload it, use:\n",
      "  %reload_ext autoreload\n"
     ]
    },
    {
     "data": {
      "text/html": [
       "\n",
       "<style>\n",
       "    div#notebook-container    { width: 95%; }\n",
       "    div#menubar-container     { width: 65%; }\n",
       "    div#maintoolbar-container { width: 99%; }\n",
       "</style>\n"
      ],
      "text/plain": [
       "<IPython.core.display.HTML object>"
      ]
     },
     "metadata": {},
     "output_type": "display_data"
    },
    {
     "name": "stdout",
     "output_type": "stream",
     "text": [
      "Paths defined in paths module:\n",
      " paths.data_root: /Users/trafferty/data\n",
      " paths.notebook_root: /Users/trafferty/data/notebooks\n",
      " paths.scripts_root: /Users/trafferty/data/scripts\n",
      " paths.images_root: /Users/trafferty/data/images\n",
      " paths.projects_root: /Users/trafferty/data/projects\n",
      " paths.results_root: /Users/trafferty/data/results\n",
      " paths.tmp_root: /Users/trafferty/data/tmp\n",
      " paths.dat_root: /Users/trafferty/data/dat\n",
      " paths.tmp_dir: /Users/trafferty/tmp\n",
      " paths.ws_dir: /Users/trafferty/workspace\n",
      " paths.mii_home: /Users/trafferty/dev\n",
      " paths.inhouse: /Users/trafferty/dev/src/inhouse\n"
     ]
    }
   ],
   "source": [
    "%matplotlib inline\n",
    "import cv2\n",
    "import numpy as np\n",
    "from matplotlib import pyplot as plt\n",
    "\n",
    "import sys\n",
    "from paths import Paths\n",
    "paths = Paths()\n",
    "sys.path.append(paths.scripts_root)\n",
    "import util\n",
    "\n",
    "%load_ext autoreload\n",
    "%autoreload 2\n",
    "\n",
    "# Display entire width of browser\n",
    "from IPython.display import display, HTML\n",
    "display(HTML(data=\"\"\"\n",
    "<style>\n",
    "    div#notebook-container    { width: 95%; }\n",
    "    div#menubar-container     { width: 65%; }\n",
    "    div#maintoolbar-container { width: 99%; }\n",
    "</style>\n",
    "\"\"\"))\n",
    "\n",
    "paths.print_paths()"
   ]
  },
  {
   "cell_type": "markdown",
   "metadata": {},
   "source": [
    "#### After imgAPO refactor, needed to test to see if SMT Edge Circles and Binary Delta algos still worked the same"
   ]
  },
  {
   "cell_type": "code",
   "execution_count": 2,
   "metadata": {},
   "outputs": [],
   "source": [
    "binary_delta_before_path = f\"{paths.tmp_dir}/MR_Spreadcam/imgAPO_2019_11_09-11_20_24__00204331_0926-T32-Priming-trimmed__BinaryDelta.dat\"\n",
    "binary_delta_after_path = f\"{paths.tmp_dir}/MR_Spreadcam/imgAPO_2019_12_09-11_13_37__NEW__BinaryDelta.dat\"\n",
    "edge_circle_before_path = f\"{paths.tmp_dir}/MR_Spreadcam/imgAPO_2019_11_09-11_17_09__00204331_0926-T32-Priming-trimmed__EdgeCircle.dat\"\n",
    "edge_circle_after_path = f\"{paths.tmp_dir}/MR_Spreadcam/imgAPO_2019_12_09-11_16_30__NEW_EdgeCircle.dat\"\n"
   ]
  },
  {
   "cell_type": "code",
   "execution_count": 5,
   "metadata": {},
   "outputs": [],
   "source": [
    "def read_file(file_path):\n",
    "    with open(binary_delta_before_path, 'r') as filehandle:\n",
    "        lines = []\n",
    "        filecontents = filehandle.readlines()\n",
    "\n",
    "        for line in filecontents:\n",
    "            # remove linebreak which is the last character of the string\n",
    "            lines.append(line[:-1])\n",
    "        return lines"
   ]
  },
  {
   "cell_type": "code",
   "execution_count": 36,
   "metadata": {},
   "outputs": [],
   "source": [
    "binary_delta_before_data = read_file(binary_delta_before_path)\n",
    "binary_delta_after_data = read_file(binary_delta_after_path)"
   ]
  },
  {
   "cell_type": "code",
   "execution_count": 37,
   "metadata": {},
   "outputs": [],
   "source": [
    "edge_circle_before_data = read_file(edge_circle_before_path)\n",
    "edge_circle_after_data  = read_file(edge_circle_after_path)"
   ]
  },
  {
   "cell_type": "code",
   "execution_count": 38,
   "metadata": {},
   "outputs": [],
   "source": [
    "binary_delta_area_deltas = []\n",
    "binary_delta_cp_x_deltas = []\n",
    "binary_delta_cp_y_deltas = []\n",
    "edge_circle_area_deltas = []\n",
    "edge_circle_cp_x_deltas = []\n",
    "edge_circle_cp_y_deltas = []\n",
    "\n",
    "for binary_delta_before_data, binary_delta_after_data in zip(binary_delta_before_data, binary_delta_after_data):\n",
    "    binary_delta_before_area, binary_delta_before_cp_x, binary_delta_before_cp_y = map(float, binary_delta_before_data.split(','))\n",
    "    binary_delta_after_area, binary_delta_after_cp_x, binary_delta_after_cp_y = map(float, binary_delta_after_data.split(','))\n",
    "    binary_delta_area_deltas.append(binary_delta_before_area - binary_delta_after_area)\n",
    "    binary_delta_cp_x_deltas.append(binary_delta_before_cp_x - binary_delta_after_cp_x)\n",
    "    binary_delta_cp_y_deltas.append(binary_delta_before_cp_y - binary_delta_after_cp_y)\n",
    "\n",
    "for edge_circle_before_data, edge_circle_after_data in zip(edge_circle_before_data, edge_circle_after_data):\n",
    "    edge_circle_before_area, edge_circle_before_cp_x, edge_circle_before_cp_y = map(float, edge_circle_before_data.split(','))\n",
    "    edge_circle_after_area,  edge_circle_after_cp_x,  edge_circle_after_cp_y = map(float,  edge_circle_after_data.split(','))\n",
    "    edge_circle_area_deltas.append(edge_circle_before_area - edge_circle_after_area)\n",
    "    edge_circle_cp_x_deltas.append(edge_circle_before_cp_x - edge_circle_after_cp_x)\n",
    "    edge_circle_cp_y_deltas.append(edge_circle_before_cp_y - edge_circle_after_cp_y)"
   ]
  },
  {
   "cell_type": "code",
   "execution_count": 32,
   "metadata": {},
   "outputs": [
    {
     "data": {
      "text/plain": [
       "0.0"
      ]
     },
     "execution_count": 32,
     "metadata": {},
     "output_type": "execute_result"
    }
   ],
   "source": [
    "max(cp_y_deltas)"
   ]
  },
  {
   "cell_type": "code",
   "execution_count": 39,
   "metadata": {},
   "outputs": [
    {
     "data": {
      "image/png": "[encoded data removed]",
      "text/plain": [
       "<Figure size 432x288 with 1 Axes>"
      ]
     },
     "metadata": {},
     "output_type": "display_data"
    },
    {
     "data": {
      "image/png": "[encoded data removed]",
      "text/plain": [
       "<Figure size 432x288 with 1 Axes>"
      ]
     },
     "metadata": {},
     "output_type": "display_data"
    }
   ],
   "source": [
    "color = ('b','g','r')\n",
    "plt.plot(binary_delta_area_deltas, color = color[0])\n",
    "plt.plot(binary_delta_cp_x_deltas, color = color[1])\n",
    "plt.plot(binary_delta_cp_y_deltas, color = color[2])\n",
    "plt.title('Binary Delta: Before vs After')\n",
    "plt.show()\n",
    "\n",
    "color = ('b','g','r')\n",
    "plt.plot(edge_circle_area_deltas, color = color[0])\n",
    "plt.plot(edge_circle_cp_x_deltas, color = color[1])\n",
    "plt.plot(edge_circle_cp_y_deltas, color = color[2])\n",
    "plt.title('Edge Circle: Before vs After')\n",
    "plt.show()\n"
   ]
  },
  {
   "cell_type": "code",
   "execution_count": null,
   "metadata": {},
   "outputs": [],
   "source": []
  }
 ],
 "metadata": {
  "kernelspec": {
   "display_name": "Python 3",
   "language": "python",
   "name": "python3"
  },
  "language_info": {
   "codemirror_mode": {
    "name": "ipython",
    "version": 3
   },
   "file_extension": ".py",
   "mimetype": "text/x-python",
   "name": "python",
   "nbconvert_exporter": "python",
   "pygments_lexer": "ipython3",
   "version": "3.6.5"
  }
 },
 "nbformat": 4,
 "nbformat_minor": 2
}
