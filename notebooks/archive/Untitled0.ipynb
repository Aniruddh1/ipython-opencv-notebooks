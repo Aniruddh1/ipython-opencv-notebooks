{
 "metadata": {
  "name": "",
  "signature": "sha256:70849f7cff9a1503dbbd88f784fbcebf6c82fbd2bb17b71477b98dcc24f2c347"
 },
 "nbformat": 3,
 "nbformat_minor": 0,
 "worksheets": [
  {
   "cells": [
    {
     "cell_type": "code",
     "collapsed": false,
     "input": [
      "%matplotlib inline\n",
      "import cv2\n",
      "import numpy as np\n",
      "from matplotlib import pyplot as plt\n",
      "\n",
      "# create image\n",
      "height,width = 400, 200\n",
      "img = np.zeros((height,width,3), np.uint8)\n",
      "\n",
      "img[:,0:0.5*width] = (255,0,0) \n",
      "img[:,0.5*width:width] = (0,255,0)\n",
      "\n",
      "plt.imshow(img)\n",
      "plt.title('New Image: Half Red, Half Green'), plt.xticks([]), plt.yticks([])"
     ],
     "language": "python",
     "metadata": {},
     "outputs": [
      {
       "metadata": {},
       "output_type": "pyout",
       "prompt_number": 4,
       "text": [
        "(<matplotlib.text.Text at 0x7f7f88424d90>,\n",
        " ([], <a list of 0 Text xticklabel objects>),\n",
        " ([], <a list of 0 Text yticklabel objects>))"
       ]
      },
      {
       "metadata": {},
       "output_type": "display_data",
       "png": "[encoded data removed]",
       "text": [
        "<matplotlib.figure.Figure at 0x7f7f88784290>"
       ]
      }
     ],
     "prompt_number": 4
    },
    {
     "cell_type": "code",
     "collapsed": false,
     "input": [],
     "language": "python",
     "metadata": {},
     "outputs": []
    }
   ],
   "metadata": {}
  }
 ]
}