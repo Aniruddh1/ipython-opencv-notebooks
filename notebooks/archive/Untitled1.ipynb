{
 "metadata": {
  "name": "",
  "signature": "sha256:59256f18c5557a621a405fd9c6320a0f8a610358e34c42cd7f815646754e1a05"
 },
 "nbformat": 3,
 "nbformat_minor": 0,
 "worksheets": []
}