{
 "cells": [
  {
   "cell_type": "markdown",
   "metadata": {},
   "source": [
    "### Exercise 1\n",
    "Your first exercise is a somewhat silly one. I'd like you to compare date strings, but allow invalid dates while comparing them.\n",
    "\n",
    "Make sure you read all the way to the end of this email, because I've linked to some automated tests to help you ensure you've solved this exercise correctly.\n",
    "\n",
    "I want you to write a function that takes two strings representing dates and returns the string that represents the earliest point in time. The strings are in the US-specific MM/DD/YYYY format... just to make things harder. Note that the month, year, and day will always be represented by 2, 4, and 2 digits respectively.\n",
    "\n",
    "Your function should work like this:\n",
    "\n",
    "``` <python>\n",
    ">>> get_earliest(\"01/27/1832\", \"01/27/1756\")\n",
    "\"01/27/1756\"\n",
    ">>> get_earliest(\"02/29/1972\", \"12/21/1946\")\n",
    "\"12/21/1946\"\n",
    ">>> get_earliest(\"02/24/1946\", \"03/21/1946\")\n",
    "\"02/24/1946\"\n",
    ">>> get_earliest(\"06/21/1958\", \"06/24/1958\")\n",
    "\"06/21/1958\"\n",
    "```\n",
    "There's a catch though. Your exercise should work with invalid month and date combinations. What I mean by that is that dates like 02/40/2006 should be supported. By that I mean 02/40/2006 is before 03/01/2006 but after 02/30/2006 (dates don't rollover at all). I'm adding this requirement so you can't rely on Python's datetime module.\n",
    "\n",
    "There are many ways to solve this one. See if you can figure out the clearest and most idiomatic way to solve this exercise. ✨\n",
    "\n",
    "If you complete the main exercise, there's also a bonus for you to attempt: allow the function to accept any number of arguments and return the earliest date string of all provided. ✔️\n",
    "\n",
    "So if you complete the bonus, this should work:\n",
    "``` <python>\n",
    ">>> get_earliest(\"02/24/1946\", \"01/29/1946\", \"03/29/1945\")\n",
    "\"03/29/1945\"\n",
    "```\n",
    "I've written some tests to make it easier to ensure your code functions as expected. You can download the test file here. You'll need to write your function in a file named earliest.py next to where you've saved that test file. To run the tests you'll run \"python test_earliest.py\" and check the output for \"OK\". You'll see that there are some \"expected failures\" (or \"unexpected successes\" maybe). If you'd like to do the bonus, you'll want to comment out a line to test them properly. You'll see that noted in the test file.\n",
    "\n",
    "You'll receive some answers and links to resources explaining ways to solve this exercise within a few days. Don't peek at the answers before attempting to solve this on your own.\n"
   ]
  },
  {
   "cell_type": "code",
   "execution_count": 3,
   "metadata": {},
   "outputs": [],
   "source": [
    "import unittest\n",
    "\n",
    "class GetEarliestTests(unittest.TestCase):\n",
    "\n",
    "    \"\"\"Tests for get_earliest.\"\"\"\n",
    "\n",
    "    def test_same_month_and_day(self):\n",
    "        newer = \"01/27/1832\"\n",
    "        older = \"01/27/1756\"\n",
    "        self.assertEqual(get_earliest(newer, older), older)\n",
    "\n",
    "    def test_february_29th(self):\n",
    "        newer = \"02/29/1972\"\n",
    "        older = \"12/21/1946\"\n",
    "        self.assertEqual(get_earliest(newer, older), older)\n",
    "\n",
    "    def test_smaller_month_bigger_day(self):\n",
    "        newer = \"03/21/1946\"\n",
    "        older = \"02/24/1946\"\n",
    "        self.assertEqual(get_earliest(older, newer), older)\n",
    "\n",
    "    def test_same_month_and_year(self):\n",
    "        newer = \"06/24/1958\"\n",
    "        older = \"06/21/1958\"\n",
    "        self.assertEqual(get_earliest(older, newer), older)\n",
    "\n",
    "    def test_invalid_date_allowed(self):\n",
    "        newer = \"02/29/2006\"\n",
    "        older = \"02/28/2006\"\n",
    "        self.assertEqual(get_earliest(older, newer), older)\n",
    "\n",
    "    def test_two_invalid_dates(self):\n",
    "        newer = \"02/30/2006\"\n",
    "        older = \"02/29/2006\"\n",
    "        self.assertEqual(get_earliest(newer, older), older)\n",
    "\n",
    "    # To test the Bonus part of this exercise, comment out the following line\n",
    "    #@unittest.expectedFailure\n",
    "    def test_many_dates(self):\n",
    "        d1 = \"01/24/2007\"\n",
    "        d2 = \"01/21/2008\"\n",
    "        d3 = \"02/29/2009\"\n",
    "        d4 = \"02/30/2006\"\n",
    "        d5 = \"02/28/2006\"\n",
    "        d6 = \"02/29/2006\"\n",
    "        self.assertEqual(get_earliest(d1, d2, d3), d1)\n",
    "        self.assertEqual(get_earliest(d1, d2, d3, d4), d4)\n",
    "        self.assertEqual(get_earliest(d1, d2, d3, d4, d5, d6), d5)\n"
   ]
  },
  {
   "cell_type": "code",
   "execution_count": 4,
   "metadata": {},
   "outputs": [],
   "source": [
    "def get_earliest_thr(*date_strs):\n",
    "    vals = []\n",
    "    for date_str in date_strs:\n",
    "        m,d,y = date_str.split(\"/\")\n",
    "        val = int((int(y) * 1e4) + int(d) + (int(m) * 1e2))\n",
    "        vals.append( (val, date_str) )\n",
    "    vals.sort(key=lambda tup: tup[0])\n",
    "    return vals[0][1]\n",
    "\n",
    "def get_earliest_solution(*dates):\n",
    "    \"\"\"Return earliest of given MM/DD/YYYY-formatted date strings.\"\"\"\n",
    "    def date_key(date):\n",
    "        (m, d, y) = date.split('/')\n",
    "        return (y, m, d)\n",
    "    return min(dates, key=date_key)\n",
    "\n",
    "get_earliest = get_earliest_solution"
   ]
  },
  {
   "cell_type": "code",
   "execution_count": 5,
   "metadata": {},
   "outputs": [
    {
     "name": "stdout",
     "output_type": "stream",
     "text": [
      "01/24/2007\n"
     ]
    }
   ],
   "source": [
    "d1 = \"01/24/2007\"\n",
    "d2 = \"01/21/2008\"\n",
    "d3 = \"02/29/2009\"\n",
    "d4 = \"02/30/2006\"\n",
    "d5 = \"02/28/2006\"\n",
    "d6 = \"02/29/2006\"\n",
    "\n",
    "order = []\n",
    "date_strs = [d1,d2,d3,d4,d5,d6]\n",
    "# for date_str in date_strs:\n",
    "#     d_lst = date_str.split(\"/\")\n",
    "#     val = int((int(d_lst[2]) * 1e4) + int(d_lst[1]) + (int(d_lst[0]) * 1e2))\n",
    "#     order.append( (val, date_str) )\n",
    "# order.sort(key=lambda tup: tup[0])\n",
    "# print(order[0][1])\n",
    "\n",
    "print(get_earliest(d1,d2,d3))\n"
   ]
  },
  {
   "cell_type": "code",
   "execution_count": 6,
   "metadata": {},
   "outputs": [
    {
     "data": {
      "text/plain": [
       "'02/24/1946'"
      ]
     },
     "execution_count": 6,
     "metadata": {},
     "output_type": "execute_result"
    }
   ],
   "source": [
    "newer = \"03/21/1946\"\n",
    "older = \"02/24/1946\"\n",
    "#self.assertEqual(get_earliest(older, newer), older)\n",
    "get_earliest(older, newer)\n"
   ]
  },
  {
   "cell_type": "code",
   "execution_count": 7,
   "metadata": {},
   "outputs": [
    {
     "name": "stderr",
     "output_type": "stream",
     "text": [
      ".......\n",
      "----------------------------------------------------------------------\n",
      "Ran 7 tests in 0.005s\n",
      "\n",
      "OK\n"
     ]
    }
   ],
   "source": [
    "if __name__ == '__main__':\n",
    "    unittest.main(argv=['first-arg-is-ignored', '-v'], exit=False)"
   ]
  },
  {
   "cell_type": "code",
   "execution_count": 32,
   "metadata": {},
   "outputs": [
    {
     "data": {
      "text/plain": [
       "1"
      ]
     },
     "execution_count": 32,
     "metadata": {},
     "output_type": "execute_result"
    }
   ],
   "source": [
    "ff = [2,5,3,8,1,7,5"
   ]
  },
  {
   "cell_type": "markdown",
   "metadata": {},
   "source": [
    "### Exercise 3\n",
    "\n",
    "I'd like you to write a function that accepts two lists-of-lists of numbers and returns one list-of-lists with each of the corresponding numbers in the two given lists-of-lists added together.\n",
    "\n",
    "It should work something like this:\n",
    "``` <python>\n",
    ">>> matrix1 = [[1, -2], [-3, 4]]\n",
    ">>> matrix2 = [[2, -1], [0, -1]]\n",
    ">>> add(matrix1, matrix2)\n",
    "[[3, -3], [-3, 3]]\n",
    ">>> matrix1 = [[1, -2, 3], [-4, 5, -6], [7, -8, 9]]\n",
    ">>> matrix2 = [[1, 1, 0], [1, -2, 3], [-2, 2, -2]]\n",
    ">>> add(matrix1, matrix2)\n",
    "[[2, -1, 3], [-3, 3, -3], [5, -6, 7]]\n",
    "```\n",
    "Try to solve this exercise without using any third-party libraries (without using pandas for example).\n",
    "\n",
    "Before attempting any bonuses, I'd like you to put some effort into figuring out the clearest and most idiomatic way to solve this problem.\n",
    "\n",
    "There are two bonuses this week.\n",
    "\n",
    "For the first bonus, modify your add function to accept and \"add\" any number of lists-of-lists. ✔️\n",
    "``` <python>\n",
    ">>> add([[1, 9], [7, 3]], [[5, -4], [3, 3]], [[2, 3], [-3, 1]])\n",
    "[[8, 8], [7, 7]]\n",
    "```\n",
    "For the second bonus, make sure your add function raises a ValueError if the given lists-of-lists aren't all the same shape. ✔️\n",
    "``` <python>\n",
    ">>> add([[1, 9], [7, 3]], [[1, 2], [3]])\n",
    "Traceback (most recent call last):\n",
    "  File \"<stdin>\", line 1, in <module>\n",
    "  File \"add.py\", line 10, in add\n",
    "    raise ValueError(\"Given matrices are not the same size.\")\n",
    "ValueError: Given matrices are not the same size.\n",
    "```\n",
    "Automated tests for this week's exercise can be found here. You'll need to write your function in a module named add.py next to the test file. To run the tests you'll run \"python test_add.py\" and check the output for \"OK\". You'll see that there are some \"expected failures\" (or \"unexpected successes\" maybe). If you'd like to do the bonus, you'll want to comment out the noted lines of code in the tests file to test them properly.\n",
    "\n",
    "You'll receive some answers and links to resources explaining ways to solve this exercise within a few days. Don't peek at the answers before attempting to solve this on your own.\n",
    "\n"
   ]
  },
  {
   "cell_type": "code",
   "execution_count": 25,
   "metadata": {},
   "outputs": [],
   "source": [
    "def add_orig(matrix1, matrix2):\n",
    "    data = []\n",
    "    for i in range(len(matrix1)):\n",
    "        data2 = []\n",
    "        for j in range(len(matrix1[i])):\n",
    "            data2.append(matrix1[i][j]+matrix2[i][j] )\n",
    "        data.append(data2)\n",
    "    return data\n",
    "\n",
    "def add_new(*matrices):\n",
    "    sums = [[0 for _ in range(len(matrices[0][0]))] for _ in range(len(matrices[0]))]\n",
    "    size = len(matrices[0])\n",
    "    for matrix in matrices:\n",
    "        for idx1, m in enumerate(matrix):\n",
    "            print(size, len(m))\n",
    "            if len(m) != size:\n",
    "                raise ValueError(\"Given matrices are not the same size.\")\n",
    "            for idx2, val in enumerate(m):\n",
    "                sums[idx1][idx2] += val\n",
    "    return sums\n",
    "\n",
    "add=add_new"
   ]
  },
  {
   "cell_type": "code",
   "execution_count": 26,
   "metadata": {},
   "outputs": [
    {
     "name": "stdout",
     "output_type": "stream",
     "text": [
      "3 3\n",
      "3 3\n",
      "3 3\n",
      "3 3\n",
      "3 3\n",
      "3 2\n"
     ]
    },
    {
     "ename": "ValueError",
     "evalue": "Given matrices are not the same size.",
     "output_type": "error",
     "traceback": [
      "\u001b[0;31m---------------------------------------------------------------------------\u001b[0m",
      "\u001b[0;31mValueError\u001b[0m                                Traceback (most recent call last)",
      "\u001b[0;32m<ipython-input-26-9a68986e65ad>\u001b[0m in \u001b[0;36m<module>\u001b[0;34m()\u001b[0m\n\u001b[1;32m     15\u001b[0m \u001b[0;31m#         [[2, -1, 3], [-3, 3, -3], [5, -6, 7]]\u001b[0m\u001b[0;34m\u001b[0m\u001b[0;34m\u001b[0m\u001b[0m\n\u001b[1;32m     16\u001b[0m \u001b[0;34m\u001b[0m\u001b[0m\n\u001b[0;32m---> 17\u001b[0;31m \u001b[0mprint\u001b[0m\u001b[0;34m(\u001b[0m\u001b[0madd\u001b[0m\u001b[0;34m(\u001b[0m\u001b[0mmatrix1\u001b[0m\u001b[0;34m,\u001b[0m \u001b[0mmatrix2\u001b[0m\u001b[0;34m)\u001b[0m\u001b[0;34m)\u001b[0m\u001b[0;34m\u001b[0m\u001b[0m\n\u001b[0m",
      "\u001b[0;32m<ipython-input-25-9fd2a126e685>\u001b[0m in \u001b[0;36madd_new\u001b[0;34m(*matrices)\u001b[0m\n\u001b[1;32m     15\u001b[0m             \u001b[0mprint\u001b[0m\u001b[0;34m(\u001b[0m\u001b[0msize\u001b[0m\u001b[0;34m,\u001b[0m \u001b[0mlen\u001b[0m\u001b[0;34m(\u001b[0m\u001b[0mm\u001b[0m\u001b[0;34m)\u001b[0m\u001b[0;34m)\u001b[0m\u001b[0;34m\u001b[0m\u001b[0m\n\u001b[1;32m     16\u001b[0m             \u001b[0;32mif\u001b[0m \u001b[0mlen\u001b[0m\u001b[0;34m(\u001b[0m\u001b[0mm\u001b[0m\u001b[0;34m)\u001b[0m \u001b[0;34m!=\u001b[0m \u001b[0msize\u001b[0m\u001b[0;34m:\u001b[0m\u001b[0;34m\u001b[0m\u001b[0m\n\u001b[0;32m---> 17\u001b[0;31m                 \u001b[0;32mraise\u001b[0m \u001b[0mValueError\u001b[0m\u001b[0;34m(\u001b[0m\u001b[0;34m\"Given matrices are not the same size.\"\u001b[0m\u001b[0;34m)\u001b[0m\u001b[0;34m\u001b[0m\u001b[0m\n\u001b[0m\u001b[1;32m     18\u001b[0m             \u001b[0;32mfor\u001b[0m \u001b[0midx2\u001b[0m\u001b[0;34m,\u001b[0m \u001b[0mval\u001b[0m \u001b[0;32min\u001b[0m \u001b[0menumerate\u001b[0m\u001b[0;34m(\u001b[0m\u001b[0mm\u001b[0m\u001b[0;34m)\u001b[0m\u001b[0;34m:\u001b[0m\u001b[0;34m\u001b[0m\u001b[0m\n\u001b[1;32m     19\u001b[0m                 \u001b[0msums\u001b[0m\u001b[0;34m[\u001b[0m\u001b[0midx1\u001b[0m\u001b[0;34m]\u001b[0m\u001b[0;34m[\u001b[0m\u001b[0midx2\u001b[0m\u001b[0;34m]\u001b[0m \u001b[0;34m+=\u001b[0m \u001b[0mval\u001b[0m\u001b[0;34m\u001b[0m\u001b[0m\n",
      "\u001b[0;31mValueError\u001b[0m: Given matrices are not the same size."
     ]
    }
   ],
   "source": [
    "matrix1 = [[1, -2], [-3, 4]]\n",
    "matrix2 = [[2, -1], [0, -1]]\n",
    "#         [[3, -3], [-3, 3]]\n",
    "\n",
    "data = []\n",
    "# for i in range(len(matrix1)):\n",
    "#     data2 = []\n",
    "#     for j in range(len(matrix1[i])):\n",
    "#         data2.append(matrix1[i][j]+matrix2[i][j] )\n",
    "#     data.append(data2)\n",
    "# print(data)\n",
    "# print(add(matrix1, matrix2))\n",
    "matrix1 = [[1, -2, 3], [-4, 5, -6], [7, -8, 9]]\n",
    "matrix2 = [[1, 1, 0], [1, -2, 3], [-2, 2]]\n",
    "#         [[2, -1, 3], [-3, 3, -3], [5, -6, 7]]\n",
    "\n",
    "print(add(matrix1, matrix2))\n"
   ]
  },
  {
   "cell_type": "code",
   "execution_count": 11,
   "metadata": {},
   "outputs": [],
   "source": [
    "from copy import deepcopy\n",
    "import unittest\n",
    "\n",
    "\n",
    "class AddTests(unittest.TestCase):\n",
    "\n",
    "    \"\"\"Tests for add.\"\"\"\n",
    "\n",
    "    def test_single_items(self):\n",
    "        self.assertEqual(add([[5]], [[-2]]), [[3]])\n",
    "\n",
    "    def test_two_by_two_matrixes(self):\n",
    "        m1 = [[6, 6], [3, 1]]\n",
    "        m2 = [[1, 2], [3, 4]]\n",
    "        m3 = [[7, 8], [6, 5]]\n",
    "        self.assertEqual(add(m1, m2), m3)\n",
    "\n",
    "    def test_two_by_three_matrixes(self):\n",
    "        m1 = [[1, 2, 3], [4, 5, 6]]\n",
    "        m2 = [[-1, -2, -3], [-4, -5, -6]]\n",
    "        m3 = [[0, 0, 0], [0, 0, 0]]\n",
    "        self.assertEqual(add(m1, m2), m3)\n",
    "\n",
    "    def test_input_unchanged(self):\n",
    "        m1 = [[6, 6], [3, 1]]\n",
    "        m2 = [[1, 2], [3, 4]]\n",
    "        m1_original = deepcopy(m1)\n",
    "        m2_original = deepcopy(m2)\n",
    "        add(m1, m2)\n",
    "        self.assertEqual(m1, m1_original)\n",
    "        self.assertEqual(m2, m2_original)\n",
    "\n",
    "    @unittest.expectedFailure\n",
    "    def test_any_number_of_matrixes(self):\n",
    "        m1 = [[6, 6], [3, 1]]\n",
    "        m2 = [[1, 2], [3, 4]]\n",
    "        m3 = [[2, 1], [3, 4]]\n",
    "        m4 = [[9, 9], [9, 9]]\n",
    "        m5 = [[31, 32], [27, 24]]\n",
    "        self.assertEqual(add(m1, m2, m3), m4)\n",
    "        self.assertEqual(add(m2, m3, m1, m1, m2, m4, m1), m5)\n",
    "\n",
    "    @unittest.expectedFailure\n",
    "    def test_different_matrix_size(self):\n",
    "        m1 = [[6, 6], [3, 1]]\n",
    "        m2 = [[1, 2], [3, 4], [5, 6]]\n",
    "        m3 = [[6, 6], [3, 1, 2]]\n",
    "        with self.assertRaises(ValueError):\n",
    "            add(m1, m2)\n",
    "        with self.assertRaises(ValueError):\n",
    "            add(m1, m3)\n",
    "        with self.assertRaises(ValueError):\n",
    "            add(m1, m1, m1, m3, m1, m1)\n",
    "        with self.assertRaises(ValueError):\n",
    "            add(m1, m1, m1, m2, m1, m1)"
   ]
  },
  {
   "cell_type": "code",
   "execution_count": 27,
   "metadata": {},
   "outputs": [
    {
     "name": "stderr",
     "output_type": "stream",
     "text": [
      "test_any_number_of_matrixes (__main__.AddTests) ... unexpected success\n",
      "test_different_matrix_size (__main__.AddTests) ... expected failure\n",
      "test_input_unchanged (__main__.AddTests) ... ok\n",
      "test_single_items (__main__.AddTests) ... ok\n",
      "test_two_by_three_matrixes (__main__.AddTests) ... ERROR\n",
      "test_two_by_two_matrixes (__main__.AddTests) ... "
     ]
    },
    {
     "name": "stdout",
     "output_type": "stream",
     "text": [
      "2 2\n",
      "2 2\n",
      "2 2\n",
      "2 2\n",
      "2 2\n",
      "2 2\n",
      "2 2\n",
      "2 2\n",
      "2 2\n",
      "2 2\n",
      "2 2\n",
      "2 2\n",
      "2 2\n",
      "2 2\n",
      "2 2\n",
      "2 2\n",
      "2 2\n",
      "2 2\n",
      "2 2\n",
      "2 2\n",
      "2 2\n",
      "2 2\n",
      "2 2\n",
      "2 2\n",
      "2 2\n",
      "2 2\n",
      "2 2\n",
      "2 2\n",
      "2 2\n",
      "1 1\n",
      "1 1\n",
      "2 3\n",
      "2 2\n",
      "2 2\n",
      "2 2\n",
      "2 2\n"
     ]
    },
    {
     "name": "stderr",
     "output_type": "stream",
     "text": [
      "ok\n",
      "\n",
      "======================================================================\n",
      "ERROR: test_two_by_three_matrixes (__main__.AddTests)\n",
      "----------------------------------------------------------------------\n",
      "Traceback (most recent call last):\n",
      "  File \"<ipython-input-11-7d8401cfde04>\", line 22, in test_two_by_three_matrixes\n",
      "    self.assertEqual(add(m1, m2), m3)\n",
      "  File \"<ipython-input-25-9fd2a126e685>\", line 17, in add_new\n",
      "    raise ValueError(\"Given matrices are not the same size.\")\n",
      "ValueError: Given matrices are not the same size.\n",
      "\n",
      "----------------------------------------------------------------------\n",
      "Ran 6 tests in 0.007s\n",
      "\n",
      "FAILED (errors=1, expected failures=1, unexpected successes=1)\n"
     ]
    }
   ],
   "source": [
    "if __name__ == '__main__':\n",
    "    unittest.main(argv=['first-arg-is-ignored', '-v'], exit=False)"
   ]
  },
  {
   "cell_type": "code",
   "execution_count": null,
   "metadata": {},
   "outputs": [],
   "source": []
  }
 ],
 "metadata": {
  "kernelspec": {
   "display_name": "Python 3",
   "language": "python",
   "name": "python3"
  },
  "language_info": {
   "codemirror_mode": {
    "name": "ipython",
    "version": 3
   },
   "file_extension": ".py",
   "mimetype": "text/x-python",
   "name": "python",
   "nbconvert_exporter": "python",
   "pygments_lexer": "ipython3",
   "version": "3.6.5"
  }
 },
 "nbformat": 4,
 "nbformat_minor": 2
}
