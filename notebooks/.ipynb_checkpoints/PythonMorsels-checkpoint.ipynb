{
 "cells": [
  {
   "cell_type": "markdown",
   "metadata": {},
   "source": [
    "### Exercise 1\n",
    "Your first exercise is a somewhat silly one. I'd like you to compare date strings, but allow invalid dates while comparing them.\n",
    "\n",
    "Make sure you read all the way to the end of this email, because I've linked to some automated tests to help you ensure you've solved this exercise correctly.\n",
    "\n",
    "I want you to write a function that takes two strings representing dates and returns the string that represents the earliest point in time. The strings are in the US-specific MM/DD/YYYY format... just to make things harder. Note that the month, year, and day will always be represented by 2, 4, and 2 digits respectively.\n",
    "\n",
    "Your function should work like this:\n",
    "\n",
    "``` <python>\n",
    ">>> get_earliest(\"01/27/1832\", \"01/27/1756\")\n",
    "\"01/27/1756\"\n",
    ">>> get_earliest(\"02/29/1972\", \"12/21/1946\")\n",
    "\"12/21/1946\"\n",
    ">>> get_earliest(\"02/24/1946\", \"03/21/1946\")\n",
    "\"02/24/1946\"\n",
    ">>> get_earliest(\"06/21/1958\", \"06/24/1958\")\n",
    "\"06/21/1958\"\n",
    "```\n",
    "There's a catch though. Your exercise should work with invalid month and date combinations. What I mean by that is that dates like 02/40/2006 should be supported. By that I mean 02/40/2006 is before 03/01/2006 but after 02/30/2006 (dates don't rollover at all). I'm adding this requirement so you can't rely on Python's datetime module.\n",
    "\n",
    "There are many ways to solve this one. See if you can figure out the clearest and most idiomatic way to solve this exercise. ✨\n",
    "\n",
    "If you complete the main exercise, there's also a bonus for you to attempt: allow the function to accept any number of arguments and return the earliest date string of all provided. ✔️\n",
    "\n",
    "So if you complete the bonus, this should work:\n",
    "``` <python>\n",
    ">>> get_earliest(\"02/24/1946\", \"01/29/1946\", \"03/29/1945\")\n",
    "\"03/29/1945\"\n",
    "```\n",
    "I've written some tests to make it easier to ensure your code functions as expected. You can download the test file here. You'll need to write your function in a file named earliest.py next to where you've saved that test file. To run the tests you'll run \"python test_earliest.py\" and check the output for \"OK\". You'll see that there are some \"expected failures\" (or \"unexpected successes\" maybe). If you'd like to do the bonus, you'll want to comment out a line to test them properly. You'll see that noted in the test file.\n",
    "\n",
    "You'll receive some answers and links to resources explaining ways to solve this exercise within a few days. Don't peek at the answers before attempting to solve this on your own.\n"
   ]
  },
  {
   "cell_type": "code",
   "execution_count": 25,
   "metadata": {},
   "outputs": [],
   "source": [
    "import unittest\n",
    "\n",
    "class GetEarliestTests(unittest.TestCase):\n",
    "\n",
    "    \"\"\"Tests for get_earliest.\"\"\"\n",
    "\n",
    "    def test_same_month_and_day(self):\n",
    "        newer = \"01/27/1832\"\n",
    "        older = \"01/27/1756\"\n",
    "        self.assertEqual(get_earliest(newer, older), older)\n",
    "\n",
    "    def test_february_29th(self):\n",
    "        newer = \"02/29/1972\"\n",
    "        older = \"12/21/1946\"\n",
    "        self.assertEqual(get_earliest(newer, older), older)\n",
    "\n",
    "    def test_smaller_month_bigger_day(self):\n",
    "        newer = \"03/21/1946\"\n",
    "        older = \"02/24/1946\"\n",
    "        self.assertEqual(get_earliest(older, newer), older)\n",
    "\n",
    "    def test_same_month_and_year(self):\n",
    "        newer = \"06/24/1958\"\n",
    "        older = \"06/21/1958\"\n",
    "        self.assertEqual(get_earliest(older, newer), older)\n",
    "\n",
    "    def test_invalid_date_allowed(self):\n",
    "        newer = \"02/29/2006\"\n",
    "        older = \"02/28/2006\"\n",
    "        self.assertEqual(get_earliest(older, newer), older)\n",
    "\n",
    "    def test_two_invalid_dates(self):\n",
    "        newer = \"02/30/2006\"\n",
    "        older = \"02/29/2006\"\n",
    "        self.assertEqual(get_earliest(newer, older), older)\n",
    "\n",
    "    # To test the Bonus part of this exercise, comment out the following line\n",
    "    #@unittest.expectedFailure\n",
    "    def test_many_dates(self):\n",
    "        d1 = \"01/24/2007\"\n",
    "        d2 = \"01/21/2008\"\n",
    "        d3 = \"02/29/2009\"\n",
    "        d4 = \"02/30/2006\"\n",
    "        d5 = \"02/28/2006\"\n",
    "        d6 = \"02/29/2006\"\n",
    "        self.assertEqual(get_earliest(d1, d2, d3), d1)\n",
    "        self.assertEqual(get_earliest(d1, d2, d3, d4), d4)\n",
    "        self.assertEqual(get_earliest(d1, d2, d3, d4, d5, d6), d5)\n"
   ]
  },
  {
   "cell_type": "code",
   "execution_count": 30,
   "metadata": {},
   "outputs": [],
   "source": [
    "def get_earliest_thr(*date_strs):\n",
    "    vals = []\n",
    "    for date_str in date_strs:\n",
    "        m,d,y = date_str.split(\"/\")\n",
    "        val = int((int(y) * 1e4) + int(d) + (int(m) * 1e2))\n",
    "        vals.append( (val, date_str) )\n",
    "    vals.sort(key=lambda tup: tup[0])\n",
    "    return vals[0][1]\n",
    "\n",
    "def get_earliest_solution(*dates):\n",
    "    \"\"\"Return earliest of given MM/DD/YYYY-formatted date strings.\"\"\"\n",
    "    def date_key(date):\n",
    "        (m, d, y) = date.split('/')\n",
    "        return (y, m, d)\n",
    "    return min(dates, key=date_key)\n",
    "\n",
    "get_earliest = get_earliest_solution"
   ]
  },
  {
   "cell_type": "code",
   "execution_count": 31,
   "metadata": {},
   "outputs": [
    {
     "name": "stdout",
     "output_type": "stream",
     "text": [
      "01/24/2007\n"
     ]
    }
   ],
   "source": [
    "d1 = \"01/24/2007\"\n",
    "d2 = \"01/21/2008\"\n",
    "d3 = \"02/29/2009\"\n",
    "d4 = \"02/30/2006\"\n",
    "d5 = \"02/28/2006\"\n",
    "d6 = \"02/29/2006\"\n",
    "\n",
    "order = []\n",
    "date_strs = [d1,d2,d3,d4,d5,d6]\n",
    "# for date_str in date_strs:\n",
    "#     d_lst = date_str.split(\"/\")\n",
    "#     val = int((int(d_lst[2]) * 1e4) + int(d_lst[1]) + (int(d_lst[0]) * 1e2))\n",
    "#     order.append( (val, date_str) )\n",
    "# order.sort(key=lambda tup: tup[0])\n",
    "# print(order[0][1])\n",
    "\n",
    "print(get_earliest(d1,d2,d3))\n"
   ]
  },
  {
   "cell_type": "code",
   "execution_count": 28,
   "metadata": {},
   "outputs": [
    {
     "data": {
      "text/plain": [
       "'02/24/1946'"
      ]
     },
     "execution_count": 28,
     "metadata": {},
     "output_type": "execute_result"
    }
   ],
   "source": [
    "newer = \"03/21/1946\"\n",
    "older = \"02/24/1946\"\n",
    "#self.assertEqual(get_earliest(older, newer), older)\n",
    "get_earliest(older, newer)\n"
   ]
  },
  {
   "cell_type": "code",
   "execution_count": 26,
   "metadata": {},
   "outputs": [
    {
     "name": "stderr",
     "output_type": "stream",
     "text": [
      ".......\n",
      "----------------------------------------------------------------------\n",
      "Ran 7 tests in 0.005s\n",
      "\n",
      "OK\n"
     ]
    }
   ],
   "source": [
    "if __name__ == '__main__':\n",
    "    unittest.main(argv=['first-arg-is-ignored'], exit=False)"
   ]
  },
  {
   "cell_type": "code",
   "execution_count": 32,
   "metadata": {},
   "outputs": [
    {
     "data": {
      "text/plain": [
       "1"
      ]
     },
     "execution_count": 32,
     "metadata": {},
     "output_type": "execute_result"
    }
   ],
   "source": [
    "ff = [2,5,3,8,1,7,5"
   ]
  },
  {
   "cell_type": "code",
   "execution_count": null,
   "metadata": {},
   "outputs": [],
   "source": []
  }
 ],
 "metadata": {
  "kernelspec": {
   "display_name": "Python 3",
   "language": "python",
   "name": "python3"
  },
  "language_info": {
   "codemirror_mode": {
    "name": "ipython",
    "version": 3
   },
   "file_extension": ".py",
   "mimetype": "text/x-python",
   "name": "python",
   "nbconvert_exporter": "python",
   "pygments_lexer": "ipython3",
   "version": "3.6.5"
  }
 },
 "nbformat": 4,
 "nbformat_minor": 2
}
