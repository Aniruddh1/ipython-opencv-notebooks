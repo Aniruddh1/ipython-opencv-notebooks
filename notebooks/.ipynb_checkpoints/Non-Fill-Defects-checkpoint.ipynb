{
 "cells": [
  {
   "cell_type": "code",
   "execution_count": 4,
   "metadata": {
    "collapsed": false
   },
   "outputs": [
    {
     "name": "stdout",
     "output_type": "stream",
     "text": [
      "The autoreload extension is already loaded. To reload it, use:\n",
      "  %reload_ext autoreload\n"
     ]
    }
   ],
   "source": [
    "%matplotlib inline\n",
    "%load_ext autoreload\n",
    "%autoreload 2\n",
    "import cv2\n",
    "import scipy.ndimage\n",
    "import numpy as np\n",
    "from matplotlib import pyplot as plt\n",
    "import glob\n",
    "\n",
    "import sys\n",
    "sys.path.append('../scripts')\n",
    "import util\n",
    "import ip_routines as ip\n",
    "\n",
    "verbose = False"
   ]
  },
  {
   "cell_type": "code",
   "execution_count": 16,
   "metadata": {
    "collapsed": true
   },
   "outputs": [],
   "source": [
    "background_file = '/data/projects/background.png'\n",
    "sample_file = '/data/projects/sample.bmp'\n",
    "\n",
    "bg_img = cv2.imread(background_file, cv2.IMREAD_GRAYSCALE)\n",
    "rows, cols = bg_img.shape"
   ]
  },
  {
   "cell_type": "code",
   "execution_count": 18,
   "metadata": {
    "collapsed": false
   },
   "outputs": [
    {
     "name": "stdout",
     "output_type": "stream",
     "text": [
      "512 512\n"
     ]
    },
    {
     "ename": "AttributeError",
     "evalue": "'NoneType' object has no attribute 'shape'",
     "output_type": "error",
     "traceback": [
      "\u001b[1;31m---------------------------------------------------------------------------\u001b[0m",
      "\u001b[1;31mAttributeError\u001b[0m                            Traceback (most recent call last)",
      "\u001b[1;32m<ipython-input-18-3b4c18bd600c>\u001b[0m in \u001b[0;36m<module>\u001b[1;34m()\u001b[0m\n\u001b[0;32m      6\u001b[0m \u001b[0mfg_img\u001b[0m \u001b[1;33m=\u001b[0m \u001b[0mcv2\u001b[0m\u001b[1;33m.\u001b[0m\u001b[0mimread\u001b[0m\u001b[1;33m(\u001b[0m\u001b[0msample_file\u001b[0m\u001b[1;33m,\u001b[0m     \u001b[0mcv2\u001b[0m\u001b[1;33m.\u001b[0m\u001b[0mIMREAD_GRAYSCALE\u001b[0m\u001b[1;33m)\u001b[0m\u001b[1;33m\u001b[0m\u001b[0m\n\u001b[0;32m      7\u001b[0m \u001b[1;33m\u001b[0m\u001b[0m\n\u001b[1;32m----> 8\u001b[1;33m \u001b[0mrows\u001b[0m\u001b[1;33m,\u001b[0m \u001b[0mcols\u001b[0m\u001b[1;33m,\u001b[0m \u001b[0mchannels\u001b[0m \u001b[1;33m=\u001b[0m \u001b[0mbg_img\u001b[0m\u001b[1;33m.\u001b[0m\u001b[0mshape\u001b[0m\u001b[1;33m\u001b[0m\u001b[0m\n\u001b[0m\u001b[0;32m      9\u001b[0m \u001b[1;33m\u001b[0m\u001b[0m\n\u001b[0;32m     10\u001b[0m \u001b[0mutil\u001b[0m\u001b[1;33m.\u001b[0m\u001b[0mplot_imgs\u001b[0m\u001b[1;33m(\u001b[0m\u001b[1;33m[\u001b[0m\u001b[1;33m(\u001b[0m\u001b[0mimg\u001b[0m\u001b[1;33m,\u001b[0m\u001b[1;34m'img'\u001b[0m\u001b[1;33m)\u001b[0m\u001b[1;33m,\u001b[0m \u001b[1;33m(\u001b[0m\u001b[0mbg_img\u001b[0m\u001b[1;33m,\u001b[0m\u001b[1;34m'bg_img'\u001b[0m\u001b[1;33m)\u001b[0m\u001b[1;33m,\u001b[0m \u001b[1;33m(\u001b[0m\u001b[0mfg_img\u001b[0m\u001b[1;33m,\u001b[0m \u001b[1;34m'fg_img'\u001b[0m\u001b[1;33m)\u001b[0m\u001b[1;33m]\u001b[0m\u001b[1;33m,\u001b[0m \u001b[0mmax_cols\u001b[0m \u001b[1;33m=\u001b[0m \u001b[1;36m2\u001b[0m\u001b[1;33m)\u001b[0m\u001b[1;33m\u001b[0m\u001b[0m\n",
      "\u001b[1;31mAttributeError\u001b[0m: 'NoneType' object has no attribute 'shape'"
     ]
    }
   ],
   "source": [
    "img = cv2.imread('/data/projects/contact_front/EFF/ContactFront-040.png',cv2.IMREAD_GRAYSCALE)\n",
    "rows, cols = img.shape\n",
    "print rows, cols\n",
    "\n",
    "bg_img = cv2.imread(background_file, cv2.IMREAD_GRAYSCALE)\n",
    "fg_img = cv2.imread(sample_file,     cv2.IMREAD_GRAYSCALE)\n",
    "\n",
    "rows, cols, channels = bg_img.shape\n",
    "\n",
    "util.plot_imgs([(img,'img'), (bg_img,'bg_img'), (fg_img, 'fg_img')], max_cols = 2)"
   ]
  },
  {
   "cell_type": "code",
   "execution_count": null,
   "metadata": {
    "collapsed": true
   },
   "outputs": [],
   "source": [
    "def calulateDeltaRatio(img1, img2):\n",
    "    img1_gray = cv2.cvtColor(img1, cv2.COLOR_BGR2GRAY)\n",
    "    img2_gray = cv2.cvtColor(img2, cv2.COLOR_BGR2GRAY)\n",
    "    \n",
    "    delta_img = ip.deltaImage(bg_img, fg_img, 5)\n",
    "    #blue_chan_mean = np.abs(np.mean(blue_chan))\n",
    "    hist = np.bincount(delta_img.ravel(),minlength=256)\n",
    "    ratio = float(hist[-1])/float(hist[0])\n",
    "    return hist[0], hist[1], ratio"
   ]
  },
  {
   "cell_type": "code",
   "execution_count": null,
   "metadata": {
    "collapsed": false,
    "scrolled": true
   },
   "outputs": [],
   "source": [
    "d = stats['deltas']\n",
    "plt.figure(figsize=(10*2,5))\n",
    "plt.plot(stats['deltas'][1:])\n",
    "plt.title('Delta Area')\n",
    "plt.show()\n",
    "np.min(d)\n"
   ]
  },
  {
   "cell_type": "code",
   "execution_count": null,
   "metadata": {
    "collapsed": false
   },
   "outputs": [],
   "source": [
    "plot_lst = []\n",
    "fg_num = 1\n",
    "bg_img = img_lst.images[fg_num-1].copy()\n",
    "fg_img = img_lst.images[fg_num].copy()\n",
    "\n",
    "plot_lst.append( (bg_img, 'Background Image'))\n",
    "plot_lst.append( (fg_img, 'Foreground Image'))\n",
    "\n",
    "cum_img = np.zeros(fg_img.shape[:2], np.bool)\n",
    "\n",
    "#delta_img = cv2.absdiff(bg_img, fg_img)\n",
    "delta_img = ip.deltaImage(bg_img, fg_img, thresh_val=5)\n",
    "plot_lst.append( (delta_img, 'Delta Image'))\n",
    "\n",
    "delta_img_blurred = cv2.GaussianBlur(delta_img, (55, 55), 0)\n",
    "plot_lst.append( (delta_img_blurred, 'Delta Image Blurred'))\n",
    "\n",
    "print \"Count non-zero before: \", np.count_nonzero(cum_img)\n",
    "cum_img = np.logical_or(cum_img, delta_img_blurred)\n",
    "print \"Count non-zero after : \", np.count_nonzero(cum_img)\n",
    "\n",
    "bg_img = fg_img\n",
    "fg_img = img_lst.images[fg_num+1].copy()\n",
    "\n",
    "delta_img = ip.deltaImage(bg_img, fg_img, thresh_val=5)\n",
    "plot_lst.append( (delta_img, 'Delta Image 2'))\n",
    "\n",
    "delta_img_blurred = cv2.GaussianBlur(delta_img, (55, 55), 0)\n",
    "plot_lst.append( (delta_img_blurred, 'Delta Image Blurred 2'))\n",
    "\n",
    "print \"Count non-zero before: \", np.count_nonzero(cum_img)\n",
    "cum_img = np.logical_or(cum_img, delta_img_blurred)\n",
    "print \"Count non-zero after : \", np.count_nonzero(cum_img)\n",
    "\n",
    "util.plot_imgs(plot_lst, color=False, max_cols = 2)"
   ]
  },
  {
   "cell_type": "code",
   "execution_count": null,
   "metadata": {
    "collapsed": false
   },
   "outputs": [],
   "source": [
    "plot_lst = []\n",
    "fg_num = 1\n",
    "bg_img = img_lst.images[fg_num-1].copy()\n",
    "fg_img = img_lst.images[fg_num].copy()\n",
    "\n",
    "plot_lst.append( (bg_img, 'Background Image'))\n",
    "plot_lst.append( (fg_img, 'Foreground Image'))\n",
    "\n",
    "hist = np.bincount(delta_img.ravel(),minlength=256)\n",
    "\n",
    "plt.plot( hist)\n",
    "\n",
    "#rects1 = ax.bar(ind, menMeans, width, color='r', yerr=menStd)\n",
    "\n",
    "blacks = hist[0]\n",
    "whites = hist[-1]\n",
    "ratio = float(whites)/float(blacks)\n",
    "\n",
    "blacks, whites, ratio = calulateDeltaRatio(bg_img, fg_img)\n",
    "print (\"blacks: %d, whites: %d, ratio: %.5f\" % (blacks, whites, ratio))\n",
    "\n",
    "util.plot_imgs(plot_lst, color=False, max_cols = 2)"
   ]
  },
  {
   "cell_type": "code",
   "execution_count": null,
   "metadata": {
    "collapsed": false
   },
   "outputs": [],
   "source": [
    "plot_lst = []\n",
    "fg_num = 8\n",
    "bg_img = img_lst.images[fg_num-1].copy()\n",
    "fg_img = img_lst.images[fg_num].copy()\n",
    "\n",
    "img = np.hstack((bg_img, fg_img))\n",
    "\n",
    "plot_lst.append( (bg_img, 'Background Image'))\n",
    "plot_lst.append( (fg_img, 'Foreground Image'))\n",
    "plot_lst.append( (img, 'hstack Image'))\n",
    "\n",
    "util.plot_imgs(plot_lst, color=False, max_cols = 2)"
   ]
  },
  {
   "cell_type": "code",
   "execution_count": null,
   "metadata": {
    "collapsed": true
   },
   "outputs": [],
   "source": [
    "video_file_path = '/data/projects/contact_front/MR_NewCam/2015-08-04_DFI28.mp4'\n",
    "\n",
    "cap = cv2.VideoCapture(video_file_path)\n",
    "\n",
    "cnt = 0\n",
    "prev_img = None\n",
    "\n",
    "ratios = []\n",
    "while(cap.isOpened()):\n",
    "    ret, new_img = cap.read()\n",
    "    cnt += 1\n",
    "    \n",
    "    if ret:\n",
    "        if prev_img == None:\n",
    "            prev_img = new_img\n",
    "            continue\n",
    "\n",
    "        blacks, whites, ratio = calulateDeltaRatio(prev_img, new_img)\n",
    "        ratios.append(ratio)\n",
    "\n",
    "print \"Done processing \", cnt, \" images...\"\n",
    "print \"Found \", len(ratios), \" data pts:\"\n",
    "plt.figure(figsize=(10*2,5))\n",
    "plt.plot(ratios, color='b')\n",
    "plt.title('RGB mean values from center ROI')"
   ]
  },
  {
   "cell_type": "markdown",
   "metadata": {
    "collapsed": true
   },
   "source": [
    "### "
   ]
  }
 ],
 "metadata": {
  "kernelspec": {
   "display_name": "Python 2",
   "language": "python",
   "name": "python2"
  },
  "language_info": {
   "codemirror_mode": {
    "name": "ipython",
    "version": 2
   },
   "file_extension": ".py",
   "mimetype": "text/x-python",
   "name": "python",
   "nbconvert_exporter": "python",
   "pygments_lexer": "ipython2",
   "version": "2.7.6"
  }
 },
 "nbformat": 4,
 "nbformat_minor": 0
}
