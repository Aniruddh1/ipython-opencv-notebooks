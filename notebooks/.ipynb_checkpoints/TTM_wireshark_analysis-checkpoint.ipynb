{
 "cells": [
  {
   "cell_type": "code",
   "execution_count": 27,
   "metadata": {
    "collapsed": false
   },
   "outputs": [
    {
     "data": {
      "text/html": [
       "\n",
       "<style>\n",
       "    div#notebook-container    { width: 95%; }\n",
       "    div#menubar-container     { width: 65%; }\n",
       "    div#maintoolbar-container { width: 99%; }\n",
       "</style>\n"
      ],
      "text/plain": [
       "<IPython.core.display.HTML object>"
      ]
     },
     "metadata": {},
     "output_type": "display_data"
    }
   ],
   "source": [
    "%matplotlib inline\n",
    "import cv2\n",
    "import numpy as np\n",
    "from matplotlib import pyplot as plt\n",
    "\n",
    "import os\n",
    "import sys\n",
    "import paths\n",
    "sys.path.append(paths.scripts_root)\n",
    "import util\n",
    "\n",
    "from IPython.display import display, HTML\n",
    "\n",
    "display(HTML(data=\"\"\"\n",
    "<style>\n",
    "    div#notebook-container    { width: 95%; }\n",
    "    div#menubar-container     { width: 65%; }\n",
    "    div#maintoolbar-container { width: 99%; }\n",
    "</style>\n",
    "\"\"\"))"
   ]
  },
  {
   "cell_type": "code",
   "execution_count": 63,
   "metadata": {
    "collapsed": false
   },
   "outputs": [
    {
     "name": "stdout",
     "output_type": "stream",
     "text": [
      "Read in 103004 lines from TTM_WS_2017_07_06_7-imprints.csv\n"
     ]
    }
   ],
   "source": [
    "#fnames = ['/home/trafferty/tmp_noback/TTM_Vibration/TTM_Data_2017_06_28/TTM_Data_IMCS_pcap/TTM_Data_2017_06_28_01.csv',\n",
    "#           '/home/trafferty/tmp/TTM_Vibration/TTM_Data_2017_06_28/TTM_Data_IMCS_pcap/TTM_Data_2017_06_28_02.csv',\n",
    "#           '/home/trafferty/tmp/TTM_Vibration/TTM_Data_2017_06_28/TTM_Data_IMCS_pcap/TTM_Data_2017_06_28_03.csv']\n",
    "#fnames = ['/home/trafferty/tmp/TTM_Vibration/TTM_Data_2017_06_28/TTM_WS_2017_06_29_IP8.csv']\n",
    "#fnames = ['/home/trafferty/tmp/TTM_Vibration/TTM_Data_2017_06_28/TTM_WS_2017_06_29_IP8_from_MISC.csv']\n",
    "#fnames = ['/home/trafferty/tmp/TTM_Vibration/TTM_Data_2017_06_28/TTM_Data_IMCS_pcap/TTM_Data_2017_06_28_02_StatusDO-to-MISC.csv']\n",
    "fnames = ['/home/trafferty/tmp/TTM_Vibration/Wireshark_Data_2017_07_06/TTM_WS_2017_07_06_7-imprints.csv']\n",
    "ttm_ws_data = []\n",
    "for fname in fnames:\n",
    "    with open(fname, 'r') as csv_file:\n",
    "        ttm_ws = csv_file.readlines()\n",
    "        ttm_ws_data.append(ttm_ws)\n",
    "        print(\"Read in %d lines from %s\" %(len(ttm_ws), os.path.basename(fname)))\n",
    "        \n",
    "from os.path import expanduser\n",
    "\n",
    "tmp_dir = '%s/tmp' % (expanduser(\"~\"))\n",
    "ws_dir = '%s/workspace' % (expanduser(\"~\"))\n",
    "\n",
    "IMCS_mode = False\n",
    "\n"
   ]
  },
  {
   "cell_type": "code",
   "execution_count": 67,
   "metadata": {
    "collapsed": false
   },
   "outputs": [],
   "source": [
    "def parse_into_data_sets(data):\n",
    "    data_ranges = []\n",
    "    data_sets = []\n",
    "    max_delta = 2\n",
    "    start = 0\n",
    "    cnt = 0\n",
    "    found_first = False\n",
    "\n",
    "    for idx, d in enumerate(data):\n",
    "        if len(d) <= 1:\n",
    "            print(\"Found blank line: \", d)\n",
    "            continue\n",
    "\n",
    "        if found_first == False:\n",
    "            found_first = True\n",
    "            ts_prev = float(d.split(\",\")[1][1:-1])\n",
    "#             cum = 0.0\n",
    "#             data_ts = []\n",
    "        else:\n",
    "            ts = float(d.split(\",\")[1][1:-1])\n",
    "            delta = ts - ts_prev\n",
    "            if delta > max_delta:\n",
    "                end = idx - 1\n",
    "\n",
    "                data_sets.append( [ data[start:end] ] )\n",
    "                data_ranges.append([start, end])\n",
    "                cnt += 1                \n",
    "                ts1 = float(data[start].split(\",\")[1][1:-1])\n",
    "                ts2 = float(data[end].split(\",\")[1][1:-1])\n",
    "                id1 = float(data[start].split(\",\")[0][1:-1])\n",
    "                id2 = float(data[end].split(\",\")[0][1:-1])\n",
    "                print(\"Data set %d, range: %d - %d (WS IDs: %d - %d) (total: %d) elapsed time: %f\" % (cnt, start,end, id1, id2, (end-start), (ts2-ts1)))\n",
    "\n",
    "#                 cum = 0.0\n",
    "#                 data_ts = []\n",
    "                start = idx\n",
    "#             else:\n",
    "#                 cum += delta\n",
    "#                 data_ts.append(cum)\n",
    "            ts_prev = ts\n",
    "\n",
    "    end = idx\n",
    "    data_sets.append( [ data[start:end] ] )\n",
    "    data_ranges.append([start, end])\n",
    "    cnt += 1\n",
    "    ts1 = float(data[start].split(\",\")[1][1:-1])\n",
    "    ts2 = float(data[end].split(\",\")[1][1:-1])\n",
    "    id1 = float(data[start].split(\",\")[0][1:-1])\n",
    "    id2 = float(data[end].split(\",\")[0][1:-1])\n",
    "    print(\"Data set %d, range: %d - %d (WS IDs: %d - %d) (total: %d) elapsed time: %f\" % (cnt, start,end, id1, id2, (end-start), (ts2-ts1)))\n",
    "        \n",
    "    return data_ranges, data_sets\n"
   ]
  },
  {
   "cell_type": "code",
   "execution_count": 68,
   "metadata": {
    "collapsed": true
   },
   "outputs": [],
   "source": [
    "def parse_into_single_data_set(data):\n",
    "    data_ranges = []\n",
    "    data_sets = []\n",
    "    start = 1\n",
    "    end = len(data) - 1\n",
    "    data_sets.append( [ data[start:end] ] )\n",
    "    #data_ranges.append(data[start:idx])\n",
    "    len(data_ranges)\n",
    "        \n",
    "    return data_ranges, data_sets\n"
   ]
  },
  {
   "cell_type": "code",
   "execution_count": 69,
   "metadata": {
    "collapsed": false,
    "scrolled": false
   },
   "outputs": [
    {
     "name": "stdout",
     "output_type": "stream",
     "text": [
      "Parsing into datasets...\n",
      "Data set 11609, range: 0 - 11608 (WS IDs: 10 - 69732) (total: 11608) elapsed time: 30.182303\n",
      "Data set 23101, range: 11609 - 23100 (WS IDs: 69738 - 138747) (total: 11491) elapsed time: 30.189237\n",
      "Data set 34456, range: 23101 - 34455 (WS IDs: 138753 - 207532) (total: 11354) elapsed time: 30.181258\n",
      "Data set 45803, range: 34456 - 45802 (WS IDs: 207538 - 275856) (total: 11346) elapsed time: 30.179969\n",
      "Data set 57225, range: 45803 - 57224 (WS IDs: 275862 - 344748) (total: 11421) elapsed time: 30.176855\n",
      "Data set 68544, range: 57225 - 68543 (WS IDs: 344754 - 412980) (total: 11318) elapsed time: 30.186571\n",
      "Data set 79978, range: 68544 - 79977 (WS IDs: 412986 - 482356) (total: 11433) elapsed time: 30.176993\n",
      "Data set 91586, range: 79978 - 91585 (WS IDs: 482362 - 552073) (total: 11607) elapsed time: 30.191775\n",
      "Data set cnt: 8\n",
      "------------------------------------------------\n",
      "[0][31711, 59.460338000] Delta = 0.017267 (> thresh:0.015000)\n",
      "[1][106743, 113.826950000] Delta = 0.016590 (> thresh:0.015000)\n",
      "[1][111685, 116.270129000] Delta = 0.305024 (> thresh:0.015000)\n",
      "[1][127999, 123.335653000] Delta = 0.017243 (> thresh:0.015000)\n",
      "[2][145031, 153.277454000] Delta = 0.040801 (> thresh:0.015000)\n",
      "[2][148717, 154.888478000] Delta = 0.040597 (> thresh:0.015000)\n",
      "[2][157966, 158.908544000] Delta = 0.016125 (> thresh:0.015000)\n",
      "[2][159888, 159.750911000] Delta = 0.018472 (> thresh:0.015000)\n",
      "[2][165387, 162.145345000] Delta = 0.022254 (> thresh:0.015000)\n",
      "[2][171397, 164.763230000] Delta = 0.024838 (> thresh:0.015000)\n",
      "[2][173149, 165.526837000] Delta = 0.019683 (> thresh:0.015000)\n",
      "[2][173736, 165.785676000] Delta = 0.015845 (> thresh:0.015000)\n",
      "[2][177222, 167.597204000] Delta = 0.304382 (> thresh:0.015000)\n",
      "[2][177349, 167.658591000] Delta = 0.017380 (> thresh:0.015000)\n",
      "[2][197691, 176.470890000] Delta = 0.016008 (> thresh:0.015000)\n",
      "[2][198539, 176.844986000] Delta = 0.020953 (> thresh:0.015000)\n",
      "[3][237973, 216.200425000] Delta = 0.039755 (> thresh:0.015000)\n",
      "[3][238034, 216.238636000] Delta = 0.038211 (> thresh:0.015000)\n",
      "[3][241673, 218.114849000] Delta = 0.301122 (> thresh:0.015000)\n",
      "[3][242754, 218.866044000] Delta = 0.295951 (> thresh:0.015000)\n",
      "[3][248802, 221.474427000] Delta = 0.019315 (> thresh:0.015000)\n",
      "[4][287130, 260.508758000] Delta = 0.015167 (> thresh:0.015000)\n",
      "[4][296133, 264.709326000] Delta = 0.303967 (> thresh:0.015000)\n",
      "[4][296338, 264.791016000] Delta = 0.019164 (> thresh:0.015000)\n",
      "[4][296817, 265.009728000] Delta = 0.040407 (> thresh:0.015000)\n",
      "[4][300284, 266.524386000] Delta = 0.039534 (> thresh:0.015000)\n",
      "[5][358851, 314.215350000] Delta = 0.018799 (> thresh:0.015000)\n",
      "[5][359725, 314.600560000] Delta = 0.019052 (> thresh:0.015000)\n",
      "[5][363061, 316.053283000] Delta = 0.016469 (> thresh:0.015000)\n",
      "[5][368585, 318.757357000] Delta = 0.300767 (> thresh:0.015000)\n",
      "[5][373822, 321.320558000] Delta = 0.306383 (> thresh:0.015000)\n",
      "[5][377934, 323.098428000] Delta = 0.028083 (> thresh:0.015000)\n",
      "[5][404843, 334.783664000] Delta = 0.019872 (> thresh:0.015000)\n",
      "[5][412590, 338.129599000] Delta = 0.017792 (> thresh:0.015000)\n",
      "[6][416750, 362.224090000] Delta = 0.017143 (> thresh:0.015000)\n",
      "[6][424670, 365.665885000] Delta = 0.015094 (> thresh:0.015000)\n",
      "[6][428428, 367.307711000] Delta = 0.016808 (> thresh:0.015000)\n",
      "[6][430081, 368.032585000] Delta = 0.021747 (> thresh:0.015000)\n",
      "[6][433858, 369.675938000] Delta = 0.032793 (> thresh:0.015000)\n",
      "[6][446403, 375.130834000] Delta = 0.024336 (> thresh:0.015000)\n",
      "[6][447741, 375.714852000] Delta = 0.015668 (> thresh:0.015000)\n",
      "[6][453001, 378.017502000] Delta = 0.020562 (> thresh:0.015000)\n",
      "[6][461434, 381.674449000] Delta = 0.015392 (> thresh:0.015000)\n",
      "[6][463849, 382.727353000] Delta = 0.015673 (> thresh:0.015000)\n",
      "[6][470555, 385.649267000] Delta = 0.018626 (> thresh:0.015000)\n",
      "[6][472159, 386.356942000] Delta = 0.040263 (> thresh:0.015000)\n"
     ]
    }
   ],
   "source": [
    "'''\n",
    "    data_set[0] = list, n=len(data_set), raw data from csv: \"105\",\"1366.450402000\",\"192.168.2.11\",\"192.168.2.1\",\"TCP\",\"118\",\"49203 > 5259 [PSH, ACK] Seq=321 Ack=1 Win=256 Len=64\"\n",
    "    data_set[1] = list, n=num of packets with data, deltas between data packets\n",
    "    data_set[1] = list, n=num of packets with data, time stamps\n",
    "    data_set[2] = list, n=num of packets with data, data lengths in packets\n",
    "'''\n",
    " \n",
    "for ttm_ws in ttm_ws_data:\n",
    "    if IMCS_mode:\n",
    "        print(\"IMCS mode indicated; parsing into single dataset\")\n",
    "        data_ranges, data_sets = parse_into_single_data_set(ttm_ws[1:])\n",
    "    else:\n",
    "        print(\"Parsing into datasets...\")\n",
    "        data_ranges, data_sets = parse_into_data_sets(ttm_ws[1:])\n",
    "    \n",
    "    print(\"Data set cnt:\", len(data_sets))\n",
    "    print(\"------------------------------------------------\")\n",
    "    \n",
    "    for ds_num, data_set in enumerate(data_sets):\n",
    "        delay_set = []\n",
    "        packet_len_lst = []\n",
    "        for idx, line in enumerate(data_set[0]):\n",
    "            if idx == 0:\n",
    "                ts_prev = float(line.split(\",\")[1][1:-1])\n",
    "                cum = 0.0\n",
    "                data_ts = []\n",
    "                large_delay_ids = []\n",
    "            else:\n",
    "                idx = line.find(\"Len=\")\n",
    "                if idx >= 0:\n",
    "                    packet_len = int(line[idx:-2].split(\"=\")[1])\n",
    "                    packet_len_lst.append(packet_len)\n",
    "                    \n",
    "                    ts = float(line.split(\",\")[1][1:-1])\n",
    "                    delta = ts - ts_prev\n",
    "                    delay_set.append(delta)\n",
    "                    ts_prev = ts\n",
    "\n",
    "                    cum += delta\n",
    "                    data_ts.append(cum)\n",
    "                    \n",
    "                    thresh = 0.015\n",
    "                    if delta > thresh:\n",
    "                        _id = line.split(\",\")[0][1:-1]\n",
    "                        _ts = line.split(\",\")[1][1:-1]\n",
    "                        large_delay_ids.append( (_id, cum, delta))\n",
    "                        print(\"[%d][%s, %s] Delta = %f (> thresh:%f)\" % (ds_num, _id, _ts, delta, thresh))\n",
    "                    \n",
    "                #else:\n",
    "                    #print(\"Found non-data msg: \", line[:-1])\n",
    "\n",
    "        data_set.append(data_ts)\n",
    "        data_set.append(delay_set)\n",
    "        data_set.append(packet_len_lst)\n",
    "        data_set.append(large_delay_ids)\n",
    "        "
   ]
  },
  {
   "cell_type": "code",
   "execution_count": 59,
   "metadata": {
    "collapsed": false,
    "scrolled": false
   },
   "outputs": [],
   "source": [
    "for idx, data_set in enumerate(data_sets):\n",
    "    print(\"--------------------------------------------------\")\n",
    "    print(\"data_set[%d]:\" % idx)\n",
    "    raw =data_set[0]\n",
    "    ts = data_set[1]\n",
    "    deltas = data_set[2]\n",
    "    packet_len = data_set[3]\n",
    "    large_delay_ids = data_set[4]\n",
    "\n",
    "    print(\"  Number of raw lines in data_set :\", len(raw))\n",
    "    print(\"  Number of delta pts             :\", len(deltas))\n",
    "    print(\"  Number of time stamps           :\", len(ts))\n",
    "    print(\"  Number of lines with packet data:\", len(packet_len))\n",
    "    if len(large_delay_ids) > 0:\n",
    "        print(\"  Delays occured at: \")\n",
    "        for large_delay_id in large_delay_ids:\n",
    "            print(\"   Wireshark id: %s, ts: %.3f, delay: %f\" % (large_delay_id[0], float(large_delay_id[1]), large_delay_id[2]))"
   ]
  },
  {
   "cell_type": "code",
   "execution_count": 53,
   "metadata": {
    "collapsed": false,
    "scrolled": false
   },
   "outputs": [
    {
     "name": "stdout",
     "output_type": "stream",
     "text": [
      "Creating PDF (/home/trafferty/tmp/IMCS_traffic_2017_07_06_14-imprints.pdf) with 1 pages.\n",
      "Total plots: 1, plots per page: 1\n",
      "0\n",
      "Saving pdf...\n"
     ]
    },
    {
     "data": {
      "image/png": "[encoded data removed]",
      "text/plain": [
       "<matplotlib.figure.Figure at 0x7f416e12b748>"
      ]
     },
     "metadata": {},
     "output_type": "display_data"
    }
   ],
   "source": [
    "num_plots = len(data_sets)\n",
    "save_pdf = True\n",
    "\n",
    "if save_pdf:\n",
    "    plot_file_pdf = \"%s/%s.pdf\" % (tmp_dir, os.path.basename(fnames[0][0:-4]))\n",
    "    from matplotlib.backends.backend_pdf import PdfPages\n",
    "    import datetime\n",
    "    pdf = PdfPages(plot_file_pdf)\n",
    "    # set the file's metadata via the PdfPages object:\n",
    "    d = pdf.infodict() \n",
    "    d['Title'] = os.path.basename(fnames[0][0:-4])\n",
    "    d['Author'] = 'Tom Rafferty'\n",
    "    d['Subject'] = 'TTM IP8 Interface Analysis'\n",
    "    d['CreationDate'] = datetime.datetime.today()\n",
    "    d['ModDate'] = datetime.datetime.today()\n",
    "\n",
    "    # setup vars to control page layout\n",
    "    plots_per_page = num_plots\n",
    "    num_pages = np.ceil(num_plots / plots_per_page)\n",
    "    nb_pages = int(np.ceil(num_plots / float(plots_per_page)))\n",
    "    grid_size = (plots_per_page, 1)\n",
    "\n",
    "    print(\"Creating PDF (%s) with %d pages.\" % (plot_file_pdf, num_pages))\n",
    "    print(\"Total plots: %d, plots per page: %d\" % (num_plots, plots_per_page))\n",
    "\n",
    "    fig, axes = plt.subplots(nrows=num_plots, ncols=1, squeeze=True, figsize=(18,(5*num_plots)))\n",
    "\n",
    "for idx, data_set in enumerate(data_sets):\n",
    "    if len(data_set[0]) ==0:\n",
    "        continue\n",
    "        \n",
    "    print(idx)\n",
    "    if num_plots > 1:\n",
    "        ax1 = axes[idx]\n",
    "    else:\n",
    "        ax1 = axes\n",
    "\n",
    "    ax1.plot(data_set[1], data_set[2], color='b', label='delay')\n",
    "    ax1.set_xlabel('time (s)')\n",
    "    # Make the y-axis label, ticks and tick labels match the line color.\n",
    "    ax1.set_ylabel('delay between TTM data (s)', color='b')\n",
    "    ax1.tick_params('y', colors='b')\n",
    "    ax1.set_title(os.path.basename(fnames[0][0:-4]))\n",
    "    leg1 = ax1.legend(loc='upper left', shadow=True)\n",
    "\n",
    "#     ax2 = ax1.twinx()\n",
    "#     ax2.plot(data_set[1], data_set[3],  color='c', label='packet size')\n",
    "#     ax2.set_ylabel('packet size', color='m')\n",
    "#     ax2.tick_params('y', colors='m')\n",
    "#     leg2 = ax2.legend(loc='upper right', shadow=True)\n",
    "\n",
    "if save_pdf:\n",
    "#         for fig in figs:\n",
    "#             fig.savefig(pdf, format='pdf')\n",
    "    print(\"Saving pdf...\")\n",
    "    fig.savefig(pdf, format='pdf')\n",
    "    pdf.close()\n"
   ]
  },
  {
   "cell_type": "code",
   "execution_count": null,
   "metadata": {
    "collapsed": true
   },
   "outputs": [],
   "source": []
  },
  {
   "cell_type": "code",
   "execution_count": null,
   "metadata": {
    "collapsed": true
   },
   "outputs": [],
   "source": [
    "# delay_sets = []\n",
    "# for ttm_ws in ttm_ws_data:\n",
    "#     delay_set = []\n",
    "#     for idx, line in enumerate(ttm_ws[1:]):\n",
    "#         if idx == 0:\n",
    "#             ts_prev = float(line.split(\",\")[1][1:-1])\n",
    "#         else:\n",
    "#             ts = float(line.split(\",\")[1][1:-1])\n",
    "#             delay_set.append(ts - ts_prev)\n",
    "#             ts_prev = ts\n",
    "#     delay_sets.append(delay_set)\n",
    "    \n",
    "# print(\"Delay set cnt:\", len(delay_sets))"
   ]
  }
 ],
 "metadata": {
  "kernelspec": {
   "display_name": "Python [default]",
   "language": "python",
   "name": "python3"
  },
  "language_info": {
   "codemirror_mode": {
    "name": "ipython",
    "version": 3
   },
   "file_extension": ".py",
   "mimetype": "text/x-python",
   "name": "python",
   "nbconvert_exporter": "python",
   "pygments_lexer": "ipython3",
   "version": "3.5.2"
  }
 },
 "nbformat": 4,
 "nbformat_minor": 0
}
