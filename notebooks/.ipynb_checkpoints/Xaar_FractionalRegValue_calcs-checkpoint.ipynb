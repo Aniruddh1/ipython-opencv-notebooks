{
 "cells": [
  {
   "cell_type": "markdown",
   "metadata": {},
   "source": [
    "### Xaar FractionalRegValue Fun"
   ]
  },
  {
   "cell_type": "markdown",
   "metadata": {},
   "source": [
    "##### From Xaar document\n",
    " - In order to calculate the suitable encoder it is advisable to calculate back from the required cycle frequency (85039.37 Hz)\n",
    "    - Selecting the Printengine Divide (i.e. the number of subpixels) to 255 and the Prescale Divide to 1 gives a frequency of 21.7 MHz (which is <50 MHz)\n",
    "    - Now the input frequency needs to be multiplied with Multiply and Fractional Multiply to exactly this value. (for instance by choosing Multiply 40 and Fractional Multiply 0.542125984)\n",
    "    - This yields exactly the desired cycle frequency. To vary this now one can use the Fractional Multiply to get to very high resolutions. These are, however, limited to resolution of printhead electronics (expected to be ~85 ns).\n",
    " - The when using subpixels the offsets need to be multiplied with the respective number of subpixels.\n",
    " - Quadrature is not necessary for the application as direction is not evaluated.\n",
    " - PD inverts cycle order in Bidriectional-2PD mode"
   ]
  },
  {
   "cell_type": "markdown",
   "metadata": {},
   "source": [
    "### Definition of functions"
   ]
  },
  {
   "cell_type": "code",
   "execution_count": 4,
   "metadata": {
    "collapsed": true
   },
   "outputs": [],
   "source": [
    "'''\n",
    "  Define the functions to convert from one form to the other and vice versa\n",
    "'''\n",
    "mask = 0x7fffffff\n",
    "\n",
    "def calcFracMultiply(fracRegVal):\n",
    "    return 1.0 - (0.5 * fracRegVal / mask)\n",
    "\n",
    "def calcFracRegVal_orig(fracMultiply):\n",
    "    return (((1.0 - fracMultiply)/0.5) * mask)\n",
    "\n",
    "#    ie, 211360\n",
    "def calcFracRegVal(fracMultiply):\n",
    "    return ( (mask * (1.0 - fracMultiply)) / 0.5 )"
   ]
  },
  {
   "cell_type": "code",
   "execution_count": 5,
   "metadata": {
    "collapsed": false
   },
   "outputs": [
    {
     "name": "stdout",
     "output_type": "stream",
     "text": [
      "-------- Test Data ------------------ Calc Data ------------- Delta -------------\n",
      "(    211360, +0.99921300), (   3380139, +0.99995079), (   3168779, +0.00073779)\n",
      "(  11625168, +0.95669300), ( 186002148, +0.99729330), ( 174376980, +0.04060030)\n"
     ]
    }
   ],
   "source": [
    "'''\n",
    "    Test data taken from XUSB.XML files\n",
    "'''\n",
    "testData = [(211360, 0.999213), (11625168, 0.956693) ]\n",
    "\n",
    "print(\"-------- Test Data ------------------ Calc Data ------------- Delta -------------\")\n",
    "for t in testData:\n",
    "    c = ( calcFracRegVal(t[1]), calcFracMultiply(t[0]) )\n",
    "    delta = ( abs(t[0]-c[0]), abs(t[1]-c[1]) )\n",
    "    print(\"(%10d, %+.8f), (%10d, %+.8f), (%10d, %+.8f)\" % (t[0], t[1], c[0], c[1], delta[0], delta[1]))"
   ]
  },
  {
   "cell_type": "code",
   "execution_count": 6,
   "metadata": {
    "collapsed": false
   },
   "outputs": [
    {
     "data": {
      "text/plain": [
       "[0.5,\n",
       " 0.51,\n",
       " 0.52,\n",
       " 0.542125984,\n",
       " 0.55,\n",
       " 0.6,\n",
       " 0.65,\n",
       " 0.7,\n",
       " 0.75,\n",
       " 0.8,\n",
       " 0.85,\n",
       " 0.9,\n",
       " 0.95,\n",
       " 0.97,\n",
       " 0.98,\n",
       " 0.99,\n",
       " 0.999999,\n",
       " 1.0]"
      ]
     },
     "execution_count": 6,
     "metadata": {},
     "output_type": "execute_result"
    }
   ],
   "source": [
    "'''\n",
    "  Create a range of values for testing function\n",
    "'''\n",
    "fracMultiplys = [x / 100.0 for x in range(50, 105, 5)]\n",
    "\n",
    "# now add some corner cases\n",
    "fracMultiplys.append(0.97)\n",
    "fracMultiplys.append(0.98)\n",
    "fracMultiplys.append(0.99)\n",
    "fracMultiplys.append(0.999999)\n",
    "fracMultiplys.append(0.51)\n",
    "fracMultiplys.append(0.52)\n",
    "fracMultiplys.append(0.542125984)\n",
    "fracMultiplys.sort()\n",
    "fracMultiplys"
   ]
  },
  {
   "cell_type": "code",
   "execution_count": 7,
   "metadata": {
    "collapsed": false
   },
   "outputs": [
    {
     "name": "stdout",
     "output_type": "stream",
     "text": [
      "fracMultiply: +0.500, fracRegVal: 2147483647 (0x7fffffff)\n",
      "fracMultiply: +0.510, fracRegVal: 2104533974 (0x7d70a3d6)\n",
      "fracMultiply: +0.520, fracRegVal: 2061584301 (0x7ae147ad)\n",
      "fracMultiply: +0.542, fracRegVal: 1966553923 (0x75373b43)\n",
      "fracMultiply: +0.550, fracRegVal: 1932735282 (0x73333332)\n",
      "fracMultiply: +0.600, fracRegVal: 1717986917 (0x66666665)\n",
      "fracMultiply: +0.650, fracRegVal: 1503238552 (0x59999998)\n",
      "fracMultiply: +0.700, fracRegVal: 1288490188 (0x4ccccccc)\n",
      "fracMultiply: +0.750, fracRegVal: 1073741823 (0x3fffffff)\n",
      "fracMultiply: +0.800, fracRegVal:  858993458 (0x33333332)\n",
      "fracMultiply: +0.850, fracRegVal:  644245094 (0x26666666)\n",
      "fracMultiply: +0.900, fracRegVal:  429496729 (0x19999999)\n",
      "fracMultiply: +0.950, fracRegVal:  214748364 ( 0xccccccc)\n",
      "fracMultiply: +0.970, fracRegVal:  128849018 ( 0x7ae147a)\n",
      "fracMultiply: +0.980, fracRegVal:   85899345 ( 0x51eb851)\n",
      "fracMultiply: +0.990, fracRegVal:   42949672 ( 0x28f5c28)\n",
      "fracMultiply: +1.000, fracRegVal:       4294 (    0x10c6)\n",
      "fracMultiply: +1.000, fracRegVal:          0 (       0x0)\n"
     ]
    }
   ],
   "source": [
    "calculatedFracRegVals = []\n",
    "for fracMultiply in fracMultiplys:\n",
    "    fracRegVal = calcFracRegVal(fracMultiply)\n",
    "    calculatedFracRegVals.append(fracRegVal)\n",
    "    print(\"fracMultiply: %+.3f, fracRegVal: %10d (%10s)\" % (fracMultiply, int(fracRegVal), hex(int(fracRegVal))))"
   ]
  },
  {
   "cell_type": "code",
   "execution_count": 8,
   "metadata": {
    "collapsed": false
   },
   "outputs": [
    {
     "name": "stdout",
     "output_type": "stream",
     "text": [
      "fracMultiply: +0.500, fracRegVal: 2147483647 (0x7fffffff)\n",
      "fracMultiply: +0.510, fracRegVal: 2104533974 (0x7d70a3d6)\n",
      "fracMultiply: +0.520, fracRegVal: 2061584301 (0x7ae147ad)\n",
      "fracMultiply: +0.542, fracRegVal: 1966553923 (0x75373b43)\n",
      "fracMultiply: +0.550, fracRegVal: 1932735282 (0x73333332)\n",
      "fracMultiply: +0.600, fracRegVal: 1717986917 (0x66666665)\n",
      "fracMultiply: +0.650, fracRegVal: 1503238552 (0x59999998)\n",
      "fracMultiply: +0.700, fracRegVal: 1288490188 (0x4ccccccc)\n",
      "fracMultiply: +0.750, fracRegVal: 1073741823 (0x3fffffff)\n",
      "fracMultiply: +0.800, fracRegVal:  858993458 (0x33333332)\n",
      "fracMultiply: +0.850, fracRegVal:  644245094 (0x26666666)\n",
      "fracMultiply: +0.900, fracRegVal:  429496729 (0x19999999)\n",
      "fracMultiply: +0.950, fracRegVal:  214748364 ( 0xccccccc)\n",
      "fracMultiply: +0.970, fracRegVal:  128849018 ( 0x7ae147a)\n",
      "fracMultiply: +0.980, fracRegVal:   85899345 ( 0x51eb851)\n",
      "fracMultiply: +0.990, fracRegVal:   42949672 ( 0x28f5c28)\n",
      "fracMultiply: +1.000, fracRegVal:       4294 (    0x10c6)\n",
      "fracMultiply: +1.000, fracRegVal:          0 (       0x0)\n"
     ]
    }
   ],
   "source": [
    "calculatedFracMultiplys = []\n",
    "for fracRegVal in calculatedFracRegVals:\n",
    "    fracMultiply = calcFracMultiply(int(fracRegVal))\n",
    "    calculatedFracMultiplys.append(fracMultiply)\n",
    "    print(\"fracMultiply: %+.3f, fracRegVal: %10d (%10s)\" % (fracMultiply, int(fracRegVal), hex(int(fracRegVal))))"
   ]
  },
  {
   "cell_type": "code",
   "execution_count": 9,
   "metadata": {
    "collapsed": true
   },
   "outputs": [],
   "source": [
    "%matplotlib inline\n",
    "from matplotlib import pyplot as plt"
   ]
  },
  {
   "cell_type": "code",
   "execution_count": 10,
   "metadata": {
    "collapsed": false
   },
   "outputs": [
    {
     "data": {
      "image/png": "[encoded data removed]",
      "text/plain": [
       "<matplotlib.figure.Figure at 0x7f8e998ef160>"
      ]
     },
     "metadata": {},
     "output_type": "display_data"
    }
   ],
   "source": [
    "calculatedFracRegVals\n",
    "calculatedFracMultiplys\n",
    "plt.figure(figsize=(10*2,5))\n",
    "plt.plot(calculatedFracRegVals, calculatedFracMultiplys, color='b')\n",
    "plt.title('Calculated FracRegVals vs Calculated FracMultiply Values')\n",
    "plt.xlabel('Calculated FracRegVals (1e8)')\n",
    "plt.ylabel('Calculated FracMultiply Values')\n",
    "plt.show()"
   ]
  },
  {
   "cell_type": "markdown",
   "metadata": {},
   "source": [
    "### How to calculate Head Cycle Freq from given external encoder frequency"
   ]
  },
  {
   "cell_type": "code",
   "execution_count": 11,
   "metadata": {
    "collapsed": false
   },
   "outputs": [
    {
     "name": "stdout",
     "output_type": "stream",
     "text": [
      "Head_cycle_freq_Hz  = 85039.37\n",
      "Comparable int freq = 28346.46\n",
      "FractionalRegVal    = 1966553923\n"
     ]
    }
   ],
   "source": [
    "# input freq is from encoder or function gen\n",
    "input_freq_Hz = 1e6\n",
    "\n",
    "# Xaar/XPM \"multiply\" variables\n",
    "FractionalMultiply = 0.542125984\n",
    "Multiply = 40\n",
    "\n",
    "# Xaar/XPM \"divide\" variables\n",
    "Prescaler_divide = 1\n",
    "PrintEngine_divide = 255\n",
    "\n",
    "Head_cycle_freq_Hz = (input_freq_Hz * FractionalMultiply * Multiply) / Prescaler_divide / PrintEngine_divide\n",
    "\n",
    "print(\"Head_cycle_freq_Hz  = %.2f\" % (Head_cycle_freq_Hz))\n",
    "print(\"Comparable int freq = %.2f\" % (Head_cycle_freq_Hz / 3))\n",
    "print(\"FractionalRegVal    = %d\" % (calcFracRegVal(FractionalMultiply)))\n"
   ]
  },
  {
   "cell_type": "code",
   "execution_count": 12,
   "metadata": {
    "collapsed": false
   },
   "outputs": [
    {
     "name": "stdout",
     "output_type": "stream",
     "text": [
      "Producing 21 value between 1769898530 and 2163209315\n",
      "Adding fracRegVal (1769898530) with expected head cycle freq (Hz) of 92221.71\n",
      "Adding fracRegVal (1788627615) with expected head cycle freq (Hz) of 91537.68\n",
      "Adding fracRegVal (1807356700) with expected head cycle freq (Hz) of 90853.64\n",
      "Adding fracRegVal (1826085785) with expected head cycle freq (Hz) of 90169.61\n",
      "Adding fracRegVal (1844814870) with expected head cycle freq (Hz) of 89485.58\n",
      "Adding fracRegVal (1863543955) with expected head cycle freq (Hz) of 88801.55\n",
      "Adding fracRegVal (1882273040) with expected head cycle freq (Hz) of 88117.51\n",
      "Adding fracRegVal (1901002125) with expected head cycle freq (Hz) of 87433.48\n",
      "Adding fracRegVal (1919731210) with expected head cycle freq (Hz) of 86749.45\n",
      "Adding fracRegVal (1938460295) with expected head cycle freq (Hz) of 86065.42\n",
      "Adding fracRegVal (1957189380) with expected head cycle freq (Hz) of 85381.39\n",
      "Adding fracRegVal (1975918465) with expected head cycle freq (Hz) of 84697.35\n",
      "Adding fracRegVal (1994647550) with expected head cycle freq (Hz) of 84013.32\n",
      "Adding fracRegVal (2013376635) with expected head cycle freq (Hz) of 83329.29\n",
      "Adding fracRegVal (2032105720) with expected head cycle freq (Hz) of 82645.26\n",
      "Adding fracRegVal (2050834805) with expected head cycle freq (Hz) of 81961.23\n",
      "Adding fracRegVal (2069563890) with expected head cycle freq (Hz) of 81277.19\n",
      "Adding fracRegVal (2088292975) with expected head cycle freq (Hz) of 80593.16\n",
      "Adding fracRegVal (2107022060) with expected head cycle freq (Hz) of 79909.13\n",
      "Adding fracRegVal (2125751145) with expected head cycle freq (Hz) of 79225.10\n",
      "Adding fracRegVal (2144480230) with expected head cycle freq (Hz) of 78541.06\n"
     ]
    }
   ],
   "source": [
    "nominal_fracRegValue = 1966553923\n",
    "range_per = 0.10\n",
    "num = 10\n",
    "\n",
    "lower_fracRegVal = int(nominal_fracRegValue - ((nominal_fracRegValue*range_per)))\n",
    "upper_fracRegVal = int(nominal_fracRegValue + ((nominal_fracRegValue*range_per)))\n",
    "print(\"Producing %d value between %d and %d\" % ((num*2+1), lower_fracRegVal, upper_fracRegVal))\n",
    "\n",
    "fracRegVal_freq_pairs= []\n",
    "for fracRegVal in range(lower_fracRegVal, upper_fracRegVal, int((upper_fracRegVal-lower_fracRegVal)/((num*2)+1))):\n",
    "    if fracRegVal <= mask:\n",
    "        Head_cycle_freq_Hz = (input_freq_Hz * calcFracMultiply(fracRegVal) * Multiply) / Prescaler_divide / PrintEngine_divide\n",
    "        print(\"Adding fracRegVal (%d) with expected head cycle freq (Hz) of %.2f\" % (fracRegVal, Head_cycle_freq_Hz))\n",
    "        fracRegVal_freq_pairs.append( (fracRegVal, Head_cycle_freq_Hz) )\n",
    "    else:\n",
    "        print(\"fracRegVal (%d) > max value, skipping\" % (fracRegVal))\n"
   ]
  },
  {
   "cell_type": "code",
   "execution_count": 13,
   "metadata": {
    "collapsed": false
   },
   "outputs": [
    {
     "name": "stdout",
     "output_type": "stream",
     "text": [
      "Using base settings: \n",
      "  input_freq_Hz      = 1000000\n",
      "  Multiply           = 40\n",
      "  Prescaler_divide   = 1\n",
      "  PrintEngine_divide = 255\n",
      "-----------------------------------------------\n",
      "  Using fracRegVal (1769898530), expected head cycle freq (Hz) of 92221.71\n",
      "  Using fracRegVal (1788627615), expected head cycle freq (Hz) of 91537.68\n",
      "  Using fracRegVal (1807356700), expected head cycle freq (Hz) of 90853.64\n",
      "  Using fracRegVal (1826085785), expected head cycle freq (Hz) of 90169.61\n",
      "  Using fracRegVal (1844814870), expected head cycle freq (Hz) of 89485.58\n",
      "  Using fracRegVal (1863543955), expected head cycle freq (Hz) of 88801.55\n",
      "  Using fracRegVal (1882273040), expected head cycle freq (Hz) of 88117.51\n",
      "  Using fracRegVal (1901002125), expected head cycle freq (Hz) of 87433.48\n",
      "  Using fracRegVal (1919731210), expected head cycle freq (Hz) of 86749.45\n",
      "  Using fracRegVal (1938460295), expected head cycle freq (Hz) of 86065.42\n",
      "  Using fracRegVal (1957189380), expected head cycle freq (Hz) of 85381.39\n",
      "  Using fracRegVal (1975918465), expected head cycle freq (Hz) of 84697.35\n",
      "  Using fracRegVal (1994647550), expected head cycle freq (Hz) of 84013.32\n",
      "  Using fracRegVal (2013376635), expected head cycle freq (Hz) of 83329.29\n",
      "  Using fracRegVal (2032105720), expected head cycle freq (Hz) of 82645.26\n",
      "  Using fracRegVal (2050834805), expected head cycle freq (Hz) of 81961.23\n",
      "  Using fracRegVal (2069563890), expected head cycle freq (Hz) of 81277.19\n",
      "  Using fracRegVal (2088292975), expected head cycle freq (Hz) of 80593.16\n",
      "  Using fracRegVal (2107022060), expected head cycle freq (Hz) of 79909.13\n",
      "  Using fracRegVal (2125751145), expected head cycle freq (Hz) of 79225.10\n",
      "  Using fracRegVal (2144480230), expected head cycle freq (Hz) of 78541.06\n"
     ]
    }
   ],
   "source": [
    "print(\"Using base settings: \")\n",
    "print(\"  input_freq_Hz      = %d\" % (input_freq_Hz))\n",
    "print(\"  Multiply           = %d\" % (Multiply))\n",
    "print(\"  Prescaler_divide   = %d\" % (Prescaler_divide))\n",
    "print(\"  PrintEngine_divide = %d\" % (PrintEngine_divide))\n",
    "print(\"-----------------------------------------------\")\n",
    "for fracRegVal_freq_pair in fracRegVal_freq_pairs:\n",
    "    print(\"  Using fracRegVal (%d), expected head cycle freq (Hz) of %.2f\" % (fracRegVal_freq_pair[0], fracRegVal_freq_pair[1]))  \n"
   ]
  },
  {
   "cell_type": "code",
   "execution_count": null,
   "metadata": {
    "collapsed": true
   },
   "outputs": [],
   "source": []
  }
 ],
 "metadata": {
  "kernelspec": {
   "display_name": "Python 3",
   "language": "python",
   "name": "python3"
  },
  "language_info": {
   "codemirror_mode": {
    "name": "ipython",
    "version": 3
   },
   "file_extension": ".py",
   "mimetype": "text/x-python",
   "name": "python",
   "nbconvert_exporter": "python",
   "pygments_lexer": "ipython3",
   "version": "3.4.3"
  }
 },
 "nbformat": 4,
 "nbformat_minor": 0
}
