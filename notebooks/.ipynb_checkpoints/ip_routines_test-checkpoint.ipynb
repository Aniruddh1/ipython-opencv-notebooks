{
 "cells": [
  {
   "cell_type": "code",
   "execution_count": 1,
   "metadata": {
    "collapsed": false
   },
   "outputs": [],
   "source": [
    "%matplotlib inline\n",
    "%load_ext autoreload\n",
    "%autoreload 2\n",
    "import cv2\n",
    "import scipy.ndimage\n",
    "import numpy as np\n",
    "from matplotlib import pyplot as plt\n",
    "import glob\n",
    "import math\n",
    "\n",
    "import sys\n",
    "sys.path.append('../scripts')\n",
    "import util\n",
    "import ip_routines as ip\n",
    "\n",
    "cols = 1232\n",
    "rows = 1018"
   ]
  },
  {
   "cell_type": "code",
   "execution_count": 3,
   "metadata": {
    "collapsed": false
   },
   "outputs": [
    {
     "name": "stdout",
     "output_type": "stream",
     "text": [
      "[(616, 511, 213), (622, 527, 223), (605, 502, 241), (626, 506, 201), (598, 506, 224), (614, 501, 221), (598, 491, 245), (615, 526, 216), (616, 525, 208)]\n"
     ]
    }
   ],
   "source": [
    "from random import randint\n",
    "circle_coords = [(randint(cols/2-20, cols/2+20), randint(rows/2-20, rows/2+20), randint(200, 250) ) for i in range(0,9)]\n",
    "print(circle_coords)"
   ]
  },
  {
   "cell_type": "code",
   "execution_count": 8,
   "metadata": {
    "collapsed": false
   },
   "outputs": [
    {
     "name": "stdout",
     "output_type": "stream",
     "text": [
      "[[ 833.55555556  510.55555556]\n",
      " [ 768.66666667  667.        ]\n",
      " [ 390.88888889  510.55555556]\n",
      " [ 455.77777778  667.        ]\n",
      " [ 455.77777778  354.11111111]\n",
      " [ 768.66666667  354.11111111]]\n"
     ]
    },
    {
     "ename": "error",
     "evalue": "/usr/local/src/opencv/modules/imgproc/src/shapedescr.cpp:345: error: (-215) n >= 0 && (depth == CV_32F || depth == CV_32S) in function fitEllipse\n",
     "output_type": "error",
     "traceback": [
      "\u001b[1;31m---------------------------------------------------------------------------\u001b[0m",
      "\u001b[1;31merror\u001b[0m                                     Traceback (most recent call last)",
      "\u001b[1;32m<ipython-input-8-8db35135b8ff>\u001b[0m in \u001b[0;36m<module>\u001b[1;34m()\u001b[0m\n\u001b[0;32m     29\u001b[0m \u001b[0mellipse_fit_pts\u001b[0m \u001b[1;33m=\u001b[0m \u001b[0mnp\u001b[0m\u001b[1;33m.\u001b[0m\u001b[0marray\u001b[0m\u001b[1;33m(\u001b[0m\u001b[0mpt_averages\u001b[0m\u001b[1;33m[\u001b[0m\u001b[1;36m1\u001b[0m\u001b[1;33m:\u001b[0m\u001b[1;33m]\u001b[0m\u001b[1;33m)\u001b[0m\u001b[1;33m\u001b[0m\u001b[0m\n\u001b[0;32m     30\u001b[0m \u001b[0mprint\u001b[0m\u001b[1;33m(\u001b[0m\u001b[0mellipse_fit_pts\u001b[0m\u001b[1;33m)\u001b[0m\u001b[1;33m\u001b[0m\u001b[0m\n\u001b[1;32m---> 31\u001b[1;33m \u001b[0mellipse\u001b[0m \u001b[1;33m=\u001b[0m \u001b[0mcv2\u001b[0m\u001b[1;33m.\u001b[0m\u001b[0mfitEllipse\u001b[0m\u001b[1;33m(\u001b[0m\u001b[0mellipse_fit_pts\u001b[0m\u001b[1;33m)\u001b[0m\u001b[1;33m\u001b[0m\u001b[0m\n\u001b[0m\u001b[0;32m     32\u001b[0m \u001b[1;33m\u001b[0m\u001b[0m\n\u001b[0;32m     33\u001b[0m \u001b[0mutil\u001b[0m\u001b[1;33m.\u001b[0m\u001b[0mplot_imgs\u001b[0m\u001b[1;33m(\u001b[0m\u001b[1;33m[\u001b[0m\u001b[1;33m(\u001b[0m\u001b[0mdebug_img\u001b[0m\u001b[1;33m,\u001b[0m \u001b[1;34m'Output Image'\u001b[0m\u001b[1;33m)\u001b[0m\u001b[1;33m]\u001b[0m\u001b[1;33m,\u001b[0m \u001b[0mcolor\u001b[0m\u001b[1;33m=\u001b[0m\u001b[1;32mTrue\u001b[0m\u001b[1;33m)\u001b[0m\u001b[1;33m\u001b[0m\u001b[0m\n",
      "\u001b[1;31merror\u001b[0m: /usr/local/src/opencv/modules/imgproc/src/shapedescr.cpp:345: error: (-215) n >= 0 && (depth == CV_32F || depth == CV_32S) in function fitEllipse\n"
     ]
    }
   ],
   "source": [
    "debug_img = np.zeros((rows, cols, 3), np.uint8)\n",
    "\n",
    "pt_clusters=[ []  for x in range(7) ]\n",
    "pt_averages=[ ]\n",
    "\n",
    "# loop over the (x, y) coordinates and radius of the circles\n",
    "for (x, y, r) in circle_coords:\n",
    "    #print \"Center: \", (x,y), \" Radius: \", r\n",
    "    pts = ip.findPtsOnCircle((x, y), r)\n",
    "    pts = np.uint16(np.around(pts, 0))\n",
    "    #print pts\n",
    "    pt_clusters[0].append( (x,y) )\n",
    "    for idx, pt in enumerate(pts):\n",
    "        cv2.circle(debug_img, (pt[0], pt[1]), 5, (0,0,255),5)\n",
    "        pt_clusters[idx+1].append( (pt[0], pt[1]) )\n",
    "\n",
    "    # draw the outer circle\n",
    "    cv2.circle(debug_img, (x, y), r, (0, 255, 0), 2)\n",
    "    # draw the center of the circle\n",
    "    cv2.circle(debug_img, (x, y), 2, (0,0,255),3)\n",
    "    \n",
    "#print pt_clusters\n",
    "#print \"  >>> len(pt_clusters) = \", len(pt_clusters)\n",
    "for pt_cluster in pt_clusters:\n",
    "    #print \"    >>> len(pt_cluster) = \", len(pt_cluster)\n",
    "    pt_averages.append(ip.findAvePt(pt_cluster))\n",
    "#pt_averages = np.uint16(np.around(pt_averages, 0))\n",
    "#print(pt_averages)\n",
    "ellipse_fit_pts = np.array(pt_averages[1:]) \n",
    "print(ellipse_fit_pts)\n",
    "ellipse = cv2.fitEllipse(ellipse_fit_pts) \n",
    "\n",
    "util.plot_imgs([(debug_img, 'Output Image')], color=True)"
   ]
  },
  {
   "cell_type": "code",
   "execution_count": null,
   "metadata": {
    "collapsed": true
   },
   "outputs": [],
   "source": []
  },
  {
   "cell_type": "code",
   "execution_count": null,
   "metadata": {
    "collapsed": true
   },
   "outputs": [],
   "source": []
  }
 ],
 "metadata": {
  "kernelspec": {
   "display_name": "Python 3",
   "language": "python",
   "name": "python3"
  },
  "language_info": {
   "codemirror_mode": {
    "name": "ipython",
    "version": 3
   },
   "file_extension": ".py",
   "mimetype": "text/x-python",
   "name": "python",
   "nbconvert_exporter": "python",
   "pygments_lexer": "ipython3",
   "version": "3.4.4"
  }
 },
 "nbformat": 4,
 "nbformat_minor": 0
}
