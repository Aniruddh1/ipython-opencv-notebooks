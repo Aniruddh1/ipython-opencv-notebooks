{
 "cells": [
  {
   "cell_type": "code",
   "execution_count": 1,
   "metadata": {},
   "outputs": [],
   "source": [
    "import sys\n",
    "from paths import Paths\n",
    "paths = Paths()\n",
    "sys.path.append(paths.scripts_root)\n",
    "import util\n"
   ]
  },
  {
   "cell_type": "markdown",
   "metadata": {},
   "source": [
    "#### Waveform Variable Range Table\n",
    "\n",
    "|Var  |BI |AA |AB  |AC  |AD   |AE  |AF  |WT   |CA  |HT  |CB  |PA  |CC   |PB   |CD  |PC   |CE   |PD   |CF  |\n",
    "|-----|:---:|:---:|:---:|:---:|:---:|:---:|:---:|:---:|:---:|:---:|:---:|:---:|:---:|:---:|:---:|:---:|:---:|:---:|:---:|\n",
    "|Val 1| 20|10 | -25| 15 | -6  |3.6 |2.4 |1    |0.4 |0.6 |1   |0.1 |0.5  |0.2  |0.5 |0.3  |1    |1    | 0.5|\n",
    "|Val 2|30 |5  |-10 |10  |-3.6 |-5  |3.6 |0.1  |1   |1.5 |1.5 |0.3 |0.8  |0.7  |1   |1.2  |1.5  |1.5  | 1.2|\n",
    "|Fxn  |-|-|- |- |-  |- |- |CBxAF|- |- |- |- |HTxAE|CAxPD|- |-  |BIxCD|AAxPC|- |\n",
    "\n"
   ]
  },
  {
   "cell_type": "code",
   "execution_count": 2,
   "metadata": {},
   "outputs": [],
   "source": [
    "WF_var_ranges = {\n",
    "\"BI\": [20  , 30  , []],\n",
    "\"AA\": [10  , 5   , []],\n",
    "\"AB\": [-25 , -10 , []],\n",
    "\"AC\": [15  , 10  , []],\n",
    "\"AD\": [-6  , -3.6, []],\n",
    "\"AE\": [3.6 , -5  , []],\n",
    "\"AF\": [2.4 , 3.6 , []],\n",
    "\"WT\": [1   , 0.1 , [\"CB\",\"AF\"]],\n",
    "\"CA\": [0.4 , 1   , []],\n",
    "\"HT\": [0.6 , 1.5 , []],\n",
    "\"CB\": [1   , 1.5 , []],\n",
    "\"PA\": [0.1 , 0.3 , []],\n",
    "\"CC\": [0.5 , 0.8 , [\"HT\",\"AE\"]],\n",
    "\"PB\": [0.2 , 0.7 , [\"CA\",\"PD\"]],\n",
    "\"CD\": [0.5 , 1   , []],\n",
    "\"PC\": [0.3 , 1.2 , []],\n",
    "\"CE\": [1   , 1.5 , [\"BI\",\"CD\"]],\n",
    "\"PD\": [1   , 1.5 , [\"AA\",\"PC\"]],\n",
    "\"CF\": [0.5 , 1.2 , []]\n",
    "}"
   ]
  },
  {
   "cell_type": "code",
   "execution_count": 6,
   "metadata": {},
   "outputs": [
    {
     "name": "stdout",
     "output_type": "stream",
     "text": [
      "Dependent vars: {'WT': [1, 0.1, ['CB', 'AF']], 'CC': [0.5, 0.8, ['HT', 'AE']], 'PB': [0.2, 0.7, ['CA', 'PD']], 'CE': [1, 1.5, ['BI', 'CD']], 'PD': [1, 1.5, ['AA', 'PC']]}\n",
      "Independent vars (14): {'BI': [20, 30, []], 'AA': [10, 5, []], 'AB': [-25, -10, []], 'AC': [15, 10, []], 'AD': [-6, -3.6, []], 'AE': [3.6, -5, []], 'AF': [2.4, 3.6, []], 'CA': [0.4, 1, []], 'HT': [0.6, 1.5, []], 'CB': [1, 1.5, []], 'PA': [0.1, 0.3, []], 'CD': [0.5, 1, []], 'PC': [0.3, 1.2, []], 'CF': [0.5, 1.2, []]}\n"
     ]
    }
   ],
   "source": [
    "WF_var_header_fields = []\n",
    "WF_var_dependents = {}\n",
    "WF_var_independents = {}\n",
    "WF_var_state = {}\n",
    "\n",
    "num_independents = 0\n",
    "\n",
    "def initialize_WF_vars():\n",
    "    global num_independents\n",
    "    for k,v in WF_var_ranges.items():\n",
    "        WF_var_header_fields.append(k)\n",
    "        if len(v[2]) > 0:\n",
    "            WF_var_dependents[k] = v\n",
    "        else:\n",
    "            WF_var_independents[k] = v\n",
    "            num_independents += 1\n",
    "            \n",
    "#         WF_var_values[k] = WF_var_ranges[k][0]\n",
    "        WF_var_state[k] = 0\n",
    "        #print(f\"{k}: {WF_var_ranges[k][0]}\")\n",
    "\n",
    "\n",
    "initialize_WF_vars()\n",
    "num_fields = len(WF_var_header_fields)\n",
    "\n",
    "print(\"Dependent vars:\", WF_var_dependents)\n",
    "print(f\"Independent vars ({num_independents}): {WF_var_independents}\")"
   ]
  },
  {
   "cell_type": "code",
   "execution_count": 7,
   "metadata": {},
   "outputs": [
    {
     "name": "stdout",
     "output_type": "stream",
     "text": [
      "00000000000000010011\n"
     ]
    }
   ],
   "source": [
    "# '{0:b}'.format(42)\n",
    "\n",
    "def toBinary(n, l):\n",
    "    return ''.join(str(1 & int(n) >> i) for i in range(l)[::-1])\n",
    "\n",
    "state = toBinary(19, 20)\n",
    "print(state)"
   ]
  },
  {
   "cell_type": "code",
   "execution_count": 8,
   "metadata": {},
   "outputs": [],
   "source": [
    "'''\n",
    "    Calculates the state and values for each waveform parameter\n",
    "    \n",
    "    Before calling, these must already be initialized:\n",
    "        WF_var_dependents  : dict of list of ranges for dependent variables\n",
    "        WF_var_independents: dict of list of ranges for independent variables\n",
    "        WF_var_state: dict of states (0 or 1) for each variable\n",
    "    \n",
    "    Function will fill out:\n",
    "        WF_var_state: dict of states (0 or 1) for each variable\n",
    "        WF_var_values: dict of values for each variable\n",
    "        \n",
    "    Returns:\n",
    "        ANSI binary string of states \n",
    "    \n",
    "'''\n",
    "def calc_vals(iter, debug=False):\n",
    "    if debug: \n",
    "        print(\"States Before...\")\n",
    "        for idx,(k,v) in enumerate(WF_var_state.items()):\n",
    "            var_type = \"d\" if k in WF_var_dependents else \"i\"\n",
    "            print(f\"[{idx:02}] ({var_type}) {k}: {v}\")\n",
    "\n",
    "    if debug: print(f\"Dependent States: {toBinary(iter, len(WF_var_independents))}\\n\")\n",
    "\n",
    "    '''\n",
    "        Calc the independent variables.\n",
    "        \n",
    "            'BI': [20, 30, []]\n",
    "    '''\n",
    "    for idx,(k,v) in enumerate(WF_var_independents.items()):\n",
    "        state = 1 & iter >> idx\n",
    "        WF_var_state[k] = state\n",
    "        WF_var_values[k] = v[state]\n",
    "\n",
    "    ''' \n",
    "        Calc the dependent variables.\n",
    "\n",
    "            'WT': [1, 0.1, ['CB', 'AF']]\n",
    "    '''\n",
    "    for idx,(k,v) in enumerate(WF_var_dependents.items()):\n",
    "        if debug: print(f\"dependent var {k} is {v[2][0]} xor {v[2][1]} -> {WF_var_state[v[2][0]]} xor {WF_var_state[v[2][1]]} = {WF_var_state[v[2][0]] ^ WF_var_state[v[2][1]]}\")\n",
    "        state = WF_var_state[v[2][0]] ^ WF_var_state[v[2][1]]\n",
    "        WF_var_state[k] = state\n",
    "        WF_var_values[k] = v[state]\n",
    "\n",
    "    if debug: print(\"States After...\")\n",
    "    state_lst = list(''.join('-' for i in range(num_fields*2)[::-1]))\n",
    "    for idx,(k,v) in enumerate(WF_var_state.items()):\n",
    "        if k in WF_var_independents:\n",
    "            ansi_code = util.BLUE\n",
    "            var_type = \"i\"\n",
    "        else:\n",
    "            ansi_code = util.RED\n",
    "            var_type = \"d\"\n",
    "        if debug: print(f\"[{idx:02}] ({var_type}) {k}: {v}\")\n",
    "        state_lst[idx*2] = ansi_code\n",
    "        state_lst[(idx*2)+1] = str(v)\n",
    "        state_str = ''.join(state_lst)\n",
    "\n",
    "    if debug: print(\"Values After...\")\n",
    "    for idx,(k,v) in enumerate(WF_var_values.items()):\n",
    "        if k in WF_var_dependents:\n",
    "            var_type = \"d\"\n",
    "            vals = WF_var_dependents[k][:2]\n",
    "        else:\n",
    "            var_type = \"i\"\n",
    "            vals = WF_var_independents[k][:2]\n",
    "        if debug: print(f\"[{idx:02}] ({var_type}) {k}: {v} (state: {WF_var_state[k]}, vals{vals})\")\n",
    "\n",
    "    return state_str\n",
    "\n"
   ]
  },
  {
   "cell_type": "code",
   "execution_count": 9,
   "metadata": {},
   "outputs": [
    {
     "name": "stdout",
     "output_type": "stream",
     "text": [
      "\u001b[34m0\u001b[34m0\u001b[34m1\u001b[34m0\u001b[34m0\u001b[34m0\u001b[34m0\u001b[31m1\u001b[34m0\u001b[34m0\u001b[34m1\u001b[34m1\u001b[31m0\u001b[31m0\u001b[34m0\u001b[34m1\u001b[31m0\u001b[31m1\u001b[34m0\u001b[0m\n",
      "{'BI': 20, 'AA': 10, 'AB': -10, 'AC': 15, 'AD': -6, 'AE': 3.6, 'AF': 2.4, 'CA': 0.4, 'HT': 0.6, 'CB': 1.5, 'PA': 0.3, 'CD': 0.5, 'PC': 1.2, 'CF': 0.5, 'WT': 0.1, 'CC': 0.5, 'PB': 0.2, 'CE': 1, 'PD': 1.5}\n"
     ]
    }
   ],
   "source": [
    "WF_var_values = {}\n",
    "\n",
    "iter = 22020\n",
    "state_str = calc_vals(iter, False)\n",
    "print(state_str+util.RESET)\n",
    "print(WF_var_values)"
   ]
  },
  {
   "cell_type": "code",
   "execution_count": 10,
   "metadata": {},
   "outputs": [
    {
     "name": "stdout",
     "output_type": "stream",
     "text": [
      "cnt: 16384, set len: 16384\n"
     ]
    }
   ],
   "source": [
    "cnt = pow(2,(len(WF_var_independents)))\n",
    "\n",
    "s = set()\n",
    "for iter in range(cnt):\n",
    "    state_str = calc_vals(iter, False)\n",
    "    #print(state_str+util.RESET)\n",
    "    s.add(state_str)\n",
    "print(f\"cnt: {cnt}, set len: {len(s)}\")"
   ]
  },
  {
   "cell_type": "code",
   "execution_count": null,
   "metadata": {},
   "outputs": [],
   "source": []
  },
  {
   "cell_type": "code",
   "execution_count": null,
   "metadata": {},
   "outputs": [],
   "source": []
  }
 ],
 "metadata": {
  "kernelspec": {
   "display_name": "Python 3",
   "language": "python",
   "name": "python3"
  },
  "language_info": {
   "codemirror_mode": {
    "name": "ipython",
    "version": 3
   },
   "file_extension": ".py",
   "mimetype": "text/x-python",
   "name": "python",
   "nbconvert_exporter": "python",
   "pygments_lexer": "ipython3",
   "version": "3.6.5"
  }
 },
 "nbformat": 4,
 "nbformat_minor": 2
}
