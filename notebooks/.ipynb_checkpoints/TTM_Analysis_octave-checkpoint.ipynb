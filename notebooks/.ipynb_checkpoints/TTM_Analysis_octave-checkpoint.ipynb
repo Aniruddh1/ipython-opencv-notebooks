{
 "cells": [
  {
   "cell_type": "code",
   "execution_count": 5,
   "metadata": {},
   "outputs": [
    {
     "name": "stdout",
     "output_type": "stream",
     "text": [
      "f =  3\n"
     ]
    }
   ],
   "source": [
    "f = fopen('~/tmp/TTMLogStream_2017_05_24.csv', 'r')"
   ]
  },
  {
   "cell_type": "code",
   "execution_count": 9,
   "metadata": {},
   "outputs": [],
   "source": [
    "ttm = csvread( '~/tmp/TTMLogStream_2017_05_24.csv');"
   ]
  },
  {
   "cell_type": "code",
   "execution_count": 16,
   "metadata": {},
   "outputs": [
    {
     "name": "stdout",
     "output_type": "stream",
     "text": [
      "r =  57472\n"
     ]
    }
   ],
   "source": [
    "[r,c] = size(ttm);\n",
    "r"
   ]
  },
  {
   "cell_type": "code",
   "execution_count": 24,
   "metadata": {},
   "outputs": [
    {
     "name": "stdout",
     "output_type": "stream",
     "text": [
      "dd =\n",
      "\n",
      " Columns 1 through 6:\n",
      "\n",
      "     0.00000   111.00000    -0.00025     0.00000     0.00012     0.00000\n",
      "\n",
      " Columns 7 through 12:\n",
      "\n",
      "     0.00080     0.00000    -0.00101     0.00000     1.00000     1.00000\n",
      "\n",
      " Columns 13 through 18:\n",
      "\n",
      "     0.00000     0.00075    -0.00088     0.00080    -0.00101   222.00000\n",
      "\n",
      " Columns 19 through 24:\n",
      "\n",
      "    -0.00019     0.00000    -0.00009     0.00000     0.00096     0.00000\n",
      "\n",
      " Columns 25 through 30:\n",
      "\n",
      "     0.00099     0.00000     1.00000     1.00000     0.00000     0.00081\n",
      "\n",
      " Columns 31 through 36:\n",
      "\n",
      "     0.00091     0.00096     0.00099   333.00000    -0.00050     0.00000\n",
      "\n",
      " Columns 37 through 42:\n",
      "\n",
      "     0.00001     0.00000    -0.00085     0.00000     0.00090     0.00000\n",
      "\n",
      " Columns 43 through 48:\n",
      "\n",
      "     0.00000     1.00000     0.00000    -0.00050     0.00101    -0.00085\n",
      "\n",
      " Columns 49 through 54:\n",
      "\n",
      "     0.00090   444.00000     0.00039     0.00000     0.00032     0.00000\n",
      "\n",
      " Columns 55 through 60:\n",
      "\n",
      "    -0.00069     0.00000    -0.00071     0.00000     1.00000     1.00000\n",
      "\n",
      " Columns 61 through 65:\n",
      "\n",
      "     0.00000    -0.00061    -0.00068    -0.00069    -0.00071\n",
      "\n",
      "dd =\n",
      "\n",
      " Columns 1 through 6:\n",
      "\n",
      "     0.00000   111.00000    -0.00025     0.00000     0.00012     0.00000\n",
      "\n",
      " Columns 7 through 12:\n",
      "\n",
      "     0.00080     0.00000    -0.00101     0.00000     1.00000     1.00000\n",
      "\n",
      " Columns 13 through 18:\n",
      "\n",
      "     0.00000     0.00075    -0.00088     0.00080    -0.00101   222.00000\n",
      "\n",
      " Columns 19 through 24:\n",
      "\n",
      "    -0.00019     0.00000    -0.00009     0.00000     0.00096     0.00000\n",
      "\n",
      " Columns 25 through 30:\n",
      "\n",
      "     0.00099     0.00000     1.00000     1.00000     0.00000     0.00081\n",
      "\n",
      " Columns 31 through 36:\n",
      "\n",
      "     0.00091     0.00096     0.00099   333.00000    -0.00050     0.00000\n",
      "\n",
      " Columns 37 through 42:\n",
      "\n",
      "     0.00001     0.00000    -0.00085     0.00000     0.00090     0.00000\n",
      "\n",
      " Columns 43 through 48:\n",
      "\n",
      "     0.00000     1.00000     0.00000    -0.00050     0.00101    -0.00085\n",
      "\n",
      " Columns 49 through 54:\n",
      "\n",
      "     0.00090   444.00000     0.00039     0.00000     0.00032     0.00000\n",
      "\n",
      " Columns 55 through 60:\n",
      "\n",
      "    -0.00069     0.00000    -0.00071     0.00000     1.00000     1.00000\n",
      "\n",
      " Columns 61 through 65:\n",
      "\n",
      "     0.00000    -0.00061    -0.00068    -0.00069    -0.00071\n",
      "\n"
     ]
    }
   ],
   "source": [
    "dd = ttm(4,:)\n",
    "dd"
   ]
  },
  {
   "cell_type": "code",
   "execution_count": 11,
   "metadata": {},
   "outputs": [
    {
     "name": "stdout",
     "output_type": "stream",
     "text": [
      "Variables in the current scope:\n",
      "\n",
      "   Attr Name        Size                     Bytes  Class\n",
      "   ==== ====        ====                     =====  ===== \n",
      "        ans         1x5                          5  char\n",
      "        d           0x0                          0  double\n",
      "        f           1x1                          8  double\n",
      "        ttm     57472x65                  29885440  double\n",
      "\n",
      "Total is 3735686 elements using 29885453 bytes\n",
      "\n"
     ]
    }
   ],
   "source": [
    "whos"
   ]
  },
  {
   "cell_type": "code",
   "execution_count": null,
   "metadata": {
    "collapsed": true
   },
   "outputs": [],
   "source": []
  }
 ],
 "metadata": {
  "kernelspec": {
   "display_name": "Octave",
   "language": "octave",
   "name": "octave"
  },
  "language_info": {
   "file_extension": ".m",
   "help_links": [
    {
     "text": "GNU Octave",
     "url": "https://www.gnu.org/software/octave/support.html"
    },
    {
     "text": "Octave Kernel",
     "url": "https://github.com/Calysto/octave_kernel"
    },
    {
     "text": "MetaKernel Magics",
     "url": "https://github.com/calysto/metakernel/blob/master/metakernel/magics/README.md"
    }
   ],
   "mimetype": "text/x-octave",
   "name": "octave",
   "version": "4.2.1"
  }
 },
 "nbformat": 4,
 "nbformat_minor": 2
}
