{
 "cells": [
  {
   "cell_type": "code",
   "execution_count": 1,
   "metadata": {},
   "outputs": [
    {
     "data": {
      "text/html": [
       "\n",
       "<style>\n",
       "    div#notebook-container    { width: 95%; }\n",
       "    div#menubar-container     { width: 65%; }\n",
       "    div#maintoolbar-container { width: 99%; }\n",
       "</style>\n"
      ],
      "text/plain": [
       "<IPython.core.display.HTML object>"
      ]
     },
     "metadata": {},
     "output_type": "display_data"
    },
    {
     "name": "stdout",
     "output_type": "stream",
     "text": [
      "Paths defined in paths module:\n",
      " paths.tmp_root: /Users/trafferty/data/tmp\n",
      " paths.results_root: /Users/trafferty/data/results\n",
      " paths.data_root: /Users/trafferty/data\n",
      " paths.images_root: /Users/trafferty/data/images\n",
      " paths.mii_home: /Users/trafferty/dev\n",
      " paths.scripts_root: /Users/trafferty/data/scripts\n",
      " paths.tmp_dir: /Users/trafferty/tmp\n",
      " paths.inhouse: /Users/trafferty/dev/src/inhouse\n",
      " paths.notebook_root: /Users/trafferty/data/notebooks\n",
      " paths.ws_dir: /Users/trafferty/workspace\n",
      " paths.projects_root: /Users/trafferty/data/projects\n"
     ]
    }
   ],
   "source": [
    "%matplotlib inline\n",
    "import cv2\n",
    "import numpy as np\n",
    "from matplotlib import pyplot as plt\n",
    "import datetime\n",
    "import glob\n",
    "import os\n",
    "\n",
    "import sys\n",
    "from paths import Paths\n",
    "paths = Paths()\n",
    "sys.path.append(paths.scripts_root)\n",
    "import util\n",
    "\n",
    "import pandas as pd\n",
    "\n",
    "%load_ext autoreload\n",
    "%autoreload 2\n",
    "\n",
    "# Display entire width of browser\n",
    "from IPython.display import display, HTML\n",
    "display(HTML(data=\"\"\"\n",
    "<style>\n",
    "    div#notebook-container    { width: 95%; }\n",
    "    div#menubar-container     { width: 65%; }\n",
    "    div#maintoolbar-container { width: 99%; }\n",
    "</style>\n",
    "\"\"\"))\n",
    "\n",
    "paths.print_paths()\n"
   ]
  },
  {
   "cell_type": "code",
   "execution_count": 307,
   "metadata": {},
   "outputs": [
    {
     "name": "stdout",
     "output_type": "stream",
     "text": [
      "<class 'pandas.core.frame.DataFrame'>\n",
      "RangeIndex: 4702 entries, 0 to 4701\n",
      "Data columns (total 2 columns):\n",
      "timestamp               4702 non-null object\n",
      "temp_master_bedroom2    4702 non-null float64\n",
      "dtypes: float64(1), object(1)\n",
      "memory usage: 73.5+ KB\n",
      "<class 'pandas.core.frame.DataFrame'>\n",
      "RangeIndex: 6840 entries, 0 to 6839\n",
      "Data columns (total 2 columns):\n",
      "timestamp                6840 non-null object\n",
      "temp_under_thermostat    6840 non-null float64\n",
      "dtypes: float64(1), object(1)\n",
      "memory usage: 107.0+ KB\n",
      "<class 'pandas.core.frame.DataFrame'>\n",
      "RangeIndex: 7199 entries, 0 to 7198\n",
      "Data columns (total 2 columns):\n",
      "timestamp              7199 non-null object\n",
      "temp_master_bedroom    7199 non-null float64\n",
      "dtypes: float64(1), object(1)\n",
      "memory usage: 112.6+ KB\n"
     ]
    }
   ],
   "source": [
    "dat_root = \"%s\" % (paths.tmp_root) \n",
    "temp_dat_files = glob.glob(\"%s/temp_*.dat\" % (dat_root))\n",
    "\n",
    "temp_data_list = []\n",
    "\n",
    "# Read each dat file, convert the 'timestamp' column to a pandas datetime\n",
    "for idx, f in enumerate(temp_dat_files):\n",
    "    name = os.path.basename(f).split('.')[0]\n",
    "    \n",
    "    if 1:\n",
    "        df_all = pd.read_csv(f)\n",
    "        df = df_all.drop(' temp (C)', axis=1)\n",
    "        #df['timestamp'] = pd.to_datetime(df['timestamp'], format=\"%Y-%m-%d %H:%M:%S\").apply(lambda x: x.time())\n",
    "        df['timestamp'] = df['timestamp'].apply(lambda x: datetime.datetime.strptime(x, \"%Y-%m-%d %H:%M:%S\").strftime('%H:%M:%S'))\n",
    "        #df.set_index('timestamp', inplace=True)\n",
    "        df.columns = ['timestamp', name]\n",
    "        #df.columns = [ name]\n",
    "    else:\n",
    "        df = pd.read_csv(f, parse_dates=[0], infer_datetime_format=True)\n",
    "        df=df.drop(' temp (C)', axis=1)\n",
    "        df.set_index('timestamp', inplace=True)\n",
    "        df.columns = [ name]\n",
    "        \n",
    "    temp_data_list.append( (name, df) )\n",
    "    df.info()\n",
    "    \n",
    "#     if idx == 0:\n",
    "#         print(\"-------Setting\")\n",
    "#         df_combined = df\n",
    "#     else:\n",
    "#         print(\"-------Joining\")\n",
    "#         df_combined.join(df, how='outer', rsuffix='_%d'%idx)\n",
    "\n",
    "\n",
    "#     ts =df['timestamp'][3]\n",
    "#     print(type(ts))\n",
    "#     min_time, max_time = 20:00, -0.25\n",
    "#     dispence_trace = df.loc[(df['timestamp'] > min_time) & (df['timestamp'] < max_time)]\n",
    "#     xticks = x=np.arange(min_time, max_time, (max_time-min_time)/50.0)\n",
    "#     df.set_index('timestamp', inplace=True)\n",
    "#     df.plot(rot=45)\n"
   ]
  },
  {
   "cell_type": "raw",
   "metadata": {},
   "source": [
    "Old:\n",
    "    <class 'pandas.core.frame.DataFrame'>\n",
    "    Index: 4702 entries, 17:52:43 to 07:59:23\n",
    "    Data columns (total 1 columns):\n",
    "    temp_master_bedroom2    4702 non-null float64\n",
    "    dtypes: float64(1)\n",
    "    memory usage: 73.5+ KB\n",
    "    ------------------------\n",
    "    <class 'pandas.core.frame.DataFrame'>\n",
    "    Index: 6840 entries, 20:59:23 to 17:31:11\n",
    "    Data columns (total 1 columns):\n",
    "    temp_under_thermostat    6840 non-null float64\n",
    "    dtypes: float64(1)\n",
    "    memory usage: 106.9+ KB\n",
    "    ------------------------\n",
    "    <class 'pandas.core.frame.DataFrame'>\n",
    "    Index: 7199 entries, 19:14:14 to 16:50:52\n",
    "    Data columns (total 1 columns):\n",
    "    temp_master_bedroom    7199 non-null float64\n",
    "    dtypes: float64(1)\n",
    "    memory usage: 112.5+ KB\n",
    "New:\n",
    "    <class 'pandas.core.frame.DataFrame'>\n",
    "    DatetimeIndex: 4702 entries, 2018-07-01 17:52:43 to 2018-07-02 07:59:23\n",
    "    Data columns (total 1 columns):\n",
    "    temp_master_bedroom2    4702 non-null float64\n",
    "    dtypes: float64(1)\n",
    "    memory usage: 73.5 KB\n",
    "    ------------------------\n",
    "    <class 'pandas.core.frame.DataFrame'>\n",
    "    DatetimeIndex: 6840 entries, 2018-06-29 20:59:23 to 2018-06-30 17:31:11\n",
    "    Data columns (total 1 columns):\n",
    "    temp_under_thermostat    6840 non-null float64\n",
    "    dtypes: float64(1)\n",
    "    memory usage: 106.9 KB\n",
    "    ------------------------\n",
    "    <class 'pandas.core.frame.DataFrame'>\n",
    "    DatetimeIndex: 7199 entries, 2018-06-30 19:14:14 to 2018-07-01 16:50:52\n",
    "    Data columns (total 1 columns):\n",
    "    temp_master_bedroom    7199 non-null float64\n",
    "    dtypes: float64(1)\n",
    "    memory usage: 112.5 KB"
   ]
  },
  {
   "cell_type": "code",
   "execution_count": 308,
   "metadata": {},
   "outputs": [
    {
     "data": {
      "text/html": [
       "<div>\n",
       "<style>\n",
       "    .dataframe thead tr:only-child th {\n",
       "        text-align: right;\n",
       "    }\n",
       "\n",
       "    .dataframe thead th {\n",
       "        text-align: left;\n",
       "    }\n",
       "\n",
       "    .dataframe tbody tr th {\n",
       "        vertical-align: top;\n",
       "    }\n",
       "</style>\n",
       "<table border=\"1\" class=\"dataframe\">\n",
       "  <thead>\n",
       "    <tr style=\"text-align: right;\">\n",
       "      <th></th>\n",
       "      <th>timestamp</th>\n",
       "      <th>temp_under_thermostat</th>\n",
       "    </tr>\n",
       "  </thead>\n",
       "  <tbody>\n",
       "    <tr>\n",
       "      <th>0</th>\n",
       "      <td>20:59:23</td>\n",
       "      <td>78.0116</td>\n",
       "    </tr>\n",
       "    <tr>\n",
       "      <th>1</th>\n",
       "      <td>20:59:34</td>\n",
       "      <td>77.9000</td>\n",
       "    </tr>\n",
       "    <tr>\n",
       "      <th>2</th>\n",
       "      <td>20:59:45</td>\n",
       "      <td>77.7866</td>\n",
       "    </tr>\n",
       "    <tr>\n",
       "      <th>3</th>\n",
       "      <td>20:59:55</td>\n",
       "      <td>77.6750</td>\n",
       "    </tr>\n",
       "    <tr>\n",
       "      <th>4</th>\n",
       "      <td>21:00:06</td>\n",
       "      <td>77.5616</td>\n",
       "    </tr>\n",
       "  </tbody>\n",
       "</table>\n",
       "</div>"
      ],
      "text/plain": [
       "  timestamp  temp_under_thermostat\n",
       "0  20:59:23                78.0116\n",
       "1  20:59:34                77.9000\n",
       "2  20:59:45                77.7866\n",
       "3  20:59:55                77.6750\n",
       "4  21:00:06                77.5616"
      ]
     },
     "execution_count": 308,
     "metadata": {},
     "output_type": "execute_result"
    }
   ],
   "source": [
    "df1 = temp_data_list[0][1]\n",
    "df2 = temp_data_list[1][1]\n",
    "df3 = temp_data_list[2][1]\n",
    "\n",
    "#df1.join(df2, how='inner')\n",
    "\n",
    "#df4 =df1.merge(df2)\n",
    "df2.head()\n"
   ]
  },
  {
   "cell_type": "code",
   "execution_count": 202,
   "metadata": {},
   "outputs": [
    {
     "ename": "AttributeError",
     "evalue": "'str' object has no attribute 'to_pydatetime'",
     "output_type": "error",
     "traceback": [
      "\u001b[0;31m---------------------------------------------------------------------------\u001b[0m",
      "\u001b[0;31mAttributeError\u001b[0m                            Traceback (most recent call last)",
      "\u001b[0;32m<ipython-input-202-a26a47edee24>\u001b[0m in \u001b[0;36m<module>\u001b[0;34m()\u001b[0m\n\u001b[1;32m      2\u001b[0m \u001b[0mdf1_idx\u001b[0m \u001b[0;34m=\u001b[0m \u001b[0mdf_now\u001b[0m\u001b[0;34m.\u001b[0m\u001b[0mindex\u001b[0m\u001b[0;34m[\u001b[0m\u001b[0;36m0\u001b[0m\u001b[0;34m]\u001b[0m\u001b[0;34m\u001b[0m\u001b[0m\n\u001b[1;32m      3\u001b[0m \u001b[0;31m#df1_dt = pd.to_datetime(df1_idx)\u001b[0m\u001b[0;34m\u001b[0m\u001b[0;34m\u001b[0m\u001b[0m\n\u001b[0;32m----> 4\u001b[0;31m \u001b[0mdf1_dt\u001b[0m \u001b[0;34m=\u001b[0m \u001b[0mdf1_idx\u001b[0m\u001b[0;34m.\u001b[0m\u001b[0mto_pydatetime\u001b[0m\u001b[0;34m(\u001b[0m\u001b[0;34m)\u001b[0m\u001b[0;34m\u001b[0m\u001b[0m\n\u001b[0m\u001b[1;32m      5\u001b[0m \u001b[0mdf1_dt\u001b[0m\u001b[0;34m\u001b[0m\u001b[0m\n\u001b[1;32m      6\u001b[0m \u001b[0;31m# df1.set_index('timestamp', inplace=True)\u001b[0m\u001b[0;34m\u001b[0m\u001b[0;34m\u001b[0m\u001b[0m\n",
      "\u001b[0;31mAttributeError\u001b[0m: 'str' object has no attribute 'to_pydatetime'"
     ]
    }
   ],
   "source": [
    "df_now = temp_data_list[2][1]\n",
    "df1_idx = df_now.index[0]\n",
    "#df1_dt = pd.to_datetime(df1_idx)\n",
    "df1_dt = df1_idx.to_pydatetime()\n",
    "df1_dt\n",
    "# df1.set_index('timestamp', inplace=True)\n",
    "#df1.index[4:8]\n",
    "\n",
    "start_ts = df1_dt.replace(hour=20, minute=1, second=1)\n",
    "end_ts = df1_dt.replace(hour=10, minute=1, second=1) + datetime.timedelta(days=1)\n"
   ]
  },
  {
   "cell_type": "code",
   "execution_count": 168,
   "metadata": {},
   "outputs": [
    {
     "data": {
      "image/png": "[encoded data removed]",
      "text/plain": [
       "<matplotlib.figure.Figure at 0x1205fd860>"
      ]
     },
     "metadata": {},
     "output_type": "display_data"
    }
   ],
   "source": [
    "df_sub= df_now[start_ts:end_ts]\n",
    "\n",
    "# import matplotlib.pyplot as plt\n",
    "# import matplotlib.dates as mdates\n",
    "\n",
    "ax = df_sub.plot()\n",
    "f = lambda x: datetime.datetime.strptime(x, '%m-%d %H').strftime('%H:%M')\n",
    "#ax.set_xticklabels([ f(x.get_text()) for x in ax.get_xticklabels()])\n",
    "plt.show()"
   ]
  },
  {
   "cell_type": "code",
   "execution_count": 284,
   "metadata": {},
   "outputs": [
    {
     "ename": "AttributeError",
     "evalue": "'str' object has no attribute 'to_pydatetime'",
     "output_type": "error",
     "traceback": [
      "\u001b[0;31m---------------------------------------------------------------------------\u001b[0m",
      "\u001b[0;31mAttributeError\u001b[0m                            Traceback (most recent call last)",
      "\u001b[0;32m<ipython-input-284-adb79f5ff99b>\u001b[0m in \u001b[0;36m<module>\u001b[0;34m()\u001b[0m\n\u001b[1;32m      4\u001b[0m     \u001b[0mname\u001b[0m \u001b[0;34m=\u001b[0m \u001b[0mtemp_data\u001b[0m\u001b[0;34m[\u001b[0m\u001b[0;36m0\u001b[0m\u001b[0;34m]\u001b[0m\u001b[0;34m\u001b[0m\u001b[0m\n\u001b[1;32m      5\u001b[0m     \u001b[0mdf_full\u001b[0m \u001b[0;34m=\u001b[0m \u001b[0mtemp_data\u001b[0m\u001b[0;34m[\u001b[0m\u001b[0;36m1\u001b[0m\u001b[0;34m]\u001b[0m\u001b[0;34m\u001b[0m\u001b[0m\n\u001b[0;32m----> 6\u001b[0;31m     \u001b[0mstart_dt\u001b[0m \u001b[0;34m=\u001b[0m \u001b[0mdf_full\u001b[0m\u001b[0;34m.\u001b[0m\u001b[0mindex\u001b[0m\u001b[0;34m[\u001b[0m\u001b[0;36m0\u001b[0m\u001b[0;34m]\u001b[0m\u001b[0;34m.\u001b[0m\u001b[0mto_pydatetime\u001b[0m\u001b[0;34m(\u001b[0m\u001b[0;34m)\u001b[0m\u001b[0;34m\u001b[0m\u001b[0m\n\u001b[0m\u001b[1;32m      7\u001b[0m     \u001b[0mstart_ts\u001b[0m \u001b[0;34m=\u001b[0m \u001b[0mstart_dt\u001b[0m\u001b[0;34m.\u001b[0m\u001b[0mreplace\u001b[0m\u001b[0;34m(\u001b[0m\u001b[0mhour\u001b[0m\u001b[0;34m=\u001b[0m\u001b[0mhour_start\u001b[0m\u001b[0;34m,\u001b[0m \u001b[0mminute\u001b[0m\u001b[0;34m=\u001b[0m\u001b[0;36m1\u001b[0m\u001b[0;34m,\u001b[0m \u001b[0msecond\u001b[0m\u001b[0;34m=\u001b[0m\u001b[0;36m1\u001b[0m\u001b[0;34m)\u001b[0m\u001b[0;34m\u001b[0m\u001b[0m\n\u001b[1;32m      8\u001b[0m     \u001b[0mend_ts\u001b[0m \u001b[0;34m=\u001b[0m \u001b[0mstart_dt\u001b[0m\u001b[0;34m.\u001b[0m\u001b[0mreplace\u001b[0m\u001b[0;34m(\u001b[0m\u001b[0mhour\u001b[0m\u001b[0;34m=\u001b[0m\u001b[0mhour_end\u001b[0m\u001b[0;34m,\u001b[0m \u001b[0mminute\u001b[0m\u001b[0;34m=\u001b[0m\u001b[0;36m1\u001b[0m\u001b[0;34m,\u001b[0m \u001b[0msecond\u001b[0m\u001b[0;34m=\u001b[0m\u001b[0;36m1\u001b[0m\u001b[0;34m)\u001b[0m\u001b[0;34m+\u001b[0m \u001b[0mdatetime\u001b[0m\u001b[0;34m.\u001b[0m\u001b[0mtimedelta\u001b[0m\u001b[0;34m(\u001b[0m\u001b[0mdays\u001b[0m\u001b[0;34m=\u001b[0m\u001b[0;36m1\u001b[0m\u001b[0;34m)\u001b[0m\u001b[0;34m\u001b[0m\u001b[0m\n",
      "\u001b[0;31mAttributeError\u001b[0m: 'str' object has no attribute 'to_pydatetime'"
     ]
    }
   ],
   "source": [
    "hour_start = 21\n",
    "hour_end = 7\n",
    "for temp_data in temp_data_list:\n",
    "    name = temp_data[0]\n",
    "    df_full = temp_data[1]\n",
    "    start_dt = df_full.index[0].to_pydatetime()\n",
    "    start_ts = start_dt.replace(hour=hour_start, minute=1, second=1)\n",
    "    end_ts = start_dt.replace(hour=hour_end, minute=1, second=1)+ datetime.timedelta(days=1)\n",
    "\n",
    "    df = df_full[start_ts:end_ts]\n",
    "    ax = df.plot()\n",
    "    f = lambda x: datetime.datetime.strptime(x, '%m-%d %H').strftime('%H:%M')\n",
    "    #ax.set_xticklabels([ f(x.get_text()) for x in ax.get_xticklabels()])\n",
    "    plt.show()\n",
    "    "
   ]
  },
  {
   "cell_type": "code",
   "execution_count": 15,
   "metadata": {},
   "outputs": [
    {
     "name": "stdout",
     "output_type": "stream",
     "text": [
      "<class 'pandas.core.frame.DataFrame'>\n",
      "RangeIndex: 125000 entries, 0 to 124999\n",
      "Data columns (total 2 columns):\n",
      "TIME    125000 non-null float64\n",
      "CH2     125000 non-null float64\n",
      "dtypes: float64(2)\n",
      "memory usage: 1.9 MB\n"
     ]
    }
   ],
   "source": [
    "#df1_dt = pd.to_datetime(df1_idx)\n",
    "df1_dt = df_full.index[0].to_pydatetime()\n",
    "df1_dt\n",
    "# df1.set_index('timestamp', inplace=True)\n",
    "#df1.index[4:8]\n",
    "\n",
    "start_ts = df1_dt.replace(hour=17, minute=53, second=1)\n",
    "end_ts = df1_dt.replace(hour=18, minute=53, second=1)"
   ]
  },
  {
   "cell_type": "code",
   "execution_count": 160,
   "metadata": {},
   "outputs": [
    {
     "data": {
      "text/plain": [
       "[(0, '12 AM'),\n",
       " (1, '01 AM'),\n",
       " (2, '02 AM'),\n",
       " (3, '03 AM'),\n",
       " (4, '04 AM'),\n",
       " (5, '05 AM'),\n",
       " (6, '06 AM'),\n",
       " (7, '07 AM'),\n",
       " (8, '08 AM'),\n",
       " (9, '09 AM'),\n",
       " (10, '10 AM'),\n",
       " (11, '11 AM'),\n",
       " (12, '12 PM'),\n",
       " (13, '01 PM'),\n",
       " (14, '02 PM'),\n",
       " (15, '03 PM'),\n",
       " (16, '04 PM'),\n",
       " (17, '05 PM'),\n",
       " (18, '06 PM'),\n",
       " (19, '07 PM'),\n",
       " (20, '08 PM'),\n",
       " (21, '09 PM'),\n",
       " (22, '10 PM'),\n",
       " (23, '11 PM')]"
      ]
     },
     "execution_count": 160,
     "metadata": {},
     "output_type": "execute_result"
    }
   ],
   "source": [
    "end_ts - start_ts \n",
    "\n",
    "hours = [(i, datetime.time(i).strftime('%I %p')) for i in range(24)]\n",
    "hours"
   ]
  },
  {
   "cell_type": "code",
   "execution_count": 190,
   "metadata": {},
   "outputs": [
    {
     "data": {
      "text/plain": [
       "<matplotlib.axes._subplots.AxesSubplot at 0x11a9477f0>"
      ]
     },
     "execution_count": 190,
     "metadata": {},
     "output_type": "execute_result"
    },
    {
     "data": {
      "image/png": "[encoded data removed]",
      "text/plain": [
       "<matplotlib.figure.Figure at 0x12060bcc0>"
      ]
     },
     "metadata": {},
     "output_type": "display_data"
    }
   ],
   "source": [
    "hour_start = 21\n",
    "hour_end = 7\n",
    "\n",
    "df1 = temp_data_list[0][1]\n",
    "df1_name = temp_data_list[0][0]\n",
    "df2 = temp_data_list[1][1]\n",
    "df2_name = temp_data_list[1][0]\n",
    "df3 = temp_data_list[2][1]\n",
    "df3_name = temp_data_list[2][0]\n",
    "\n",
    "start_dt = df1.index[0].to_pydatetime()\n",
    "start_ts = start_dt.replace(hour=hour_start, minute=1, second=1)\n",
    "end_ts = start_dt.replace(hour=hour_end, minute=1, second=1)+ datetime.timedelta(days=1)\n",
    "#ds1 = df1[start_ts:end_ts].iloc[:,0]\n",
    "df1 = df1[start_ts:end_ts]\n",
    "\n",
    "start_dt = df2.index[0].to_pydatetime()\n",
    "start_ts = start_dt.replace(hour=hour_start, minute=1, second=1)\n",
    "end_ts = start_dt.replace(hour=hour_end, minute=1, second=1)+ datetime.timedelta(days=1)\n",
    "#ds2 = df2[start_ts:end_ts].iloc[:,0]\n",
    "df2 = df2[start_ts:end_ts]\n",
    "\n",
    "start_dt = df3.index[0].to_pydatetime()\n",
    "start_ts = start_dt.replace(hour=hour_start, minute=1, second=1)\n",
    "end_ts = start_dt.replace(hour=hour_end, minute=1, second=1)+ datetime.timedelta(days=1)\n",
    "#ds3 = df3[start_ts:end_ts].iloc[:,0]\n",
    "df3 = df3[start_ts:end_ts]\n",
    "\n",
    "df_new = pd.concat([ df1[df1_name], df2[df2_name], df3[df3_name] ], axis=1, keys=[df1_name, df2_name, df3_name])\n",
    "df_new.plot()"
   ]
  },
  {
   "cell_type": "code",
   "execution_count": 336,
   "metadata": {},
   "outputs": [
    {
     "name": "stdout",
     "output_type": "stream",
     "text": [
      "<class 'pandas.core.frame.DataFrame'>\n",
      "Int64Index: 1000 entries, 1040 to 2039\n",
      "Data columns (total 2 columns):\n",
      "timestamp               1000 non-null object\n",
      "temp_master_bedroom2    1000 non-null float64\n",
      "dtypes: float64(1), object(1)\n",
      "memory usage: 23.4+ KB\n"
     ]
    },
    {
     "data": {
      "text/plain": [
       "<matplotlib.axes._subplots.AxesSubplot at 0x122f0a5c0>"
      ]
     },
     "execution_count": 336,
     "metadata": {},
     "output_type": "execute_result"
    },
    {
     "data": {
      "image/png": "[encoded data removed]",
      "text/plain": [
       "<matplotlib.figure.Figure at 0x12359b8d0>"
      ]
     },
     "metadata": {},
     "output_type": "display_data"
    }
   ],
   "source": [
    "hour_start = 21\n",
    "hour_end = 7\n",
    "\n",
    "df1 = temp_data_list[0][1]\n",
    "df1_name = temp_data_list[0][0]\n",
    "df2 = temp_data_list[1][1]\n",
    "df2_name = temp_data_list[1][0]\n",
    "df3 = temp_data_list[2][1]\n",
    "df3_name = temp_data_list[2][0]\n",
    "\n",
    "#print(df1['timestamp'])\n",
    "df1_1 = df1.loc[(df1['timestamp'] > '21:00:00')]\n",
    "df1_2 = df1.loc[(df1['timestamp'] < '07:00:20')]\n",
    "# print(df1_1['timestamp'])\n",
    "# print(df1_2['timestamp'])\n",
    "\n",
    "\n",
    "df1_1.append(df1_2)\n",
    "df1_1.info()\n",
    "df1_1.set_index('timestamp', inplace=True)\n",
    "df1_1.plot()\n",
    "# df_new = pd.concat([ df1_1, df1_2 ], axis=1)\n",
    "# df_new.info()\n",
    "# df_new.set_index('timestamp', inplace=True)\n",
    "# df_new.plot(rot=45)\n",
    "\n",
    "#df_new.plot()\n",
    "# df2 = df2.loc[>'21:00:01']\n",
    "# df2.info()\n",
    "# df3 = df3['21:00:00':'07:00:00']\n",
    "# df3.info()\n",
    "\n",
    "\n",
    "# df1[df1.index.duplicated()]\n",
    "\n",
    "# new_index = pd.date_range(start='2000-01-01 21:00:00', end='2000-01-02 07:00:00', freq=\"10s\")\n",
    "# df1.reindex(index=new_index)\n",
    "# df1.info()\n",
    "# df2.plot()\n",
    "# df3.plot()\n",
    "\n",
    "#df_new = pd.concat([ df1[df1_name], df2[df2_name], df3[df3_name] ], axis=1, keys=[df1_name, df2_name, df3_name])\n",
    "#df_new.plot()\n",
    "\n",
    "#df_new.info()\n"
   ]
  },
  {
   "cell_type": "code",
   "execution_count": 246,
   "metadata": {},
   "outputs": [
    {
     "data": {
      "text/plain": [
       "DatetimeIndex(['2018-07-03 00:00:00', '2018-07-03 00:00:10',\n",
       "               '2018-07-03 00:00:20', '2018-07-03 00:00:30',\n",
       "               '2018-07-03 00:00:40', '2018-07-03 00:00:50',\n",
       "               '2018-07-03 00:01:00', '2018-07-03 00:01:10',\n",
       "               '2018-07-03 00:01:20', '2018-07-03 00:01:30',\n",
       "               ...\n",
       "               '2018-07-03 23:57:30', '2018-07-03 23:57:40',\n",
       "               '2018-07-03 23:57:50', '2018-07-03 23:58:00',\n",
       "               '2018-07-03 23:58:10', '2018-07-03 23:58:20',\n",
       "               '2018-07-03 23:58:30', '2018-07-03 23:58:40',\n",
       "               '2018-07-03 23:58:50', '2018-07-03 23:59:00'],\n",
       "              dtype='datetime64[ns]', length=3596, freq=None)"
      ]
     },
     "execution_count": 246,
     "metadata": {},
     "output_type": "execute_result"
    }
   ],
   "source": [
    "ni1 = pd.date_range('21:00', '23:59', freq=\"10s\")\n",
    "ni2 = pd.date_range('0:00', '07:00', freq=\"10s\")\n",
    "new_index = ni1.union(ni2)\n",
    "len(new_index)\n",
    "new_index"
   ]
  },
  {
   "cell_type": "code",
   "execution_count": 258,
   "metadata": {},
   "outputs": [
    {
     "data": {
      "text/plain": [
       "DatetimeIndex(['2000-01-01 21:00:00', '2000-01-01 21:00:10',\n",
       "               '2000-01-01 21:00:20', '2000-01-01 21:00:30',\n",
       "               '2000-01-01 21:00:40', '2000-01-01 21:00:50',\n",
       "               '2000-01-01 21:01:00', '2000-01-01 21:01:10',\n",
       "               '2000-01-01 21:01:20', '2000-01-01 21:01:30',\n",
       "               ...\n",
       "               '2000-01-02 06:58:30', '2000-01-02 06:58:40',\n",
       "               '2000-01-02 06:58:50', '2000-01-02 06:59:00',\n",
       "               '2000-01-02 06:59:10', '2000-01-02 06:59:20',\n",
       "               '2000-01-02 06:59:30', '2000-01-02 06:59:40',\n",
       "               '2000-01-02 06:59:50', '2000-01-02 07:00:00'],\n",
       "              dtype='datetime64[ns]', length=3601, freq='10S')"
      ]
     },
     "execution_count": 258,
     "metadata": {},
     "output_type": "execute_result"
    }
   ],
   "source": [
    "pd.date_range(start='2000-01-01 21:00:00', end='2000-01-02 07:00:00', freq=\"10s\")\n",
    "#pd.timedelta_range(start=pd.Timestamp('2017-01-01'), end=pd.Timestamp('2017-02-01'), freq=\"10s\")"
   ]
  },
  {
   "cell_type": "code",
   "execution_count": null,
   "metadata": {},
   "outputs": [],
   "source": []
  }
 ],
 "metadata": {
  "kernelspec": {
   "display_name": "Python 3",
   "language": "python",
   "name": "python3"
  },
  "language_info": {
   "codemirror_mode": {
    "name": "ipython",
    "version": 3
   },
   "file_extension": ".py",
   "mimetype": "text/x-python",
   "name": "python",
   "nbconvert_exporter": "python",
   "pygments_lexer": "ipython3",
   "version": "3.5.4"
  }
 },
 "nbformat": 4,
 "nbformat_minor": 2
}
