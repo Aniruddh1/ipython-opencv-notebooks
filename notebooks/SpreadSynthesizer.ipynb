{
 "cells": [
  {
   "cell_type": "code",
   "execution_count": 1,
   "metadata": {},
   "outputs": [
    {
     "data": {
      "text/html": [
       "\n",
       "<style>\n",
       "    div#notebook-container    { width: 95%; }\n",
       "    div#menubar-container     { width: 65%; }\n",
       "    div#maintoolbar-container { width: 99%; }\n",
       "</style>\n"
      ],
      "text/plain": [
       "<IPython.core.display.HTML object>"
      ]
     },
     "metadata": {},
     "output_type": "display_data"
    },
    {
     "name": "stdout",
     "output_type": "stream",
     "text": [
      "Paths defined in paths module:\n",
      " paths.data_root: /Users/trafferty/data\n",
      " paths.notebook_root: /Users/trafferty/data/notebooks\n",
      " paths.scripts_root: /Users/trafferty/data/scripts\n",
      " paths.images_root: /Users/trafferty/data/images\n",
      " paths.projects_root: /Users/trafferty/data/projects\n",
      " paths.results_root: /Users/trafferty/data/results\n",
      " paths.tmp_root: /Users/trafferty/data/tmp\n",
      " paths.dat_root: /Users/trafferty/data/dat\n",
      " paths.tmp_dir: /Users/trafferty/tmp\n",
      " paths.ws_dir: /Users/trafferty/workspace\n",
      " paths.mii_home: /Users/trafferty/dev\n",
      " paths.inhouse: /Users/trafferty/dev/src/inhouse\n"
     ]
    }
   ],
   "source": [
    "%matplotlib inline\n",
    "import cv2\n",
    "import numpy as np\n",
    "from matplotlib import pyplot as plt\n",
    "\n",
    "import sys\n",
    "from paths import Paths\n",
    "paths = Paths()\n",
    "sys.path.append(paths.scripts_root)\n",
    "import util\n",
    "\n",
    "%load_ext autoreload\n",
    "%autoreload 2\n",
    "\n",
    "# Display entire width of browser\n",
    "from IPython.display import display, HTML\n",
    "display(HTML(data=\"\"\"\n",
    "<style>\n",
    "    div#notebook-container    { width: 95%; }\n",
    "    div#menubar-container     { width: 65%; }\n",
    "    div#maintoolbar-container { width: 99%; }\n",
    "</style>\n",
    "\"\"\"))\n",
    "\n",
    "paths.print_paths()"
   ]
  },
  {
   "cell_type": "code",
   "execution_count": 24,
   "metadata": {},
   "outputs": [
    {
     "data": {
      "image/png": "[encoded data removed]",
      "text/plain": [
       "<Figure size 720x720 with 1 Axes>"
      ]
     },
     "metadata": {},
     "output_type": "display_data"
    }
   ],
   "source": [
    "background_val = 120\n",
    "h, w = 500, 500\n",
    "\n",
    "img = np.ones((h,w), np.uint8)*background_val\n",
    "util.plot_imgs([(img, 'img')], max_cols = 2)"
   ]
  },
  {
   "cell_type": "code",
   "execution_count": 32,
   "metadata": {},
   "outputs": [
    {
     "data": {
      "image/png": "[encoded data removed]",
      "text/plain": [
       "<Figure size 720x720 with 1 Axes>"
      ]
     },
     "metadata": {},
     "output_type": "display_data"
    }
   ],
   "source": [
    "cp = (int(img.shape[0]/2), int(img.shape[0]/2))\n",
    "\n",
    "cv2.circle(img, cp, 23, util.gray, -1) \n",
    "\n",
    "util.plot_imgs([(img, 'img')], max_cols = 2)"
   ]
  },
  {
   "cell_type": "code",
   "execution_count": 47,
   "metadata": {},
   "outputs": [],
   "source": [
    "fps = 120\n",
    "image_repeats = 1\n",
    "background_val = 120\n",
    "h, w = 1500, 1500\n",
    "video_fpath = f\"{paths.tmp_dir}/spread_synth_{h}x{w}_{fps}fps.avi\"\n",
    "\n",
    "frame_size = (h,w)\n",
    "source_base = np.ones((h,w), np.uint8)*background_val\n",
    "cp = (int(source_base.shape[0]/2), int(source_base.shape[0]/2))\n",
    "\n",
    "video_out = cv2.VideoWriter(video_fpath, cv2.VideoWriter_fourcc(*'DIV3'), fps, (frame_size[1],frame_size[0]))\n",
    "\n",
    "max_rad = int(np.hypot(int(h/2), int(w/2))) + 2\n",
    "dias = [x for x in range(1, max_rad, 1)]\n",
    "for dia in dias:\n",
    "    #print(\"Adding dia:\", dia)\n",
    "    source_img = source_base.copy()\n",
    "    \n",
    "    cv2.circle(source_img, cp, dia, util.gray, -1) \n",
    "\n",
    "    source_img_color = cv2.cvtColor(source_img, cv2.COLOR_GRAY2BGR)\n",
    "    for x in range(image_repeats):\n",
    "        video_out.write(source_img_color)\n",
    "\n",
    "video_out.release()"
   ]
  },
  {
   "cell_type": "code",
   "execution_count": 40,
   "metadata": {},
   "outputs": [
    {
     "data": {
      "text/plain": [
       "353.5533905932738"
      ]
     },
     "execution_count": 40,
     "metadata": {},
     "output_type": "execute_result"
    }
   ],
   "source": [
    "np.hypot(int(h/2), int(w/2))"
   ]
  },
  {
   "cell_type": "code",
   "execution_count": null,
   "metadata": {},
   "outputs": [],
   "source": []
  }
 ],
 "metadata": {
  "kernelspec": {
   "display_name": "Python 3",
   "language": "python",
   "name": "python3"
  },
  "language_info": {
   "codemirror_mode": {
    "name": "ipython",
    "version": 3
   },
   "file_extension": ".py",
   "mimetype": "text/x-python",
   "name": "python",
   "nbconvert_exporter": "python",
   "pygments_lexer": "ipython3",
   "version": "3.6.5"
  }
 },
 "nbformat": 4,
 "nbformat_minor": 2
}
