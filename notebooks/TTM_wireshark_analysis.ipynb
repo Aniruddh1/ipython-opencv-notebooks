{
 "cells": [
  {
   "cell_type": "code",
   "execution_count": 3,
   "metadata": {
    "collapsed": false
   },
   "outputs": [
    {
     "data": {
      "text/html": [
       "\n",
       "<style>\n",
       "    div#notebook-container    { width: 95%; }\n",
       "    div#menubar-container     { width: 65%; }\n",
       "    div#maintoolbar-container { width: 99%; }\n",
       "</style>\n"
      ],
      "text/plain": [
       "<IPython.core.display.HTML object>"
      ]
     },
     "metadata": {},
     "output_type": "display_data"
    },
    {
     "name": "stdout",
     "output_type": "stream",
     "text": [
      "Paths defined in paths module:\n",
      " paths.projects_root: /Users/trafferty/data/projects\n",
      " paths.ws_dir: /Users/trafferty/workspace\n",
      " paths.tmp_root: /Users/trafferty/data/tmp\n",
      " paths.mii_home: /Users/trafferty/dev\n",
      " paths.results_root: /Users/trafferty/data/results\n",
      " paths.data_root: /Users/trafferty/data\n",
      " paths.inhouse: /Users/trafferty/dev/src/inhouse\n",
      " paths.notebook_root: /Users/trafferty/data/notebooks\n",
      " paths.images_root: /Users/trafferty/data/images\n",
      " paths.tmp_dir: /Users/trafferty/tmp\n",
      " paths.scripts_root: /Users/trafferty/data/scripts\n"
     ]
    }
   ],
   "source": [
    "%matplotlib inline\n",
    "import cv2\n",
    "import numpy as np\n",
    "from matplotlib import pyplot as plt\n",
    "\n",
    "import os\n",
    "import sys\n",
    "from paths import Paths\n",
    "paths = Paths()\n",
    "sys.path.append(paths.scripts_root)\n",
    "import util\n",
    "\n",
    "from IPython.display import display, HTML\n",
    "\n",
    "display(HTML(data=\"\"\"\n",
    "<style>\n",
    "    div#notebook-container    { width: 95%; }\n",
    "    div#menubar-container     { width: 65%; }\n",
    "    div#maintoolbar-container { width: 99%; }\n",
    "</style>\n",
    "\"\"\"))\n",
    "\n",
    "paths.print_paths()\n"
   ]
  },
  {
   "cell_type": "code",
   "execution_count": 4,
   "metadata": {
    "collapsed": false
   },
   "outputs": [
    {
     "name": "stdout",
     "output_type": "stream",
     "text": [
      "Read in 29458 lines from TTM_20180621_imprint28-30.csv\n"
     ]
    }
   ],
   "source": [
    "#fnames = ['/home/trafferty/tmp_noback/TTM_Vibration/TTM_Data_2017_06_28/TTM_Data_IMCS_pcap/TTM_Data_2017_06_28_01.csv',\n",
    "#           '/home/trafferty/tmp/TTM_Vibration/TTM_Data_2017_06_28/TTM_Data_IMCS_pcap/TTM_Data_2017_06_28_02.csv',\n",
    "#           '/home/trafferty/tmp/TTM_Vibration/TTM_Data_2017_06_28/TTM_Data_IMCS_pcap/TTM_Data_2017_06_28_03.csv']\n",
    "#fnames = ['/home/trafferty/tmp/TTM_Vibration/TTM_Data_2017_06_28/TTM_WS_2017_06_29_IP8.csv']\n",
    "#fnames = ['/home/trafferty/tmp/TTM_Vibration/TTM_Data_2017_06_28/TTM_WS_2017_06_29_IP8_from_MISC.csv']\n",
    "#fnames = ['/home/trafferty/tmp/TTM_Vibration/TTM_Data_2017_06_28/TTM_Data_IMCS_pcap/TTM_Data_2017_06_28_02_StatusDO-to-MISC.csv']\n",
    "#fnames = ['/home/trafferty/tmp/TTM_Vibration/Wireshark_Data_2017_07_07/IMCS_traffic_2017_07_07_52-imprints.csv']\n",
    "\n",
    "\n",
    "fnames = ['/Users/trafferty/tmp/TTM_20180621_imprint28-30.csv']\n",
    "\n",
    "ttm_ws_data = []\n",
    "for fname in fnames:\n",
    "    with open(fname, 'r') as csv_file:\n",
    "        ttm_ws = csv_file.readlines()\n",
    "        ttm_ws_data.append(ttm_ws)\n",
    "        print(\"Read in %d lines from %s\" %(len(ttm_ws), os.path.basename(fname)))\n",
    "        \n",
    "from os.path import expanduser\n",
    "\n",
    "tmp_dir = paths.tmp_dir\n",
    "ws_dir = paths.ws_dir\n",
    "\n",
    "IMCS_mode = False\n",
    "TTM_Merge = False\n",
    "\n",
    "if IMCS_mode:\n",
    "    TTM_Merge = False"
   ]
  },
  {
   "cell_type": "code",
   "execution_count": 27,
   "metadata": {},
   "outputs": [
    {
     "data": {
      "text/plain": [
       "'\"19\",\"14.914718\",\"192.168.2.11\",\"192.168.2.1\",\"UDP\",\"126\",\"5259  >  5259 Len=84\"\\n'"
      ]
     },
     "execution_count": 27,
     "metadata": {},
     "output_type": "execute_result"
    }
   ],
   "source": [
    "ttm_ws[1]"
   ]
  },
  {
   "cell_type": "code",
   "execution_count": 54,
   "metadata": {
    "collapsed": false
   },
   "outputs": [],
   "source": [
    "def parse_into_data_sets(data, pcap=False):\n",
    "    data_ranges = []\n",
    "    data_sets = []\n",
    "    data_gaps = []\n",
    "    max_delta = 2\n",
    "    start = 0\n",
    "    cnt = 0\n",
    "    found_first = False\n",
    "\n",
    "    for idx, d in enumerate(data):\n",
    "        if pcap:\n",
    "            l = d.summary_line.replace(' ', ',')\n",
    "            d = l.split(',')\n",
    "        \n",
    "        if len(d) <= 1:\n",
    "            print(\"Found blank line: \", d)\n",
    "            continue\n",
    "\n",
    "        if found_first == False:\n",
    "            found_first = True\n",
    "            ts_prev = float(d.split(\",\")[1][1:-1])\n",
    "#             cum = 0.0\n",
    "#             data_ts = []\n",
    "        else:\n",
    "            ts = float(d.split(\",\")[1][1:-1])\n",
    "            delta = ts - ts_prev\n",
    "            if delta > max_delta:\n",
    "                data_gaps.append(delta)\n",
    "                \n",
    "                end = idx - 1\n",
    "\n",
    "                data_sets.append( [ data[start:end] ] )\n",
    "                data_ranges.append([start, end])\n",
    "                cnt += 1                \n",
    "                ts1 = float(data[start].split(\",\")[1][1:-1])\n",
    "                ts2 = float(data[end].split(\",\")[1][1:-1])\n",
    "                id1 = float(data[start].split(\",\")[0][1:-1])\n",
    "                id2 = float(data[end].split(\",\")[0][1:-1])\n",
    "                print(\"Data set %d, range: %d - %d (WS IDs: %d - %d) (total: %d) elapsed time: %f\" % (cnt, start,end, id1, id2, (end-start), (ts2-ts1)))\n",
    "\n",
    "#                 cum = 0.0\n",
    "#                 data_ts = []\n",
    "                start = idx\n",
    "#             else:\n",
    "#                 cum += delta\n",
    "#                 data_ts.append(cum)\n",
    "            ts_prev = ts\n",
    "\n",
    "    end = idx\n",
    "    data_sets.append( [ data[start:end] ] )\n",
    "    data_ranges.append([start, end])\n",
    "    cnt += 1\n",
    "    ts1 = float(data[start].split(\",\")[1][1:-1])\n",
    "    ts2 = float(data[end].split(\",\")[1][1:-1])\n",
    "    id1 = float(data[start].split(\",\")[0][1:-1])\n",
    "    id2 = float(data[end].split(\",\")[0][1:-1])\n",
    "    print(\"Data set %d, range: %d - %d (WS IDs: %d - %d) (total: %d) elapsed time: %f\" % (cnt, start,end, id1, id2, (end-start), (ts2-ts1)))\n",
    "        \n",
    "    print(data_gaps)\n",
    "    return data_ranges, data_sets, data_gaps\n",
    "\n"
   ]
  },
  {
   "cell_type": "code",
   "execution_count": 69,
   "metadata": {
    "collapsed": true
   },
   "outputs": [],
   "source": [
    "def parse_into_single_data_set(data):\n",
    "    data_ranges = []\n",
    "    data_sets = []\n",
    "    start = 1\n",
    "    end = len(data) - 1\n",
    "    data_sets.append( [ data[start:end] ] )\n",
    "    #data_ranges.append(data[start:idx])\n",
    "    len(data_ranges)\n",
    "        \n",
    "    return data_ranges, data_sets, []\n"
   ]
  },
  {
   "cell_type": "code",
   "execution_count": 70,
   "metadata": {
    "collapsed": false,
    "scrolled": false
   },
   "outputs": [
    {
     "name": "stdout",
     "output_type": "stream",
     "text": [
      "Parsing into datasets...\n",
      "Data set 1, range: 0 - 9816 (WS IDs: 19 - 19666) (total: 9816) elapsed time: 30.408301\n",
      "Data set 2, range: 9817 - 19637 (WS IDs: 19675 - 39329) (total: 9820) elapsed time: 30.414452\n",
      "Data set 3, range: 19638 - 29456 (WS IDs: 39341 - 58992) (total: 9818) elapsed time: 30.408692\n",
      "[24.857067, 24.605846999999997]\n",
      "Data set cnt: 3\n",
      "------------------------------------------------\n",
      "data set 0, no gap\n",
      "data set 1, gap: 24.857067\n",
      "data set 2, gap: 24.605847\n"
     ]
    }
   ],
   "source": [
    "'''\n",
    "    data_set[0] = list, n=len(data_set), raw data from csv: \"105\",\"1366.450402000\",\"192.168.2.11\",\"192.168.2.1\",\"TCP\",\"118\",\"49203 > 5259 [PSH, ACK] Seq=321 Ack=1 Win=256 Len=64\"\n",
    "    data_set[1] = list, n=num of packets with data, deltas between data packets\n",
    "    data_set[1] = list, n=num of packets with data, time stamps\n",
    "    data_set[2] = list, n=num of packets with data, data lengths in packets\n",
    "'''\n",
    " \n",
    "for ttm_ws in ttm_ws_data:\n",
    "    if IMCS_mode:\n",
    "        print(\"IMCS mode indicated; parsing into single dataset\")\n",
    "        data_ranges, data_sets, data_gaps = parse_into_single_data_set(ttm_ws[1:])\n",
    "    else:\n",
    "        print(\"Parsing into datasets...\")\n",
    "        data_ranges, data_sets, data_gaps = parse_into_data_sets(ttm_ws[1:])\n",
    "    \n",
    "    print(\"Data set cnt:\", len(data_sets))\n",
    "    print(\"------------------------------------------------\")\n",
    "    \n",
    "    for ds_num, data_set in enumerate(data_sets):\n",
    "        delay_set = []\n",
    "        packet_len_lst = []\n",
    "        for idx, line in enumerate(data_set[0]):\n",
    "            if idx == 0:\n",
    "                ts_prev = float(line.split(\",\")[1][1:-1])\n",
    "                cum = 0.0\n",
    "                data_ts = []\n",
    "                large_delay_ids = []\n",
    "            else:\n",
    "                idx = line.find(\"Len=\")\n",
    "                if idx >= 0:\n",
    "                    packet_len = int(line[idx:-2].split(\"=\")[1])\n",
    "                    packet_len_lst.append(packet_len)\n",
    "                    \n",
    "                    ts = float(line.split(\",\")[1][1:-1])\n",
    "                    delta = ts - ts_prev\n",
    "                    delay_set.append(delta)\n",
    "                    ts_prev = ts\n",
    "\n",
    "                    cum += delta\n",
    "                    data_ts.append(cum)\n",
    "                    \n",
    "                    thresh = 0.015\n",
    "                    if delta > thresh:\n",
    "                        _id = line.split(\",\")[0][1:-1]\n",
    "                        _ts = line.split(\",\")[1][1:-1]\n",
    "                        large_delay_ids.append( (_id, cum, delta))\n",
    "                        print(\"[%d][%s, %s] Delta = %f (> thresh:%f)\" % (ds_num, _id, _ts, delta, thresh))\n",
    "                    \n",
    "                #else:\n",
    "                    #print(\"Found non-data msg: \", line[:-1])\n",
    "\n",
    "        data_set.append(data_ts)\n",
    "        data_set.append(delay_set)\n",
    "        data_set.append(packet_len_lst)\n",
    "        data_set.append(large_delay_ids)\n",
    "        if ds_num == 0:\n",
    "            data_set.append(0)\n",
    "            print(\"data set 0, no gap\")\n",
    "        else:\n",
    "            data_set.append(data_gaps[ds_num-1])\n",
    "            print(\"data set %d, gap: %f\" % (ds_num, data_gaps[ds_num-1]))\n",
    "        "
   ]
  },
  {
   "cell_type": "code",
   "execution_count": 37,
   "metadata": {
    "collapsed": false,
    "scrolled": true
   },
   "outputs": [
    {
     "name": "stdout",
     "output_type": "stream",
     "text": [
      "--------------------------------------------------\n",
      "data_set[0]:\n",
      "  Number of raw lines in data_set : 9816\n",
      "  Number of delta pts             : 9815\n",
      "  Number of time stamps           : 9815\n",
      "  Number of lines with packet data: 9815\n",
      "  Data set gap                    : 0\n",
      "  first 5 TSs: 0.0001679999999986137, 0.003434999999999633, 0.006128999999999607, 0.009551000000000087, 0.012443999999998567\n",
      "  last  5 TSs: 30.393276999999998, 30.396316999999996, 30.399147999999997, 30.40224, 30.405313999999997\n",
      "--------------------------------------------------\n",
      "data_set[1]:\n",
      "  Number of raw lines in data_set : 9820\n",
      "  Number of delta pts             : 9819\n",
      "  Number of time stamps           : 9819\n",
      "  Number of lines with packet data: 9819\n",
      "  Data set gap                    : 24.857067\n",
      "  first 5 TSs: 0.0010169999999902757, 0.002927999999997155, 0.004125000000001933, 0.006039000000001238, 0.007818000000000325\n",
      "  last  5 TSs: 30.399231, 30.402293, 30.40544, 30.408502999999996, 30.411626999999996\n",
      "--------------------------------------------------\n",
      "data_set[2]:\n",
      "  Number of raw lines in data_set : 9818\n",
      "  Number of delta pts             : 9817\n",
      "  Number of time stamps           : 9817\n",
      "  Number of lines with packet data: 9817\n",
      "  Data set gap                    : 24.605846999999997\n",
      "  first 5 TSs: 0.0021380000000021937, 0.0033389999999968722, 0.00693100000000868, 0.007153000000002407, 0.008267000000003577\n",
      "  last  5 TSs: 30.393364000000005, 30.396478000000016, 30.39956199999999, 30.402678999999992, 30.405739999999994\n"
     ]
    }
   ],
   "source": [
    "for idx, data_set in enumerate(data_sets):\n",
    "    print(\"--------------------------------------------------\")\n",
    "    print(\"data_set[%d]:\" % idx)\n",
    "    raw =data_set[0]\n",
    "    ts = data_set[1]\n",
    "    deltas = data_set[2]\n",
    "    packet_len = data_set[3]\n",
    "    large_delay_ids = data_set[4]\n",
    "    gap  = data_set[5]\n",
    "\n",
    "    print(\"  Number of raw lines in data_set :\", len(raw))\n",
    "    print(\"  Number of delta pts             :\", len(deltas))\n",
    "    print(\"  Number of time stamps           :\", len(ts))\n",
    "    print(\"  Number of lines with packet data:\", len(packet_len))\n",
    "    print(\"  Data set gap                    :\", gap)\n",
    "    print(\"  first 5 TSs: %s\" % (', '.join(str(e) for e in ts[0:5])) )\n",
    "    print(\"  last  5 TSs: %s\" % (', '.join(str(e) for e in ts[-5:])) )\n",
    "    if len(large_delay_ids) > 0:\n",
    "        print(\"  Delays occured at: \")\n",
    "        for large_delay_id in large_delay_ids:\n",
    "            print(\"   Wireshark id: %s, ts: %.3f, delay: %f\" % (large_delay_id[0], float(large_delay_id[1]), large_delay_id[2]))"
   ]
  },
  {
   "cell_type": "code",
   "execution_count": 38,
   "metadata": {
    "collapsed": false
   },
   "outputs": [
    {
     "data": {
      "text/plain": [
       "29451"
      ]
     },
     "execution_count": 38,
     "metadata": {},
     "output_type": "execute_result"
    }
   ],
   "source": [
    "if TTM_Merge:\n",
    "    print(\"Merging datasets...\")\n",
    "    merged_data_set = []\n",
    "    merged_data_set.append( [ [], [], [], [] ])\n",
    "    for data_set in data_sets:        \n",
    "        for idx, d in enumerate(data_set[1]):\n",
    "            merged_data_set[0][0].append(data_set[0][idx])\n",
    "            merged_data_set[0][1].append(data_set[1][idx])\n",
    "            merged_data_set[0][2].append(data_set[2][idx])\n",
    "            merged_data_set[0][3].append(data_set[3][idx])\n",
    "            \n",
    "len(merged_data_set[0][0])"
   ]
  },
  {
   "cell_type": "code",
   "execution_count": 39,
   "metadata": {
    "collapsed": false,
    "scrolled": false
   },
   "outputs": [
    {
     "name": "stdout",
     "output_type": "stream",
     "text": [
      "Creating PDF (/Users/trafferty/tmp/TTM_20180621_imprint28-30.pdf) with 1 pages.\n",
      "Total plots: 3, plots per page: 3\n",
      " plot 0, data pts: 9815, 9815\n",
      " plot 1, data pts: 9819, 9819\n",
      " plot 2, data pts: 9817, 9817\n",
      "Saving pdf...\n"
     ]
    },
    {
     "data": {
      "image/png": "[encoded data removed]",
      "text/plain": [
       "<matplotlib.figure.Figure at 0x11906e898>"
      ]
     },
     "metadata": {},
     "output_type": "display_data"
    }
   ],
   "source": [
    "save_pdf = True\n",
    "\n",
    "if TTM_Merge:\n",
    "    print(\"Merging datasets...\")\n",
    "    merged_data_set = []\n",
    "    merged_data_set.append( [ [], [], [], [] ])\n",
    "    cum = 0.0\n",
    "    for data_set in data_sets:        \n",
    "        for idx, d in enumerate(data_set[1]):\n",
    "            cum += data_set[2][idx]\n",
    "            merged_data_set[0][0].append(data_set[0][idx])\n",
    "            merged_data_set[0][1].append(cum)\n",
    "            merged_data_set[0][2].append(data_set[2][idx])\n",
    "            merged_data_set[0][3].append(data_set[3][idx])\n",
    "        cum += data_set[5]\n",
    "            \n",
    "    data_sets_to_plot = merged_data_set\n",
    "else:\n",
    "    data_sets_to_plot = data_sets\n",
    "\n",
    "num_plots = len(data_sets_to_plot)\n",
    "\n",
    "if save_pdf:\n",
    "    plot_file_pdf = \"%s/%s.pdf\" % (tmp_dir, os.path.basename(fnames[0][0:-4]))\n",
    "    from matplotlib.backends.backend_pdf import PdfPages\n",
    "    import datetime\n",
    "    pdf = PdfPages(plot_file_pdf)\n",
    "    # set the file's metadata via the PdfPages object:\n",
    "    d = pdf.infodict() \n",
    "    d['Title'] = os.path.basename(fnames[0][0:-4])\n",
    "    d['Author'] = 'Tom Rafferty'\n",
    "    d['Subject'] = 'TTM IP8 Interface Analysis'\n",
    "    d['CreationDate'] = datetime.datetime.today()\n",
    "    d['ModDate'] = datetime.datetime.today()\n",
    "\n",
    "    # setup vars to control page layout\n",
    "    plots_per_page = num_plots\n",
    "    num_pages = np.ceil(num_plots / plots_per_page)\n",
    "    nb_pages = int(np.ceil(num_plots / float(plots_per_page)))\n",
    "    grid_size = (plots_per_page, 1)\n",
    "\n",
    "    print(\"Creating PDF (%s) with %d pages.\" % (plot_file_pdf, num_pages))\n",
    "    print(\"Total plots: %d, plots per page: %d\" % (num_plots, plots_per_page))\n",
    "\n",
    "    fig, axes = plt.subplots(nrows=num_plots, ncols=1, squeeze=True, figsize=(18,(5*num_plots)))\n",
    "\n",
    "for idx, data_set in enumerate(data_sets_to_plot):\n",
    "    if len(data_set[0]) ==0:\n",
    "        continue\n",
    "        \n",
    "    print( \" plot %d, data pts: %d, %d\" % (idx, len(data_set[1]),len(data_set[2])))\n",
    "    if num_plots > 1:\n",
    "        ax1 = axes[idx]\n",
    "    else:\n",
    "        ax1 = axes\n",
    "\n",
    "    ax1.plot(data_set[1], data_set[2], color='b', label='delay')\n",
    "    ax1.set_xlabel('time (s)')\n",
    "    # Make the y-axis label, ticks and tick labels match the line color.\n",
    "    ax1.set_ylabel('delay between TTM data (s)', color='b')\n",
    "    ax1.tick_params('y', colors='b')\n",
    "    ax1.set_title(os.path.basename(fnames[0][0:-4]))\n",
    "    leg1 = ax1.legend(loc='upper left', shadow=True)\n",
    "\n",
    "#     ax2 = ax1.twinx()\n",
    "#     ax2.plot(data_set[1], data_set[3],  color='c', label='packet size')\n",
    "#     ax2.set_ylabel('packet size', color='m')\n",
    "#     ax2.tick_params('y', colors='m')\n",
    "#     leg2 = ax2.legend(loc='upper right', shadow=True)\n",
    "    \n",
    "fig.savefig(\"%s/%s.png\" % (tmp_dir, os.path.basename(fnames[0][0:-4])))\n",
    "\n",
    "if save_pdf:\n",
    "#         for fig in figs:\n",
    "#             fig.savefig(pdf, format='pdf')\n",
    "    print(\"Saving pdf...\")\n",
    "    fig.savefig(pdf, format='pdf')\n",
    "    pdf.close()\n"
   ]
  },
  {
   "cell_type": "code",
   "execution_count": null,
   "metadata": {},
   "outputs": [],
   "source": []
  },
  {
   "cell_type": "markdown",
   "metadata": {
    "slideshow": {
     "slide_type": "-"
    }
   },
   "source": [
    "## Now, another parser using pyshark"
   ]
  },
  {
   "cell_type": "code",
   "execution_count": 5,
   "metadata": {
    "collapsed": true
   },
   "outputs": [],
   "source": [
    "import pyshark"
   ]
  },
  {
   "cell_type": "code",
   "execution_count": 6,
   "metadata": {},
   "outputs": [
    {
     "name": "stdout",
     "output_type": "stream",
     "text": [
      "Read in 0 lines from TTM_20180621_imprint27.pcapng\n"
     ]
    }
   ],
   "source": [
    "fnames = ['/Users/trafferty/tmp/TTM_20180621_imprint27.pcapng']\n",
    "\n",
    "ttm_cap_data = []\n",
    "for fname in fnames:\n",
    "    ttm_cap = pyshark.FileCapture(fname, display_filter=\"udp and ip.dst==192.168.2.1\", only_summaries=True)\n",
    "    ttm_cap_data.append(ttm_cap)\n",
    "    print(\"Read in %d lines from %s\" %(len(ttm_cap), os.path.basename(fname)))"
   ]
  },
  {
   "cell_type": "code",
   "execution_count": null,
   "metadata": {},
   "outputs": [],
   "source": []
  },
  {
   "cell_type": "code",
   "execution_count": 7,
   "metadata": {},
   "outputs": [
    {
     "data": {
      "text/plain": [
       "<FileCapture /Users/trafferty/tmp/TTM_20180621_imprint27.pcapng>"
      ]
     },
     "execution_count": 7,
     "metadata": {},
     "output_type": "execute_result"
    }
   ],
   "source": [
    "ttm_cap = ttm_cap_data[0]\n",
    "ttm_cap\n",
    "#print(pkt)"
   ]
  },
  {
   "cell_type": "code",
   "execution_count": 11,
   "metadata": {},
   "outputs": [
    {
     "ename": "TypeError",
     "evalue": "unorderable types: slice() >= int()",
     "output_type": "error",
     "traceback": [
      "\u001b[0;31m---------------------------------------------------------------------------\u001b[0m",
      "\u001b[0;31mTypeError\u001b[0m                                 Traceback (most recent call last)",
      "\u001b[0;32m<ipython-input-11-4290d0e95746>\u001b[0m in \u001b[0;36m<module>\u001b[0;34m()\u001b[0m\n\u001b[1;32m      1\u001b[0m \u001b[0mttm_cap\u001b[0m \u001b[0;34m=\u001b[0m \u001b[0mttm_cap_data\u001b[0m\u001b[0;34m[\u001b[0m\u001b[0;36m0\u001b[0m\u001b[0;34m]\u001b[0m\u001b[0;34m\u001b[0m\u001b[0m\n\u001b[0;32m----> 2\u001b[0;31m \u001b[0;32mfor\u001b[0m \u001b[0mpkt\u001b[0m \u001b[0;32min\u001b[0m \u001b[0mttm_cap\u001b[0m\u001b[0;34m[\u001b[0m\u001b[0;36m0\u001b[0m\u001b[0;34m:\u001b[0m\u001b[0;36m20\u001b[0m\u001b[0;34m]\u001b[0m\u001b[0;34m:\u001b[0m\u001b[0;34m\u001b[0m\u001b[0m\n\u001b[0m\u001b[1;32m      3\u001b[0m     \u001b[0mprint\u001b[0m\u001b[0;34m(\u001b[0m\u001b[0mpkt\u001b[0m\u001b[0;34m.\u001b[0m\u001b[0mtime\u001b[0m\u001b[0;34m)\u001b[0m\u001b[0;34m\u001b[0m\u001b[0m\n",
      "\u001b[0;32m~/anaconda/lib/python3.5/site-packages/pyshark/capture/file_capture.py\u001b[0m in \u001b[0;36m__getitem__\u001b[0;34m(self, packet_index)\u001b[0m\n\u001b[1;32m     66\u001b[0m             \u001b[0;32mraise\u001b[0m \u001b[0mNotImplementedError\u001b[0m\u001b[0;34m(\u001b[0m\u001b[0;34m\"Cannot use getitem if packets are not kept\"\u001b[0m\u001b[0;34m)\u001b[0m\u001b[0;34m\u001b[0m\u001b[0m\n\u001b[1;32m     67\u001b[0m             \u001b[0;31m# We may not yet have this packet\u001b[0m\u001b[0;34m\u001b[0m\u001b[0;34m\u001b[0m\u001b[0m\n\u001b[0;32m---> 68\u001b[0;31m         \u001b[0;32mwhile\u001b[0m \u001b[0mpacket_index\u001b[0m \u001b[0;34m>=\u001b[0m \u001b[0mlen\u001b[0m\u001b[0;34m(\u001b[0m\u001b[0mself\u001b[0m\u001b[0;34m.\u001b[0m\u001b[0m_packets\u001b[0m\u001b[0;34m)\u001b[0m\u001b[0;34m:\u001b[0m\u001b[0;34m\u001b[0m\u001b[0m\n\u001b[0m\u001b[1;32m     69\u001b[0m             \u001b[0;32mtry\u001b[0m\u001b[0;34m:\u001b[0m\u001b[0;34m\u001b[0m\u001b[0m\n\u001b[1;32m     70\u001b[0m                 \u001b[0mnext\u001b[0m\u001b[0;34m(\u001b[0m\u001b[0mself\u001b[0m\u001b[0;34m)\u001b[0m\u001b[0;34m\u001b[0m\u001b[0m\n",
      "\u001b[0;31mTypeError\u001b[0m: unorderable types: slice() >= int()"
     ]
    }
   ],
   "source": [
    "ttm_cap = ttm_cap_data[0]\n",
    "for pkt in ttm_cap[0:20]:\n",
    "    print(pkt.time)"
   ]
  },
  {
   "cell_type": "code",
   "execution_count": 61,
   "metadata": {},
   "outputs": [
    {
     "data": {
      "text/plain": [
       "['19654',\n",
       " '206.724583',\n",
       " '192.168.2.11',\n",
       " '192.168.2.1',\n",
       " 'UDP',\n",
       " '126',\n",
       " '5259',\n",
       " '\\\\xe2\\\\x86\\\\x92',\n",
       " '5259',\n",
       " 'Len=84']"
      ]
     },
     "execution_count": 61,
     "metadata": {},
     "output_type": "execute_result"
    }
   ],
   "source": [
    "l =pkt.summary_line.replace(' ', ',')\n",
    "l.split(',')\n",
    "# csv_file\n",
    "# l.replace(' ', ',').split\n",
    "\n"
   ]
  },
  {
   "cell_type": "code",
   "execution_count": 55,
   "metadata": {},
   "outputs": [
    {
     "ename": "AttributeError",
     "evalue": "'list' object has no attribute 'split'",
     "output_type": "error",
     "traceback": [
      "\u001b[0;31m---------------------------------------------------------------------------\u001b[0m",
      "\u001b[0;31mAttributeError\u001b[0m                            Traceback (most recent call last)",
      "\u001b[0;32m<ipython-input-55-5fd7ca0051c8>\u001b[0m in \u001b[0;36m<module>\u001b[0;34m()\u001b[0m\n\u001b[0;32m----> 1\u001b[0;31m \u001b[0mparse_into_data_sets\u001b[0m\u001b[0;34m(\u001b[0m\u001b[0mttm_cap\u001b[0m\u001b[0;34m,\u001b[0m \u001b[0mpcap\u001b[0m\u001b[0;34m=\u001b[0m\u001b[0;32mTrue\u001b[0m\u001b[0;34m)\u001b[0m\u001b[0;34m\u001b[0m\u001b[0m\n\u001b[0m",
      "\u001b[0;32m<ipython-input-54-4c7733cc3d83>\u001b[0m in \u001b[0;36mparse_into_data_sets\u001b[0;34m(data, pcap)\u001b[0m\n\u001b[1;32m     19\u001b[0m         \u001b[0;32mif\u001b[0m \u001b[0mfound_first\u001b[0m \u001b[0;34m==\u001b[0m \u001b[0;32mFalse\u001b[0m\u001b[0;34m:\u001b[0m\u001b[0;34m\u001b[0m\u001b[0m\n\u001b[1;32m     20\u001b[0m             \u001b[0mfound_first\u001b[0m \u001b[0;34m=\u001b[0m \u001b[0;32mTrue\u001b[0m\u001b[0;34m\u001b[0m\u001b[0m\n\u001b[0;32m---> 21\u001b[0;31m             \u001b[0mts_prev\u001b[0m \u001b[0;34m=\u001b[0m \u001b[0mfloat\u001b[0m\u001b[0;34m(\u001b[0m\u001b[0md\u001b[0m\u001b[0;34m.\u001b[0m\u001b[0msplit\u001b[0m\u001b[0;34m(\u001b[0m\u001b[0;34m\",\"\u001b[0m\u001b[0;34m)\u001b[0m\u001b[0;34m[\u001b[0m\u001b[0;36m1\u001b[0m\u001b[0;34m]\u001b[0m\u001b[0;34m[\u001b[0m\u001b[0;36m1\u001b[0m\u001b[0;34m:\u001b[0m\u001b[0;34m-\u001b[0m\u001b[0;36m1\u001b[0m\u001b[0;34m]\u001b[0m\u001b[0;34m)\u001b[0m\u001b[0;34m\u001b[0m\u001b[0m\n\u001b[0m\u001b[1;32m     22\u001b[0m \u001b[0;31m#             cum = 0.0\u001b[0m\u001b[0;34m\u001b[0m\u001b[0;34m\u001b[0m\u001b[0m\n\u001b[1;32m     23\u001b[0m \u001b[0;31m#             data_ts = []\u001b[0m\u001b[0;34m\u001b[0m\u001b[0;34m\u001b[0m\u001b[0m\n",
      "\u001b[0;31mAttributeError\u001b[0m: 'list' object has no attribute 'split'"
     ]
    }
   ],
   "source": [
    "parse_into_data_sets(ttm_cap, pcap=True)"
   ]
  },
  {
   "cell_type": "code",
   "execution_count": 23,
   "metadata": {},
   "outputs": [],
   "source": [
    "deltas = []\n",
    "for idx, pkt in enumerate(ttm_cap):\n",
    "    if idx == 0:\n",
    "        ts_prev = float(pkt.time)\n",
    "    else:\n",
    "        ts = float(pkt.time)\n",
    "        delta = ts - ts_prev\n",
    "        ts_prev = ts\n",
    "        deltas.append(delta)\n",
    "deltas_np = np.array(deltas)"
   ]
  },
  {
   "cell_type": "code",
   "execution_count": 25,
   "metadata": {},
   "outputs": [
    {
     "data": {
      "text/plain": [
       "0.0063930000000027576"
      ]
     },
     "execution_count": 25,
     "metadata": {},
     "output_type": "execute_result"
    }
   ],
   "source": [
    "deltas_np.max()"
   ]
  },
  {
   "cell_type": "code",
   "execution_count": 46,
   "metadata": {},
   "outputs": [],
   "source": []
  },
  {
   "cell_type": "code",
   "execution_count": 47,
   "metadata": {},
   "outputs": [],
   "source": [
    "tt"
   ]
  },
  {
   "cell_type": "code",
   "execution_count": null,
   "metadata": {},
   "outputs": [],
   "source": []
  }
 ],
 "metadata": {
  "kernelspec": {
   "display_name": "Python 3",
   "language": "python",
   "name": "python3"
  },
  "language_info": {
   "codemirror_mode": {
    "name": "ipython",
    "version": 3
   },
   "file_extension": ".py",
   "mimetype": "text/x-python",
   "name": "python",
   "nbconvert_exporter": "python",
   "pygments_lexer": "ipython3",
   "version": "3.5.4"
  }
 },
 "nbformat": 4,
 "nbformat_minor": 2
}
