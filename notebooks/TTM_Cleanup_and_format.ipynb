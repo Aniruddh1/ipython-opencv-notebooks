{
 "cells": [
  {
   "cell_type": "code",
   "execution_count": 35,
   "metadata": {
    "collapsed": true
   },
   "outputs": [],
   "source": [
    "import time\n",
    "import datetime\n",
    "import csv"
   ]
  },
  {
   "cell_type": "code",
   "execution_count": 34,
   "metadata": {
    "collapsed": false
   },
   "outputs": [
    {
     "name": "stdout",
     "output_type": "stream",
     "text": [
      "('formatted_fname: ', '/home/trafferty/tmp/TTMLogStream.dat')\n",
      "('Unfiltered len:', 11330)\n"
     ]
    },
    {
     "data": {
      "text/plain": [
       "'doTTMClientWork: 2017-06-01 13:47:30.904, 1.52084, 64, 3137, 0, 111, 0.0001491, 0, -0.0001064, 0, 0.000108, 0, 8.7e-05, 0, 0, 0, p, 0.0001491, -0.0001064, 0.000108, 8.7e-05, 222, 0.0001645, 0, -4.47e-05, 0, 6.5e-05, 0, -3.3e-05, 0, 0, 0, p, 0.0001645, -4.47e-05, 6.5e-05, -3.3e-05, 333, 0.0001259, 0, -3.72e-05, 0, 0.00018, 0, -0.000195, 0, 0, 0, p, 0.0001259, -3.72e-05, 0.00018, -0.000195, 444, 0.0001182, 0, -0.0001019, 0, 0.000123, 0, -2.7e-05, 0, 0, 0, p, 0.0001182, -0.0001019, 0.000123, -2.7e-05\\n'"
      ]
     },
     "execution_count": 34,
     "metadata": {},
     "output_type": "execute_result"
    }
   ],
   "source": [
    "from os.path import expanduser, split\n",
    "\n",
    "tmp_dir = '%s/tmp' % (expanduser(\"~\"))\n",
    "\n",
    "fname = '%s/30799_TTMLogStream.csv' % (tmp_dir)\n",
    "\n",
    "formatted_fname = split(fname)[0] + '/TTMLogStream.dat'\n",
    "print(\"formatted_fname: \", formatted_fname)\n",
    "\n",
    "f = open(fname, 'r')\n",
    "ttm = f.readlines()\n",
    "f.close()\n",
    "print(\"Unfiltered len:\", len(ttm))\n",
    "ttm[0]"
   ]
  },
  {
   "cell_type": "code",
   "execution_count": 22,
   "metadata": {
    "collapsed": true
   },
   "outputs": [],
   "source": [
    "def cleanup_and_format_data_set(data_set):\n",
    "    data_set_formated = []\n",
    "    for idx, data_row_str in enumerate(data_set):\n",
    "        data_row_formatted = []\n",
    "        data_row = data_row_str.split(',')\n",
    "        #print(idx)\n",
    "        #data_row_formatted.append(data_row[0][17:])\n",
    "        \n",
    "        if idx == 0:\n",
    "            dt0 = datetime.datetime.strptime(data_row[0][17:], \"%Y-%m-%d %H:%M:%S.%f\")\n",
    "            t0 =time.mktime(dt0.timetuple()) + (dt0.microsecond / 1000000.0)\n",
    "            data_row_formatted.append(float(data_row[1]))\n",
    "        else:\n",
    "            dt1 = datetime.datetime.strptime(data_row[0][17:], \"%Y-%m-%d %H:%M:%S.%f\")\n",
    "            t1 = time.mktime(dt1.timetuple()) + (dt1.microsecond / 1000000.0)\n",
    "            data_row_formatted.append(float(data_row[1]) + (t1-t0))\n",
    "\n",
    "        data_row_formatted.append(float(data_row[1]))                 \n",
    "        data_row_formatted.append(int(data_row[2]))                 \n",
    "        data_row_formatted.append(int(data_row[3]))                 \n",
    "        data_row_formatted.append(int(data_row[4]))                 \n",
    "        offset = 4\n",
    "        \n",
    "        data_row_formatted.append(float(data_row[offset+2]))                 \n",
    "        data_row_formatted.append(int(data_row[offset+3]))                   \n",
    "        data_row_formatted.append(float(data_row[offset+4]))                 \n",
    "        data_row_formatted.append(int(data_row[offset+5]))                   \n",
    "        data_row_formatted.append(float(data_row[offset+6]))                 \n",
    "        data_row_formatted.append(int(data_row[offset+7]))\n",
    "        data_row_formatted.append(float(data_row[offset+8]))                 \n",
    "        data_row_formatted.append(int(data_row[offset+9]))                   \n",
    "        data_row_formatted.append((data_row[offset+10].count('0') - 1) * -1)\n",
    "        data_row_formatted.append((data_row[offset+11].count('0') - 1) * -1)\n",
    "        data_row_formatted.append(float(data_row[offset+13]))                \n",
    "        data_row_formatted.append(float(data_row[offset+14]))                \n",
    "        data_row_formatted.append(float(data_row[offset+15]))                \n",
    "        data_row_formatted.append(float(data_row[offset+16]))                \n",
    "        data_row_formatted.append(float(data_row[offset+18]))                \n",
    "        data_row_formatted.append(int(data_row[offset+19]))                  \n",
    "        data_row_formatted.append(float(data_row[offset+20]))                \n",
    "        data_row_formatted.append(int(data_row[offset+21]))                  \n",
    "        data_row_formatted.append(float(data_row[offset+22]))                \n",
    "        data_row_formatted.append(int(data_row[offset+23]))                  \n",
    "        data_row_formatted.append(float(data_row[offset+24]))                \n",
    "        data_row_formatted.append(int(data_row[offset+25]))                  \n",
    "        data_row_formatted.append((data_row[offset+26].count('0') - 1) * -1)\n",
    "        data_row_formatted.append((data_row[offset+27].count('0') - 1) * -1)\n",
    "        data_row_formatted.append(float(data_row[offset+29]))                \n",
    "        data_row_formatted.append(float(data_row[offset+30]))                \n",
    "        data_row_formatted.append(float(data_row[offset+31]))                \n",
    "        data_row_formatted.append(float(data_row[offset+32]))                \n",
    "        data_row_formatted.append(float(data_row[offset+34]))                \n",
    "        data_row_formatted.append(int(data_row[offset+35]))                  \n",
    "        data_row_formatted.append(float(data_row[offset+36]))                \n",
    "        data_row_formatted.append(int(data_row[offset+37]))                  \n",
    "        data_row_formatted.append(float(data_row[offset+38]))                \n",
    "        data_row_formatted.append(int(data_row[offset+39]))                  \n",
    "        data_row_formatted.append(float(data_row[offset+40]))                \n",
    "        data_row_formatted.append(int(data_row[offset+41]))                  \n",
    "        data_row_formatted.append((data_row[offset+42].count('0') - 1) * -1)\n",
    "        data_row_formatted.append((data_row[offset+43].count('0') - 1) * -1)\n",
    "        data_row_formatted.append(float(data_row[offset+45]))                \n",
    "        data_row_formatted.append(float(data_row[offset+46]))                \n",
    "        data_row_formatted.append(float(data_row[offset+47]))                \n",
    "        data_row_formatted.append(float(data_row[offset+48]))                \n",
    "        data_row_formatted.append(float(data_row[offset+50]))                \n",
    "        data_row_formatted.append(int(data_row[offset+51]))                  \n",
    "        data_row_formatted.append(float(data_row[offset+52]))                \n",
    "        data_row_formatted.append(int(data_row[offset+53]))                  \n",
    "        data_row_formatted.append(float(data_row[offset+54]))                \n",
    "        data_row_formatted.append(int(data_row[offset+55]))                  \n",
    "        data_row_formatted.append(float(data_row[offset+56]))                \n",
    "        data_row_formatted.append(int(data_row[offset+57]))                  \n",
    "        data_row_formatted.append((data_row[offset+58].count('0') - 1) * -1)\n",
    "        data_row_formatted.append((data_row[offset+59].count('0') - 1) * -1)\n",
    "        data_row_formatted.append(float(data_row[offset+61]))                \n",
    "        data_row_formatted.append(float(data_row[offset+62]))                \n",
    "        data_row_formatted.append(float(data_row[offset+63]))                \n",
    "        data_row_formatted.append(float(data_row[offset+64]))\n",
    "        data_set_formated.append(data_row_formatted)\n",
    "    return data_set_formated\n"
   ]
  },
  {
   "cell_type": "code",
   "execution_count": 23,
   "metadata": {
    "collapsed": false
   },
   "outputs": [],
   "source": [
    "ttm2 = cleanup_and_format_data_set(ttm)"
   ]
  },
  {
   "cell_type": "code",
   "execution_count": 40,
   "metadata": {
    "collapsed": false
   },
   "outputs": [],
   "source": [
    "with open(formatted_fname, 'wb') as formatted_file:\n",
    "    wr = csv.writer(formatted_file, delimiter=' ')\n",
    "    wr.writerows(ttm2)\n"
   ]
  },
  {
   "cell_type": "code",
   "execution_count": null,
   "metadata": {
    "collapsed": true
   },
   "outputs": [],
   "source": []
  }
 ],
 "metadata": {
  "kernelspec": {
   "display_name": "Python 2",
   "language": "python",
   "name": "python2"
  },
  "language_info": {
   "codemirror_mode": {
    "name": "ipython",
    "version": 2
   },
   "file_extension": ".py",
   "mimetype": "text/x-python",
   "name": "python",
   "nbconvert_exporter": "python",
   "pygments_lexer": "ipython2",
   "version": "2.7.6"
  }
 },
 "nbformat": 4,
 "nbformat_minor": 2
}
