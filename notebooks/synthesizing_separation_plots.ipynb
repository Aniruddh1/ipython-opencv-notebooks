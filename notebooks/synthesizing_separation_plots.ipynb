{
 "cells": [
  {
   "cell_type": "code",
   "execution_count": 1,
   "metadata": {},
   "outputs": [
    {
     "data": {
      "text/html": [
       "\n",
       "<style>\n",
       "    div#notebook-container    { width: 95%; }\n",
       "    div#menubar-container     { width: 65%; }\n",
       "    div#maintoolbar-container { width: 99%; }\n",
       "</style>\n"
      ],
      "text/plain": [
       "<IPython.core.display.HTML object>"
      ]
     },
     "metadata": {},
     "output_type": "display_data"
    },
    {
     "name": "stdout",
     "output_type": "stream",
     "text": [
      "Paths defined in paths module:\n",
      " paths.data_root: /Users/trafferty/data\n",
      " paths.notebook_root: /Users/trafferty/data/notebooks\n",
      " paths.scripts_root: /Users/trafferty/data/scripts\n",
      " paths.images_root: /Users/trafferty/data/images\n",
      " paths.projects_root: /Users/trafferty/data/projects\n",
      " paths.results_root: /Users/trafferty/data/results\n",
      " paths.tmp_root: /Users/trafferty/data/tmp\n",
      " paths.dat_root: /Users/trafferty/data/dat\n",
      " paths.tmp_dir: /Users/trafferty/tmp\n",
      " paths.ws_dir: /Users/trafferty/workspace\n",
      " paths.mii_home: /Users/trafferty/dev\n",
      " paths.inhouse: /Users/trafferty/dev/src/inhouse\n"
     ]
    }
   ],
   "source": [
    "%matplotlib inline\n",
    "import cv2\n",
    "import numpy as np\n",
    "from matplotlib import pyplot as plt\n",
    "\n",
    "import sys\n",
    "from paths import Paths\n",
    "paths = Paths()\n",
    "sys.path.append(paths.scripts_root)\n",
    "import util\n",
    "\n",
    "%load_ext autoreload\n",
    "%autoreload 2\n",
    "\n",
    "# Display entire width of browser\n",
    "from IPython.display import display, HTML\n",
    "display(HTML(data=\"\"\"\n",
    "<style>\n",
    "    div#notebook-container    { width: 95%; }\n",
    "    div#menubar-container     { width: 65%; }\n",
    "    div#maintoolbar-container { width: 99%; }\n",
    "</style>\n",
    "\"\"\"))\n",
    "\n",
    "paths.print_paths()"
   ]
  },
  {
   "cell_type": "code",
   "execution_count": 33,
   "metadata": {},
   "outputs": [
    {
     "name": "stdout",
     "output_type": "stream",
     "text": [
      "50 25\n",
      "15 40\n",
      "15 15\n",
      "10 15\n",
      "10 5\n"
     ]
    }
   ],
   "source": [
    "n = 600\n",
    "ca_start = 1250\n",
    "ca_end = 0\n",
    "\n",
    "# Phase: percent: [CA_drop_per, time_per]\n",
    "CA_drop_per = [50, 15, 15, 10, 10]\n",
    "time_per    = [25, 40, 15, 15,  5]\n",
    "\n",
    "phase_per = []\n",
    "for CA_drop, t in zip(CA_drop_per, time_per):\n",
    "    print(CA_drop, t)\n",
    "    \n",
    "    \n",
    "    \n",
    "# p1_pt =         int((p1_thresh[1]/100)*n)\n",
    "# p2_pt = p1_pt + int((p2_thresh[1]/100)*n)\n",
    "# p3_pt = p2_pt + int((p3_thresh[1]/100)*n)\n",
    "# p4_pt = p3_pt + int((p4_thresh[1]/100)*n)\n",
    "\n",
    "# p1_per = (p1_thresh[0]/100)*ca_start\n",
    "# p2_per = (p2_thresh[0]/100)*ca_start\n",
    "# p3_per = (p3_thresh[0]/100)*ca_start\n",
    "# p4_per = (p4_thresh[0]/100)*ca_start\n",
    "# p5_per = (p4_thresh[0]/100)*ca_start\n",
    "\n",
    "# # p2 = p1 + 400\n",
    "# # p3 = p2 + 200\n",
    "# # p4 = p3 + 30\n",
    "# print(f\"Phase 1: 0 -> {p1_pt} ({p1_pt-0} pts)\")\n",
    "# print(f\"Phase 2: {p1_pt+1} -> {p2_pt} ({p2_pt-p1_pt} pts)\")\n",
    "# print(f\"Phase 3: {p2_pt+1} -> {p3_pt} ({p3_pt-p2_pt} pts)\")\n",
    "# print(f\"Phase 4: {p3_pt+1} -> {p4_pt} ({p4_pt-p3_pt} pts)\")\n",
    "# print(f\"Phase 5: {p4_pt+1} -> {n} ({n-p4_pt} pts)\")\n"
   ]
  },
  {
   "cell_type": "code",
   "execution_count": 25,
   "metadata": {},
   "outputs": [
    {
     "name": "stdout",
     "output_type": "stream",
     "text": [
      "0.64\n"
     ]
    }
   ],
   "source": [
    "plot_data = []\n",
    "d = ca_start\n",
    "\n",
    "r = 800/1250\n",
    "print(r)\n",
    "\n",
    "for i in range(n):\n",
    "    if i > 0 and i <= p1:\n",
    "        d -= r \n",
    "    elif i > p1 and i <= p2:\n",
    "        d -= r \n",
    "    elif i > p2 and i <= p3:\n",
    "        d -= r\n",
    "    elif i > p3 and i <= p4:\n",
    "        d -= r\n",
    "    elif i > p4 and i <= n:\n",
    "        d -= r\n",
    "    plot_data.append(d)\n"
   ]
  },
  {
   "cell_type": "code",
   "execution_count": 27,
   "metadata": {},
   "outputs": [
    {
     "data": {
      "image/png": "[encoded data removed]",
      "text/plain": [
       "<Figure size 432x288 with 1 Axes>"
      ]
     },
     "metadata": {},
     "output_type": "display_data"
    }
   ],
   "source": [
    "plt.plot(plot_data)\n",
    "plt.title('Contact Area')\n",
    "plt.show()\n"
   ]
  },
  {
   "cell_type": "code",
   "execution_count": null,
   "metadata": {},
   "outputs": [],
   "source": []
  }
 ],
 "metadata": {
  "kernelspec": {
   "display_name": "Python 3",
   "language": "python",
   "name": "python3"
  },
  "language_info": {
   "codemirror_mode": {
    "name": "ipython",
    "version": 3
   },
   "file_extension": ".py",
   "mimetype": "text/x-python",
   "name": "python",
   "nbconvert_exporter": "python",
   "pygments_lexer": "ipython3",
   "version": "3.6.5"
  }
 },
 "nbformat": 4,
 "nbformat_minor": 2
}
