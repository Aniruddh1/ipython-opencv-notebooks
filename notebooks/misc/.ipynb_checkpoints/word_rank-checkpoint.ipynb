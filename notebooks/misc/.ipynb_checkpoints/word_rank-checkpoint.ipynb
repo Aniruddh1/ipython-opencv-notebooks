{
 "cells": [
  {
   "cell_type": "markdown",
   "metadata": {},
   "source": [
    "# Ranking Words"
   ]
  },
  {
   "cell_type": "markdown",
   "metadata": {},
   "source": [
    "## Define factorial"
   ]
  },
  {
   "cell_type": "code",
   "execution_count": 1,
   "metadata": {
    "collapsed": false
   },
   "outputs": [],
   "source": [
    "from functools import reduce\n",
    "def fac(n):\n",
    "    return reduce(lambda x,y: x*y, range(1,n+1))"
   ]
  },
  {
   "cell_type": "markdown",
   "metadata": {},
   "source": [
    "## Binomial Coefficient"
   ]
  },
  {
   "cell_type": "markdown",
   "metadata": {},
   "source": [
    "We use recursion: \n",
    "\n",
    "$${n\\choose m} = \\frac{n}{m}{n-1\\choose m-1}$$\n",
    "\n"
   ]
  },
  {
   "cell_type": "code",
   "execution_count": 2,
   "metadata": {
    "collapsed": false
   },
   "outputs": [],
   "source": [
    "def binomial(n, m):\n",
    "    if n == 0:\n",
    "        return 0\n",
    "    if m == 0:\n",
    "        return 1\n",
    "    return (binomial(n-1, m-1)*n) // m"
   ]
  },
  {
   "cell_type": "markdown",
   "metadata": {},
   "source": [
    "## Multinomial Coefficient"
   ]
  },
  {
   "cell_type": "markdown",
   "metadata": {},
   "source": [
    "A *multinomial coefficient* tell us the number of multi-permutations of a certain kind. For example, the number of multi-permutations of 3 letters A, 2 letters B, and 1 letter C, is:\n",
    "\n",
    "$${6 \\choose 3,2,1} = \\frac{6!}{3! 2! 1!} = 60$$\n",
    "\n",
    "We use the recurrence:\n",
    "\n",
    "$${n \\choose n_1, n_2, \\cdots,n_k} = {n_1+n_2\\choose n_1} {n\\choose n_1+n_2, n_3, \\cdots , n_k}$$\n",
    "\n",
    "where $n=n_1+n_2+\\cdots+n_k$."
   ]
  },
  {
   "cell_type": "code",
   "execution_count": 3,
   "metadata": {
    "collapsed": false
   },
   "outputs": [
    {
     "ename": "SyntaxError",
     "evalue": "invalid syntax (<ipython-input-3-e9c48a5ee977>, line 4)",
     "output_type": "error",
     "traceback": [
      "\u001b[1;36m  File \u001b[1;32m\"<ipython-input-3-e9c48a5ee977>\"\u001b[1;36m, line \u001b[1;32m4\u001b[0m\n\u001b[1;33m    a, b, *rest = nums\u001b[0m\n\u001b[1;37m          ^\u001b[0m\n\u001b[1;31mSyntaxError\u001b[0m\u001b[1;31m:\u001b[0m invalid syntax\n"
     ]
    }
   ],
   "source": [
    "def multinomial(nums):\n",
    "    if len(nums) <= 1:\n",
    "        return 1\n",
    "    a, b, *rest = nums\n",
    "    return binomial(a+b, a) * multinomial([a+b] + rest)"
   ]
  },
  {
   "cell_type": "markdown",
   "metadata": {},
   "source": [
    "For example:"
   ]
  },
  {
   "cell_type": "code",
   "execution_count": 4,
   "metadata": {
    "collapsed": false
   },
   "outputs": [
    {
     "ename": "NameError",
     "evalue": "name 'multinomial' is not defined",
     "output_type": "error",
     "traceback": [
      "\u001b[1;31m---------------------------------------------------------------------------\u001b[0m",
      "\u001b[1;31mNameError\u001b[0m                                 Traceback (most recent call last)",
      "\u001b[1;32m<ipython-input-4-835d6bdadc09>\u001b[0m in \u001b[0;36m<module>\u001b[1;34m()\u001b[0m\n\u001b[1;32m----> 1\u001b[1;33m \u001b[0mmultinomial\u001b[0m\u001b[1;33m(\u001b[0m\u001b[1;33m[\u001b[0m\u001b[1;36m3\u001b[0m\u001b[1;33m,\u001b[0m \u001b[1;36m2\u001b[0m\u001b[1;33m,\u001b[0m \u001b[1;36m1\u001b[0m\u001b[1;33m]\u001b[0m\u001b[1;33m)\u001b[0m\u001b[1;33m\u001b[0m\u001b[0m\n\u001b[0m",
      "\u001b[1;31mNameError\u001b[0m: name 'multinomial' is not defined"
     ]
    }
   ],
   "source": [
    "multinomial([3, 2, 1])"
   ]
  },
  {
   "cell_type": "markdown",
   "metadata": {},
   "source": [
    "For a multi-permutation with **no** repeated letters, the multinomial coefficient must coincide with the factorial:"
   ]
  },
  {
   "cell_type": "code",
   "execution_count": null,
   "metadata": {
    "collapsed": false
   },
   "outputs": [],
   "source": [
    "multinomial([1,1,1,1]) == fac(4)"
   ]
  },
  {
   "cell_type": "markdown",
   "metadata": {},
   "source": [
    "## Rank of an element"
   ]
  },
  {
   "cell_type": "markdown",
   "metadata": {},
   "source": [
    "Given an arbitrary list (permutation or multi-permutation), find the rank of an element:"
   ]
  },
  {
   "cell_type": "code",
   "execution_count": null,
   "metadata": {
    "collapsed": false
   },
   "outputs": [],
   "source": [
    "def rank(x, perm):\n",
    "    return len([i for i in set(perm) if i < x])"
   ]
  },
  {
   "cell_type": "markdown",
   "metadata": {},
   "source": [
    "For example, the rank of 7 in `[2, 5, 7, 3, 10]` should be 3 (rank starts at 0):"
   ]
  },
  {
   "cell_type": "code",
   "execution_count": null,
   "metadata": {
    "collapsed": false
   },
   "outputs": [],
   "source": [
    "rank(7, [2, 5, 7, 3])"
   ]
  },
  {
   "cell_type": "markdown",
   "metadata": {},
   "source": [
    "## Rank of a multi-permutation"
   ]
  },
  {
   "cell_type": "markdown",
   "metadata": {},
   "source": [
    "`decrease_kind` is a helper function that finds the kind of a multi-permutation when we remove one of its elements.  For example: consider a multi-permutation of `[0,0,1,1,2]`, with kind $(2,2,1)$. If we remove one `0`, it becomes a multi-permutation of kind $(1,2,1)$, but if we remove the `2`, its kind becomes $(2,2)$."
   ]
  },
  {
   "cell_type": "code",
   "execution_count": null,
   "metadata": {
    "collapsed": false
   },
   "outputs": [],
   "source": [
    "def decrease_kind(kind, i):\n",
    "    new_kind = list(kind)\n",
    "    new_kind[i] -= 1\n",
    "    return [u for u in new_kind if u]"
   ]
  },
  {
   "cell_type": "code",
   "execution_count": null,
   "metadata": {
    "collapsed": false
   },
   "outputs": [],
   "source": [
    "print(decrease_kind([2,2,1], 0))\n",
    "print(decrease_kind([2,2,1], 2))"
   ]
  },
  {
   "cell_type": "markdown",
   "metadata": {},
   "source": [
    "We compute the rank of a multi-permutation with a recursion. \n",
    "\n",
    "Assume first we have a permutation $p$ of $n$ elements.  If we already know how to compute ranks of permutations with $n-1$ elements, then the rank of $p$ is\n",
    "\n",
    "$$R_n(p) = r (n-1)! + R_{n-1}(p[1{:}])$$\n",
    "\n",
    "where $r$ is the rank of $p[0]$.\n",
    "\n",
    "For a multi-permutation $p$ of kind $(n_1, n_2, \\ldots, n_k)$, the recursion is:\n",
    "\n",
    "$$R_{n_1,n_2,\\ldots,n_k}(p) = \\sum_{i=1}^{r-1}{n\\choose n_1, \\ldots, n_i-1, \\ldots, n_k} + R_{n_1, \\ldots, n_r-1,\\ldots,n_k}(p[1{:}])$$"
   ]
  },
  {
   "cell_type": "code",
   "execution_count": null,
   "metadata": {
    "collapsed": false
   },
   "outputs": [],
   "source": [
    "def multiperm_rank(multiperm, kind):\n",
    "    if not multiperm:\n",
    "        return 0\n",
    "    x, *rest = multiperm\n",
    "    r = rank(x, multiperm)\n",
    "    c = sum(multinomial(decrease_kind(kind, i)) for i in range(r))\n",
    "    return c + multiperm_rank(rest, decrease_kind(kind, r))"
   ]
  },
  {
   "cell_type": "markdown",
   "metadata": {},
   "source": [
    "Now we do it for words:"
   ]
  },
  {
   "cell_type": "code",
   "execution_count": null,
   "metadata": {
    "collapsed": false
   },
   "outputs": [],
   "source": [
    "from collections import Counter\n",
    "\n",
    "def word_to_multiperm(word):\n",
    "    dic = {y:x for x, y in enumerate(sorted(''.join(set(word))))}\n",
    "    return [dic[c] for c in word]\n",
    "\n",
    "def find_kind(word):\n",
    "    return [y for _, y in sorted(Counter(word).most_common())]\n",
    "    \n",
    "def word_rank(word):\n",
    "    kind = find_kind(word)\n",
    "    multiperm = word_to_multiperm(word)\n",
    "    return multiperm_rank(multiperm, kind) + 1"
   ]
  },
  {
   "cell_type": "code",
   "execution_count": null,
   "metadata": {
    "collapsed": false
   },
   "outputs": [],
   "source": [
    "%time word_rank('BOOKKEEPER')"
   ]
  },
  {
   "cell_type": "code",
   "execution_count": null,
   "metadata": {
    "collapsed": false
   },
   "outputs": [],
   "source": [
    "%time word_rank('ABBA')"
   ]
  },
  {
   "cell_type": "code",
   "execution_count": null,
   "metadata": {
    "collapsed": false
   },
   "outputs": [],
   "source": []
  },
  {
   "cell_type": "code",
   "execution_count": null,
   "metadata": {
    "collapsed": false
   },
   "outputs": [],
   "source": []
  }
 ],
 "metadata": {
  "kernelspec": {
   "display_name": "Python 2",
   "language": "python",
   "name": "python2"
  },
  "language_info": {
   "codemirror_mode": {
    "name": "ipython",
    "version": 2
   },
   "file_extension": ".py",
   "mimetype": "text/x-python",
   "name": "python",
   "nbconvert_exporter": "python",
   "pygments_lexer": "ipython2",
   "version": "2.7.6"
  }
 },
 "nbformat": 4,
 "nbformat_minor": 0
}
